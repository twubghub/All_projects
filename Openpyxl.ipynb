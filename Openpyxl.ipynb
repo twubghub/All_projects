{
 "cells": [
  {
   "cell_type": "code",
   "execution_count": 54,
   "metadata": {},
   "outputs": [],
   "source": [
    "#importing openpyxl module\n",
    "import openpyxl as xl;"
   ]
  },
  {
   "cell_type": "code",
   "execution_count": 55,
   "metadata": {},
   "outputs": [],
   "source": [
    "# opening the source excel file\n",
    "# Assigning the two excel sheets\n",
    "filename ='C:\\\\Users\\\\tikle\\\\week_05_homework_XLSX_openpyxl.xlsx'\n",
    "wb1 = xl.load_workbook(filename)\n",
    "wspatient=wb1['patient info']\n",
    "wsrecords = wb1[\"records\"]\n",
    "# Finding maximum row and column numbers of the two sheet for using  in loops\n",
    "max_rowpatient=wspatient.max_row\n",
    "max_rowrecords=wsrecords.max_row\n",
    "max_columnpatient=wspatient.max_column\n",
    "max_columnrecords=wsrecords.max_column"
   ]
  },
  {
   "cell_type": "code",
   "execution_count": 56,
   "metadata": {},
   "outputs": [],
   "source": [
    "# Finding the id numbers that are found in both excel sheets\n",
    "listSameId=[]\n",
    "for i in range (2, max_rowrecords + 1):\n",
    "    cr = wsrecords.cell(row = i, column = 1)\n",
    "    for j in range (2, max_rowpatient + 1):\n",
    "        cp = wspatient.cell(row = j, column = 1)\n",
    "        if cr.value==cp.value:\n",
    "            listSameId.append(cr.value)"
   ]
  },
  {
   "cell_type": "code",
   "execution_count": 57,
   "metadata": {},
   "outputs": [],
   "source": [
    "# Find the id numbers that are found only  in the records excel sheet          \n",
    "ListIdonlyrecords=[]\n",
    "for i in range (2, max_rowrecords + 1):\n",
    "    cr = wsrecords.cell(row = i, column = 1)\n",
    "    if cr.value not in listSameId:\n",
    "         ListIdonlyrecords.append(cr.value)"
   ]
  },
  {
   "cell_type": "code",
   "execution_count": 58,
   "metadata": {},
   "outputs": [],
   "source": [
    "# Find the column headers that are found only  in the records excel sheet  \n",
    "Listheaderonlyrecords=[]        \n",
    "for jrec in range (2, max_columnrecords + 1):        \n",
    "    headrec = wsrecords.cell(row = 1, column = jrec)\n",
    "    Listheaderonlyrecords.append(headrec.value)"
   ]
  },
  {
   "cell_type": "code",
   "execution_count": 59,
   "metadata": {},
   "outputs": [],
   "source": [
    "# Add the ids that are only in recors to patient info excel sheet\n",
    "# Add the column headers that are only in  records to  headers of  patient info excel sheet.\n",
    "for k_id in range (len(ListIdonlyrecords)):        \n",
    "    wspatient.cell(row =max_rowpatient + 1+k_id, column = 1).value= ListIdonlyrecords[k_id]\n",
    "for k_head in range (len(Listheaderonlyrecords)):        \n",
    "    wspatient.cell(row =1, column =max_columnpatient+1+k_head).value= Listheaderonlyrecords[k_head]"
   ]
  },
  {
   "cell_type": "code",
   "execution_count": 65,
   "metadata": {},
   "outputs": [],
   "source": [
    "# read p_id from the records sheet, then check this P_id value in the patient info sheet.\n",
    "# When p_id is found in the patient info sheet, copy all its infroamtion (except the p_id value) to the columns of the  patient id found in the  patient info sheet\n",
    "max_rowpatientNew = max_rowpatient+ len( ListIdonlyrecords)\n",
    "max_columnpatientNew=max_columnpatient+len(Listheaderonlyrecords)\n",
    "for row_rec in range (2, max_rowrecords+ 1):\n",
    "    p_id = wsrecords.cell(row = row_rec, column = 1)\n",
    "    for row_patient in range (2, max_rowpatientNew+ 1):\n",
    "        if p_id.value ==wspatient.cell(row = row_patient, column = 1).value:\n",
    "            for col_rec in range (2, max_columnrecords + 1):\n",
    "                wspatient.cell(row =row_patient, column =max_columnpatient+col_rec-1).value= wsrecords.cell(row = row_rec, column = col_rec).value  "
   ]
  },
  {
   "cell_type": "code",
   "execution_count": null,
   "metadata": {},
   "outputs": [],
   "source": []
  },
  {
   "cell_type": "code",
   "execution_count": 61,
   "metadata": {},
   "outputs": [],
   "source": [
    "# save the new data into new excel file             \n",
    "wb1.save('New_week_05_homework_XLSX_openpyxl.xlsx')\n"
   ]
  },
  {
   "cell_type": "code",
   "execution_count": null,
   "metadata": {},
   "outputs": [],
   "source": []
  }
 ],
 "metadata": {
  "kernelspec": {
   "display_name": "Python 3",
   "language": "python",
   "name": "python3"
  },
  "language_info": {
   "codemirror_mode": {
    "name": "ipython",
    "version": 3
   },
   "file_extension": ".py",
   "mimetype": "text/x-python",
   "name": "python",
   "nbconvert_exporter": "python",
   "pygments_lexer": "ipython3",
   "version": "3.8.3"
  }
 },
 "nbformat": 4,
 "nbformat_minor": 4
}
