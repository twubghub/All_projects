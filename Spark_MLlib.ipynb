{
 "cells": [
  {
   "cell_type": "code",
   "execution_count": 51,
   "metadata": {},
   "outputs": [],
   "source": [
    "import findspark\n",
    "findspark.init()"
   ]
  },
  {
   "cell_type": "code",
   "execution_count": 52,
   "metadata": {},
   "outputs": [],
   "source": [
    "#pip install Faker "
   ]
  },
  {
   "cell_type": "code",
   "execution_count": 53,
   "metadata": {},
   "outputs": [],
   "source": [
    "import pyspark\n",
    "from pyspark.sql import SparkSession\n",
    "spark = SparkSession.builder.getOrCreate()\n",
    "from pyspark.sql.functions import col,when,StringType,rand\n",
    "from faker import Faker\n",
    "faker = Faker()\n",
    "import numpy as np\n",
    "import pandas as pd\n"
   ]
  },
  {
   "cell_type": "code",
   "execution_count": 54,
   "metadata": {},
   "outputs": [],
   "source": [
    "# conf = spark.sparkContext._conf.getAll()\n",
    "# conf"
   ]
  },
  {
   "cell_type": "code",
   "execution_count": 55,
   "metadata": {},
   "outputs": [],
   "source": [
    "spark.sparkContext.stop()"
   ]
  },
  {
   "cell_type": "code",
   "execution_count": 56,
   "metadata": {},
   "outputs": [],
   "source": [
    "spark = SparkSession.builder.master(\"local[1]\").appName(\"Spark_MLlib\").getOrCreate()"
   ]
  },
  {
   "cell_type": "code",
   "execution_count": 57,
   "metadata": {},
   "outputs": [],
   "source": [
    "sc= spark.sparkContext"
   ]
  },
  {
   "cell_type": "code",
   "execution_count": null,
   "metadata": {},
   "outputs": [],
   "source": []
  },
  {
   "cell_type": "code",
   "execution_count": 9,
   "metadata": {},
   "outputs": [],
   "source": [
    "#created a function to generate random data for none numeric columns\n",
    "def fake_airlinedata(n,seed=None):\n",
    "    output=[\n",
    "        {\"Flight_No\":\"MU-\" +str(faker.pyint()),\n",
    "   \n",
    "         \"Origin\": np.random.choice([\"BWI\",\"PHL\",\"BHM\",\"LHD\",\"UNK\",\"SAN\",\"LEX\"]),\n",
    "         \"Destination\":np.random.choice([\"JFK\",\"MIA\",\"LFT\",\"SDF\",\"BOS\",\"DTW\",\"LAX\"])\n",
    "        }\n",
    "        for x in range(n)         \n",
    "    ]\n",
    "    return output"
   ]
  },
  {
   "cell_type": "code",
   "execution_count": 10,
   "metadata": {},
   "outputs": [],
   "source": [
    "# put data into dataframe\n",
    "df=pd.DataFrame(fake_airlinedata(n=100,seed=0))"
   ]
  },
  {
   "cell_type": "code",
   "execution_count": 11,
   "metadata": {},
   "outputs": [],
   "source": [
    "# another function for random time for scheduled arrival time and actual time columns\n",
    "def flight_time(n,seed=45):\n",
    "    ArrivalTime=[]\n",
    "    ActualTime=[]\n",
    "    ArrivalTime_min=[]\n",
    "    ActualTime_min= []\n",
    "    DelayTime=[]\n",
    "    for _ in range(n):\n",
    "        Arrivalhour= faker.date_time().hour\n",
    "        Arrivalminute= faker.date_time().minute\n",
    "        Actualhour= faker.date_time().hour\n",
    "        Actualminute= faker.date_time().minute\n",
    "        ArrivalTime.append(\"%s:%s\" % (Arrivalhour, Arrivalminute))\n",
    "        ArrivalTime_min.append(Arrivalhour*60 + Arrivalminute)\n",
    "        if Actualhour > Arrivalhour:\n",
    "            ActualTime.append(\"%s:%s\" % (Actualhour,Actualminute))\n",
    "            ActualTime_min.append(Actualhour*60 + Actualminute)\n",
    "            DelayTime.append((Actualhour*60 + Actualminute)-(Arrivalhour*60 + Arrivalminute))\n",
    "        else:\n",
    "            ActualTime.append(\"%s:%s\" % (Arrivalhour, Arrivalminute))\n",
    "            ActualTime_min.append(Arrivalhour*60 + Arrivalminute)\n",
    "            DelayTime.append(0)\n",
    "\n",
    "\n",
    "    return ArrivalTime,ActualTime,ArrivalTime_min, ActualTime_min,DelayTime\n",
    "flightTime=flight_time(100)\n"
   ]
  },
  {
   "cell_type": "code",
   "execution_count": 12,
   "metadata": {},
   "outputs": [],
   "source": [
    "# function to generate random arrival date for arrival date column\n",
    "def arrival_date(n,seed=22):\n",
    "    ArrivalDate=[]\n",
    "    for _ in range(n):\n",
    "        ArrivalDate.append(faker.date_this_decade())\n",
    "    return ArrivalDate\n",
    "arrivalDate = arrival_date(100)"
   ]
  },
  {
   "cell_type": "code",
   "execution_count": 13,
   "metadata": {},
   "outputs": [],
   "source": [
    "# function for actual date column\n",
    "def actual_date(n,seed=23):\n",
    "   \n",
    "    ActualDate=arrivalDate\n",
    "    return ActualDate\n",
    "actualDate = actual_date(100)"
   ]
  },
  {
   "cell_type": "code",
   "execution_count": 14,
   "metadata": {},
   "outputs": [],
   "source": [
    "# add all columns into the dataframe\n",
    "df[\"ArrivalDate\"]=arrivalDate\n",
    "df[\"ArrivalTime\"]=flightTime[0]\n",
    "df[\"ActualDate\"]= actualDate\n",
    "df[\"ActualTime\"]=flightTime[1]\n",
    "df[\"Arival_min\"]=flightTime[2]\n",
    "df[\"Actual_min\"]=flightTime[3]\n",
    "df[\"DelayTime\"]=flightTime[4]\n",
    "df = df.astype({\"Arival_min\": float, \"Actual_min\": float,\"DelayTime\":float,\"Flight_No\":str,\"Destination\":str,\"Origin\":str})"
   ]
  },
  {
   "cell_type": "code",
   "execution_count": 45,
   "metadata": {},
   "outputs": [
    {
     "data": {
      "text/html": [
       "<div>\n",
       "<style scoped>\n",
       "    .dataframe tbody tr th:only-of-type {\n",
       "        vertical-align: middle;\n",
       "    }\n",
       "\n",
       "    .dataframe tbody tr th {\n",
       "        vertical-align: top;\n",
       "    }\n",
       "\n",
       "    .dataframe thead th {\n",
       "        text-align: right;\n",
       "    }\n",
       "</style>\n",
       "<table border=\"1\" class=\"dataframe\">\n",
       "  <thead>\n",
       "    <tr style=\"text-align: right;\">\n",
       "      <th></th>\n",
       "      <th>Flight_No</th>\n",
       "      <th>Origin</th>\n",
       "      <th>Destination</th>\n",
       "      <th>ArrivalDate</th>\n",
       "      <th>ArrivalTime</th>\n",
       "      <th>ActualDate</th>\n",
       "      <th>ActualTime</th>\n",
       "      <th>Arival_min</th>\n",
       "      <th>Actual_min</th>\n",
       "      <th>DelayTime</th>\n",
       "    </tr>\n",
       "  </thead>\n",
       "  <tbody>\n",
       "    <tr>\n",
       "      <th>0</th>\n",
       "      <td>MU-5991</td>\n",
       "      <td>LEX</td>\n",
       "      <td>LAX</td>\n",
       "      <td>2021-03-15</td>\n",
       "      <td>8:22</td>\n",
       "      <td>2021-03-15</td>\n",
       "      <td>13:36</td>\n",
       "      <td>502.0</td>\n",
       "      <td>816.0</td>\n",
       "      <td>314.0</td>\n",
       "    </tr>\n",
       "    <tr>\n",
       "      <th>1</th>\n",
       "      <td>MU-9941</td>\n",
       "      <td>LHD</td>\n",
       "      <td>DTW</td>\n",
       "      <td>2020-02-19</td>\n",
       "      <td>20:39</td>\n",
       "      <td>2020-02-19</td>\n",
       "      <td>20:39</td>\n",
       "      <td>1239.0</td>\n",
       "      <td>1239.0</td>\n",
       "      <td>0.0</td>\n",
       "    </tr>\n",
       "    <tr>\n",
       "      <th>2</th>\n",
       "      <td>MU-706</td>\n",
       "      <td>LHD</td>\n",
       "      <td>MIA</td>\n",
       "      <td>2020-04-06</td>\n",
       "      <td>17:27</td>\n",
       "      <td>2020-04-06</td>\n",
       "      <td>17:27</td>\n",
       "      <td>1047.0</td>\n",
       "      <td>1047.0</td>\n",
       "      <td>0.0</td>\n",
       "    </tr>\n",
       "    <tr>\n",
       "      <th>3</th>\n",
       "      <td>MU-1266</td>\n",
       "      <td>PHL</td>\n",
       "      <td>LAX</td>\n",
       "      <td>2021-03-11</td>\n",
       "      <td>4:28</td>\n",
       "      <td>2021-03-11</td>\n",
       "      <td>10:31</td>\n",
       "      <td>268.0</td>\n",
       "      <td>631.0</td>\n",
       "      <td>363.0</td>\n",
       "    </tr>\n",
       "    <tr>\n",
       "      <th>4</th>\n",
       "      <td>MU-1614</td>\n",
       "      <td>PHL</td>\n",
       "      <td>LAX</td>\n",
       "      <td>2021-04-05</td>\n",
       "      <td>2:3</td>\n",
       "      <td>2021-04-05</td>\n",
       "      <td>8:16</td>\n",
       "      <td>123.0</td>\n",
       "      <td>496.0</td>\n",
       "      <td>373.0</td>\n",
       "    </tr>\n",
       "  </tbody>\n",
       "</table>\n",
       "</div>"
      ],
      "text/plain": [
       "  Flight_No Origin Destination ArrivalDate ArrivalTime  ActualDate ActualTime  \\\n",
       "0   MU-5991    LEX         LAX  2021-03-15        8:22  2021-03-15      13:36   \n",
       "1   MU-9941    LHD         DTW  2020-02-19       20:39  2020-02-19      20:39   \n",
       "2    MU-706    LHD         MIA  2020-04-06       17:27  2020-04-06      17:27   \n",
       "3   MU-1266    PHL         LAX  2021-03-11        4:28  2021-03-11      10:31   \n",
       "4   MU-1614    PHL         LAX  2021-04-05         2:3  2021-04-05       8:16   \n",
       "\n",
       "   Arival_min  Actual_min  DelayTime  \n",
       "0       502.0       816.0      314.0  \n",
       "1      1239.0      1239.0        0.0  \n",
       "2      1047.0      1047.0        0.0  \n",
       "3       268.0       631.0      363.0  \n",
       "4       123.0       496.0      373.0  "
      ]
     },
     "execution_count": 45,
     "metadata": {},
     "output_type": "execute_result"
    }
   ],
   "source": [
    "df.head()"
   ]
  },
  {
   "cell_type": "code",
   "execution_count": 16,
   "metadata": {},
   "outputs": [
    {
     "data": {
      "text/html": [
       "<div>\n",
       "<style scoped>\n",
       "    .dataframe tbody tr th:only-of-type {\n",
       "        vertical-align: middle;\n",
       "    }\n",
       "\n",
       "    .dataframe tbody tr th {\n",
       "        vertical-align: top;\n",
       "    }\n",
       "\n",
       "    .dataframe thead th {\n",
       "        text-align: right;\n",
       "    }\n",
       "</style>\n",
       "<table border=\"1\" class=\"dataframe\">\n",
       "  <thead>\n",
       "    <tr style=\"text-align: right;\">\n",
       "      <th></th>\n",
       "      <th>Arival_min</th>\n",
       "      <th>Actual_min</th>\n",
       "      <th>DelayTime</th>\n",
       "    </tr>\n",
       "  </thead>\n",
       "  <tbody>\n",
       "    <tr>\n",
       "      <th>count</th>\n",
       "      <td>100.000000</td>\n",
       "      <td>100.000000</td>\n",
       "      <td>100.000000</td>\n",
       "    </tr>\n",
       "    <tr>\n",
       "      <th>mean</th>\n",
       "      <td>757.610000</td>\n",
       "      <td>973.920000</td>\n",
       "      <td>216.310000</td>\n",
       "    </tr>\n",
       "    <tr>\n",
       "      <th>std</th>\n",
       "      <td>419.358382</td>\n",
       "      <td>321.909664</td>\n",
       "      <td>322.690229</td>\n",
       "    </tr>\n",
       "    <tr>\n",
       "      <th>min</th>\n",
       "      <td>8.000000</td>\n",
       "      <td>159.000000</td>\n",
       "      <td>0.000000</td>\n",
       "    </tr>\n",
       "    <tr>\n",
       "      <th>25%</th>\n",
       "      <td>401.250000</td>\n",
       "      <td>770.250000</td>\n",
       "      <td>0.000000</td>\n",
       "    </tr>\n",
       "    <tr>\n",
       "      <th>50%</th>\n",
       "      <td>785.000000</td>\n",
       "      <td>1045.500000</td>\n",
       "      <td>0.000000</td>\n",
       "    </tr>\n",
       "    <tr>\n",
       "      <th>75%</th>\n",
       "      <td>1160.250000</td>\n",
       "      <td>1230.750000</td>\n",
       "      <td>377.250000</td>\n",
       "    </tr>\n",
       "    <tr>\n",
       "      <th>max</th>\n",
       "      <td>1401.000000</td>\n",
       "      <td>1425.000000</td>\n",
       "      <td>1350.000000</td>\n",
       "    </tr>\n",
       "  </tbody>\n",
       "</table>\n",
       "</div>"
      ],
      "text/plain": [
       "        Arival_min   Actual_min    DelayTime\n",
       "count   100.000000   100.000000   100.000000\n",
       "mean    757.610000   973.920000   216.310000\n",
       "std     419.358382   321.909664   322.690229\n",
       "min       8.000000   159.000000     0.000000\n",
       "25%     401.250000   770.250000     0.000000\n",
       "50%     785.000000  1045.500000     0.000000\n",
       "75%    1160.250000  1230.750000   377.250000\n",
       "max    1401.000000  1425.000000  1350.000000"
      ]
     },
     "execution_count": 16,
     "metadata": {},
     "output_type": "execute_result"
    }
   ],
   "source": [
    "df.describe()"
   ]
  },
  {
   "cell_type": "code",
   "execution_count": 17,
   "metadata": {},
   "outputs": [
    {
     "name": "stdout",
     "output_type": "stream",
     "text": [
      "<class 'pandas.core.frame.DataFrame'>\n",
      "RangeIndex: 100 entries, 0 to 99\n",
      "Data columns (total 10 columns):\n",
      " #   Column       Non-Null Count  Dtype  \n",
      "---  ------       --------------  -----  \n",
      " 0   Flight_No    100 non-null    object \n",
      " 1   Origin       100 non-null    object \n",
      " 2   Destination  100 non-null    object \n",
      " 3   ArrivalDate  100 non-null    object \n",
      " 4   ArrivalTime  100 non-null    object \n",
      " 5   ActualDate   100 non-null    object \n",
      " 6   ActualTime   100 non-null    object \n",
      " 7   Arival_min   100 non-null    float64\n",
      " 8   Actual_min   100 non-null    float64\n",
      " 9   DelayTime    100 non-null    float64\n",
      "dtypes: float64(3), object(7)\n",
      "memory usage: 7.9+ KB\n"
     ]
    }
   ],
   "source": [
    "df.info()"
   ]
  },
  {
   "cell_type": "code",
   "execution_count": 18,
   "metadata": {},
   "outputs": [
    {
     "name": "stdout",
     "output_type": "stream",
     "text": [
      "root\n",
      " |-- Flight_No: string (nullable = true)\n",
      " |-- Origin: string (nullable = true)\n",
      " |-- Destination: string (nullable = true)\n",
      " |-- ArrivalDate: date (nullable = true)\n",
      " |-- ArrivalTime: string (nullable = true)\n",
      " |-- ActualDate: date (nullable = true)\n",
      " |-- ActualTime: string (nullable = true)\n",
      " |-- Arival_min: double (nullable = true)\n",
      " |-- Actual_min: double (nullable = true)\n",
      " |-- DelayTime: double (nullable = true)\n",
      "\n"
     ]
    }
   ],
   "source": [
    "# change the pandas dataframe into spark dataframe\n",
    "spark_df = spark.createDataFrame(df)\n",
    "spark_df.printSchema()\n",
    "\n"
   ]
  },
  {
   "cell_type": "code",
   "execution_count": 21,
   "metadata": {},
   "outputs": [
    {
     "name": "stdout",
     "output_type": "stream",
     "text": [
      "+---------+------+-----------+-----------+-----------+----------+----------+----------+----------+---------+\n",
      "|Flight_No|Origin|Destination|ArrivalDate|ArrivalTime|ActualDate|ActualTime|Arival_min|Actual_min|DelayTime|\n",
      "+---------+------+-----------+-----------+-----------+----------+----------+----------+----------+---------+\n",
      "|MU-5991  |LEX   |LAX        |2021-03-15 |8:22       |2021-03-15|13:36     |502.0     |816.0     |314.0    |\n",
      "|MU-9941  |LHD   |DTW        |2020-02-19 |20:39      |2020-02-19|20:39     |1239.0    |1239.0    |0.0      |\n",
      "|MU-706   |LHD   |MIA        |2020-04-06 |17:27      |2020-04-06|17:27     |1047.0    |1047.0    |0.0      |\n",
      "|MU-1266  |PHL   |LAX        |2021-03-11 |4:28       |2021-03-11|10:31     |268.0     |631.0     |363.0    |\n",
      "|MU-1614  |PHL   |LAX        |2021-04-05 |2:3        |2021-04-05|8:16      |123.0     |496.0     |373.0    |\n",
      "+---------+------+-----------+-----------+-----------+----------+----------+----------+----------+---------+\n",
      "only showing top 5 rows\n",
      "\n"
     ]
    }
   ],
   "source": [
    "spark_df.show(5,truncate=False)"
   ]
  },
  {
   "cell_type": "markdown",
   "metadata": {},
   "source": [
    "## Prediction of Flight Delay based on Arival time(Schedule Time)"
   ]
  },
  {
   "cell_type": "code",
   "execution_count": 20,
   "metadata": {},
   "outputs": [
    {
     "name": "stdout",
     "output_type": "stream",
     "text": [
      "+---------+------+-----------+-----------+-----------+----------+----------+----------+----------+---------+--------------------------+\n",
      "|Flight_No|Origin|Destination|ArrivalDate|ArrivalTime|ActualDate|ActualTime|Arival_min|Actual_min|DelayTime|features                  |\n",
      "+---------+------+-----------+-----------+-----------+----------+----------+----------+----------+---------+--------------------------+\n",
      "|MU-5991  |LEX   |LAX        |2021-03-15 |8:22       |2021-03-15|13:36     |502.0     |816.0     |314.0    |(262144,[216051],[502.0]) |\n",
      "|MU-9941  |LHD   |DTW        |2020-02-19 |20:39      |2020-02-19|20:39     |1239.0    |1239.0    |0.0      |(262144,[216051],[1239.0])|\n",
      "|MU-706   |LHD   |MIA        |2020-04-06 |17:27      |2020-04-06|17:27     |1047.0    |1047.0    |0.0      |(262144,[216051],[1047.0])|\n",
      "|MU-1266  |PHL   |LAX        |2021-03-11 |4:28       |2021-03-11|10:31     |268.0     |631.0     |363.0    |(262144,[216051],[268.0]) |\n",
      "|MU-1614  |PHL   |LAX        |2021-04-05 |2:3        |2021-04-05|8:16      |123.0     |496.0     |373.0    |(262144,[216051],[123.0]) |\n",
      "+---------+------+-----------+-----------+-----------+----------+----------+----------+----------+---------+--------------------------+\n",
      "only showing top 5 rows\n",
      "\n"
     ]
    }
   ],
   "source": [
    "# transform the feature(arrival time) using FeatureHassher\n",
    "from pyspark.ml.feature import FeatureHasher\n",
    "hasher = FeatureHasher(inputCols=[\"Arival_min\"],\n",
    "                       outputCol=\"features\")\n",
    "\n",
    "featurized = hasher.transform(spark_df)\n",
    "featurized.show(5,truncate=False)"
   ]
  },
  {
   "cell_type": "code",
   "execution_count": 22,
   "metadata": {},
   "outputs": [
    {
     "name": "stdout",
     "output_type": "stream",
     "text": [
      "+---------+------+-----------+-----------+-----------+----------+----------+----------+----------+---------+--------------------+--------------------+\n",
      "|Flight_No|Origin|Destination|ArrivalDate|ArrivalTime|ActualDate|ActualTime|Arival_min|Actual_min|DelayTime|            features|      scaledFeatures|\n",
      "+---------+------+-----------+-----------+-----------+----------+----------+----------+----------+---------+--------------------+--------------------+\n",
      "|  MU-5991|   LEX|        LAX| 2021-03-15|       8:22|2021-03-15|     13:36|     502.0|     816.0|    314.0|(262144,[216051],...|(262144,[216051],...|\n",
      "|  MU-9941|   LHD|        DTW| 2020-02-19|      20:39|2020-02-19|     20:39|    1239.0|    1239.0|      0.0|(262144,[216051],...|(262144,[216051],...|\n",
      "|   MU-706|   LHD|        MIA| 2020-04-06|      17:27|2020-04-06|     17:27|    1047.0|    1047.0|      0.0|(262144,[216051],...|(262144,[216051],...|\n",
      "|  MU-1266|   PHL|        LAX| 2021-03-11|       4:28|2021-03-11|     10:31|     268.0|     631.0|    363.0|(262144,[216051],...|(262144,[216051],...|\n",
      "|  MU-1614|   PHL|        LAX| 2021-04-05|        2:3|2021-04-05|      8:16|     123.0|     496.0|    373.0|(262144,[216051],...|(262144,[216051],...|\n",
      "+---------+------+-----------+-----------+-----------+----------+----------+----------+----------+---------+--------------------+--------------------+\n",
      "only showing top 5 rows\n",
      "\n"
     ]
    }
   ],
   "source": [
    "# trnaform the data by using standardScaler\n",
    "from pyspark.ml.feature import StandardScaler\n",
    "\n",
    "scaler = StandardScaler(inputCol= \"features\", outputCol=\"scaledFeatures\",withStd=True, withMean=False)\n",
    "\n",
    "# Compute summary statistics by fitting the StandardScaler\n",
    "scalerModel = scaler.fit(featurized)\n",
    "\n",
    "# Normalize each feature to have unit standard deviation.\n",
    "scaledData = scalerModel.transform(featurized)\n",
    "scaledData.show(5)"
   ]
  },
  {
   "cell_type": "code",
   "execution_count": 39,
   "metadata": {},
   "outputs": [],
   "source": [
    "#split the data into train and test\n",
    "splits = scaledData.randomSplit([0.7, 0.3])\n",
    "train_df = splits[0]\n",
    "test_df = splits[1]"
   ]
  },
  {
   "cell_type": "code",
   "execution_count": 40,
   "metadata": {},
   "outputs": [
    {
     "name": "stdout",
     "output_type": "stream",
     "text": [
      "Coefficients: (262144,[216051],[-0.5331734167610094])\n",
      "Intercept: 638.3338931352447\n"
     ]
    }
   ],
   "source": [
    "# estimator LinearRegression, get -0.56 for correlation cofficient which shows us that the two features have negative relationship.\n",
    "from pyspark.ml.regression import LinearRegression\n",
    "lr = LinearRegression(featuresCol = 'features', labelCol='DelayTime', maxIter=10, regParam=0.3, elasticNetParam=0.8)\n",
    "lr_model = lr.fit(train_df)\n",
    "print(\"Coefficients: \" + str(lr_model.coefficients))\n",
    "print(\"Intercept: \" + str(lr_model.intercept))\n"
   ]
  },
  {
   "cell_type": "code",
   "execution_count": 41,
   "metadata": {},
   "outputs": [
    {
     "name": "stdout",
     "output_type": "stream",
     "text": [
      "RMSE: 257.404371\n",
      "r2: 0.452742\n"
     ]
    }
   ],
   "source": [
    "#the model evaluation\n",
    "trainingSummary = lr_model.summary\n",
    "print(\"RMSE: %f\" % trainingSummary.rootMeanSquaredError)\n",
    "print(\"r2: %f\" % trainingSummary.r2)"
   ]
  },
  {
   "cell_type": "code",
   "execution_count": 42,
   "metadata": {},
   "outputs": [
    {
     "name": "stdout",
     "output_type": "stream",
     "text": [
      "Root Mean Squared Error (RMSE) on test data = 211.622\n"
     ]
    }
   ],
   "source": [
    "#model prediction for the test data\n",
    "test_result = lr_model.evaluate(test_df)\n",
    "print(\"Root Mean Squared Error (RMSE) on test data = %g\" % test_result.rootMeanSquaredError)"
   ]
  },
  {
   "cell_type": "code",
   "execution_count": 43,
   "metadata": {},
   "outputs": [
    {
     "name": "stdout",
     "output_type": "stream",
     "text": [
      "numIterations: 3\n",
      "objectiveHistory: [0.49285714285714294, 0.42878315938634637, 0.2702187374135515]\n",
      "+-------------------+\n",
      "|          residuals|\n",
      "+-------------------+\n",
      "| -21.98542335951788|\n",
      "|  611.4598701184347|\n",
      "|  88.81717239362416|\n",
      "|-15.054168941624766|\n",
      "| 116.88989734604672|\n",
      "+-------------------+\n",
      "only showing top 5 rows\n",
      "\n"
     ]
    }
   ],
   "source": [
    "print(\"numIterations: %d\" % trainingSummary.totalIterations)\n",
    "print(\"objectiveHistory: %s\" % str(trainingSummary.objectiveHistory))\n",
    "trainingSummary.residuals.show(5)"
   ]
  },
  {
   "cell_type": "code",
   "execution_count": 44,
   "metadata": {},
   "outputs": [
    {
     "name": "stdout",
     "output_type": "stream",
     "text": [
      "+------------------+---------+--------------------+\n",
      "|        prediction|DelayTime|            features|\n",
      "+------------------+---------+--------------------+\n",
      "| 572.7535628736405|    373.0|(262144,[216051],...|\n",
      "|-94.77955491114324|      0.0|(262144,[216051],...|\n",
      "|269.37788873662623|      0.0|(262144,[216051],...|\n",
      "|235.25479006392163|      0.0|(262144,[216051],...|\n",
      "| 404.8039365939226|    573.0|(262144,[216051],...|\n",
      "+------------------+---------+--------------------+\n",
      "only showing top 5 rows\n",
      "\n"
     ]
    }
   ],
   "source": [
    "predictions = lr_model.transform(test_df)\n",
    "predictions.select(\"prediction\",\"DelayTime\",\"features\").show(5)"
   ]
  },
  {
   "cell_type": "code",
   "execution_count": null,
   "metadata": {},
   "outputs": [],
   "source": []
  }
 ],
 "metadata": {
  "kernelspec": {
   "display_name": "Python 3",
   "language": "python",
   "name": "python3"
  },
  "language_info": {
   "codemirror_mode": {
    "name": "ipython",
    "version": 3
   },
   "file_extension": ".py",
   "mimetype": "text/x-python",
   "name": "python",
   "nbconvert_exporter": "python",
   "pygments_lexer": "ipython3",
   "version": "3.8.3"
  }
 },
 "nbformat": 4,
 "nbformat_minor": 4
}
