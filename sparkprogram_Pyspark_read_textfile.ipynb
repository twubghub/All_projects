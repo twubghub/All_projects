{
 "cells": [
  {
   "cell_type": "markdown",
   "metadata": {},
   "source": [
    "Implement a spark program that performs the following:\n",
    "a.Reads the posted text file for a book named “Applied Data Science.txt”\n",
    "b.Read the text file into an RDD, and then perform actions and transformations on the RDD\n",
    "c.Displays the most used 5 words of length greater than 5 characters in the file (ensure your result is not case sensitive, so the word “Data” and “data” are the same and should be counted two of the same word)\n"
   ]
  },
  {
   "cell_type": "code",
   "execution_count": 1,
   "metadata": {},
   "outputs": [],
   "source": [
    "import findspark\n",
    "findspark.init()"
   ]
  },
  {
   "cell_type": "code",
   "execution_count": 2,
   "metadata": {},
   "outputs": [],
   "source": [
    "import pyspark\n",
    "from pyspark.sql import SparkSession\n",
    "from pyspark import SparkContext, SparkConf\n",
    "spark = SparkSession.builder.getOrCreate()"
   ]
  },
  {
   "cell_type": "code",
   "execution_count": 3,
   "metadata": {},
   "outputs": [],
   "source": [
    "conf = spark.sparkContext._conf.getAll()"
   ]
  },
  {
   "cell_type": "code",
   "execution_count": 4,
   "metadata": {},
   "outputs": [],
   "source": [
    "spark.sparkContext.stop()"
   ]
  },
  {
   "cell_type": "code",
   "execution_count": 5,
   "metadata": {},
   "outputs": [],
   "source": [
    "spark = SparkSession.builder.master(\"local[1]\").appName(\"Spark_Examples\").getOrCreate()"
   ]
  },
  {
   "cell_type": "code",
   "execution_count": 6,
   "metadata": {},
   "outputs": [
    {
     "name": "stderr",
     "output_type": "stream",
     "text": [
      "[nltk_data] Downloading package stopwords to\n",
      "[nltk_data]     C:\\Users\\tikle\\AppData\\Roaming\\nltk_data...\n",
      "[nltk_data]   Package stopwords is already up-to-date!\n",
      "[nltk_data] Downloading package punkt to\n",
      "[nltk_data]     C:\\Users\\tikle\\AppData\\Roaming\\nltk_data...\n",
      "[nltk_data]   Package punkt is already up-to-date!\n"
     ]
    },
    {
     "data": {
      "text/plain": [
       "True"
      ]
     },
     "execution_count": 6,
     "metadata": {},
     "output_type": "execute_result"
    }
   ],
   "source": [
    "import re\n",
    "import nltk\n",
    "from nltk.tokenize import word_tokenize\n",
    "from nltk.corpus import stopwords \n",
    "nltk.download('stopwords')\n",
    "nltk.download('punkt')"
   ]
  },
  {
   "cell_type": "code",
   "execution_count": 7,
   "metadata": {},
   "outputs": [],
   "source": [
    "# created a function to clean the file from panctuation marks, numbers and others which are not words.\n",
    "def clean_data(data):\n",
    "    data=data.lower()\n",
    "    data= re.sub(r'(https?:\\/\\/)(\\s)*(www\\.)?(\\s)*((\\w|\\s)+\\.)*([\\w\\-\\s]+\\/)*([\\w\\-]+)((\\?)?[\\w\\s]*=\\s*[\\w\\%&]*)*','', data)\n",
    "    data= re.sub(r'((1-\\d{3}-\\d{3}-\\d{4})|(\\(\\d{3}\\) \\d{3}-\\d{4})|(\\d{3}-\\d{3}-\\d{4}))$', '', data)\n",
    "    data = re.sub(r'[^\\w\\s]', '', data)\n",
    "    data= re.sub(\"\\d+\",'',  data)\n",
    "    data= filtered_data(data)\n",
    "    return data"
   ]
  },
  {
   "cell_type": "code",
   "execution_count": 8,
   "metadata": {},
   "outputs": [],
   "source": [
    "# created a function to clean the data from stopwords.\n",
    "def filtered_data(data):\n",
    "    word_tokens= word_tokenize(data)\n",
    "    stop_words = set(stopwords.words('english')) \n",
    "    filtered_list=[w for w in word_tokens if not w in stop_words ]\n",
    "        \n",
    "    return filtered_list"
   ]
  },
  {
   "cell_type": "code",
   "execution_count": 9,
   "metadata": {},
   "outputs": [],
   "source": [
    "# read the text file from local computer \n",
    "f= open(\"Applied_Data_Science.txt\",\n",
    "        encoding=\"utf8\",errors=\"ignore\", mode= \"r\")\n",
    "textfile= f.read()\n",
    "cleaned_data = clean_data(textfile)\n"
   ]
  },
  {
   "cell_type": "code",
   "execution_count": 10,
   "metadata": {},
   "outputs": [],
   "source": [
    "# created RDDS, applied transform and action methods \n",
    "word_rdds= spark.sparkContext.parallelize(cleaned_data)\n",
    "word_counts= word_rdds.map(lambda x:(x,1)).filter(lambda x: len(x[0])>5)\n",
    "Top_5_words=word_counts.reduceByKey(lambda x, y: (x + y)).takeOrdered(5,key=lambda x:-x[1])\n",
    "\n"
   ]
  },
  {
   "cell_type": "code",
   "execution_count": 11,
   "metadata": {},
   "outputs": [
    {
     "name": "stdout",
     "output_type": "stream",
     "text": [
      "The most used words in the Applied Data Science textbook is:\n",
      "python  occured  92  times\n",
      "example  occured  87  times\n",
      "regression  occured  83  times\n",
      "chapter  occured  79  times\n",
      "problem  occured  73  times\n"
     ]
    }
   ],
   "source": [
    "# Displying 5 most used words in the book\n",
    "print('The most used words in the Applied Data Science textbook is:')\n",
    "for x in Top_5_words:\n",
    "    print(x[0],' occured ',x[1],' times')"
   ]
  },
  {
   "cell_type": "code",
   "execution_count": null,
   "metadata": {},
   "outputs": [],
   "source": []
  }
 ],
 "metadata": {
  "kernelspec": {
   "display_name": "Python 3",
   "language": "python",
   "name": "python3"
  },
  "language_info": {
   "codemirror_mode": {
    "name": "ipython",
    "version": 3
   },
   "file_extension": ".py",
   "mimetype": "text/x-python",
   "name": "python",
   "nbconvert_exporter": "python",
   "pygments_lexer": "ipython3",
   "version": "3.8.3"
  }
 },
 "nbformat": 4,
 "nbformat_minor": 4
}
