{
 "cells": [
  {
   "cell_type": "code",
   "execution_count": 1,
   "metadata": {},
   "outputs": [],
   "source": [
    "# import some important modules\n",
    "from faker import Faker\n",
    "import numpy as np\n",
    "import pandas as pd\n",
    "faker = Faker()"
   ]
  },
  {
   "cell_type": "markdown",
   "metadata": {},
   "source": [
    "##### Created 9 functions for each columns to generate fake data"
   ]
  },
  {
   "cell_type": "code",
   "execution_count": 2,
   "metadata": {},
   "outputs": [],
   "source": [
    "# To get 100 random names;\n",
    "\n",
    "def get_names(n):\n",
    "    name = []\n",
    "    for _ in range(n):\n",
    "        name.append(faker.name())\n",
    "    return name"
   ]
  },
  {
   "cell_type": "code",
   "execution_count": 3,
   "metadata": {},
   "outputs": [],
   "source": [
    "# To get 100 random emails;\n",
    "def get_emailadress(n):\n",
    "    email = []\n",
    "    for _ in range(n):\n",
    "        email.append(faker.email())\n",
    "    return email"
   ]
  },
  {
   "cell_type": "code",
   "execution_count": 4,
   "metadata": {},
   "outputs": [],
   "source": [
    "#To get 100 random addresses;\n",
    "def get_address(n):\n",
    "    address = []\n",
    "    for _ in range(n):\n",
    "        address.append(faker.address())\n",
    "    return address"
   ]
  },
  {
   "cell_type": "code",
   "execution_count": 5,
   "metadata": {},
   "outputs": [],
   "source": [
    "# To get 100 random phones;\n",
    "def get_phone(n):\n",
    "    phone = []\n",
    "    for _ in range(n):\n",
    "        phone.append(faker.phone_number())\n",
    "    return phone"
   ]
  },
  {
   "cell_type": "code",
   "execution_count": 6,
   "metadata": {},
   "outputs": [],
   "source": [
    "# To get 100 random birthdays;\n",
    "def get_date_of_birth(n):\n",
    "    DOB = []\n",
    "    while len(DOB)<=n:\n",
    "        fakeDOB=[]\n",
    "        fakeDOB=faker.date_of_birth()\n",
    "        if fakeDOB.year<=2002:\n",
    "            DOB.append(fakeDOB)\n",
    "        \n",
    "    return DOB"
   ]
  },
  {
   "cell_type": "markdown",
   "metadata": {},
   "source": [
    "###### Birthdates require special attention to generate fake birthdays to keep the data more realistic.So that it will not affect other colums such as income,speedticket, number of kids and so on.So I took years before 2002(>18 years old)"
   ]
  },
  {
   "cell_type": "code",
   "execution_count": null,
   "metadata": {},
   "outputs": [],
   "source": [
    "### def get_date_of_birth(n):\n",
    "    DOB = []\n",
    "    for _ in range (n):\n",
    "        fakeDOB=faker.date_of_birth()\n",
    "        if fakeDOB.year<=2002:\n",
    "            DOB.append(fakeDOB)\n",
    "        \n",
    "    return DOB"
   ]
  },
  {
   "cell_type": "code",
   "execution_count": 7,
   "metadata": {},
   "outputs": [],
   "source": [
    "# To get 100 random homestatus;\n",
    "def get_homestatus(n):\n",
    "    homestatus = []\n",
    "    for _ in range(n):\n",
    "        homestatus.append(faker.random_element(elements = (\"rent\", \"owner\")))\n",
    "    return homestatus"
   ]
  },
  {
   "cell_type": "code",
   "execution_count": 8,
   "metadata": {},
   "outputs": [],
   "source": [
    "# To get 100 random annualincomes;\n",
    "def get_annualincome(n):\n",
    "    annualincome = []\n",
    "    for _ in range(n):\n",
    "        annualincome.append(faker.random.randint(40000, 120000))\n",
    "    return annualincome"
   ]
  },
  {
   "cell_type": "code",
   "execution_count": 9,
   "metadata": {},
   "outputs": [],
   "source": [
    "# To get 100 random number of kids\n",
    "def get_num_kids(n):\n",
    "    num_kids = []\n",
    "    for _ in range(n):\n",
    "        num_kids.append(faker.random.randint(0, 10)) \n",
    "    return num_kids"
   ]
  },
  {
   "cell_type": "code",
   "execution_count": 10,
   "metadata": {},
   "outputs": [],
   "source": [
    "# To get 100 random number of speed tickets that a person got in the past year \n",
    "def get_num_speedticket(n):\n",
    "    speedticket = []\n",
    "    for _ in range(n):\n",
    "        speedticket.append(faker.random.randint(0, 5))\n",
    "    return speedticket"
   ]
  },
  {
   "cell_type": "code",
   "execution_count": 11,
   "metadata": {},
   "outputs": [
    {
     "data": {
      "text/html": [
       "<div>\n",
       "<style scoped>\n",
       "    .dataframe tbody tr th:only-of-type {\n",
       "        vertical-align: middle;\n",
       "    }\n",
       "\n",
       "    .dataframe tbody tr th {\n",
       "        vertical-align: top;\n",
       "    }\n",
       "\n",
       "    .dataframe thead th {\n",
       "        text-align: right;\n",
       "    }\n",
       "</style>\n",
       "<table border=\"1\" class=\"dataframe\">\n",
       "  <thead>\n",
       "    <tr style=\"text-align: right;\">\n",
       "      <th></th>\n",
       "      <th>Full Name</th>\n",
       "      <th>Email Adress</th>\n",
       "      <th>Address</th>\n",
       "      <th>Phone Number</th>\n",
       "      <th>Date Of Birth</th>\n",
       "      <th>Home Status</th>\n",
       "      <th>Annual Income</th>\n",
       "      <th>Number of Kids</th>\n",
       "      <th>Speed Tikets</th>\n",
       "    </tr>\n",
       "  </thead>\n",
       "  <tbody>\n",
       "    <tr>\n",
       "      <th>0</th>\n",
       "      <td>Adam Walsh</td>\n",
       "      <td>ericlarson@gmail.com</td>\n",
       "      <td>949 David Vista Apt. 262\\nGouldborough, NM 01682</td>\n",
       "      <td>+1-654-856-2437x5598</td>\n",
       "      <td>1921-01-02</td>\n",
       "      <td>owner</td>\n",
       "      <td>87697</td>\n",
       "      <td>5</td>\n",
       "      <td>5</td>\n",
       "    </tr>\n",
       "    <tr>\n",
       "      <th>1</th>\n",
       "      <td>Jeffrey Carson PhD</td>\n",
       "      <td>evanforbes@barnett-hernandez.biz</td>\n",
       "      <td>386 Horne Brooks Apt. 123\\nSouth Josephtown, N...</td>\n",
       "      <td>504-094-1123</td>\n",
       "      <td>1996-04-13</td>\n",
       "      <td>owner</td>\n",
       "      <td>69032</td>\n",
       "      <td>7</td>\n",
       "      <td>2</td>\n",
       "    </tr>\n",
       "    <tr>\n",
       "      <th>2</th>\n",
       "      <td>Jacob Miller</td>\n",
       "      <td>joanna96@thomas.com</td>\n",
       "      <td>6068 Rice Circles\\nLindaberg, NJ 48613</td>\n",
       "      <td>016.343.7476x8431</td>\n",
       "      <td>1962-02-27</td>\n",
       "      <td>rent</td>\n",
       "      <td>48576</td>\n",
       "      <td>1</td>\n",
       "      <td>0</td>\n",
       "    </tr>\n",
       "    <tr>\n",
       "      <th>3</th>\n",
       "      <td>Keith Prince</td>\n",
       "      <td>douglascampbell@gmail.com</td>\n",
       "      <td>PSC 6989, Box 4374\\nAPO AE 36283</td>\n",
       "      <td>001-319-872-9433</td>\n",
       "      <td>1979-09-01</td>\n",
       "      <td>owner</td>\n",
       "      <td>60183</td>\n",
       "      <td>5</td>\n",
       "      <td>4</td>\n",
       "    </tr>\n",
       "    <tr>\n",
       "      <th>4</th>\n",
       "      <td>Steven Humphrey</td>\n",
       "      <td>frodriguez@yahoo.com</td>\n",
       "      <td>8114 Jeremy Villages Suite 014\\nMonicatown, CO...</td>\n",
       "      <td>001-765-446-4133x815</td>\n",
       "      <td>1943-04-25</td>\n",
       "      <td>rent</td>\n",
       "      <td>62202</td>\n",
       "      <td>1</td>\n",
       "      <td>3</td>\n",
       "    </tr>\n",
       "  </tbody>\n",
       "</table>\n",
       "</div>"
      ],
      "text/plain": [
       "            Full Name                      Email Adress  \\\n",
       "0          Adam Walsh              ericlarson@gmail.com   \n",
       "1  Jeffrey Carson PhD  evanforbes@barnett-hernandez.biz   \n",
       "2        Jacob Miller               joanna96@thomas.com   \n",
       "3        Keith Prince         douglascampbell@gmail.com   \n",
       "4     Steven Humphrey              frodriguez@yahoo.com   \n",
       "\n",
       "                                             Address          Phone Number  \\\n",
       "0   949 David Vista Apt. 262\\nGouldborough, NM 01682  +1-654-856-2437x5598   \n",
       "1  386 Horne Brooks Apt. 123\\nSouth Josephtown, N...          504-094-1123   \n",
       "2             6068 Rice Circles\\nLindaberg, NJ 48613     016.343.7476x8431   \n",
       "3                   PSC 6989, Box 4374\\nAPO AE 36283      001-319-872-9433   \n",
       "4  8114 Jeremy Villages Suite 014\\nMonicatown, CO...  001-765-446-4133x815   \n",
       "\n",
       "  Date Of Birth Home Status  Annual Income  Number of Kids  Speed Tikets  \n",
       "0    1921-01-02       owner          87697               5             5  \n",
       "1    1996-04-13       owner          69032               7             2  \n",
       "2    1962-02-27        rent          48576               1             0  \n",
       "3    1979-09-01       owner          60183               5             4  \n",
       "4    1943-04-25        rent          62202               1             3  "
      ]
     },
     "execution_count": 11,
     "metadata": {},
     "output_type": "execute_result"
    }
   ],
   "source": [
    "# Collected all the functions by assigned them to corresponding variables then created dataframe.\n",
    "n=100;\n",
    "names = get_names(n)\n",
    "emails = get_emailadress(n)\n",
    "addresses = get_address(n)\n",
    "phones = get_phone(n)\n",
    "dates_of_birth = get_date_of_birth(n)\n",
    "home_status = get_homestatus(n)\n",
    "incomes = get_annualincome(n)\n",
    "number_of_kids = get_num_kids(n)\n",
    "speed_tikets =  get_num_speedticket(n)\n",
    "    \n",
    "df = pd.DataFrame(list(zip(names,emails,addresses,phones,dates_of_birth,home_status,\n",
    "                    incomes,number_of_kids,speed_tikets)),\n",
    "                    columns = ['Full Name','Email Adress','Address','Phone Number','Date Of Birth',\n",
    "                              'Home Status','Annual Income','Number of Kids','Speed Tikets'])\n",
    "df.head()"
   ]
  },
  {
   "cell_type": "code",
   "execution_count": 12,
   "metadata": {},
   "outputs": [
    {
     "data": {
      "text/plain": [
       "(100, 9)"
      ]
     },
     "execution_count": 12,
     "metadata": {},
     "output_type": "execute_result"
    }
   ],
   "source": [
    "# To display how many rows and columns in the data:\n",
    "df.shape"
   ]
  },
  {
   "cell_type": "code",
   "execution_count": 13,
   "metadata": {},
   "outputs": [
    {
     "name": "stdout",
     "output_type": "stream",
     "text": [
      "<class 'pandas.core.frame.DataFrame'>\n",
      "RangeIndex: 100 entries, 0 to 99\n",
      "Data columns (total 9 columns):\n",
      " #   Column          Non-Null Count  Dtype \n",
      "---  ------          --------------  ----- \n",
      " 0   Full Name       100 non-null    object\n",
      " 1   Email Adress    100 non-null    object\n",
      " 2   Address         100 non-null    object\n",
      " 3   Phone Number    100 non-null    object\n",
      " 4   Date Of Birth   100 non-null    object\n",
      " 5   Home Status     100 non-null    object\n",
      " 6   Annual Income   100 non-null    int64 \n",
      " 7   Number of Kids  100 non-null    int64 \n",
      " 8   Speed Tikets    100 non-null    int64 \n",
      "dtypes: int64(3), object(6)\n",
      "memory usage: 7.2+ KB\n"
     ]
    }
   ],
   "source": [
    "# To display detailed information about the data:\n",
    "df.info()"
   ]
  },
  {
   "cell_type": "code",
   "execution_count": 14,
   "metadata": {},
   "outputs": [],
   "source": [
    "# To save the dataframe to working directory as csv file form.\n",
    "df.to_csv('personData.csv')\n"
   ]
  }
 ],
 "metadata": {
  "kernelspec": {
   "display_name": "Python 3",
   "language": "python",
   "name": "python3"
  },
  "language_info": {
   "codemirror_mode": {
    "name": "ipython",
    "version": 3
   },
   "file_extension": ".py",
   "mimetype": "text/x-python",
   "name": "python",
   "nbconvert_exporter": "python",
   "pygments_lexer": "ipython3",
   "version": "3.8.3"
  }
 },
 "nbformat": 4,
 "nbformat_minor": 4
}
