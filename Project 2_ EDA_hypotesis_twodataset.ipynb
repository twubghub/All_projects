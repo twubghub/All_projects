{
 "cells": [
  {
   "cell_type": "markdown",
   "metadata": {
    "id": "965dvXPdvNBJ"
   },
   "source": [
    "<strong/><font size=4>DATA 601 Final Project<br></strong>\n",
    "\n",
    "Group members: Tiru Wube, Siyu Ma<br> \n",
    "\n",
    "<strong/><font size=4>EDA and Hypothesis Testing — Combined Two Datasets</strong>\n",
    "\n",
    "<strong/><font size=3>Description<br></strong>\n",
    "This group project explored different health factor variables and their relationships using two datasets. One dataset is from NHIS for the U.S., and the other one is from the UC Irvine Machine Learning Repository for Latin American countries( Peru, Colombia, and Mexico). <br>\n",
    "\n",
    "The analysis  focused on statistical data analysis and answered specific questions for 18 and older adults. We explored the datasets using exploratory data analysis. Based on specific objectives and questions, the project will focus on hypothesis analysis, the relationship between variables, and if a specific outcome significantly differs from group to group. <br>\n",
    "\n",
    "<strong/><font size=3>Exploratory data analysis and hypothesis testing:<br></strong>\n",
    "1. Analysis of dataset\n",
    "\n",
    "2. Visualization \n",
    "\n",
    "3. Hypothesis/assumptions for specific questions related to both datasets \n",
    "\n",
    "4. Test the hypothesis and give a conclusion<br>\n",
    "\n",
    "\n",
    "<strong/><font size=3>Key questions:</strong><br>\n",
    "1. Does the percentage of cigarette smoking vary by country? <br>\n",
    "\n",
    "2. Does body mass index differ by gender in different countries? <br>\n",
    "\n",
    "3. Does the body mass index distribution differ by Age in different countries? <br>\n",
    "\n",
    "4. Does the smoking age vary by country? <br>\n",
    "\n",
    "\n",
    "\n",
    "<strong/><font size=3>Hypothesis Testing Method:<br></strong>\n",
    "Based on the type of question, both members used the following methods: Python - Jupyter notebook, use visualization, percentage computing, statistical summary, and statistical tests (Z-test, T-Test, chi-square, etc.)\n",
    "\n",
    "\n",
    "<strong/><font size=3>Data sources:<br></strong>\n",
    "1. The first dataset sources and location: the 2019 NHIS data, named Sample Adult file, will be used. The 2019 data is free and available in CSV and ASCII format, the latest CDC website’s latest data. Both the CSV and ASCII formats can be download from this website: https://www.cdc.gov/nchs/nhis/2019nhis.html \n",
    "   Data size: CSV data size= 25.5 MB and rows= 31997, columns= 534 as it was read using pandas\n",
    "\n",
    "2. The second dataset source and location: The dataset is from the UC Irvine Machine Learning Repository website.\n",
    "  Data download link:\n",
    "  https://archive.ics.uci.edu/ml/machine-learning-databases/00544/\n",
    "  From:\n",
    "  https://archive.ics.uci.edu/ml/datasets/Estimation+of+obesity+levels+based+on+eating+habits+and+physical+condition+#\n",
    "  Country: Mexico, Peru, and Colombia Population: People from Mexico, Peru, and Colombia, with ages between 14 and 61 and diverse eating habits and physical condition\n",
    "  Data size: CSV size 328 KB, 2111 rows, 17 columns.\n",
    "  \n",
    "Data are legal to access. Although the websites have information about the survey questions and others, there is no documented EDA for these Data and no other statistical analysis.\n",
    "Data are free to download at no cost."
   ]
  },
  {
   "cell_type": "markdown",
   "metadata": {
    "id": "9iMdjapbkyaE"
   },
   "source": [
    "<strong/><font size=3>Install researchpy module"
   ]
  },
  {
   "cell_type": "code",
   "execution_count": 1,
   "metadata": {
    "colab": {
     "base_uri": "https://localhost:8080/"
    },
    "id": "3q__osqfubCZ",
    "outputId": "566c5226-c9a9-4660-88ff-7559a9a95ecf"
   },
   "outputs": [
    {
     "name": "stdout",
     "output_type": "stream",
     "text": [
      "Requirement already satisfied: researchpy in d:\\python\\lib\\site-packages (0.2.3)\n",
      "Requirement already satisfied: pandas in d:\\python\\lib\\site-packages (from researchpy) (1.0.5)\n",
      "Requirement already satisfied: scipy in d:\\python\\lib\\site-packages (from researchpy) (1.5.0)\n",
      "Requirement already satisfied: numpy in d:\\python\\lib\\site-packages (from researchpy) (1.18.5)\n",
      "Requirement already satisfied: statsmodels in d:\\python\\lib\\site-packages (from researchpy) (0.11.1)\n",
      "Requirement already satisfied: pytz>=2017.2 in d:\\python\\lib\\site-packages (from pandas->researchpy) (2020.1)\n",
      "Requirement already satisfied: python-dateutil>=2.6.1 in d:\\python\\lib\\site-packages (from pandas->researchpy) (2.8.1)\n",
      "Requirement already satisfied: patsy>=0.5 in d:\\python\\lib\\site-packages (from statsmodels->researchpy) (0.5.1)\n",
      "Requirement already satisfied: six>=1.5 in d:\\python\\lib\\site-packages (from python-dateutil>=2.6.1->pandas->researchpy) (1.15.0)\n"
     ]
    }
   ],
   "source": [
    "!pip install researchpy"
   ]
  },
  {
   "cell_type": "code",
   "execution_count": 2,
   "metadata": {
    "colab": {
     "base_uri": "https://localhost:8080/"
    },
    "id": "lU4wVY2kubCa",
    "outputId": "f59da5ff-5d21-4b2c-dc0d-18329ed8975d"
   },
   "outputs": [],
   "source": [
    "# import modules\n",
    "import numpy as np\n",
    "import matplotlib.pyplot as plt\n",
    "import pandas as pd\n",
    "import statsmodels.api as sm\n",
    "from statsmodels.stats.proportion import proportions_ztest\n",
    "import researchpy\n",
    "import scipy.stats as stats\n",
    "from statsmodels.formula.api import ols\n",
    "import seaborn as sns"
   ]
  },
  {
   "cell_type": "markdown",
   "metadata": {
    "id": "W6tqS3t0wxcS"
   },
   "source": [
    "<strong/><font size=3>Import the first dataset of Latin countires adults"
   ]
  },
  {
   "cell_type": "code",
   "execution_count": 3,
   "metadata": {
    "colab": {
     "base_uri": "https://localhost:8080/",
     "height": 222
    },
    "id": "OFwb2G7aubCa",
    "outputId": "9957818e-c980-479b-f7a1-a0a19310e096",
    "scrolled": true
   },
   "outputs": [
    {
     "data": {
      "text/html": [
       "<div>\n",
       "<style scoped>\n",
       "    .dataframe tbody tr th:only-of-type {\n",
       "        vertical-align: middle;\n",
       "    }\n",
       "\n",
       "    .dataframe tbody tr th {\n",
       "        vertical-align: top;\n",
       "    }\n",
       "\n",
       "    .dataframe thead th {\n",
       "        text-align: right;\n",
       "    }\n",
       "</style>\n",
       "<table border=\"1\" class=\"dataframe\">\n",
       "  <thead>\n",
       "    <tr style=\"text-align: right;\">\n",
       "      <th></th>\n",
       "      <th>Gender_Latin</th>\n",
       "      <th>Age_Latin</th>\n",
       "      <th>Height_Latin</th>\n",
       "      <th>Weight_Latin</th>\n",
       "      <th>FamHist_overweight_Latin</th>\n",
       "      <th>Freq_HighCalFood_Latin</th>\n",
       "      <th>Freq_Veggie_Latin</th>\n",
       "      <th>Num_MainMeals_Latin</th>\n",
       "      <th>FoodBetweenMeals_Latin</th>\n",
       "      <th>Smoke_Latin</th>\n",
       "      <th>WaterIntake_Latin</th>\n",
       "      <th>MonitoringCal_Latin</th>\n",
       "      <th>Physical_Activity_Latin</th>\n",
       "      <th>Time_TechDeivce_Latin</th>\n",
       "      <th>Alcohol_Latin</th>\n",
       "      <th>Transportation_Latin</th>\n",
       "      <th>OverWeight/Obesity_Type_Latin</th>\n",
       "    </tr>\n",
       "  </thead>\n",
       "  <tbody>\n",
       "    <tr>\n",
       "      <th>0</th>\n",
       "      <td>Female</td>\n",
       "      <td>21.0</td>\n",
       "      <td>1.62</td>\n",
       "      <td>64.0</td>\n",
       "      <td>yes</td>\n",
       "      <td>no</td>\n",
       "      <td>2.0</td>\n",
       "      <td>3.0</td>\n",
       "      <td>Sometimes</td>\n",
       "      <td>no</td>\n",
       "      <td>2.0</td>\n",
       "      <td>no</td>\n",
       "      <td>0.0</td>\n",
       "      <td>1.0</td>\n",
       "      <td>no</td>\n",
       "      <td>Public_Transportation</td>\n",
       "      <td>Normal_Weight</td>\n",
       "    </tr>\n",
       "    <tr>\n",
       "      <th>1</th>\n",
       "      <td>Female</td>\n",
       "      <td>21.0</td>\n",
       "      <td>1.52</td>\n",
       "      <td>56.0</td>\n",
       "      <td>yes</td>\n",
       "      <td>no</td>\n",
       "      <td>3.0</td>\n",
       "      <td>3.0</td>\n",
       "      <td>Sometimes</td>\n",
       "      <td>yes</td>\n",
       "      <td>3.0</td>\n",
       "      <td>yes</td>\n",
       "      <td>3.0</td>\n",
       "      <td>0.0</td>\n",
       "      <td>Sometimes</td>\n",
       "      <td>Public_Transportation</td>\n",
       "      <td>Normal_Weight</td>\n",
       "    </tr>\n",
       "    <tr>\n",
       "      <th>2</th>\n",
       "      <td>Male</td>\n",
       "      <td>23.0</td>\n",
       "      <td>1.80</td>\n",
       "      <td>77.0</td>\n",
       "      <td>yes</td>\n",
       "      <td>no</td>\n",
       "      <td>2.0</td>\n",
       "      <td>3.0</td>\n",
       "      <td>Sometimes</td>\n",
       "      <td>no</td>\n",
       "      <td>2.0</td>\n",
       "      <td>no</td>\n",
       "      <td>2.0</td>\n",
       "      <td>1.0</td>\n",
       "      <td>Frequently</td>\n",
       "      <td>Public_Transportation</td>\n",
       "      <td>Normal_Weight</td>\n",
       "    </tr>\n",
       "    <tr>\n",
       "      <th>3</th>\n",
       "      <td>Male</td>\n",
       "      <td>27.0</td>\n",
       "      <td>1.80</td>\n",
       "      <td>87.0</td>\n",
       "      <td>no</td>\n",
       "      <td>no</td>\n",
       "      <td>3.0</td>\n",
       "      <td>3.0</td>\n",
       "      <td>Sometimes</td>\n",
       "      <td>no</td>\n",
       "      <td>2.0</td>\n",
       "      <td>no</td>\n",
       "      <td>2.0</td>\n",
       "      <td>0.0</td>\n",
       "      <td>Frequently</td>\n",
       "      <td>Walking</td>\n",
       "      <td>Overweight_Level_I</td>\n",
       "    </tr>\n",
       "    <tr>\n",
       "      <th>4</th>\n",
       "      <td>Male</td>\n",
       "      <td>22.0</td>\n",
       "      <td>1.78</td>\n",
       "      <td>89.8</td>\n",
       "      <td>no</td>\n",
       "      <td>no</td>\n",
       "      <td>2.0</td>\n",
       "      <td>1.0</td>\n",
       "      <td>Sometimes</td>\n",
       "      <td>no</td>\n",
       "      <td>2.0</td>\n",
       "      <td>no</td>\n",
       "      <td>0.0</td>\n",
       "      <td>0.0</td>\n",
       "      <td>Sometimes</td>\n",
       "      <td>Public_Transportation</td>\n",
       "      <td>Overweight_Level_II</td>\n",
       "    </tr>\n",
       "  </tbody>\n",
       "</table>\n",
       "</div>"
      ],
      "text/plain": [
       "  Gender_Latin  Age_Latin  Height_Latin  Weight_Latin  \\\n",
       "0       Female       21.0          1.62          64.0   \n",
       "1       Female       21.0          1.52          56.0   \n",
       "2         Male       23.0          1.80          77.0   \n",
       "3         Male       27.0          1.80          87.0   \n",
       "4         Male       22.0          1.78          89.8   \n",
       "\n",
       "  FamHist_overweight_Latin Freq_HighCalFood_Latin  Freq_Veggie_Latin  \\\n",
       "0                      yes                     no                2.0   \n",
       "1                      yes                     no                3.0   \n",
       "2                      yes                     no                2.0   \n",
       "3                       no                     no                3.0   \n",
       "4                       no                     no                2.0   \n",
       "\n",
       "   Num_MainMeals_Latin FoodBetweenMeals_Latin Smoke_Latin  WaterIntake_Latin  \\\n",
       "0                  3.0              Sometimes          no                2.0   \n",
       "1                  3.0              Sometimes         yes                3.0   \n",
       "2                  3.0              Sometimes          no                2.0   \n",
       "3                  3.0              Sometimes          no                2.0   \n",
       "4                  1.0              Sometimes          no                2.0   \n",
       "\n",
       "  MonitoringCal_Latin  Physical_Activity_Latin  Time_TechDeivce_Latin  \\\n",
       "0                  no                      0.0                    1.0   \n",
       "1                 yes                      3.0                    0.0   \n",
       "2                  no                      2.0                    1.0   \n",
       "3                  no                      2.0                    0.0   \n",
       "4                  no                      0.0                    0.0   \n",
       "\n",
       "  Alcohol_Latin   Transportation_Latin OverWeight/Obesity_Type_Latin  \n",
       "0            no  Public_Transportation                 Normal_Weight  \n",
       "1     Sometimes  Public_Transportation                 Normal_Weight  \n",
       "2    Frequently  Public_Transportation                 Normal_Weight  \n",
       "3    Frequently                Walking            Overweight_Level_I  \n",
       "4     Sometimes  Public_Transportation           Overweight_Level_II  "
      ]
     },
     "execution_count": 3,
     "metadata": {},
     "output_type": "execute_result"
    }
   ],
   "source": [
    "# read the data from URL\n",
    "url = \"https://drive.google.com/file/d/1NTbBkvUtYM7vJSkNEvG3ONDpDJphMc2R/view?usp=sharing\"\n",
    "path = 'https://drive.google.com/uc?export=download&id='+url.split('/')[-2]\n",
    "df_Latin=pd.read_csv(path)\n",
    "\n",
    "# change the column names\n",
    "df_Latin.columns =['Gender_Latin', 'Age_Latin','Height_Latin','Weight_Latin','FamHist_overweight_Latin',\n",
    "             'Freq_HighCalFood_Latin','Freq_Veggie_Latin','Num_MainMeals_Latin',\n",
    "             'FoodBetweenMeals_Latin','Smoke_Latin','WaterIntake_Latin','MonitoringCal_Latin',\n",
    "             'Physical_Activity_Latin','Time_TechDeivce_Latin','Alcohol_Latin','Transportation_Latin',\n",
    "             'OverWeight/Obesity_Type_Latin']\n",
    "# display the top five rows of dataset\n",
    "df_Latin.head()\n"
   ]
  },
  {
   "cell_type": "code",
   "execution_count": 4,
   "metadata": {
    "colab": {
     "base_uri": "https://localhost:8080/"
    },
    "id": "kr8DhQqWubCc",
    "outputId": "2bc00f34-232a-45b2-c61c-2cc00c08ce53",
    "scrolled": true
   },
   "outputs": [
    {
     "data": {
      "text/plain": [
       "(2111, 17)"
      ]
     },
     "execution_count": 4,
     "metadata": {},
     "output_type": "execute_result"
    }
   ],
   "source": [
    "# dataframe size\n",
    "df_Latin.shape"
   ]
  },
  {
   "cell_type": "code",
   "execution_count": 5,
   "metadata": {
    "id": "gYiZW22i4-97"
   },
   "outputs": [],
   "source": [
    "# Data cleaning: The other dataset's age is 18 and above\n",
    "df_Latin = df_Latin[df_Latin.Age_Latin >=18]"
   ]
  },
  {
   "cell_type": "code",
   "execution_count": 6,
   "metadata": {
    "colab": {
     "base_uri": "https://localhost:8080/"
    },
    "id": "fdA4871LubCd",
    "outputId": "8cca4a06-80fd-4e83-a777-ae7eae3516c9"
   },
   "outputs": [
    {
     "name": "stdout",
     "output_type": "stream",
     "text": [
      "<class 'pandas.core.frame.DataFrame'>\n",
      "Int64Index: 1998 entries, 0 to 2110\n",
      "Data columns (total 17 columns):\n",
      " #   Column                         Non-Null Count  Dtype  \n",
      "---  ------                         --------------  -----  \n",
      " 0   Gender_Latin                   1998 non-null   object \n",
      " 1   Age_Latin                      1998 non-null   float64\n",
      " 2   Height_Latin                   1998 non-null   float64\n",
      " 3   Weight_Latin                   1998 non-null   float64\n",
      " 4   FamHist_overweight_Latin       1998 non-null   object \n",
      " 5   Freq_HighCalFood_Latin         1998 non-null   object \n",
      " 6   Freq_Veggie_Latin              1998 non-null   float64\n",
      " 7   Num_MainMeals_Latin            1998 non-null   float64\n",
      " 8   FoodBetweenMeals_Latin         1998 non-null   object \n",
      " 9   Smoke_Latin                    1998 non-null   object \n",
      " 10  WaterIntake_Latin              1998 non-null   float64\n",
      " 11  MonitoringCal_Latin            1998 non-null   object \n",
      " 12  Physical_Activity_Latin        1998 non-null   float64\n",
      " 13  Time_TechDeivce_Latin          1998 non-null   float64\n",
      " 14  Alcohol_Latin                  1998 non-null   object \n",
      " 15  Transportation_Latin           1998 non-null   object \n",
      " 16  OverWeight/Obesity_Type_Latin  1998 non-null   object \n",
      "dtypes: float64(8), object(9)\n",
      "memory usage: 281.0+ KB\n"
     ]
    }
   ],
   "source": [
    "df_Latin.info()"
   ]
  },
  {
   "cell_type": "code",
   "execution_count": 7,
   "metadata": {
    "colab": {
     "base_uri": "https://localhost:8080/",
     "height": 314
    },
    "id": "JQgy3eAJubCd",
    "outputId": "bbef3198-1080-4918-ce08-570ea41e2bb4"
   },
   "outputs": [
    {
     "data": {
      "text/html": [
       "<div>\n",
       "<style scoped>\n",
       "    .dataframe tbody tr th:only-of-type {\n",
       "        vertical-align: middle;\n",
       "    }\n",
       "\n",
       "    .dataframe tbody tr th {\n",
       "        vertical-align: top;\n",
       "    }\n",
       "\n",
       "    .dataframe thead th {\n",
       "        text-align: right;\n",
       "    }\n",
       "</style>\n",
       "<table border=\"1\" class=\"dataframe\">\n",
       "  <thead>\n",
       "    <tr style=\"text-align: right;\">\n",
       "      <th></th>\n",
       "      <th>Age_Latin</th>\n",
       "      <th>Height_Latin</th>\n",
       "      <th>Weight_Latin</th>\n",
       "      <th>Freq_Veggie_Latin</th>\n",
       "      <th>Num_MainMeals_Latin</th>\n",
       "      <th>WaterIntake_Latin</th>\n",
       "      <th>Physical_Activity_Latin</th>\n",
       "      <th>Time_TechDeivce_Latin</th>\n",
       "    </tr>\n",
       "  </thead>\n",
       "  <tbody>\n",
       "    <tr>\n",
       "      <th>count</th>\n",
       "      <td>1998.000000</td>\n",
       "      <td>1998.000000</td>\n",
       "      <td>1998.000000</td>\n",
       "      <td>1998.000000</td>\n",
       "      <td>1998.000000</td>\n",
       "      <td>1998.000000</td>\n",
       "      <td>1998.000000</td>\n",
       "      <td>1998.000000</td>\n",
       "    </tr>\n",
       "    <tr>\n",
       "      <th>mean</th>\n",
       "      <td>24.725786</td>\n",
       "      <td>1.701044</td>\n",
       "      <td>87.915399</td>\n",
       "      <td>2.424968</td>\n",
       "      <td>2.676815</td>\n",
       "      <td>2.010469</td>\n",
       "      <td>0.990090</td>\n",
       "      <td>0.638292</td>\n",
       "    </tr>\n",
       "    <tr>\n",
       "      <th>std</th>\n",
       "      <td>6.271890</td>\n",
       "      <td>0.093134</td>\n",
       "      <td>26.091561</td>\n",
       "      <td>0.533031</td>\n",
       "      <td>0.766883</td>\n",
       "      <td>0.615969</td>\n",
       "      <td>0.841901</td>\n",
       "      <td>0.605196</td>\n",
       "    </tr>\n",
       "    <tr>\n",
       "      <th>min</th>\n",
       "      <td>18.000000</td>\n",
       "      <td>1.450000</td>\n",
       "      <td>39.000000</td>\n",
       "      <td>1.000000</td>\n",
       "      <td>1.000000</td>\n",
       "      <td>1.000000</td>\n",
       "      <td>0.000000</td>\n",
       "      <td>0.000000</td>\n",
       "    </tr>\n",
       "    <tr>\n",
       "      <th>25%</th>\n",
       "      <td>20.393019</td>\n",
       "      <td>1.630000</td>\n",
       "      <td>68.457437</td>\n",
       "      <td>2.000000</td>\n",
       "      <td>2.668225</td>\n",
       "      <td>1.569358</td>\n",
       "      <td>0.112436</td>\n",
       "      <td>0.000000</td>\n",
       "    </tr>\n",
       "    <tr>\n",
       "      <th>50%</th>\n",
       "      <td>23.000000</td>\n",
       "      <td>1.700029</td>\n",
       "      <td>84.378461</td>\n",
       "      <td>2.393251</td>\n",
       "      <td>3.000000</td>\n",
       "      <td>2.000000</td>\n",
       "      <td>1.000000</td>\n",
       "      <td>0.585974</td>\n",
       "    </tr>\n",
       "    <tr>\n",
       "      <th>75%</th>\n",
       "      <td>26.000000</td>\n",
       "      <td>1.767135</td>\n",
       "      <td>108.990150</td>\n",
       "      <td>3.000000</td>\n",
       "      <td>3.000000</td>\n",
       "      <td>2.496789</td>\n",
       "      <td>1.609904</td>\n",
       "      <td>1.000000</td>\n",
       "    </tr>\n",
       "    <tr>\n",
       "      <th>max</th>\n",
       "      <td>61.000000</td>\n",
       "      <td>1.980000</td>\n",
       "      <td>173.000000</td>\n",
       "      <td>3.000000</td>\n",
       "      <td>4.000000</td>\n",
       "      <td>3.000000</td>\n",
       "      <td>3.000000</td>\n",
       "      <td>2.000000</td>\n",
       "    </tr>\n",
       "  </tbody>\n",
       "</table>\n",
       "</div>"
      ],
      "text/plain": [
       "         Age_Latin  Height_Latin  Weight_Latin  Freq_Veggie_Latin  \\\n",
       "count  1998.000000   1998.000000   1998.000000        1998.000000   \n",
       "mean     24.725786      1.701044     87.915399           2.424968   \n",
       "std       6.271890      0.093134     26.091561           0.533031   \n",
       "min      18.000000      1.450000     39.000000           1.000000   \n",
       "25%      20.393019      1.630000     68.457437           2.000000   \n",
       "50%      23.000000      1.700029     84.378461           2.393251   \n",
       "75%      26.000000      1.767135    108.990150           3.000000   \n",
       "max      61.000000      1.980000    173.000000           3.000000   \n",
       "\n",
       "       Num_MainMeals_Latin  WaterIntake_Latin  Physical_Activity_Latin  \\\n",
       "count          1998.000000        1998.000000              1998.000000   \n",
       "mean              2.676815           2.010469                 0.990090   \n",
       "std               0.766883           0.615969                 0.841901   \n",
       "min               1.000000           1.000000                 0.000000   \n",
       "25%               2.668225           1.569358                 0.112436   \n",
       "50%               3.000000           2.000000                 1.000000   \n",
       "75%               3.000000           2.496789                 1.609904   \n",
       "max               4.000000           3.000000                 3.000000   \n",
       "\n",
       "       Time_TechDeivce_Latin  \n",
       "count            1998.000000  \n",
       "mean                0.638292  \n",
       "std                 0.605196  \n",
       "min                 0.000000  \n",
       "25%                 0.000000  \n",
       "50%                 0.585974  \n",
       "75%                 1.000000  \n",
       "max                 2.000000  "
      ]
     },
     "execution_count": 7,
     "metadata": {},
     "output_type": "execute_result"
    }
   ],
   "source": [
    "df_Latin.describe()"
   ]
  },
  {
   "cell_type": "markdown",
   "metadata": {
    "id": "4_P0u4fTxAqN"
   },
   "source": [
    "<strong/><font size=3>Adding BMI column to the first dataset by applying mathematical formula of BMI"
   ]
  },
  {
   "cell_type": "code",
   "execution_count": 8,
   "metadata": {
    "colab": {
     "base_uri": "https://localhost:8080/",
     "height": 222
    },
    "id": "eTn_q_7Gw7vr",
    "outputId": "0296309c-78ec-40fe-89bb-8129edc3e787"
   },
   "outputs": [
    {
     "data": {
      "text/html": [
       "<div>\n",
       "<style scoped>\n",
       "    .dataframe tbody tr th:only-of-type {\n",
       "        vertical-align: middle;\n",
       "    }\n",
       "\n",
       "    .dataframe tbody tr th {\n",
       "        vertical-align: top;\n",
       "    }\n",
       "\n",
       "    .dataframe thead th {\n",
       "        text-align: right;\n",
       "    }\n",
       "</style>\n",
       "<table border=\"1\" class=\"dataframe\">\n",
       "  <thead>\n",
       "    <tr style=\"text-align: right;\">\n",
       "      <th></th>\n",
       "      <th>Gender_Latin</th>\n",
       "      <th>Age_Latin</th>\n",
       "      <th>Height_Latin</th>\n",
       "      <th>Weight_Latin</th>\n",
       "      <th>FamHist_overweight_Latin</th>\n",
       "      <th>Freq_HighCalFood_Latin</th>\n",
       "      <th>Freq_Veggie_Latin</th>\n",
       "      <th>Num_MainMeals_Latin</th>\n",
       "      <th>FoodBetweenMeals_Latin</th>\n",
       "      <th>Smoke_Latin</th>\n",
       "      <th>WaterIntake_Latin</th>\n",
       "      <th>MonitoringCal_Latin</th>\n",
       "      <th>Physical_Activity_Latin</th>\n",
       "      <th>Time_TechDeivce_Latin</th>\n",
       "      <th>Alcohol_Latin</th>\n",
       "      <th>Transportation_Latin</th>\n",
       "      <th>OverWeight/Obesity_Type_Latin</th>\n",
       "      <th>BMIcont_Latin</th>\n",
       "    </tr>\n",
       "  </thead>\n",
       "  <tbody>\n",
       "    <tr>\n",
       "      <th>0</th>\n",
       "      <td>Female</td>\n",
       "      <td>21.0</td>\n",
       "      <td>1.62</td>\n",
       "      <td>64.0</td>\n",
       "      <td>yes</td>\n",
       "      <td>no</td>\n",
       "      <td>2.0</td>\n",
       "      <td>3.0</td>\n",
       "      <td>Sometimes</td>\n",
       "      <td>no</td>\n",
       "      <td>2.0</td>\n",
       "      <td>no</td>\n",
       "      <td>0.0</td>\n",
       "      <td>1.0</td>\n",
       "      <td>no</td>\n",
       "      <td>Public_Transportation</td>\n",
       "      <td>Normal_Weight</td>\n",
       "      <td>24.386526</td>\n",
       "    </tr>\n",
       "    <tr>\n",
       "      <th>1</th>\n",
       "      <td>Female</td>\n",
       "      <td>21.0</td>\n",
       "      <td>1.52</td>\n",
       "      <td>56.0</td>\n",
       "      <td>yes</td>\n",
       "      <td>no</td>\n",
       "      <td>3.0</td>\n",
       "      <td>3.0</td>\n",
       "      <td>Sometimes</td>\n",
       "      <td>yes</td>\n",
       "      <td>3.0</td>\n",
       "      <td>yes</td>\n",
       "      <td>3.0</td>\n",
       "      <td>0.0</td>\n",
       "      <td>Sometimes</td>\n",
       "      <td>Public_Transportation</td>\n",
       "      <td>Normal_Weight</td>\n",
       "      <td>24.238227</td>\n",
       "    </tr>\n",
       "    <tr>\n",
       "      <th>2</th>\n",
       "      <td>Male</td>\n",
       "      <td>23.0</td>\n",
       "      <td>1.80</td>\n",
       "      <td>77.0</td>\n",
       "      <td>yes</td>\n",
       "      <td>no</td>\n",
       "      <td>2.0</td>\n",
       "      <td>3.0</td>\n",
       "      <td>Sometimes</td>\n",
       "      <td>no</td>\n",
       "      <td>2.0</td>\n",
       "      <td>no</td>\n",
       "      <td>2.0</td>\n",
       "      <td>1.0</td>\n",
       "      <td>Frequently</td>\n",
       "      <td>Public_Transportation</td>\n",
       "      <td>Normal_Weight</td>\n",
       "      <td>23.765432</td>\n",
       "    </tr>\n",
       "    <tr>\n",
       "      <th>3</th>\n",
       "      <td>Male</td>\n",
       "      <td>27.0</td>\n",
       "      <td>1.80</td>\n",
       "      <td>87.0</td>\n",
       "      <td>no</td>\n",
       "      <td>no</td>\n",
       "      <td>3.0</td>\n",
       "      <td>3.0</td>\n",
       "      <td>Sometimes</td>\n",
       "      <td>no</td>\n",
       "      <td>2.0</td>\n",
       "      <td>no</td>\n",
       "      <td>2.0</td>\n",
       "      <td>0.0</td>\n",
       "      <td>Frequently</td>\n",
       "      <td>Walking</td>\n",
       "      <td>Overweight_Level_I</td>\n",
       "      <td>26.851852</td>\n",
       "    </tr>\n",
       "    <tr>\n",
       "      <th>4</th>\n",
       "      <td>Male</td>\n",
       "      <td>22.0</td>\n",
       "      <td>1.78</td>\n",
       "      <td>89.8</td>\n",
       "      <td>no</td>\n",
       "      <td>no</td>\n",
       "      <td>2.0</td>\n",
       "      <td>1.0</td>\n",
       "      <td>Sometimes</td>\n",
       "      <td>no</td>\n",
       "      <td>2.0</td>\n",
       "      <td>no</td>\n",
       "      <td>0.0</td>\n",
       "      <td>0.0</td>\n",
       "      <td>Sometimes</td>\n",
       "      <td>Public_Transportation</td>\n",
       "      <td>Overweight_Level_II</td>\n",
       "      <td>28.342381</td>\n",
       "    </tr>\n",
       "  </tbody>\n",
       "</table>\n",
       "</div>"
      ],
      "text/plain": [
       "  Gender_Latin  Age_Latin  Height_Latin  Weight_Latin  \\\n",
       "0       Female       21.0          1.62          64.0   \n",
       "1       Female       21.0          1.52          56.0   \n",
       "2         Male       23.0          1.80          77.0   \n",
       "3         Male       27.0          1.80          87.0   \n",
       "4         Male       22.0          1.78          89.8   \n",
       "\n",
       "  FamHist_overweight_Latin Freq_HighCalFood_Latin  Freq_Veggie_Latin  \\\n",
       "0                      yes                     no                2.0   \n",
       "1                      yes                     no                3.0   \n",
       "2                      yes                     no                2.0   \n",
       "3                       no                     no                3.0   \n",
       "4                       no                     no                2.0   \n",
       "\n",
       "   Num_MainMeals_Latin FoodBetweenMeals_Latin Smoke_Latin  WaterIntake_Latin  \\\n",
       "0                  3.0              Sometimes          no                2.0   \n",
       "1                  3.0              Sometimes         yes                3.0   \n",
       "2                  3.0              Sometimes          no                2.0   \n",
       "3                  3.0              Sometimes          no                2.0   \n",
       "4                  1.0              Sometimes          no                2.0   \n",
       "\n",
       "  MonitoringCal_Latin  Physical_Activity_Latin  Time_TechDeivce_Latin  \\\n",
       "0                  no                      0.0                    1.0   \n",
       "1                 yes                      3.0                    0.0   \n",
       "2                  no                      2.0                    1.0   \n",
       "3                  no                      2.0                    0.0   \n",
       "4                  no                      0.0                    0.0   \n",
       "\n",
       "  Alcohol_Latin   Transportation_Latin OverWeight/Obesity_Type_Latin  \\\n",
       "0            no  Public_Transportation                 Normal_Weight   \n",
       "1     Sometimes  Public_Transportation                 Normal_Weight   \n",
       "2    Frequently  Public_Transportation                 Normal_Weight   \n",
       "3    Frequently                Walking            Overweight_Level_I   \n",
       "4     Sometimes  Public_Transportation           Overweight_Level_II   \n",
       "\n",
       "   BMIcont_Latin  \n",
       "0      24.386526  \n",
       "1      24.238227  \n",
       "2      23.765432  \n",
       "3      26.851852  \n",
       "4      28.342381  "
      ]
     },
     "execution_count": 8,
     "metadata": {},
     "output_type": "execute_result"
    }
   ],
   "source": [
    "# calculating the BMI for Latin countries dataset and add a new column for BMI values\n",
    "df_Latin['BMIcont_Latin'] = df_Latin['Weight_Latin']/(df_Latin['Height_Latin']**2)\n",
    "df_Latin.head()"
   ]
  },
  {
   "cell_type": "markdown",
   "metadata": {
    "id": "UJ2e_iFOwiT2"
   },
   "source": [
    "<strong/><font size=3>Import the second dataset of U.S. adults"
   ]
  },
  {
   "cell_type": "code",
   "execution_count": 9,
   "metadata": {
    "colab": {
     "base_uri": "https://localhost:8080/",
     "height": 251
    },
    "id": "dELmQ5bKubCd",
    "outputId": "9a629bb8-6f85-441e-da41-c8140bee7b69"
   },
   "outputs": [
    {
     "data": {
      "text/html": [
       "<div>\n",
       "<style scoped>\n",
       "    .dataframe tbody tr th:only-of-type {\n",
       "        vertical-align: middle;\n",
       "    }\n",
       "\n",
       "    .dataframe tbody tr th {\n",
       "        vertical-align: top;\n",
       "    }\n",
       "\n",
       "    .dataframe thead th {\n",
       "        text-align: right;\n",
       "    }\n",
       "</style>\n",
       "<table border=\"1\" class=\"dataframe\">\n",
       "  <thead>\n",
       "    <tr style=\"text-align: right;\">\n",
       "      <th></th>\n",
       "      <th>URBRRL</th>\n",
       "      <th>RATCAT_A</th>\n",
       "      <th>INCGRP_A</th>\n",
       "      <th>INCTCFLG_A</th>\n",
       "      <th>FAMINCTC_A</th>\n",
       "      <th>IMPINCFLG_A</th>\n",
       "      <th>PPSU</th>\n",
       "      <th>PSTRAT</th>\n",
       "      <th>HISPALLP_A</th>\n",
       "      <th>RACEALLP_A</th>\n",
       "      <th>...</th>\n",
       "      <th>PROXYREL_A</th>\n",
       "      <th>PROXY_A</th>\n",
       "      <th>AVAIL_A</th>\n",
       "      <th>HHSTAT_A</th>\n",
       "      <th>INTV_QRT</th>\n",
       "      <th>RECTYPE</th>\n",
       "      <th>WTFA_A</th>\n",
       "      <th>WTIA_A</th>\n",
       "      <th>HHX</th>\n",
       "      <th>POVRATTC_A</th>\n",
       "    </tr>\n",
       "  </thead>\n",
       "  <tbody>\n",
       "    <tr>\n",
       "      <th>0</th>\n",
       "      <td>4</td>\n",
       "      <td>9</td>\n",
       "      <td>3</td>\n",
       "      <td>0</td>\n",
       "      <td>60000</td>\n",
       "      <td>2</td>\n",
       "      <td>2</td>\n",
       "      <td>122</td>\n",
       "      <td>3</td>\n",
       "      <td>2</td>\n",
       "      <td>...</td>\n",
       "      <td>NaN</td>\n",
       "      <td>NaN</td>\n",
       "      <td>1</td>\n",
       "      <td>1</td>\n",
       "      <td>1</td>\n",
       "      <td>10</td>\n",
       "      <td>13177.008</td>\n",
       "      <td>7601.336</td>\n",
       "      <td>H048109</td>\n",
       "      <td>2.96</td>\n",
       "    </tr>\n",
       "    <tr>\n",
       "      <th>1</th>\n",
       "      <td>4</td>\n",
       "      <td>9</td>\n",
       "      <td>3</td>\n",
       "      <td>0</td>\n",
       "      <td>50000</td>\n",
       "      <td>0</td>\n",
       "      <td>2</td>\n",
       "      <td>122</td>\n",
       "      <td>2</td>\n",
       "      <td>1</td>\n",
       "      <td>...</td>\n",
       "      <td>NaN</td>\n",
       "      <td>NaN</td>\n",
       "      <td>1</td>\n",
       "      <td>1</td>\n",
       "      <td>1</td>\n",
       "      <td>10</td>\n",
       "      <td>6140.552</td>\n",
       "      <td>3344.434</td>\n",
       "      <td>H027044</td>\n",
       "      <td>2.97</td>\n",
       "    </tr>\n",
       "    <tr>\n",
       "      <th>2</th>\n",
       "      <td>4</td>\n",
       "      <td>12</td>\n",
       "      <td>3</td>\n",
       "      <td>0</td>\n",
       "      <td>65000</td>\n",
       "      <td>1</td>\n",
       "      <td>2</td>\n",
       "      <td>122</td>\n",
       "      <td>2</td>\n",
       "      <td>1</td>\n",
       "      <td>...</td>\n",
       "      <td>NaN</td>\n",
       "      <td>NaN</td>\n",
       "      <td>1</td>\n",
       "      <td>1</td>\n",
       "      <td>1</td>\n",
       "      <td>10</td>\n",
       "      <td>9191.061</td>\n",
       "      <td>6949.498</td>\n",
       "      <td>H058855</td>\n",
       "      <td>4.28</td>\n",
       "    </tr>\n",
       "    <tr>\n",
       "      <th>3</th>\n",
       "      <td>4</td>\n",
       "      <td>14</td>\n",
       "      <td>5</td>\n",
       "      <td>0</td>\n",
       "      <td>120000</td>\n",
       "      <td>0</td>\n",
       "      <td>2</td>\n",
       "      <td>122</td>\n",
       "      <td>1</td>\n",
       "      <td>8</td>\n",
       "      <td>...</td>\n",
       "      <td>NaN</td>\n",
       "      <td>NaN</td>\n",
       "      <td>1</td>\n",
       "      <td>1</td>\n",
       "      <td>1</td>\n",
       "      <td>10</td>\n",
       "      <td>7900.035</td>\n",
       "      <td>6446.327</td>\n",
       "      <td>H031993</td>\n",
       "      <td>7.13</td>\n",
       "    </tr>\n",
       "    <tr>\n",
       "      <th>4</th>\n",
       "      <td>1</td>\n",
       "      <td>4</td>\n",
       "      <td>1</td>\n",
       "      <td>0</td>\n",
       "      <td>30000</td>\n",
       "      <td>0</td>\n",
       "      <td>2</td>\n",
       "      <td>115</td>\n",
       "      <td>2</td>\n",
       "      <td>1</td>\n",
       "      <td>...</td>\n",
       "      <td>NaN</td>\n",
       "      <td>NaN</td>\n",
       "      <td>1</td>\n",
       "      <td>1</td>\n",
       "      <td>1</td>\n",
       "      <td>10</td>\n",
       "      <td>10875.772</td>\n",
       "      <td>8646.586</td>\n",
       "      <td>H007122</td>\n",
       "      <td>1.13</td>\n",
       "    </tr>\n",
       "  </tbody>\n",
       "</table>\n",
       "<p>5 rows × 534 columns</p>\n",
       "</div>"
      ],
      "text/plain": [
       "   URBRRL  RATCAT_A  INCGRP_A  INCTCFLG_A  FAMINCTC_A  IMPINCFLG_A  PPSU  \\\n",
       "0       4         9         3           0       60000            2     2   \n",
       "1       4         9         3           0       50000            0     2   \n",
       "2       4        12         3           0       65000            1     2   \n",
       "3       4        14         5           0      120000            0     2   \n",
       "4       1         4         1           0       30000            0     2   \n",
       "\n",
       "   PSTRAT  HISPALLP_A  RACEALLP_A  ...  PROXYREL_A  PROXY_A  AVAIL_A  \\\n",
       "0     122           3           2  ...         NaN      NaN        1   \n",
       "1     122           2           1  ...         NaN      NaN        1   \n",
       "2     122           2           1  ...         NaN      NaN        1   \n",
       "3     122           1           8  ...         NaN      NaN        1   \n",
       "4     115           2           1  ...         NaN      NaN        1   \n",
       "\n",
       "   HHSTAT_A  INTV_QRT  RECTYPE     WTFA_A    WTIA_A      HHX  POVRATTC_A  \n",
       "0         1         1       10  13177.008  7601.336  H048109        2.96  \n",
       "1         1         1       10   6140.552  3344.434  H027044        2.97  \n",
       "2         1         1       10   9191.061  6949.498  H058855        4.28  \n",
       "3         1         1       10   7900.035  6446.327  H031993        7.13  \n",
       "4         1         1       10  10875.772  8646.586  H007122        1.13  \n",
       "\n",
       "[5 rows x 534 columns]"
      ]
     },
     "execution_count": 9,
     "metadata": {},
     "output_type": "execute_result"
    }
   ],
   "source": [
    "# read the csv dataset from URL\n",
    "df = pd.read_csv('ftp://ftp.cdc.gov/pub/Health_Statistics/NCHS/Datasets/NHIS/2019/adult19csv.zip', engine ='python')\n",
    "df.head()"
   ]
  },
  {
   "cell_type": "code",
   "execution_count": 10,
   "metadata": {
    "id": "qxSjXcBBubCd"
   },
   "outputs": [],
   "source": [
    "# change columns names\n",
    "df_USA= df[['AGEP_A','SEX_A','HYPEV_A','HEIGHTTC_A','WEIGHTLBTC_A', 'SMKCIGST_A','BMICAT_A' ,'HISPALLP_A']].copy()\n",
    "df_USA.columns = ['Age_USA','Gender_USA','Hypertension_USA','Height_USA','Weight_USA','Smoke_USA','BMICAT_USA','Race_USA']"
   ]
  },
  {
   "cell_type": "markdown",
   "metadata": {},
   "source": [
    "<strong/><font size=3>Add another smoking satus column with values similar structure with the other dataset"
   ]
  },
  {
   "cell_type": "code",
   "execution_count": 11,
   "metadata": {
    "id": "SmYW9iVGubCd"
   },
   "outputs": [],
   "source": [
    "# change smoke status values from number to yes or no to have similar values with the other dataset\n",
    "df_USA['SmokeUSAyesNo']=df_USA['Smoke_USA']\n",
    "df_USA['SmokeUSAyesNo']\n",
    "df_USA.loc[(df_USA['Smoke_USA'] == 1) | (df_USA['Smoke_USA']== 2)|(df_USA['Smoke_USA']== 5), 'SmokeUSAyesNo'] = 'yes'\n",
    "df_USA.loc[(df_USA['Smoke_USA'] == 3) | (df_USA['Smoke_USA']==4), 'SmokeUSAyesNo'] = 'no'"
   ]
  },
  {
   "cell_type": "code",
   "execution_count": 12,
   "metadata": {
    "colab": {
     "base_uri": "https://localhost:8080/",
     "height": 202
    },
    "id": "6bQX4DkBzDKv",
    "outputId": "039d0a01-c858-4964-aaa9-a3a8aebdc5a6"
   },
   "outputs": [
    {
     "data": {
      "text/html": [
       "<div>\n",
       "<style scoped>\n",
       "    .dataframe tbody tr th:only-of-type {\n",
       "        vertical-align: middle;\n",
       "    }\n",
       "\n",
       "    .dataframe tbody tr th {\n",
       "        vertical-align: top;\n",
       "    }\n",
       "\n",
       "    .dataframe thead th {\n",
       "        text-align: right;\n",
       "    }\n",
       "</style>\n",
       "<table border=\"1\" class=\"dataframe\">\n",
       "  <thead>\n",
       "    <tr style=\"text-align: right;\">\n",
       "      <th></th>\n",
       "      <th>Age_USA</th>\n",
       "      <th>Gender_USA</th>\n",
       "      <th>Hypertension_USA</th>\n",
       "      <th>Height_USA</th>\n",
       "      <th>Weight_USA</th>\n",
       "      <th>Smoke_USA</th>\n",
       "      <th>BMICAT_USA</th>\n",
       "      <th>Race_USA</th>\n",
       "      <th>SmokeUSAyesNo</th>\n",
       "    </tr>\n",
       "  </thead>\n",
       "  <tbody>\n",
       "    <tr>\n",
       "      <th>0</th>\n",
       "      <td>97</td>\n",
       "      <td>1</td>\n",
       "      <td>2</td>\n",
       "      <td>71</td>\n",
       "      <td>201</td>\n",
       "      <td>4</td>\n",
       "      <td>3</td>\n",
       "      <td>3</td>\n",
       "      <td>no</td>\n",
       "    </tr>\n",
       "    <tr>\n",
       "      <th>1</th>\n",
       "      <td>28</td>\n",
       "      <td>2</td>\n",
       "      <td>2</td>\n",
       "      <td>62</td>\n",
       "      <td>130</td>\n",
       "      <td>2</td>\n",
       "      <td>2</td>\n",
       "      <td>2</td>\n",
       "      <td>yes</td>\n",
       "    </tr>\n",
       "    <tr>\n",
       "      <th>2</th>\n",
       "      <td>72</td>\n",
       "      <td>1</td>\n",
       "      <td>1</td>\n",
       "      <td>74</td>\n",
       "      <td>215</td>\n",
       "      <td>4</td>\n",
       "      <td>3</td>\n",
       "      <td>2</td>\n",
       "      <td>no</td>\n",
       "    </tr>\n",
       "    <tr>\n",
       "      <th>3</th>\n",
       "      <td>60</td>\n",
       "      <td>1</td>\n",
       "      <td>1</td>\n",
       "      <td>72</td>\n",
       "      <td>290</td>\n",
       "      <td>4</td>\n",
       "      <td>4</td>\n",
       "      <td>1</td>\n",
       "      <td>no</td>\n",
       "    </tr>\n",
       "    <tr>\n",
       "      <th>4</th>\n",
       "      <td>60</td>\n",
       "      <td>1</td>\n",
       "      <td>1</td>\n",
       "      <td>72</td>\n",
       "      <td>290</td>\n",
       "      <td>1</td>\n",
       "      <td>4</td>\n",
       "      <td>2</td>\n",
       "      <td>yes</td>\n",
       "    </tr>\n",
       "  </tbody>\n",
       "</table>\n",
       "</div>"
      ],
      "text/plain": [
       "   Age_USA  Gender_USA  Hypertension_USA  Height_USA  Weight_USA  Smoke_USA  \\\n",
       "0       97           1                 2          71         201          4   \n",
       "1       28           2                 2          62         130          2   \n",
       "2       72           1                 1          74         215          4   \n",
       "3       60           1                 1          72         290          4   \n",
       "4       60           1                 1          72         290          1   \n",
       "\n",
       "   BMICAT_USA  Race_USA SmokeUSAyesNo  \n",
       "0           3         3            no  \n",
       "1           2         2           yes  \n",
       "2           3         2            no  \n",
       "3           4         1            no  \n",
       "4           4         2           yes  "
      ]
     },
     "execution_count": 12,
     "metadata": {},
     "output_type": "execute_result"
    }
   ],
   "source": [
    "# display the top five rows of the dataset\n",
    "df_USA.head()"
   ]
  },
  {
   "cell_type": "code",
   "execution_count": 13,
   "metadata": {
    "colab": {
     "base_uri": "https://localhost:8080/"
    },
    "id": "hLTXy1s2ubCd",
    "outputId": "1c96b8f5-acaa-43f8-d382-432d3a0652cb"
   },
   "outputs": [
    {
     "data": {
      "text/plain": [
       "(31997, 9)"
      ]
     },
     "execution_count": 13,
     "metadata": {},
     "output_type": "execute_result"
    }
   ],
   "source": [
    "# dataframe size\n",
    "df_USA.shape"
   ]
  },
  {
   "cell_type": "code",
   "execution_count": 14,
   "metadata": {
    "colab": {
     "base_uri": "https://localhost:8080/"
    },
    "id": "QhC9VDVDubCe",
    "outputId": "d84a6c6a-74cc-4362-9091-a72feacf5f53"
   },
   "outputs": [
    {
     "name": "stdout",
     "output_type": "stream",
     "text": [
      "<class 'pandas.core.frame.DataFrame'>\n",
      "RangeIndex: 31997 entries, 0 to 31996\n",
      "Data columns (total 9 columns):\n",
      " #   Column            Non-Null Count  Dtype \n",
      "---  ------            --------------  ----- \n",
      " 0   Age_USA           31997 non-null  int64 \n",
      " 1   Gender_USA        31997 non-null  int64 \n",
      " 2   Hypertension_USA  31997 non-null  int64 \n",
      " 3   Height_USA        31997 non-null  int64 \n",
      " 4   Weight_USA        31997 non-null  int64 \n",
      " 5   Smoke_USA         31997 non-null  int64 \n",
      " 6   BMICAT_USA        31997 non-null  int64 \n",
      " 7   Race_USA          31997 non-null  int64 \n",
      " 8   SmokeUSAyesNo     31997 non-null  object\n",
      "dtypes: int64(8), object(1)\n",
      "memory usage: 2.2+ MB\n"
     ]
    }
   ],
   "source": [
    "df_USA.info()"
   ]
  },
  {
   "cell_type": "code",
   "execution_count": 15,
   "metadata": {
    "colab": {
     "base_uri": "https://localhost:8080/",
     "height": 294
    },
    "id": "KJVx3xxyubCe",
    "outputId": "bd1be67d-93b4-4a42-c22b-454ce32239a0"
   },
   "outputs": [
    {
     "data": {
      "text/html": [
       "<div>\n",
       "<style scoped>\n",
       "    .dataframe tbody tr th:only-of-type {\n",
       "        vertical-align: middle;\n",
       "    }\n",
       "\n",
       "    .dataframe tbody tr th {\n",
       "        vertical-align: top;\n",
       "    }\n",
       "\n",
       "    .dataframe thead th {\n",
       "        text-align: right;\n",
       "    }\n",
       "</style>\n",
       "<table border=\"1\" class=\"dataframe\">\n",
       "  <thead>\n",
       "    <tr style=\"text-align: right;\">\n",
       "      <th></th>\n",
       "      <th>Age_USA</th>\n",
       "      <th>Gender_USA</th>\n",
       "      <th>Hypertension_USA</th>\n",
       "      <th>Height_USA</th>\n",
       "      <th>Weight_USA</th>\n",
       "      <th>Smoke_USA</th>\n",
       "      <th>BMICAT_USA</th>\n",
       "      <th>Race_USA</th>\n",
       "    </tr>\n",
       "  </thead>\n",
       "  <tbody>\n",
       "    <tr>\n",
       "      <th>count</th>\n",
       "      <td>31997.000000</td>\n",
       "      <td>31997.000000</td>\n",
       "      <td>31997.000000</td>\n",
       "      <td>31997.000000</td>\n",
       "      <td>31997.000000</td>\n",
       "      <td>31997.000000</td>\n",
       "      <td>31997.000000</td>\n",
       "      <td>31997.000000</td>\n",
       "    </tr>\n",
       "    <tr>\n",
       "      <th>mean</th>\n",
       "      <td>52.120136</td>\n",
       "      <td>1.540019</td>\n",
       "      <td>1.651874</td>\n",
       "      <td>68.717223</td>\n",
       "      <td>247.636622</td>\n",
       "      <td>3.500703</td>\n",
       "      <td>3.131231</td>\n",
       "      <td>2.185955</td>\n",
       "    </tr>\n",
       "    <tr>\n",
       "      <th>std</th>\n",
       "      <td>18.465314</td>\n",
       "      <td>0.501218</td>\n",
       "      <td>0.548590</td>\n",
       "      <td>8.276404</td>\n",
       "      <td>233.137001</td>\n",
       "      <td>1.296437</td>\n",
       "      <td>1.283264</td>\n",
       "      <td>0.926603</td>\n",
       "    </tr>\n",
       "    <tr>\n",
       "      <th>min</th>\n",
       "      <td>18.000000</td>\n",
       "      <td>1.000000</td>\n",
       "      <td>1.000000</td>\n",
       "      <td>59.000000</td>\n",
       "      <td>100.000000</td>\n",
       "      <td>1.000000</td>\n",
       "      <td>1.000000</td>\n",
       "      <td>1.000000</td>\n",
       "    </tr>\n",
       "    <tr>\n",
       "      <th>25%</th>\n",
       "      <td>36.000000</td>\n",
       "      <td>1.000000</td>\n",
       "      <td>1.000000</td>\n",
       "      <td>64.000000</td>\n",
       "      <td>150.000000</td>\n",
       "      <td>3.000000</td>\n",
       "      <td>2.000000</td>\n",
       "      <td>2.000000</td>\n",
       "    </tr>\n",
       "    <tr>\n",
       "      <th>50%</th>\n",
       "      <td>53.000000</td>\n",
       "      <td>2.000000</td>\n",
       "      <td>2.000000</td>\n",
       "      <td>67.000000</td>\n",
       "      <td>179.000000</td>\n",
       "      <td>4.000000</td>\n",
       "      <td>3.000000</td>\n",
       "      <td>2.000000</td>\n",
       "    </tr>\n",
       "    <tr>\n",
       "      <th>75%</th>\n",
       "      <td>67.000000</td>\n",
       "      <td>2.000000</td>\n",
       "      <td>2.000000</td>\n",
       "      <td>70.000000</td>\n",
       "      <td>215.000000</td>\n",
       "      <td>4.000000</td>\n",
       "      <td>4.000000</td>\n",
       "      <td>2.000000</td>\n",
       "    </tr>\n",
       "    <tr>\n",
       "      <th>max</th>\n",
       "      <td>99.000000</td>\n",
       "      <td>7.000000</td>\n",
       "      <td>9.000000</td>\n",
       "      <td>99.000000</td>\n",
       "      <td>999.000000</td>\n",
       "      <td>9.000000</td>\n",
       "      <td>9.000000</td>\n",
       "      <td>7.000000</td>\n",
       "    </tr>\n",
       "  </tbody>\n",
       "</table>\n",
       "</div>"
      ],
      "text/plain": [
       "            Age_USA    Gender_USA  Hypertension_USA    Height_USA  \\\n",
       "count  31997.000000  31997.000000      31997.000000  31997.000000   \n",
       "mean      52.120136      1.540019          1.651874     68.717223   \n",
       "std       18.465314      0.501218          0.548590      8.276404   \n",
       "min       18.000000      1.000000          1.000000     59.000000   \n",
       "25%       36.000000      1.000000          1.000000     64.000000   \n",
       "50%       53.000000      2.000000          2.000000     67.000000   \n",
       "75%       67.000000      2.000000          2.000000     70.000000   \n",
       "max       99.000000      7.000000          9.000000     99.000000   \n",
       "\n",
       "         Weight_USA     Smoke_USA    BMICAT_USA      Race_USA  \n",
       "count  31997.000000  31997.000000  31997.000000  31997.000000  \n",
       "mean     247.636622      3.500703      3.131231      2.185955  \n",
       "std      233.137001      1.296437      1.283264      0.926603  \n",
       "min      100.000000      1.000000      1.000000      1.000000  \n",
       "25%      150.000000      3.000000      2.000000      2.000000  \n",
       "50%      179.000000      4.000000      3.000000      2.000000  \n",
       "75%      215.000000      4.000000      4.000000      2.000000  \n",
       "max      999.000000      9.000000      9.000000      7.000000  "
      ]
     },
     "execution_count": 15,
     "metadata": {},
     "output_type": "execute_result"
    }
   ],
   "source": [
    "df_USA.describe()"
   ]
  },
  {
   "cell_type": "markdown",
   "metadata": {},
   "source": [
    "<strong/><font size=3>Data Cleaning and Adding BMI continuous data column to the second dataset"
   ]
  },
  {
   "cell_type": "code",
   "execution_count": 16,
   "metadata": {
    "id": "v52YDF-zubCe"
   },
   "outputs": [],
   "source": [
    "#Data cleaning based on the above describe() table; max() values: there are some unprovided values for Height and weight columns\n",
    "df_USA = df_USA[df_USA.Height_USA<96]\n",
    "df_USA = df_USA[df_USA.Weight_USA <996]\n",
    "df_USA['BMIcont_USA'] =(df_USA['Weight_USA']/(df_USA['Height_USA'])**2)*703  # get the BMI continous values for USA dataframe"
   ]
  },
  {
   "cell_type": "code",
   "execution_count": 17,
   "metadata": {
    "colab": {
     "base_uri": "https://localhost:8080/",
     "height": 294
    },
    "id": "KWvvSGFJubCe",
    "outputId": "2951a83e-3977-42f4-97ef-e8887c82ca9f"
   },
   "outputs": [
    {
     "data": {
      "text/html": [
       "<div>\n",
       "<style scoped>\n",
       "    .dataframe tbody tr th:only-of-type {\n",
       "        vertical-align: middle;\n",
       "    }\n",
       "\n",
       "    .dataframe tbody tr th {\n",
       "        vertical-align: top;\n",
       "    }\n",
       "\n",
       "    .dataframe thead th {\n",
       "        text-align: right;\n",
       "    }\n",
       "</style>\n",
       "<table border=\"1\" class=\"dataframe\">\n",
       "  <thead>\n",
       "    <tr style=\"text-align: right;\">\n",
       "      <th></th>\n",
       "      <th>Age_USA</th>\n",
       "      <th>Gender_USA</th>\n",
       "      <th>Hypertension_USA</th>\n",
       "      <th>Height_USA</th>\n",
       "      <th>Weight_USA</th>\n",
       "      <th>Smoke_USA</th>\n",
       "      <th>BMICAT_USA</th>\n",
       "      <th>Race_USA</th>\n",
       "      <th>BMIcont_USA</th>\n",
       "    </tr>\n",
       "  </thead>\n",
       "  <tbody>\n",
       "    <tr>\n",
       "      <th>count</th>\n",
       "      <td>29170.000000</td>\n",
       "      <td>29170.000000</td>\n",
       "      <td>29170.000000</td>\n",
       "      <td>29170.000000</td>\n",
       "      <td>29170.000000</td>\n",
       "      <td>29170.00000</td>\n",
       "      <td>29170.000000</td>\n",
       "      <td>29170.000000</td>\n",
       "      <td>29170.000000</td>\n",
       "    </tr>\n",
       "    <tr>\n",
       "      <th>mean</th>\n",
       "      <td>52.168769</td>\n",
       "      <td>1.532259</td>\n",
       "      <td>1.651834</td>\n",
       "      <td>66.774597</td>\n",
       "      <td>176.980836</td>\n",
       "      <td>3.48687</td>\n",
       "      <td>2.958862</td>\n",
       "      <td>2.185327</td>\n",
       "      <td>27.831583</td>\n",
       "    </tr>\n",
       "    <tr>\n",
       "      <th>std</th>\n",
       "      <td>18.373146</td>\n",
       "      <td>0.498967</td>\n",
       "      <td>0.522326</td>\n",
       "      <td>3.887764</td>\n",
       "      <td>39.322329</td>\n",
       "      <td>1.27082</td>\n",
       "      <td>0.819276</td>\n",
       "      <td>0.923264</td>\n",
       "      <td>5.466311</td>\n",
       "    </tr>\n",
       "    <tr>\n",
       "      <th>min</th>\n",
       "      <td>18.000000</td>\n",
       "      <td>1.000000</td>\n",
       "      <td>1.000000</td>\n",
       "      <td>59.000000</td>\n",
       "      <td>100.000000</td>\n",
       "      <td>1.00000</td>\n",
       "      <td>1.000000</td>\n",
       "      <td>1.000000</td>\n",
       "      <td>14.765806</td>\n",
       "    </tr>\n",
       "    <tr>\n",
       "      <th>25%</th>\n",
       "      <td>36.000000</td>\n",
       "      <td>1.000000</td>\n",
       "      <td>1.000000</td>\n",
       "      <td>64.000000</td>\n",
       "      <td>148.000000</td>\n",
       "      <td>3.00000</td>\n",
       "      <td>2.000000</td>\n",
       "      <td>2.000000</td>\n",
       "      <td>23.774714</td>\n",
       "    </tr>\n",
       "    <tr>\n",
       "      <th>50%</th>\n",
       "      <td>53.000000</td>\n",
       "      <td>2.000000</td>\n",
       "      <td>2.000000</td>\n",
       "      <td>67.000000</td>\n",
       "      <td>174.000000</td>\n",
       "      <td>4.00000</td>\n",
       "      <td>3.000000</td>\n",
       "      <td>2.000000</td>\n",
       "      <td>27.112948</td>\n",
       "    </tr>\n",
       "    <tr>\n",
       "      <th>75%</th>\n",
       "      <td>67.000000</td>\n",
       "      <td>2.000000</td>\n",
       "      <td>2.000000</td>\n",
       "      <td>70.000000</td>\n",
       "      <td>200.000000</td>\n",
       "      <td>4.00000</td>\n",
       "      <td>4.000000</td>\n",
       "      <td>2.000000</td>\n",
       "      <td>31.090010</td>\n",
       "    </tr>\n",
       "    <tr>\n",
       "      <th>max</th>\n",
       "      <td>99.000000</td>\n",
       "      <td>2.000000</td>\n",
       "      <td>9.000000</td>\n",
       "      <td>76.000000</td>\n",
       "      <td>299.000000</td>\n",
       "      <td>9.00000</td>\n",
       "      <td>4.000000</td>\n",
       "      <td>7.000000</td>\n",
       "      <td>52.725000</td>\n",
       "    </tr>\n",
       "  </tbody>\n",
       "</table>\n",
       "</div>"
      ],
      "text/plain": [
       "            Age_USA    Gender_USA  Hypertension_USA    Height_USA  \\\n",
       "count  29170.000000  29170.000000      29170.000000  29170.000000   \n",
       "mean      52.168769      1.532259          1.651834     66.774597   \n",
       "std       18.373146      0.498967          0.522326      3.887764   \n",
       "min       18.000000      1.000000          1.000000     59.000000   \n",
       "25%       36.000000      1.000000          1.000000     64.000000   \n",
       "50%       53.000000      2.000000          2.000000     67.000000   \n",
       "75%       67.000000      2.000000          2.000000     70.000000   \n",
       "max       99.000000      2.000000          9.000000     76.000000   \n",
       "\n",
       "         Weight_USA    Smoke_USA    BMICAT_USA      Race_USA   BMIcont_USA  \n",
       "count  29170.000000  29170.00000  29170.000000  29170.000000  29170.000000  \n",
       "mean     176.980836      3.48687      2.958862      2.185327     27.831583  \n",
       "std       39.322329      1.27082      0.819276      0.923264      5.466311  \n",
       "min      100.000000      1.00000      1.000000      1.000000     14.765806  \n",
       "25%      148.000000      3.00000      2.000000      2.000000     23.774714  \n",
       "50%      174.000000      4.00000      3.000000      2.000000     27.112948  \n",
       "75%      200.000000      4.00000      4.000000      2.000000     31.090010  \n",
       "max      299.000000      9.00000      4.000000      7.000000     52.725000  "
      ]
     },
     "execution_count": 17,
     "metadata": {},
     "output_type": "execute_result"
    }
   ],
   "source": [
    "df_USA.describe()"
   ]
  },
  {
   "cell_type": "code",
   "execution_count": 18,
   "metadata": {
    "colab": {
     "base_uri": "https://localhost:8080/",
     "height": 202
    },
    "id": "EDj8nhpyubCe",
    "outputId": "41a52ada-fd99-4411-8d9c-0f59e15be1aa",
    "scrolled": true
   },
   "outputs": [
    {
     "data": {
      "text/html": [
       "<div>\n",
       "<style scoped>\n",
       "    .dataframe tbody tr th:only-of-type {\n",
       "        vertical-align: middle;\n",
       "    }\n",
       "\n",
       "    .dataframe tbody tr th {\n",
       "        vertical-align: top;\n",
       "    }\n",
       "\n",
       "    .dataframe thead th {\n",
       "        text-align: right;\n",
       "    }\n",
       "</style>\n",
       "<table border=\"1\" class=\"dataframe\">\n",
       "  <thead>\n",
       "    <tr style=\"text-align: right;\">\n",
       "      <th></th>\n",
       "      <th>Age_USA</th>\n",
       "      <th>Gender_USA</th>\n",
       "      <th>Hypertension_USA</th>\n",
       "      <th>Height_USA</th>\n",
       "      <th>Weight_USA</th>\n",
       "      <th>Smoke_USA</th>\n",
       "      <th>BMICAT_USA</th>\n",
       "      <th>Race_USA</th>\n",
       "      <th>SmokeUSAyesNo</th>\n",
       "      <th>BMIcont_USA</th>\n",
       "    </tr>\n",
       "  </thead>\n",
       "  <tbody>\n",
       "    <tr>\n",
       "      <th>0</th>\n",
       "      <td>97</td>\n",
       "      <td>1</td>\n",
       "      <td>2</td>\n",
       "      <td>71</td>\n",
       "      <td>201</td>\n",
       "      <td>4</td>\n",
       "      <td>3</td>\n",
       "      <td>3</td>\n",
       "      <td>no</td>\n",
       "      <td>28.030748</td>\n",
       "    </tr>\n",
       "    <tr>\n",
       "      <th>1</th>\n",
       "      <td>28</td>\n",
       "      <td>2</td>\n",
       "      <td>2</td>\n",
       "      <td>62</td>\n",
       "      <td>130</td>\n",
       "      <td>2</td>\n",
       "      <td>2</td>\n",
       "      <td>2</td>\n",
       "      <td>yes</td>\n",
       "      <td>23.774714</td>\n",
       "    </tr>\n",
       "    <tr>\n",
       "      <th>2</th>\n",
       "      <td>72</td>\n",
       "      <td>1</td>\n",
       "      <td>1</td>\n",
       "      <td>74</td>\n",
       "      <td>215</td>\n",
       "      <td>4</td>\n",
       "      <td>3</td>\n",
       "      <td>2</td>\n",
       "      <td>no</td>\n",
       "      <td>27.601351</td>\n",
       "    </tr>\n",
       "    <tr>\n",
       "      <th>3</th>\n",
       "      <td>60</td>\n",
       "      <td>1</td>\n",
       "      <td>1</td>\n",
       "      <td>72</td>\n",
       "      <td>290</td>\n",
       "      <td>4</td>\n",
       "      <td>4</td>\n",
       "      <td>1</td>\n",
       "      <td>no</td>\n",
       "      <td>39.326775</td>\n",
       "    </tr>\n",
       "    <tr>\n",
       "      <th>4</th>\n",
       "      <td>60</td>\n",
       "      <td>1</td>\n",
       "      <td>1</td>\n",
       "      <td>72</td>\n",
       "      <td>290</td>\n",
       "      <td>1</td>\n",
       "      <td>4</td>\n",
       "      <td>2</td>\n",
       "      <td>yes</td>\n",
       "      <td>39.326775</td>\n",
       "    </tr>\n",
       "  </tbody>\n",
       "</table>\n",
       "</div>"
      ],
      "text/plain": [
       "   Age_USA  Gender_USA  Hypertension_USA  Height_USA  Weight_USA  Smoke_USA  \\\n",
       "0       97           1                 2          71         201          4   \n",
       "1       28           2                 2          62         130          2   \n",
       "2       72           1                 1          74         215          4   \n",
       "3       60           1                 1          72         290          4   \n",
       "4       60           1                 1          72         290          1   \n",
       "\n",
       "   BMICAT_USA  Race_USA SmokeUSAyesNo  BMIcont_USA  \n",
       "0           3         3            no    28.030748  \n",
       "1           2         2           yes    23.774714  \n",
       "2           3         2            no    27.601351  \n",
       "3           4         1            no    39.326775  \n",
       "4           4         2           yes    39.326775  "
      ]
     },
     "execution_count": 18,
     "metadata": {},
     "output_type": "execute_result"
    }
   ],
   "source": [
    "# display the top five rows after cleaning data\n",
    "df_USA.head()"
   ]
  },
  {
   "cell_type": "markdown",
   "metadata": {},
   "source": [
    "\n",
    "<strong/><font size=5> Part I: Exploratory Data Analysis (EDA)"
   ]
  },
  {
   "cell_type": "markdown",
   "metadata": {
    "id": "h0A-OYoG1CMV"
   },
   "source": [
    "\n",
    "\n",
    "\n",
    "<strong/><font size=3>EDA - Smoking behavior by country"
   ]
  },
  {
   "cell_type": "code",
   "execution_count": 19,
   "metadata": {
    "id": "Y_wLmrRwubCf"
   },
   "outputs": [],
   "source": [
    "# extract the smoking behavior from Latin contries dataset\n",
    "df_Latin_smoke= df_Latin['Smoke_Latin']"
   ]
  },
  {
   "cell_type": "code",
   "execution_count": 20,
   "metadata": {
    "colab": {
     "base_uri": "https://localhost:8080/"
    },
    "id": "MflSs8AqubCf",
    "outputId": "9db83690-76fe-4aac-a55a-8ae4af63f34c"
   },
   "outputs": [
    {
     "data": {
      "text/plain": [
       "0     no\n",
       "1    yes\n",
       "2     no\n",
       "3     no\n",
       "4     no\n",
       "Name: Smoke_Latin, dtype: object"
      ]
     },
     "execution_count": 20,
     "metadata": {},
     "output_type": "execute_result"
    }
   ],
   "source": [
    "df_Latin_smoke.head()"
   ]
  },
  {
   "cell_type": "code",
   "execution_count": 21,
   "metadata": {
    "id": "nHYts4q2ubCf"
   },
   "outputs": [],
   "source": [
    "# get the percentage of smoking behavior\n",
    "df_Latin_smokePercent=df_Latin_smoke.value_counts(normalize=True, sort=True).mul(100).round(1)"
   ]
  },
  {
   "cell_type": "code",
   "execution_count": 22,
   "metadata": {
    "colab": {
     "base_uri": "https://localhost:8080/"
    },
    "id": "l3kVNvfmubCf",
    "outputId": "1462d678-bd9d-44dd-d125-48289f7dc90b"
   },
   "outputs": [
    {
     "data": {
      "text/plain": [
       "array([97.8,  2.2])"
      ]
     },
     "execution_count": 22,
     "metadata": {},
     "output_type": "execute_result"
    }
   ],
   "source": [
    "# percentage of smoke consumption for adluts in Latin counties\n",
    "y_Latin=df_Latin_smokePercent.values[0:]\n",
    "y_Latin"
   ]
  },
  {
   "cell_type": "markdown",
   "metadata": {
    "id": "rhe29bhvyyS1"
   },
   "source": [
    "Note: In Latin countries, 97.8% adults do not consume cigarettes, 2.2% of them do consume cigarettes."
   ]
  },
  {
   "cell_type": "code",
   "execution_count": 23,
   "metadata": {
    "colab": {
     "base_uri": "https://localhost:8080/"
    },
    "id": "qWPi7Y6kubCf",
    "outputId": "563e743e-4e3d-4fbc-f0b6-79b421184cb2",
    "scrolled": true
   },
   "outputs": [
    {
     "data": {
      "text/plain": [
       "array([98.5,  1.5])"
      ]
     },
     "execution_count": 23,
     "metadata": {},
     "output_type": "execute_result"
    }
   ],
   "source": [
    "LatinMale_group=  df_Latin['Smoke_Latin'][df_Latin['Gender_Latin'] == 'Male']\n",
    "LatinFemale_group=  df_Latin['Smoke_Latin'][df_Latin['Gender_Latin'] == 'Female']\n",
    "\n",
    "LatinMale_groupPercnt=LatinMale_group.value_counts(normalize=True, sort=True).mul(100).round(1)\n",
    "LatinFemale_groupPercnt=LatinFemale_group.value_counts(normalize=True, sort=True).mul(100).round(1)\n",
    "\n",
    "y_LatinMale=LatinMale_groupPercnt.values[0:]\n",
    "y_LatinFemale=LatinFemale_groupPercnt.values[0:]\n",
    "# Female percentage of smoking behavior in Latin countries\n",
    "y_LatinFemale"
   ]
  },
  {
   "cell_type": "markdown",
   "metadata": {
    "id": "MjwVxIkezDc2"
   },
   "source": [
    "Note: For Latin females, 98.5% of them do not consume cigarettes, 1.5% of them do consume cigarettes."
   ]
  },
  {
   "cell_type": "code",
   "execution_count": 24,
   "metadata": {
    "colab": {
     "base_uri": "https://localhost:8080/"
    },
    "id": "MkDWZfxVnWF8",
    "outputId": "2a952742-3e78-4234-d444-50329df8063a"
   },
   "outputs": [
    {
     "data": {
      "text/plain": [
       "array([97.1,  2.9])"
      ]
     },
     "execution_count": 24,
     "metadata": {},
     "output_type": "execute_result"
    }
   ],
   "source": [
    "# male percentage of smoking behavior in Latin coyntries\n",
    "y_LatinMale"
   ]
  },
  {
   "cell_type": "markdown",
   "metadata": {
    "id": "Vbz217APzP1U"
   },
   "source": [
    "Note: For Latin males, 97.1% of them do not consume cigarettes, 2.9% of them consume cigarettes."
   ]
  },
  {
   "cell_type": "code",
   "execution_count": 25,
   "metadata": {
    "colab": {
     "base_uri": "https://localhost:8080/",
     "height": 202
    },
    "id": "_-mTC2TJubCf",
    "outputId": "fb999799-f9ad-4b53-9cde-87cd020d8520"
   },
   "outputs": [
    {
     "data": {
      "text/html": [
       "<div>\n",
       "<style scoped>\n",
       "    .dataframe tbody tr th:only-of-type {\n",
       "        vertical-align: middle;\n",
       "    }\n",
       "\n",
       "    .dataframe tbody tr th {\n",
       "        vertical-align: top;\n",
       "    }\n",
       "\n",
       "    .dataframe thead th {\n",
       "        text-align: right;\n",
       "    }\n",
       "</style>\n",
       "<table border=\"1\" class=\"dataframe\">\n",
       "  <thead>\n",
       "    <tr style=\"text-align: right;\">\n",
       "      <th></th>\n",
       "      <th>Age_USA</th>\n",
       "      <th>Gender_USA</th>\n",
       "      <th>Hypertension_USA</th>\n",
       "      <th>Height_USA</th>\n",
       "      <th>Weight_USA</th>\n",
       "      <th>Smoke_USA</th>\n",
       "      <th>BMICAT_USA</th>\n",
       "      <th>Race_USA</th>\n",
       "      <th>SmokeUSAyesNo</th>\n",
       "      <th>BMIcont_USA</th>\n",
       "    </tr>\n",
       "  </thead>\n",
       "  <tbody>\n",
       "    <tr>\n",
       "      <th>0</th>\n",
       "      <td>97</td>\n",
       "      <td>1</td>\n",
       "      <td>2</td>\n",
       "      <td>71</td>\n",
       "      <td>201</td>\n",
       "      <td>4</td>\n",
       "      <td>3</td>\n",
       "      <td>3</td>\n",
       "      <td>no</td>\n",
       "      <td>28.030748</td>\n",
       "    </tr>\n",
       "    <tr>\n",
       "      <th>1</th>\n",
       "      <td>28</td>\n",
       "      <td>2</td>\n",
       "      <td>2</td>\n",
       "      <td>62</td>\n",
       "      <td>130</td>\n",
       "      <td>2</td>\n",
       "      <td>2</td>\n",
       "      <td>2</td>\n",
       "      <td>yes</td>\n",
       "      <td>23.774714</td>\n",
       "    </tr>\n",
       "    <tr>\n",
       "      <th>2</th>\n",
       "      <td>72</td>\n",
       "      <td>1</td>\n",
       "      <td>1</td>\n",
       "      <td>74</td>\n",
       "      <td>215</td>\n",
       "      <td>4</td>\n",
       "      <td>3</td>\n",
       "      <td>2</td>\n",
       "      <td>no</td>\n",
       "      <td>27.601351</td>\n",
       "    </tr>\n",
       "    <tr>\n",
       "      <th>3</th>\n",
       "      <td>60</td>\n",
       "      <td>1</td>\n",
       "      <td>1</td>\n",
       "      <td>72</td>\n",
       "      <td>290</td>\n",
       "      <td>4</td>\n",
       "      <td>4</td>\n",
       "      <td>1</td>\n",
       "      <td>no</td>\n",
       "      <td>39.326775</td>\n",
       "    </tr>\n",
       "    <tr>\n",
       "      <th>4</th>\n",
       "      <td>60</td>\n",
       "      <td>1</td>\n",
       "      <td>1</td>\n",
       "      <td>72</td>\n",
       "      <td>290</td>\n",
       "      <td>1</td>\n",
       "      <td>4</td>\n",
       "      <td>2</td>\n",
       "      <td>yes</td>\n",
       "      <td>39.326775</td>\n",
       "    </tr>\n",
       "  </tbody>\n",
       "</table>\n",
       "</div>"
      ],
      "text/plain": [
       "   Age_USA  Gender_USA  Hypertension_USA  Height_USA  Weight_USA  Smoke_USA  \\\n",
       "0       97           1                 2          71         201          4   \n",
       "1       28           2                 2          62         130          2   \n",
       "2       72           1                 1          74         215          4   \n",
       "3       60           1                 1          72         290          4   \n",
       "4       60           1                 1          72         290          1   \n",
       "\n",
       "   BMICAT_USA  Race_USA SmokeUSAyesNo  BMIcont_USA  \n",
       "0           3         3            no    28.030748  \n",
       "1           2         2           yes    23.774714  \n",
       "2           3         2            no    27.601351  \n",
       "3           4         1            no    39.326775  \n",
       "4           4         2           yes    39.326775  "
      ]
     },
     "execution_count": 25,
     "metadata": {},
     "output_type": "execute_result"
    }
   ],
   "source": [
    "# smoking status for the adults in the U.S.\n",
    "df_USA = df_USA[df_USA.SmokeUSAyesNo!=9]   # cleaing unavailable value\n",
    "df_USA_smoke= df_USA['SmokeUSAyesNo']\n",
    "df_USA.head()"
   ]
  },
  {
   "cell_type": "code",
   "execution_count": 26,
   "metadata": {
    "colab": {
     "base_uri": "https://localhost:8080/"
    },
    "id": "L7-wEbrZubCf",
    "outputId": "4df6bffa-0a90-4c21-f9a2-b2a0d70ed8a5"
   },
   "outputs": [
    {
     "data": {
      "text/plain": [
       "0     no\n",
       "1    yes\n",
       "2     no\n",
       "3     no\n",
       "4    yes\n",
       "Name: SmokeUSAyesNo, dtype: object"
      ]
     },
     "execution_count": 26,
     "metadata": {},
     "output_type": "execute_result"
    }
   ],
   "source": [
    "df_USA_smoke.head()"
   ]
  },
  {
   "cell_type": "code",
   "execution_count": 27,
   "metadata": {
    "id": "G-U3APKsubCf"
   },
   "outputs": [],
   "source": [
    "# calculate percentage\n",
    "df_USA_smokepercent=df_USA_smoke.value_counts(normalize=True, sort=True).mul(100).round(1)"
   ]
  },
  {
   "cell_type": "code",
   "execution_count": 28,
   "metadata": {
    "colab": {
     "base_uri": "https://localhost:8080/"
    },
    "id": "aSRdjxS8ubCf",
    "outputId": "45772a19-6855-4bd3-9087-450062f64bbf"
   },
   "outputs": [
    {
     "data": {
      "text/plain": [
       "array([86.2, 13.8])"
      ]
     },
     "execution_count": 28,
     "metadata": {},
     "output_type": "execute_result"
    }
   ],
   "source": [
    "y_USA=df_USA_smokepercent.values[0:]\n",
    "y_USA"
   ]
  },
  {
   "cell_type": "markdown",
   "metadata": {
    "id": "C4CBNFw6zXjZ"
   },
   "source": [
    "Note: For adults in the U.S., 86.2% of them do not consume cigarettes, 13.8% of them do consume cigarettes."
   ]
  },
  {
   "cell_type": "code",
   "execution_count": 29,
   "metadata": {
    "id": "BjUcIo_LubCf"
   },
   "outputs": [],
   "source": [
    "USAMale_group= df_USA['SmokeUSAyesNo'][df_USA['Gender_USA'] == 1]\n",
    "USAFemale_group= df_USA['SmokeUSAyesNo'][df_USA['Gender_USA'] == 2]\n",
    "\n",
    "USAMale_groupPercnt=USAMale_group.value_counts(normalize=True, sort=True).mul(100).round(1)\n",
    "USAFemale_groupPercnt=USAFemale_group.value_counts(normalize=True, sort=True).mul(100).round(1)\n",
    "\n",
    "y_USAMale=USAMale_groupPercnt.values[0:]\n",
    "y_USAFemale=USAFemale_groupPercnt.values[0:]"
   ]
  },
  {
   "cell_type": "code",
   "execution_count": 30,
   "metadata": {
    "colab": {
     "base_uri": "https://localhost:8080/"
    },
    "id": "WnoEztwsubCg",
    "outputId": "92881f1f-ff60-4442-bc7f-d64964bb2b9f"
   },
   "outputs": [
    {
     "data": {
      "text/plain": [
       "array([84.8, 15.2])"
      ]
     },
     "execution_count": 30,
     "metadata": {},
     "output_type": "execute_result"
    }
   ],
   "source": [
    "# percentage of U.S. male smoking consumption\n",
    "y_USAMale"
   ]
  },
  {
   "cell_type": "markdown",
   "metadata": {
    "id": "m3AV4uBMzfw8"
   },
   "source": [
    "Note: For USA males, 84.8% of them do not consume cigarettes, 15.2% of them do consume cigarettes."
   ]
  },
  {
   "cell_type": "code",
   "execution_count": 31,
   "metadata": {
    "colab": {
     "base_uri": "https://localhost:8080/"
    },
    "id": "ZpPhtCgwpria",
    "outputId": "f3cda36c-25af-46eb-9f59-96ea0ea182ee"
   },
   "outputs": [
    {
     "data": {
      "text/plain": [
       "array([87.5, 12.5])"
      ]
     },
     "execution_count": 31,
     "metadata": {},
     "output_type": "execute_result"
    }
   ],
   "source": [
    "# percentage of U.S. female smoking consumption\n",
    "y_USAFemale"
   ]
  },
  {
   "cell_type": "markdown",
   "metadata": {},
   "source": [
    "Note: For USA females, 87.5% of them do not consume cigarettes, 12.5% of them consume cigarettes."
   ]
  },
  {
   "cell_type": "markdown",
   "metadata": {},
   "source": [
    "<strong/><font size=3> Graphical Analysis"
   ]
  },
  {
   "cell_type": "code",
   "execution_count": 32,
   "metadata": {
    "colab": {
     "base_uri": "https://localhost:8080/",
     "height": 295
    },
    "id": "qcT0IU8vubCg",
    "outputId": "980580b0-e493-4919-bd1d-feed7976c91b",
    "scrolled": true
   },
   "outputs": [
    {
     "data": {
      "image/png": "[encoded data removed]",
      "text/plain": [
       "<Figure size 432x288 with 1 Axes>"
      ]
     },
     "metadata": {
      "needs_background": "light"
     },
     "output_type": "display_data"
    }
   ],
   "source": [
    "# plot of percentage of smoking behavior in both Latin counties and the U.S.\n",
    "X2= np.arange(2)\n",
    "x_ticks = ['No','Yes']\n",
    "#fig, ax = plt.subplots()\n",
    "bar_width = 0.4\n",
    "plt.bar(X2-1*bar_width,y_Latin,label='Latin',width = bar_width,color='lightblue')\n",
    "plt.bar(X2,y_USA,label='USA',width = bar_width,color='orange')\n",
    "plt.xlabel('Smoking status')\n",
    "plt.ylabel('Percent (%)')\n",
    "plt.title(' Percent distribution of Smoking by Country')\n",
    "plt.xticks(X2-bar_width/2,x_ticks)\n",
    "plt.legend()\n",
    "plt.show()"
   ]
  },
  {
   "cell_type": "code",
   "execution_count": 33,
   "metadata": {
    "colab": {
     "base_uri": "https://localhost:8080/",
     "height": 295
    },
    "id": "BEtfbLKbubCg",
    "outputId": "75797b34-d342-4391-b881-6732bcd7a662"
   },
   "outputs": [
    {
     "data": {
      "image/png": "[encoded data removed]",
      "text/plain": [
       "<Figure size 432x288 with 1 Axes>"
      ]
     },
     "metadata": {
      "needs_background": "light"
     },
     "output_type": "display_data"
    }
   ],
   "source": [
    "# Plot of smoking behavior comparison by gender (in Latin countries and in the U.S.)\n",
    "X= np.arange(2)\n",
    "x_ticks = ['No','Yes']\n",
    "\n",
    "bar_width = 0.2\n",
    "plt.bar(X-1*bar_width,y_LatinMale,label='Latin Male',width = bar_width,color='green')\n",
    "plt.bar(X+0.03*bar_width,y_LatinFemale,label='Latin Female',width = bar_width,color='lightgreen')\n",
    "plt.bar(X+1*bar_width,y_USAMale,label='USA Male',width = bar_width,color='deepskyblue')\n",
    "plt.bar(X+2.03*bar_width,y_USAFemale,label='USA Female',width = bar_width,color='lightblue')\n",
    "\n",
    "plt.xlabel('Smoking status')\n",
    "plt.ylabel('Percent (%)')\n",
    "plt.title(' Percent distribution of Smoking by Country and Gender')\n",
    "plt.xticks(X-bar_width/2,x_ticks)\n",
    "plt.legend()\n",
    "plt.show()\n",
    "\n"
   ]
  },
  {
   "cell_type": "code",
   "execution_count": null,
   "metadata": {},
   "outputs": [],
   "source": []
  },
  {
   "cell_type": "markdown",
   "metadata": {
    "id": "NFc5BMwX02TH"
   },
   "source": [
    "<strong/><font size=3>Smoking Age by Country"
   ]
  },
  {
   "cell_type": "code",
   "execution_count": 34,
   "metadata": {
    "colab": {
     "base_uri": "https://localhost:8080/"
    },
    "id": "RtDul7np04K0",
    "outputId": "df9304da-95dc-4f28-aacb-1758d3a89a8d"
   },
   "outputs": [
    {
     "data": {
      "text/plain": [
       "no     1954\n",
       "yes      44\n",
       "Name: Smoke_Latin, dtype: int64"
      ]
     },
     "execution_count": 34,
     "metadata": {},
     "output_type": "execute_result"
    }
   ],
   "source": [
    "# Count the number of smoking adults in Latin countires\n",
    "df_Latin['Smoke_Latin'].value_counts()"
   ]
  },
  {
   "cell_type": "code",
   "execution_count": 35,
   "metadata": {
    "colab": {
     "base_uri": "https://localhost:8080/"
    },
    "id": "hhVjSfDqNYyB",
    "outputId": "20df044d-a5b3-4b44-f937-bc9410d64712"
   },
   "outputs": [
    {
     "data": {
      "text/plain": [
       "no     24586\n",
       "yes     3928\n",
       "Name: SmokeUSAyesNo, dtype: int64"
      ]
     },
     "execution_count": 35,
     "metadata": {},
     "output_type": "execute_result"
    }
   ],
   "source": [
    "# Count the number of smoking adults in the U.S.\n",
    "# This dataset is relatively bigger than the Latin dataset\n",
    "df_USA['SmokeUSAyesNo'].value_counts()"
   ]
  },
  {
   "cell_type": "code",
   "execution_count": 36,
   "metadata": {
    "colab": {
     "base_uri": "https://localhost:8080/",
     "height": 406
    },
    "id": "etYfjOZNNbo1",
    "outputId": "6d6f99af-cf19-475e-bcb9-543342dde360"
   },
   "outputs": [
    {
     "data": {
      "image/png": "[encoded data removed]",
      "text/plain": [
       "<Figure size 1152x432 with 2 Axes>"
      ]
     },
     "metadata": {
      "needs_background": "light"
     },
     "output_type": "display_data"
    }
   ],
   "source": [
    "# Plotting scatter plots side by side to compare the distribution of smoking age in two datasets\n",
    "fig, (ax1,ax2) = plt.subplots(1,2, figsize=(16,6))\n",
    "\n",
    "ax1.set_title('Smoking Age in Latin Countries',fontsize=14)\n",
    "sns.scatterplot(x = df_Latin[\"Age_Latin\"], y=df_Latin[\"Smoke_Latin\"], ax=ax1)\n",
    "\n",
    "ax2.set_title('Smoking Age in USA',fontsize=14)\n",
    "sns.scatterplot(x = df_USA[\"Age_USA\"], y=df_USA[\"SmokeUSAyesNo\"], ax=ax2)\n",
    "\n",
    "plt.show()\n"
   ]
  },
  {
   "cell_type": "markdown",
   "metadata": {
    "id": "-j6Y8DEsNjhl"
   },
   "source": [
    "<strong/><font size=3>Explanation:</strong><br>\n",
    "From the scatter plots above, we can see that adults with smoking behavior are distributed around 20 and 30 years old in Latin countries. <br>Adults in the U.S. with smoking behavior looks like distributed evenly among each age group.\n",
    "Since the U.S. dataset is big, we might not give a conclusion from these plots. We could use hypothesis test to check if there is significant differences exists."
   ]
  },
  {
   "cell_type": "markdown",
   "metadata": {
    "id": "0zd6a6IWUF-u"
   },
   "source": [
    "<strong/><font size=3>Body mass index distribution by country"
   ]
  },
  {
   "cell_type": "code",
   "execution_count": 37,
   "metadata": {
    "id": "g9Gb_TefNbu6"
   },
   "outputs": [],
   "source": [
    "BMI_USA = df_USA['BMIcont_USA']\n",
    "BMI_Latin = df_Latin['BMIcont_Latin']"
   ]
  },
  {
   "cell_type": "markdown",
   "metadata": {
    "id": "oRoq6pZUUZBd"
   },
   "source": [
    "<strong/><font size=3>Plot histograms for both datasets, to check the distribution of BMI"
   ]
  },
  {
   "cell_type": "code",
   "execution_count": 38,
   "metadata": {
    "colab": {
     "base_uri": "https://localhost:8080/",
     "height": 405
    },
    "id": "X37b-D_wNbw7",
    "outputId": "55cb60a2-a252-41f7-b1b7-6c9cb14097a2"
   },
   "outputs": [
    {
     "data": {
      "image/png": "[encoded data removed]",
      "text/plain": [
       "<Figure size 1080x432 with 2 Axes>"
      ]
     },
     "metadata": {
      "needs_background": "light"
     },
     "output_type": "display_data"
    }
   ],
   "source": [
    "#Define axes and the figure. \n",
    "fig, axes = plt.subplots(nrows=1, ncols=2, figsize=(15, 6))\n",
    "\n",
    "#Plot the left subplot: first filter df by outcome == 0 and then plot\n",
    "BMI_Latin.hist(bins= 10,ax = axes[0])\n",
    "#Right hand plot. \n",
    "BMI_USA.hist(bins= 10,ax = axes[1])\n",
    "\n",
    "axes[0].set_title(\"BMI Distribution for Latin Countries\",fontsize=14)\n",
    "axes[1].set_title(\"BMI Distribution for the U.S.\",fontsize=14)\n",
    "axes[0].set_ylabel('Count of People')\n",
    "axes[1].set_ylabel('Count of People')\n",
    "axes[0].set_xlabel('BMI')\n",
    "axes[1].set_xlabel('BMI')\n",
    "\n",
    "plt.show()"
   ]
  },
  {
   "cell_type": "markdown",
   "metadata": {
    "id": "OQ43wB7MURaA"
   },
   "source": [
    "<strong/><font size=3>Explanation:</strong><br> From the histogram, we can see that in the Latin countries, the largest group is at 27-29 BMI .<br>\n",
    "For adults in the U.S., the dataset is relatively large, the plot shows a normal distribution curve, the largest group is around 22.5 to 26."
   ]
  },
  {
   "cell_type": "markdown",
   "metadata": {
    "id": "_eAxkdpsbu7B"
   },
   "source": [
    "<strong/><font size=3>BMI by Age in Different Countries"
   ]
  },
  {
   "cell_type": "code",
   "execution_count": 39,
   "metadata": {
    "colab": {
     "base_uri": "https://localhost:8080/",
     "height": 405
    },
    "id": "s-OrwmtnUTH0",
    "outputId": "5dae8574-70ac-404a-d9db-531eeec2c6e8"
   },
   "outputs": [
    {
     "data": {
      "image/png": "[encoded data removed]",
      "text/plain": [
       "<Figure size 864x432 with 2 Axes>"
      ]
     },
     "metadata": {
      "needs_background": "light"
     },
     "output_type": "display_data"
    }
   ],
   "source": [
    "# Plotting scatterplots to compare the distribution differences\n",
    "fig, axes = plt.subplots(nrows=1, ncols=2, figsize=(12,6))\n",
    "\n",
    "axes[0].scatter(x=df_Latin['Age_Latin'], y=df_Latin['BMIcont_Latin'])\n",
    "axes[1].scatter(x=df_USA['Age_USA'], y=df_USA['BMIcont_USA'])\n",
    "\n",
    "axes[0].set_title(\"BMI by Age in Latin Countries\",fontsize=14)\n",
    "axes[1].set_title(\"BMI by Age in the U.S.\",fontsize=14)\n",
    "axes[0].set_ylabel('BMI')\n",
    "axes[1].set_ylabel('BMI')\n",
    "axes[0].set_xlabel('Age')\n",
    "axes[1].set_xlabel('Age')\n",
    "\n",
    "plt.show()"
   ]
  },
  {
   "cell_type": "markdown",
   "metadata": {
    "id": "XfpfQ7Z_cLPd"
   },
   "source": [
    "<strong/><font size=3>Explanation: <br></strong>\n",
    "From the scatterplots above, we can see that for adults in Latin countries, BMI are roughly from 16 to 40.<br>\n",
    "In the U.S. the BMI are from 18 to 40. There are not that much of difference from the range of BMI.<br>\n",
    "But since the U.S. dataset is big, visulization might not able to show the distribution differences clearly.<br>\n",
    "Hence we will use hypothesis testing to do further research."
   ]
  },
  {
   "cell_type": "markdown",
   "metadata": {
    "id": "4Mw7Hm0tcnlW"
   },
   "source": [
    "\n",
    "\n",
    "<strong/><font size=5> Part II: Hypothesis Testing and Statistical Analysis \n",
    " \n",
    "<strong/><font size=3>We performed hypothesis testing  using different test statistics and statistical methods.\n",
    "\n"
   ]
  },
  {
   "cell_type": "markdown",
   "metadata": {
    "id": "CZx0ycnZc5_s"
   },
   "source": [
    "<strong/><font size=4>Hypothesis 1:</strong><br>\n",
    "\n",
    "**Objective:** Understanding the percentage of cigarette smokers differences in the U.S. and Latin America (Peru, Mexico, and Colombia).<br>\n",
    "**Question:** Does the percentage of cigarette smoking vary by country?<br>\n",
    "**Null Hypothesis (H0):** There is no difference between the percentage of adult smokers in different in the U.S. and Latin America (Peru, Mexico, and Colombia). <br>\n",
    "**Alternative Hypothesis (H.A.):** There is a significant difference between the percentage of adult smokers in those countries.\n"
   ]
  },
  {
   "cell_type": "markdown",
   "metadata": {
    "id": "ypY6WeMpPNBF"
   },
   "source": [
    "<strong/><font size=3>Method  for Hypothesis testing: Z Test<br></strong>\n",
    "The Z test can compare the percentage difference between two groups<br>\n",
    "Significance Level: choose Alpha = 0.05 (default)"
   ]
  },
  {
   "cell_type": "markdown",
   "metadata": {},
   "source": [
    "\n",
    "\n",
    "<strong/><font size=2>Data processing:<br></strong>\n",
    "Creating new data frame by combining required variables for this test from two datasets, reorganizing, managing, and assessing in preparation for the test statistics."
   ]
  },
  {
   "cell_type": "code",
   "execution_count": 40,
   "metadata": {
    "id": "qHVCV7GReTQk"
   },
   "outputs": [],
   "source": [
    "# change the smoker values to percentage\n",
    "df_USA_smokepercent=df_USA_smoke.value_counts(normalize=True, sort=True).mul(100).round(1)\n",
    "USASmokerPercnt=df_USA_smokepercent.values[0:]\n",
    "df_Latin_smokePercent=df_Latin_smoke.value_counts(normalize=True, sort=True).mul(100).round(1)\n",
    "LatinSmokerPercnt=df_Latin_smokePercent.values[0:]"
   ]
  },
  {
   "cell_type": "code",
   "execution_count": 41,
   "metadata": {
    "colab": {
     "base_uri": "https://localhost:8080/"
    },
    "id": "8D2p4RIGeHqG",
    "outputId": "9a945e79-3341-4b64-f0fc-9b79e9019e67"
   },
   "outputs": [
    {
     "data": {
      "text/plain": [
       "array([86.2, 13.8])"
      ]
     },
     "execution_count": 41,
     "metadata": {},
     "output_type": "execute_result"
    }
   ],
   "source": [
    "USASmokerPercnt"
   ]
  },
  {
   "cell_type": "code",
   "execution_count": 42,
   "metadata": {
    "colab": {
     "base_uri": "https://localhost:8080/"
    },
    "id": "Ixq_PgDSeHs2",
    "outputId": "d0e30e6a-bf4c-48c4-be4d-53d814cccd1f"
   },
   "outputs": [
    {
     "data": {
      "text/plain": [
       "array([97.8,  2.2])"
      ]
     },
     "execution_count": 42,
     "metadata": {},
     "output_type": "execute_result"
    }
   ],
   "source": [
    "LatinSmokerPercnt"
   ]
  },
  {
   "cell_type": "markdown",
   "metadata": {
    "id": "0Mf48mxPhK04"
   },
   "source": [
    "Note: From the sample,  percentage of USA smokers is 13.8% but percentage of Latin smokers is 2.2%. We will do Z-test to generalize the differnce of percentage of smokers beteewen the two conuntries."
   ]
  },
  {
   "cell_type": "code",
   "execution_count": 43,
   "metadata": {
    "id": "gp0xVbjph-K3"
   },
   "outputs": [],
   "source": [
    "# getting values (counts) of smokers and total to do the Z-test\n",
    "USA_Smokers= df_USA_smoke.value_counts()[1]\n",
    "Latin_Smokers= df_Latin_smoke.value_counts()[1]\n",
    "USA_Total= df_USA_smoke.count()\n",
    "Latin_Total= df_Latin['Smoke_Latin'].count()"
   ]
  },
  {
   "cell_type": "code",
   "execution_count": 44,
   "metadata": {
    "colab": {
     "base_uri": "https://localhost:8080/"
    },
    "id": "PbfYWs2OiKMC",
    "outputId": "5df2cf86-c3d9-412e-d6f9-cc116c943de1"
   },
   "outputs": [
    {
     "name": "stdout",
     "output_type": "stream",
     "text": [
      "Z value is 14.861796109997629\n",
      "The p value is 0.000\n"
     ]
    }
   ],
   "source": [
    "# Test for proportions using Z test\n",
    "smoker_each = np.array([USA_Smokers, Latin_Smokers])\n",
    "Total_each = np.array([USA_Total, Latin_Total])\n",
    "stat, pval = proportions_ztest(smoker_each, Total_each) # Z test for proportion\n",
    "print(\"Z value is\", stat)\n",
    "print('The p value is {0:0.3f}'.format(pval))"
   ]
  },
  {
   "cell_type": "markdown",
   "metadata": {
    "id": "PUpeVfPfQ5hl"
   },
   "source": [
    "<strong/><font size=3>Result summary: There is significant difference<br></strong>\n",
    "From the above test we can see that the percentage of USA smokers and percentage of Latin America (Peru, Mexico, and Colombia) smokers are significanly different because the p-value (i.e 0.000) for the test result is less than alpha value. So we rejected the null hypotesis."
   ]
  },
  {
   "cell_type": "markdown",
   "metadata": {
    "id": "jF7W-DRIeK31"
   },
   "source": [
    "\n",
    "\n",
    "<strong/><font size=4>Hypothesis 2.1:</strong><br>\n",
    "    \n",
    "**Objective:** Understanding the relationship between Genders and Body Mass Index in different countries.<br>\n",
    "**Null Hypothesis (H0):** There is no difference between males’ and females’ body mass index in those countries: U.S. and Latin America (Peru, Mexico, and Colombia).<br>\n",
    "**Alternative Hypothesis (H.A.):** There is a significant difference between males and females body mass index in these countries.<br>"
   ]
  },
  {
   "cell_type": "markdown",
   "metadata": {
    "id": "E67vsamZRx2L"
   },
   "source": [
    "<strong/><font size=3>Method: ANOVA<br></strong>\n",
    "    \n",
    "Anova is used since we are comparing BMI of four differnt groups: USA Male, USA Female, Latin Male and Latin Female.\n",
    "    \n",
    "Significance Level: choose Alpha = 0.05 (default)\n",
    "    \n"
   ]
  },
  {
   "cell_type": "markdown",
   "metadata": {},
   "source": [
    "\n",
    "\n",
    "<strong/><font size=2>Data processing:<br></strong>\n",
    "Creating new data frame by combining required variables for this test from two datasets, reorganizing, managing, and assessing in preparation for the test statistics."
   ]
  },
  {
   "cell_type": "code",
   "execution_count": 45,
   "metadata": {
    "id": "O-Gls0ndeH2v"
   },
   "outputs": [],
   "source": [
    "# copy the columns from the USA dataset \n",
    "BMIGender_USA= df_USA[['BMIcont_USA','Gender_USA']].copy()\n",
    "# rename the columns and replace the values to have similar value set \n",
    "BMIGender_USA=BMIGender_USA.rename(columns={'BMIcont_USA':'BMIcont_USA_Latin','Gender_USA': 'Gender_Latin_USA'})\n",
    "BMIGender_USA['Gender_Latin_USA'] = BMIGender_USA['Gender_Latin_USA'].replace([1,2],['M_USA','F_USA'])"
   ]
  },
  {
   "cell_type": "code",
   "execution_count": 46,
   "metadata": {
    "id": "2AXZt2cRBy_k"
   },
   "outputs": [],
   "source": [
    "# copy the columns from the Latin countries dataset \n",
    "BMIGender_Latin= df_Latin[['BMIcont_Latin','Gender_Latin']].copy()\n",
    "# rename the columns and replace the values to have similar value set\n",
    "BMIGender_Latin=BMIGender_Latin.rename(columns={'BMIcont_Latin':'BMIcont_USA_Latin','Gender_Latin': 'Gender_Latin_USA'})\n",
    "BMIGender_Latin['Gender_Latin_USA'] = BMIGender_Latin['Gender_Latin_USA'].replace(['Female','Male'],['F_Latin','M_Latin'])"
   ]
  },
  {
   "cell_type": "code",
   "execution_count": 47,
   "metadata": {
    "colab": {
     "base_uri": "https://localhost:8080/",
     "height": 202
    },
    "id": "gMT0u4s5eMLQ",
    "outputId": "d05192ab-a9b6-40e5-ae18-4174ba0ab96c"
   },
   "outputs": [
    {
     "data": {
      "text/html": [
       "<div>\n",
       "<style scoped>\n",
       "    .dataframe tbody tr th:only-of-type {\n",
       "        vertical-align: middle;\n",
       "    }\n",
       "\n",
       "    .dataframe tbody tr th {\n",
       "        vertical-align: top;\n",
       "    }\n",
       "\n",
       "    .dataframe thead th {\n",
       "        text-align: right;\n",
       "    }\n",
       "</style>\n",
       "<table border=\"1\" class=\"dataframe\">\n",
       "  <thead>\n",
       "    <tr style=\"text-align: right;\">\n",
       "      <th></th>\n",
       "      <th>BMIcont_USA_Latin</th>\n",
       "      <th>Gender_Latin_USA</th>\n",
       "    </tr>\n",
       "  </thead>\n",
       "  <tbody>\n",
       "    <tr>\n",
       "      <th>0</th>\n",
       "      <td>24.386526</td>\n",
       "      <td>F_Latin</td>\n",
       "    </tr>\n",
       "    <tr>\n",
       "      <th>1</th>\n",
       "      <td>24.238227</td>\n",
       "      <td>F_Latin</td>\n",
       "    </tr>\n",
       "    <tr>\n",
       "      <th>2</th>\n",
       "      <td>23.765432</td>\n",
       "      <td>M_Latin</td>\n",
       "    </tr>\n",
       "    <tr>\n",
       "      <th>3</th>\n",
       "      <td>26.851852</td>\n",
       "      <td>M_Latin</td>\n",
       "    </tr>\n",
       "    <tr>\n",
       "      <th>4</th>\n",
       "      <td>28.342381</td>\n",
       "      <td>M_Latin</td>\n",
       "    </tr>\n",
       "  </tbody>\n",
       "</table>\n",
       "</div>"
      ],
      "text/plain": [
       "   BMIcont_USA_Latin Gender_Latin_USA\n",
       "0          24.386526          F_Latin\n",
       "1          24.238227          F_Latin\n",
       "2          23.765432          M_Latin\n",
       "3          26.851852          M_Latin\n",
       "4          28.342381          M_Latin"
      ]
     },
     "execution_count": 47,
     "metadata": {},
     "output_type": "execute_result"
    }
   ],
   "source": [
    "BMIGender_Latin.head() # new Latin dataframe"
   ]
  },
  {
   "cell_type": "code",
   "execution_count": 48,
   "metadata": {},
   "outputs": [
    {
     "data": {
      "text/html": [
       "<div>\n",
       "<style scoped>\n",
       "    .dataframe tbody tr th:only-of-type {\n",
       "        vertical-align: middle;\n",
       "    }\n",
       "\n",
       "    .dataframe tbody tr th {\n",
       "        vertical-align: top;\n",
       "    }\n",
       "\n",
       "    .dataframe thead th {\n",
       "        text-align: right;\n",
       "    }\n",
       "</style>\n",
       "<table border=\"1\" class=\"dataframe\">\n",
       "  <thead>\n",
       "    <tr style=\"text-align: right;\">\n",
       "      <th></th>\n",
       "      <th>BMIcont_USA_Latin</th>\n",
       "      <th>Gender_Latin_USA</th>\n",
       "    </tr>\n",
       "  </thead>\n",
       "  <tbody>\n",
       "    <tr>\n",
       "      <th>0</th>\n",
       "      <td>28.030748</td>\n",
       "      <td>M_USA</td>\n",
       "    </tr>\n",
       "    <tr>\n",
       "      <th>1</th>\n",
       "      <td>23.774714</td>\n",
       "      <td>F_USA</td>\n",
       "    </tr>\n",
       "    <tr>\n",
       "      <th>2</th>\n",
       "      <td>27.601351</td>\n",
       "      <td>M_USA</td>\n",
       "    </tr>\n",
       "    <tr>\n",
       "      <th>3</th>\n",
       "      <td>39.326775</td>\n",
       "      <td>M_USA</td>\n",
       "    </tr>\n",
       "    <tr>\n",
       "      <th>4</th>\n",
       "      <td>39.326775</td>\n",
       "      <td>M_USA</td>\n",
       "    </tr>\n",
       "  </tbody>\n",
       "</table>\n",
       "</div>"
      ],
      "text/plain": [
       "   BMIcont_USA_Latin Gender_Latin_USA\n",
       "0          28.030748            M_USA\n",
       "1          23.774714            F_USA\n",
       "2          27.601351            M_USA\n",
       "3          39.326775            M_USA\n",
       "4          39.326775            M_USA"
      ]
     },
     "execution_count": 48,
     "metadata": {},
     "output_type": "execute_result"
    }
   ],
   "source": [
    "BMIGender_USA.head() # new USA dataframe"
   ]
  },
  {
   "cell_type": "code",
   "execution_count": 49,
   "metadata": {
    "id": "XZ9Vw30beMN5"
   },
   "outputs": [],
   "source": [
    "# combined the datasets together\n",
    "BMIGender_All = pd.concat([BMIGender_USA,BMIGender_Latin], axis=0)"
   ]
  },
  {
   "cell_type": "code",
   "execution_count": 50,
   "metadata": {
    "colab": {
     "base_uri": "https://localhost:8080/",
     "height": 202
    },
    "id": "eqvjKjllDEka",
    "outputId": "69323952-78cb-46bc-d6a4-d11c3bd887a2"
   },
   "outputs": [
    {
     "data": {
      "text/html": [
       "<div>\n",
       "<style scoped>\n",
       "    .dataframe tbody tr th:only-of-type {\n",
       "        vertical-align: middle;\n",
       "    }\n",
       "\n",
       "    .dataframe tbody tr th {\n",
       "        vertical-align: top;\n",
       "    }\n",
       "\n",
       "    .dataframe thead th {\n",
       "        text-align: right;\n",
       "    }\n",
       "</style>\n",
       "<table border=\"1\" class=\"dataframe\">\n",
       "  <thead>\n",
       "    <tr style=\"text-align: right;\">\n",
       "      <th></th>\n",
       "      <th>BMIcont_USA_Latin</th>\n",
       "      <th>Gender_Latin_USA</th>\n",
       "    </tr>\n",
       "  </thead>\n",
       "  <tbody>\n",
       "    <tr>\n",
       "      <th>0</th>\n",
       "      <td>28.030748</td>\n",
       "      <td>M_USA</td>\n",
       "    </tr>\n",
       "    <tr>\n",
       "      <th>1</th>\n",
       "      <td>23.774714</td>\n",
       "      <td>F_USA</td>\n",
       "    </tr>\n",
       "    <tr>\n",
       "      <th>2</th>\n",
       "      <td>27.601351</td>\n",
       "      <td>M_USA</td>\n",
       "    </tr>\n",
       "    <tr>\n",
       "      <th>3</th>\n",
       "      <td>39.326775</td>\n",
       "      <td>M_USA</td>\n",
       "    </tr>\n",
       "    <tr>\n",
       "      <th>4</th>\n",
       "      <td>39.326775</td>\n",
       "      <td>M_USA</td>\n",
       "    </tr>\n",
       "  </tbody>\n",
       "</table>\n",
       "</div>"
      ],
      "text/plain": [
       "   BMIcont_USA_Latin Gender_Latin_USA\n",
       "0          28.030748            M_USA\n",
       "1          23.774714            F_USA\n",
       "2          27.601351            M_USA\n",
       "3          39.326775            M_USA\n",
       "4          39.326775            M_USA"
      ]
     },
     "execution_count": 50,
     "metadata": {},
     "output_type": "execute_result"
    }
   ],
   "source": [
    "BMIGender_All.head()  # combined the two new dataframes"
   ]
  },
  {
   "cell_type": "code",
   "execution_count": 51,
   "metadata": {
    "colab": {
     "base_uri": "https://localhost:8080/",
     "height": 202
    },
    "id": "Iynnxw1rDES-",
    "outputId": "9363d87b-1a50-47e6-aa1b-800807817e95"
   },
   "outputs": [
    {
     "data": {
      "text/html": [
       "<div>\n",
       "<style scoped>\n",
       "    .dataframe tbody tr th:only-of-type {\n",
       "        vertical-align: middle;\n",
       "    }\n",
       "\n",
       "    .dataframe tbody tr th {\n",
       "        vertical-align: top;\n",
       "    }\n",
       "\n",
       "    .dataframe thead th {\n",
       "        text-align: right;\n",
       "    }\n",
       "</style>\n",
       "<table border=\"1\" class=\"dataframe\">\n",
       "  <thead>\n",
       "    <tr style=\"text-align: right;\">\n",
       "      <th></th>\n",
       "      <th>BMIcont_USA_Latin</th>\n",
       "    </tr>\n",
       "    <tr>\n",
       "      <th>Gender_Latin_USA</th>\n",
       "      <th></th>\n",
       "    </tr>\n",
       "  </thead>\n",
       "  <tbody>\n",
       "    <tr>\n",
       "      <th>F_Latin</th>\n",
       "      <td>30.547727</td>\n",
       "    </tr>\n",
       "    <tr>\n",
       "      <th>F_USA</th>\n",
       "      <td>27.660738</td>\n",
       "    </tr>\n",
       "    <tr>\n",
       "      <th>M_Latin</th>\n",
       "      <td>29.764940</td>\n",
       "    </tr>\n",
       "    <tr>\n",
       "      <th>M_USA</th>\n",
       "      <td>28.040809</td>\n",
       "    </tr>\n",
       "  </tbody>\n",
       "</table>\n",
       "</div>"
      ],
      "text/plain": [
       "                  BMIcont_USA_Latin\n",
       "Gender_Latin_USA                   \n",
       "F_Latin                   30.547727\n",
       "F_USA                     27.660738\n",
       "M_Latin                   29.764940\n",
       "M_USA                     28.040809"
      ]
     },
     "execution_count": 51,
     "metadata": {},
     "output_type": "execute_result"
    }
   ],
   "source": [
    "# find the mean of each group\n",
    "BMIGender_All.groupby('Gender_Latin_USA').mean()"
   ]
  },
  {
   "cell_type": "markdown",
   "metadata": {
    "id": "OYKjJxZsCHbH"
   },
   "source": [
    "Note: From the sample Mean result, BMI of Latin is higher than BMI of USA, and BMI of Latin Female is the highest. To generalize this difference for all population of the two countries, We will do Anova Test.\n"
   ]
  },
  {
   "cell_type": "code",
   "execution_count": 52,
   "metadata": {
    "colab": {
     "base_uri": "https://localhost:8080/"
    },
    "id": "PcjprTTdCAwv",
    "outputId": "8d2fc0ef-811d-47a9-988d-e4c61acec504"
   },
   "outputs": [
    {
     "name": "stdout",
     "output_type": "stream",
     "text": [
      "                       df         sum_sq      mean_sq           F  \\\n",
      "Gender_Latin_USA      3.0   11338.554356  3779.518119  118.227735   \n",
      "Residual          30508.0  975283.323563    31.968117         NaN   \n",
      "\n",
      "                        PR(>F)  \n",
      "Gender_Latin_USA  3.993609e-76  \n",
      "Residual                   NaN  \n",
      "\n",
      "p value is 0.000000\n"
     ]
    }
   ],
   "source": [
    "model = ols('BMIcont_USA_Latin ~ Gender_Latin_USA', data=BMIGender_All).fit() # Anova Test using OLS, Ordinary least-squares (OLS) regression \n",
    "anov_table = sm.stats.anova_lm(model,type=2)   \n",
    "print(anov_table)\n",
    "print()\n",
    "\n",
    "print('p value is {0:3f}'.format(anov_table.iloc[0,4]))"
   ]
  },
  {
   "cell_type": "code",
   "execution_count": 53,
   "metadata": {
    "colab": {
     "base_uri": "https://localhost:8080/",
     "height": 482
    },
    "id": "JDkHdhMvCAig",
    "outputId": "34cf6e57-0655-4356-b83a-50f85918a135"
   },
   "outputs": [
    {
     "data": {
      "text/html": [
       "<table class=\"simpletable\">\n",
       "<caption>OLS Regression Results</caption>\n",
       "<tr>\n",
       "  <th>Dep. Variable:</th>    <td>BMIcont_USA_Latin</td> <th>  R-squared:         </th> <td>   0.011</td> \n",
       "</tr>\n",
       "<tr>\n",
       "  <th>Model:</th>                   <td>OLS</td>        <th>  Adj. R-squared:    </th> <td>   0.011</td> \n",
       "</tr>\n",
       "<tr>\n",
       "  <th>Method:</th>             <td>Least Squares</td>   <th>  F-statistic:       </th> <td>   118.2</td> \n",
       "</tr>\n",
       "<tr>\n",
       "  <th>Date:</th>             <td>Wed, 16 Dec 2020</td>  <th>  Prob (F-statistic):</th> <td>3.99e-76</td> \n",
       "</tr>\n",
       "<tr>\n",
       "  <th>Time:</th>                 <td>13:30:23</td>      <th>  Log-Likelihood:    </th> <td> -96151.</td> \n",
       "</tr>\n",
       "<tr>\n",
       "  <th>No. Observations:</th>      <td> 30512</td>       <th>  AIC:               </th> <td>1.923e+05</td>\n",
       "</tr>\n",
       "<tr>\n",
       "  <th>Df Residuals:</th>          <td> 30508</td>       <th>  BIC:               </th> <td>1.923e+05</td>\n",
       "</tr>\n",
       "<tr>\n",
       "  <th>Df Model:</th>              <td>     3</td>       <th>                     </th>     <td> </td>    \n",
       "</tr>\n",
       "<tr>\n",
       "  <th>Covariance Type:</th>      <td>nonrobust</td>     <th>                     </th>     <td> </td>    \n",
       "</tr>\n",
       "</table>\n",
       "<table class=\"simpletable\">\n",
       "<tr>\n",
       "               <td></td>                  <th>coef</th>     <th>std err</th>      <th>t</th>      <th>P>|t|</th>  <th>[0.025</th>    <th>0.975]</th>  \n",
       "</tr>\n",
       "<tr>\n",
       "  <th>Intercept</th>                   <td>   30.5477</td> <td>    0.180</td> <td>  170.167</td> <td> 0.000</td> <td>   30.196</td> <td>   30.900</td>\n",
       "</tr>\n",
       "<tr>\n",
       "  <th>Gender_Latin_USA[T.F_USA]</th>   <td>   -2.8870</td> <td>    0.185</td> <td>  -15.581</td> <td> 0.000</td> <td>   -3.250</td> <td>   -2.524</td>\n",
       "</tr>\n",
       "<tr>\n",
       "  <th>Gender_Latin_USA[T.M_Latin]</th> <td>   -0.7828</td> <td>    0.253</td> <td>   -3.094</td> <td> 0.002</td> <td>   -1.279</td> <td>   -0.287</td>\n",
       "</tr>\n",
       "<tr>\n",
       "  <th>Gender_Latin_USA[T.M_USA]</th>   <td>   -2.5069</td> <td>    0.186</td> <td>  -13.473</td> <td> 0.000</td> <td>   -2.872</td> <td>   -2.142</td>\n",
       "</tr>\n",
       "</table>\n",
       "<table class=\"simpletable\">\n",
       "<tr>\n",
       "  <th>Omnibus:</th>       <td>1882.832</td> <th>  Durbin-Watson:     </th> <td>   1.706</td>\n",
       "</tr>\n",
       "<tr>\n",
       "  <th>Prob(Omnibus):</th>  <td> 0.000</td>  <th>  Jarque-Bera (JB):  </th> <td>2253.380</td>\n",
       "</tr>\n",
       "<tr>\n",
       "  <th>Skew:</th>           <td> 0.641</td>  <th>  Prob(JB):          </th> <td>    0.00</td>\n",
       "</tr>\n",
       "<tr>\n",
       "  <th>Kurtosis:</th>       <td> 3.356</td>  <th>  Cond. No.          </th> <td>    13.9</td>\n",
       "</tr>\n",
       "</table><br/><br/>Warnings:<br/>[1] Standard Errors assume that the covariance matrix of the errors is correctly specified."
      ],
      "text/plain": [
       "<class 'statsmodels.iolib.summary.Summary'>\n",
       "\"\"\"\n",
       "                            OLS Regression Results                            \n",
       "==============================================================================\n",
       "Dep. Variable:      BMIcont_USA_Latin   R-squared:                       0.011\n",
       "Model:                            OLS   Adj. R-squared:                  0.011\n",
       "Method:                 Least Squares   F-statistic:                     118.2\n",
       "Date:                Wed, 16 Dec 2020   Prob (F-statistic):           3.99e-76\n",
       "Time:                        13:30:23   Log-Likelihood:                -96151.\n",
       "No. Observations:               30512   AIC:                         1.923e+05\n",
       "Df Residuals:                   30508   BIC:                         1.923e+05\n",
       "Df Model:                           3                                         \n",
       "Covariance Type:            nonrobust                                         \n",
       "===============================================================================================\n",
       "                                  coef    std err          t      P>|t|      [0.025      0.975]\n",
       "-----------------------------------------------------------------------------------------------\n",
       "Intercept                      30.5477      0.180    170.167      0.000      30.196      30.900\n",
       "Gender_Latin_USA[T.F_USA]      -2.8870      0.185    -15.581      0.000      -3.250      -2.524\n",
       "Gender_Latin_USA[T.M_Latin]    -0.7828      0.253     -3.094      0.002      -1.279      -0.287\n",
       "Gender_Latin_USA[T.M_USA]      -2.5069      0.186    -13.473      0.000      -2.872      -2.142\n",
       "==============================================================================\n",
       "Omnibus:                     1882.832   Durbin-Watson:                   1.706\n",
       "Prob(Omnibus):                  0.000   Jarque-Bera (JB):             2253.380\n",
       "Skew:                           0.641   Prob(JB):                         0.00\n",
       "Kurtosis:                       3.356   Cond. No.                         13.9\n",
       "==============================================================================\n",
       "\n",
       "Warnings:\n",
       "[1] Standard Errors assume that the covariance matrix of the errors is correctly specified.\n",
       "\"\"\""
      ]
     },
     "execution_count": 53,
     "metadata": {},
     "output_type": "execute_result"
    }
   ],
   "source": [
    "model.summary()"
   ]
  },
  {
   "cell_type": "markdown",
   "metadata": {
    "id": "vZZQwZoAPMdC"
   },
   "source": [
    "\n",
    "<strong/><font size=3>Result summary: There is significant difference among the groups:</strong><br>\n",
    "        \n",
    "From the above ANOVA test we can see that there is significant difference of BMI among the four groups: USA Males, USA Females, Latin Males and Latin Females. The P-value (i.e 0.000) for the test result is less than alpha value (0.05 default). Hence, we reject the null hypothesis. \n",
    "The BMI of Latin Females, which is the reference of ANOVA is significantly higher than the BMI of USA Males, USA Females and Latin Males. \n",
    "Particularly, the BMI of Latin Females is significantly higher than The BMI of USA Females.     \n",
    "\n",
    "However, the ANOVA test result is not clear about BMI of USA Male and Latin Male, so we will use T-test to \n",
    "compare these two groups. \n"
   ]
  },
  {
   "cell_type": "code",
   "execution_count": null,
   "metadata": {
    "id": "1M9mPRR5S2oR"
   },
   "outputs": [],
   "source": []
  },
  {
   "cell_type": "markdown",
   "metadata": {
    "id": "86z5s6VhNil-"
   },
   "source": [
    "<strong/><font size=4>Hypothesis Testing: Hypothesis 2.2 </strong><br>\n",
    "For BMI of USA Male and Latin Male \n",
    "\n",
    "**Objective:**Comparing Body Mass Index (BMI) of Latin Males and USA Males.<br>\n",
    "**Question:**Is there any difference of BMI by country for male  group?<br>\n",
    "**Null Hypothesis(H0):** There is no difference of BMI between Latin Male and  USA Male.<br>\n",
    "**Alternative Hypothesis(H.A.):** There is statistically significant difference btween Latin Male BMI and USA Male BMI.<br>\n",
    "\n",
    "<strong/><font size=3>Method:T-Test</strong><br>"
   ]
  },
  {
   "cell_type": "code",
   "execution_count": 54,
   "metadata": {
    "colab": {
     "base_uri": "https://localhost:8080/",
     "height": 141
    },
    "id": "ADzXCO5ICAPn",
    "outputId": "d62b5521-add6-43a9-fef2-ab72f9972146"
   },
   "outputs": [
    {
     "data": {
      "text/html": [
       "<div>\n",
       "<style scoped>\n",
       "    .dataframe tbody tr th:only-of-type {\n",
       "        vertical-align: middle;\n",
       "    }\n",
       "\n",
       "    .dataframe tbody tr th {\n",
       "        vertical-align: top;\n",
       "    }\n",
       "\n",
       "    .dataframe thead th {\n",
       "        text-align: right;\n",
       "    }\n",
       "</style>\n",
       "<table border=\"1\" class=\"dataframe\">\n",
       "  <thead>\n",
       "    <tr style=\"text-align: right;\">\n",
       "      <th></th>\n",
       "      <th>Variable</th>\n",
       "      <th>N</th>\n",
       "      <th>Mean</th>\n",
       "      <th>SD</th>\n",
       "      <th>SE</th>\n",
       "      <th>95% Conf.</th>\n",
       "      <th>Interval</th>\n",
       "    </tr>\n",
       "  </thead>\n",
       "  <tbody>\n",
       "    <tr>\n",
       "      <th>0</th>\n",
       "      <td>Male_Latin</td>\n",
       "      <td>1006.0</td>\n",
       "      <td>29.764940</td>\n",
       "      <td>6.068478</td>\n",
       "      <td>0.191329</td>\n",
       "      <td>29.389490</td>\n",
       "      <td>30.140390</td>\n",
       "    </tr>\n",
       "    <tr>\n",
       "      <th>1</th>\n",
       "      <td>Male_USA</td>\n",
       "      <td>13339.0</td>\n",
       "      <td>28.040809</td>\n",
       "      <td>4.775327</td>\n",
       "      <td>0.041347</td>\n",
       "      <td>27.959763</td>\n",
       "      <td>28.121854</td>\n",
       "    </tr>\n",
       "    <tr>\n",
       "      <th>2</th>\n",
       "      <td>combined</td>\n",
       "      <td>14345.0</td>\n",
       "      <td>28.161720</td>\n",
       "      <td>4.896786</td>\n",
       "      <td>0.040885</td>\n",
       "      <td>28.081581</td>\n",
       "      <td>28.241860</td>\n",
       "    </tr>\n",
       "  </tbody>\n",
       "</table>\n",
       "</div>"
      ],
      "text/plain": [
       "     Variable        N       Mean        SD        SE  95% Conf.   Interval\n",
       "0  Male_Latin   1006.0  29.764940  6.068478  0.191329  29.389490  30.140390\n",
       "1    Male_USA  13339.0  28.040809  4.775327  0.041347  27.959763  28.121854\n",
       "2    combined  14345.0  28.161720  4.896786  0.040885  28.081581  28.241860"
      ]
     },
     "execution_count": 54,
     "metadata": {},
     "output_type": "execute_result"
    }
   ],
   "source": [
    "# The Anova Test does not tell us the comparison between Latin Male and USA Male. \n",
    "# We can compare these by using T-Test. \n",
    "group1= BMIGender_All['BMIcont_USA_Latin'][BMIGender_All['Gender_Latin_USA'] == 'M_Latin']  # group forming and labeling \n",
    "group2=BMIGender_All['BMIcont_USA_Latin'][BMIGender_All['Gender_Latin_USA'] == 'M_USA']   # group forming and labeling \n",
    "summary, result= researchpy.ttest(group1,group2, group1_name= \"Male_Latin\", group2_name= \"Male_USA\")   # used T test\n",
    "summary   # output for summary\n"
   ]
  },
  {
   "cell_type": "code",
   "execution_count": 55,
   "metadata": {
    "colab": {
     "base_uri": "https://localhost:8080/",
     "height": 171
    },
    "id": "g5PwejcPM9AQ",
    "outputId": "9dd4a4a7-b768-44c5-abea-e72cd39163c2"
   },
   "outputs": [
    {
     "data": {
      "text/html": [
       "<div>\n",
       "<style scoped>\n",
       "    .dataframe tbody tr th:only-of-type {\n",
       "        vertical-align: middle;\n",
       "    }\n",
       "\n",
       "    .dataframe tbody tr th {\n",
       "        vertical-align: top;\n",
       "    }\n",
       "\n",
       "    .dataframe thead th {\n",
       "        text-align: right;\n",
       "    }\n",
       "</style>\n",
       "<table border=\"1\" class=\"dataframe\">\n",
       "  <thead>\n",
       "    <tr style=\"text-align: right;\">\n",
       "      <th></th>\n",
       "      <th>Independent t-test</th>\n",
       "      <th>results</th>\n",
       "    </tr>\n",
       "  </thead>\n",
       "  <tbody>\n",
       "    <tr>\n",
       "      <th>0</th>\n",
       "      <td>Difference (Male_Latin - Male_USA) =</td>\n",
       "      <td>1.7241</td>\n",
       "    </tr>\n",
       "    <tr>\n",
       "      <th>1</th>\n",
       "      <td>Degrees of freedom =</td>\n",
       "      <td>14343.0000</td>\n",
       "    </tr>\n",
       "    <tr>\n",
       "      <th>2</th>\n",
       "      <td>t =</td>\n",
       "      <td>10.8123</td>\n",
       "    </tr>\n",
       "    <tr>\n",
       "      <th>3</th>\n",
       "      <td>Two side test p value =</td>\n",
       "      <td>0.0000</td>\n",
       "    </tr>\n",
       "  </tbody>\n",
       "</table>\n",
       "</div>"
      ],
      "text/plain": [
       "                      Independent t-test     results\n",
       "0  Difference (Male_Latin - Male_USA) =       1.7241\n",
       "1                  Degrees of freedom =   14343.0000\n",
       "2                                   t =      10.8123\n",
       "3               Two side test p value =       0.0000"
      ]
     },
     "execution_count": 55,
     "metadata": {},
     "output_type": "execute_result"
    }
   ],
   "source": [
    "result[0:4]    # main result for the T test"
   ]
  },
  {
   "cell_type": "markdown",
   "metadata": {
    "id": "DChwdfHqO6kl"
   },
   "source": [
    "<strong/><font size=3>Result summary:<br></strong>\n",
    "From the t-test result, the p-value is 0.0000, which is smaller than alpha (0.05 by default),\n",
    "we can say that there is significant differences between Males BMI in Latin countries and Males BMI in the U.S.\n"
   ]
  },
  {
   "cell_type": "code",
   "execution_count": null,
   "metadata": {},
   "outputs": [],
   "source": []
  },
  {
   "cell_type": "markdown",
   "metadata": {
    "id": "OE4gBGvHeDDp"
   },
   "source": [
    "<strong/><font size=4>Hypothesis 3:<br></strong>\n",
    "\n",
    "**Objective:**Studying the BMI differences between the adults in the U.S. and Latin America (Peru, Mexico, and Colombia) by Age groups.<br>\n",
    "**Question:** Does the body mass index distribution differ by Age in different countries?<br>\n",
    "**Null Hypothesis (H0):** There is no difference in BMI distribution between the adults in the U.S. and Latin America (Peru, Mexico, and Colombia) by Age groups.<Br>\n",
    "**Alternative Hypothesis (H.A.):** There is a significant difference in BMI distribution between the adults in the U.S. and Latin America (Peru, Mexico, and Colombia) by Age groups.<Br>\n",
    "\n",
    "\n"
   ]
  },
  {
   "cell_type": "markdown",
   "metadata": {},
   "source": [
    "\n",
    "\n",
    "<strong/><font size=2>Data processing:<br></strong>\n",
    "Creating new data frame by combining required variables for this test from two datasets, reorganizing, managing, and assessing in preparation for the test statistics."
   ]
  },
  {
   "cell_type": "code",
   "execution_count": 56,
   "metadata": {
    "id": "I64Zh-HAeUF2"
   },
   "outputs": [],
   "source": [
    "# copy the age and BMI from original datasets and find the mean BMI for each age group\n",
    "BMIAge_USA= df_USA[['Age_USA','BMIcont_USA']].copy()\n",
    "BMIAge_Latin= df_Latin[['Age_Latin','BMIcont_Latin']].copy()\n",
    "BMIAge_Latin=BMIAge_Latin.round({'Age_Latin': 0})\n",
    "BMIAge_USAMean=BMIAge_USA.groupby('Age_USA').mean()\n",
    "BMIAge_LatinMean=BMIAge_Latin.groupby('Age_Latin').mean()"
   ]
  },
  {
   "cell_type": "markdown",
   "metadata": {},
   "source": [
    "Note: Mean BMI is calculated for each age group."
   ]
  },
  {
   "cell_type": "code",
   "execution_count": 57,
   "metadata": {
    "colab": {
     "base_uri": "https://localhost:8080/",
     "height": 233
    },
    "id": "XLsRNxEqUTOF",
    "outputId": "3b837204-9fdf-4795-c445-981efbfb6803"
   },
   "outputs": [
    {
     "data": {
      "text/html": [
       "<div>\n",
       "<style scoped>\n",
       "    .dataframe tbody tr th:only-of-type {\n",
       "        vertical-align: middle;\n",
       "    }\n",
       "\n",
       "    .dataframe tbody tr th {\n",
       "        vertical-align: top;\n",
       "    }\n",
       "\n",
       "    .dataframe thead th {\n",
       "        text-align: right;\n",
       "    }\n",
       "</style>\n",
       "<table border=\"1\" class=\"dataframe\">\n",
       "  <thead>\n",
       "    <tr style=\"text-align: right;\">\n",
       "      <th></th>\n",
       "      <th>BMIcont_USA</th>\n",
       "    </tr>\n",
       "    <tr>\n",
       "      <th>Age_USA</th>\n",
       "      <th></th>\n",
       "    </tr>\n",
       "  </thead>\n",
       "  <tbody>\n",
       "    <tr>\n",
       "      <th>18</th>\n",
       "      <td>24.690589</td>\n",
       "    </tr>\n",
       "    <tr>\n",
       "      <th>19</th>\n",
       "      <td>25.480138</td>\n",
       "    </tr>\n",
       "    <tr>\n",
       "      <th>20</th>\n",
       "      <td>25.897276</td>\n",
       "    </tr>\n",
       "    <tr>\n",
       "      <th>21</th>\n",
       "      <td>25.757238</td>\n",
       "    </tr>\n",
       "    <tr>\n",
       "      <th>22</th>\n",
       "      <td>26.063979</td>\n",
       "    </tr>\n",
       "  </tbody>\n",
       "</table>\n",
       "</div>"
      ],
      "text/plain": [
       "         BMIcont_USA\n",
       "Age_USA             \n",
       "18         24.690589\n",
       "19         25.480138\n",
       "20         25.897276\n",
       "21         25.757238\n",
       "22         26.063979"
      ]
     },
     "execution_count": 57,
     "metadata": {},
     "output_type": "execute_result"
    }
   ],
   "source": [
    "# mena BMI for each age group in the U.S.\n",
    "BMIAge_USAMean.head()"
   ]
  },
  {
   "cell_type": "code",
   "execution_count": 58,
   "metadata": {
    "colab": {
     "base_uri": "https://localhost:8080/",
     "height": 233
    },
    "id": "IT_7pup2UTRt",
    "outputId": "64eef142-3da3-432d-c4a3-1a163dfb1430"
   },
   "outputs": [
    {
     "data": {
      "text/html": [
       "<div>\n",
       "<style scoped>\n",
       "    .dataframe tbody tr th:only-of-type {\n",
       "        vertical-align: middle;\n",
       "    }\n",
       "\n",
       "    .dataframe tbody tr th {\n",
       "        vertical-align: top;\n",
       "    }\n",
       "\n",
       "    .dataframe thead th {\n",
       "        text-align: right;\n",
       "    }\n",
       "</style>\n",
       "<table border=\"1\" class=\"dataframe\">\n",
       "  <thead>\n",
       "    <tr style=\"text-align: right;\">\n",
       "      <th></th>\n",
       "      <th>BMIcont_Latin</th>\n",
       "    </tr>\n",
       "    <tr>\n",
       "      <th>Age_Latin</th>\n",
       "      <th></th>\n",
       "    </tr>\n",
       "  </thead>\n",
       "  <tbody>\n",
       "    <tr>\n",
       "      <th>18.0</th>\n",
       "      <td>26.059969</td>\n",
       "    </tr>\n",
       "    <tr>\n",
       "      <th>19.0</th>\n",
       "      <td>25.468426</td>\n",
       "    </tr>\n",
       "    <tr>\n",
       "      <th>20.0</th>\n",
       "      <td>26.221017</td>\n",
       "    </tr>\n",
       "    <tr>\n",
       "      <th>21.0</th>\n",
       "      <td>29.774400</td>\n",
       "    </tr>\n",
       "    <tr>\n",
       "      <th>22.0</th>\n",
       "      <td>29.245993</td>\n",
       "    </tr>\n",
       "  </tbody>\n",
       "</table>\n",
       "</div>"
      ],
      "text/plain": [
       "           BMIcont_Latin\n",
       "Age_Latin               \n",
       "18.0           26.059969\n",
       "19.0           25.468426\n",
       "20.0           26.221017\n",
       "21.0           29.774400\n",
       "22.0           29.245993"
      ]
     },
     "execution_count": 58,
     "metadata": {},
     "output_type": "execute_result"
    }
   ],
   "source": [
    "# mean BMI for each age group in Latin countries\n",
    "BMIAge_LatinMean.head()"
   ]
  },
  {
   "cell_type": "code",
   "execution_count": 59,
   "metadata": {
    "colab": {
     "base_uri": "https://localhost:8080/",
     "height": 310
    },
    "id": "60MYnY5gEszK",
    "outputId": "0db323df-332e-44f1-ecf6-48c5f92d94fc"
   },
   "outputs": [
    {
     "data": {
      "image/png": "[encoded data removed]",
      "text/plain": [
       "<Figure size 432x288 with 1 Axes>"
      ]
     },
     "metadata": {
      "needs_background": "light"
     },
     "output_type": "display_data"
    }
   ],
   "source": [
    "# Plot of Mean BMI vs Age for Latin countries data and the U.S. data\n",
    "plt.plot(BMIAge_LatinMean,label=\"Latin Countries\")\n",
    "plt.plot(BMIAge_USAMean,label=\"United States\")\n",
    "\n",
    "plt.title(\"BMI in Latin Countries and U.S: Mean BMI vs age\\n (Mean is calculated for each age group)\")\n",
    "plt.ylabel(\"Mean BMI\")\n",
    "plt.xlabel(\"Age\")\n",
    "plt.legend()\n",
    "plt.show()"
   ]
  },
  {
   "cell_type": "markdown",
   "metadata": {
    "id": "Ek0xb7hsNEnW"
   },
   "source": [
    "<strong/><font size=3>Explanantion:<br></strong>\n",
    "From the graph above, we can see that adults from age 20 to 48 in Latin countries have high mean BMI than the same age range of adults in the U.S. Adults from around 48 to 51 in the U.S. have higher mean BMI than adults in same age range in Latin countries. Hence, there are significant differences between the BMI vs Age in different countries. To study the strength of the relationship between BMI and age in different countries, we use correlation, linear regression and T test.\n"
   ]
  },
  {
   "cell_type": "markdown",
   "metadata": {
    "id": "8GPkdZ5woMZi"
   },
   "source": [
    "<strong/><font size=3>Is there any corrolation between age and BMI?\n",
    "\n",
    "\n",
    "\n"
   ]
  },
  {
   "cell_type": "code",
   "execution_count": 60,
   "metadata": {
    "colab": {
     "base_uri": "https://localhost:8080/",
     "height": 110
    },
    "id": "6jI74v9_o-VL",
    "outputId": "e3da3f47-1c20-4a69-b58a-a445a02077ee"
   },
   "outputs": [
    {
     "data": {
      "text/html": [
       "<div>\n",
       "<style scoped>\n",
       "    .dataframe tbody tr th:only-of-type {\n",
       "        vertical-align: middle;\n",
       "    }\n",
       "\n",
       "    .dataframe tbody tr th {\n",
       "        vertical-align: top;\n",
       "    }\n",
       "\n",
       "    .dataframe thead th {\n",
       "        text-align: right;\n",
       "    }\n",
       "</style>\n",
       "<table border=\"1\" class=\"dataframe\">\n",
       "  <thead>\n",
       "    <tr style=\"text-align: right;\">\n",
       "      <th></th>\n",
       "      <th>Age_USA</th>\n",
       "      <th>BMIcont_USA</th>\n",
       "    </tr>\n",
       "  </thead>\n",
       "  <tbody>\n",
       "    <tr>\n",
       "      <th>Age_USA</th>\n",
       "      <td>1.000000</td>\n",
       "      <td>0.032527</td>\n",
       "    </tr>\n",
       "    <tr>\n",
       "      <th>BMIcont_USA</th>\n",
       "      <td>0.032527</td>\n",
       "      <td>1.000000</td>\n",
       "    </tr>\n",
       "  </tbody>\n",
       "</table>\n",
       "</div>"
      ],
      "text/plain": [
       "              Age_USA  BMIcont_USA\n",
       "Age_USA      1.000000     0.032527\n",
       "BMIcont_USA  0.032527     1.000000"
      ]
     },
     "execution_count": 60,
     "metadata": {},
     "output_type": "execute_result"
    }
   ],
   "source": [
    "BMIAge_USA.corr() # Correlation between age and BMI for USA"
   ]
  },
  {
   "cell_type": "code",
   "execution_count": 61,
   "metadata": {
    "colab": {
     "base_uri": "https://localhost:8080/",
     "height": 110
    },
    "id": "wD3bNwZTpMxU",
    "outputId": "bd5f457e-7eb1-4f29-963f-e357fb9168a6"
   },
   "outputs": [
    {
     "data": {
      "text/html": [
       "<div>\n",
       "<style scoped>\n",
       "    .dataframe tbody tr th:only-of-type {\n",
       "        vertical-align: middle;\n",
       "    }\n",
       "\n",
       "    .dataframe tbody tr th {\n",
       "        vertical-align: top;\n",
       "    }\n",
       "\n",
       "    .dataframe thead th {\n",
       "        text-align: right;\n",
       "    }\n",
       "</style>\n",
       "<table border=\"1\" class=\"dataframe\">\n",
       "  <thead>\n",
       "    <tr style=\"text-align: right;\">\n",
       "      <th></th>\n",
       "      <th>Age_Latin</th>\n",
       "      <th>BMIcont_Latin</th>\n",
       "    </tr>\n",
       "  </thead>\n",
       "  <tbody>\n",
       "    <tr>\n",
       "      <th>Age_Latin</th>\n",
       "      <td>1.000000</td>\n",
       "      <td>0.195207</td>\n",
       "    </tr>\n",
       "    <tr>\n",
       "      <th>BMIcont_Latin</th>\n",
       "      <td>0.195207</td>\n",
       "      <td>1.000000</td>\n",
       "    </tr>\n",
       "  </tbody>\n",
       "</table>\n",
       "</div>"
      ],
      "text/plain": [
       "               Age_Latin  BMIcont_Latin\n",
       "Age_Latin       1.000000       0.195207\n",
       "BMIcont_Latin   0.195207       1.000000"
      ]
     },
     "execution_count": 61,
     "metadata": {},
     "output_type": "execute_result"
    }
   ],
   "source": [
    "BMIAge_Latin.corr() # Correlation between age and BMI for Latin"
   ]
  },
  {
   "cell_type": "code",
   "execution_count": 62,
   "metadata": {
    "colab": {
     "base_uri": "https://localhost:8080/"
    },
    "id": "aQJcbR5xssg7",
    "outputId": "3c05fcfd-70ca-40f2-c4c4-bf5d7fbe2072"
   },
   "outputs": [
    {
     "name": "stdout",
     "output_type": "stream",
     "text": [
      "Parameters:  Intercept    27.333374\n",
      "Age_USA       0.009687\n",
      "dtype: float64\n",
      "R squared:  0.0010580020996178163\n"
     ]
    }
   ],
   "source": [
    "# Fitting linear model for USA\n",
    "results = ols(formula=\"BMIcont_USA~Age_USA\", data=BMIAge_USA).fit()\n",
    "print('Parameters: ', results.params)\n",
    "print('R squared: ', results.rsquared)"
   ]
  },
  {
   "cell_type": "code",
   "execution_count": 63,
   "metadata": {
    "colab": {
     "base_uri": "https://localhost:8080/"
    },
    "id": "uVo7M54atECu",
    "outputId": "ea10f21e-ce09-4bb9-fdf1-0eaa72af8a27"
   },
   "outputs": [
    {
     "name": "stdout",
     "output_type": "stream",
     "text": [
      "Parameters:  Intercept    24.079265\n",
      "Age_Latin     0.245614\n",
      "dtype: float64\n",
      "R squared:  0.03810570423844972\n"
     ]
    }
   ],
   "source": [
    "# Fitting linear model for Latin\n",
    "results = ols(formula=\"BMIcont_Latin~Age_Latin\", data=BMIAge_Latin).fit()\n",
    "print('Parameters: ', results.params)\n",
    "print('R squared: ', results.rsquared)"
   ]
  },
  {
   "cell_type": "code",
   "execution_count": 64,
   "metadata": {
    "colab": {
     "base_uri": "https://localhost:8080/"
    },
    "id": "d8Pq2JMnwCS-",
    "outputId": "a0b65942-603b-4293-832c-721ee64e2a63"
   },
   "outputs": [
    {
     "data": {
      "text/plain": [
       "0.03430932637046122"
      ]
     },
     "execution_count": 64,
     "metadata": {},
     "output_type": "execute_result"
    }
   ],
   "source": [
    "BMIAge_Latin['BMIcont_Latin'].corr(BMIAge_USA['BMIcont_USA']) # corrolation between USA BMI and Latin BMI"
   ]
  },
  {
   "cell_type": "markdown",
   "metadata": {
    "id": "F0MNnxazvIkB"
   },
   "source": [
    "<strong/><font size=3>Summary of Correlation and linear regression<br></strong>\n",
    "The correlation result shows that there is no  that much strong correlation between age and BMI for both USA and Latin countries.<br> We also fitted the data with linear regression model to understand if there is any linear relationship between age and BMI.<br> \n",
    "The Linear regression models also show weak relationship between age and BMI.\n",
    " <br>Moreover, there is no significant correlation between BMI of USA and BMI of Latin population."
   ]
  },
  {
   "cell_type": "code",
   "execution_count": null,
   "metadata": {},
   "outputs": [],
   "source": []
  },
  {
   "cell_type": "markdown",
   "metadata": {
    "id": "nCMJTYcN_O4K"
   },
   "source": [
    "<strong/><font size=3>Hypothesis 3: More analysis for age group less than or equal to 45<br></strong>\n",
    "\n",
    "**Objective:** Studying the BMI differences between the adults in the U.S. and Latin America for age group less than or equal to 45. <br>\n",
    "\n",
    "**Null Hypothesis (H0):** For age group less than or equal to 45, there is no difference in BMI distribution between the adults in the U.S. and Latin America (Peru, Mexico, and Colombia).<Br>\n",
    "**Alternative Hypothesis (H.A.):** For age group less than or equal to 45, there is a significant difference in BMI distribution between the adults in the U.S. and Latin America (Peru, Mexico, and Colombia).<Br>"
   ]
  },
  {
   "cell_type": "code",
   "execution_count": 65,
   "metadata": {
    "id": "7I477_893cB-"
   },
   "outputs": [],
   "source": [
    "# Set up the age groups \n",
    "BMIAge45_USA= BMIAge_USA[BMIAge_USA.Age_USA<=45]\n",
    "BMIAge45_Latin= BMIAge_Latin[BMIAge_Latin.Age_Latin<=45]"
   ]
  },
  {
   "cell_type": "code",
   "execution_count": 66,
   "metadata": {
    "colab": {
     "base_uri": "https://localhost:8080/"
    },
    "id": "bQrQcCfF-kb2",
    "outputId": "3a52ca25-25d5-4a4b-b7f8-6bf6d2789b7d"
   },
   "outputs": [
    {
     "data": {
      "text/plain": [
       "27.42674486358537"
      ]
     },
     "execution_count": 66,
     "metadata": {},
     "output_type": "execute_result"
    }
   ],
   "source": [
    "BMIAge45_USAMeanAll =BMIAge45_USA['BMIcont_USA'].mean()\n",
    "BMIAge45_USAMeanAll"
   ]
  },
  {
   "cell_type": "code",
   "execution_count": 67,
   "metadata": {
    "colab": {
     "base_uri": "https://localhost:8080/"
    },
    "id": "fL45RjwB5Oxv",
    "outputId": "4e7731ae-f36f-4c6f-b801-93d307d86514"
   },
   "outputs": [
    {
     "data": {
      "text/plain": [
       "30.17191374875478"
      ]
     },
     "execution_count": 67,
     "metadata": {},
     "output_type": "execute_result"
    }
   ],
   "source": [
    "BMIAge45_LatinMeanAll =BMIAge45_Latin['BMIcont_Latin'].mean()\n",
    "BMIAge45_LatinMeanAll"
   ]
  },
  {
   "cell_type": "markdown",
   "metadata": {
    "id": "0y7vA4vjx38I"
   },
   "source": [
    "The means of BMI for adults under 45 years old are different for Latin countries and the U.S. We use T-test to generalize this."
   ]
  },
  {
   "cell_type": "markdown",
   "metadata": {
    "id": "nBS9IRXYA0lt"
   },
   "source": [
    "<strong/><font size=3>Method: T Test to compare BMI for USA and Latin for age less than or equal to 45"
   ]
  },
  {
   "cell_type": "code",
   "execution_count": 68,
   "metadata": {
    "colab": {
     "base_uri": "https://localhost:8080/",
     "height": 141
    },
    "id": "s2U1zUUm1-bo",
    "outputId": "40506519-0a0c-4eb1-fd19-07efba0ad592"
   },
   "outputs": [
    {
     "data": {
      "text/html": [
       "<div>\n",
       "<style scoped>\n",
       "    .dataframe tbody tr th:only-of-type {\n",
       "        vertical-align: middle;\n",
       "    }\n",
       "\n",
       "    .dataframe tbody tr th {\n",
       "        vertical-align: top;\n",
       "    }\n",
       "\n",
       "    .dataframe thead th {\n",
       "        text-align: right;\n",
       "    }\n",
       "</style>\n",
       "<table border=\"1\" class=\"dataframe\">\n",
       "  <thead>\n",
       "    <tr style=\"text-align: right;\">\n",
       "      <th></th>\n",
       "      <th>Variable</th>\n",
       "      <th>N</th>\n",
       "      <th>Mean</th>\n",
       "      <th>SD</th>\n",
       "      <th>SE</th>\n",
       "      <th>95% Conf.</th>\n",
       "      <th>Interval</th>\n",
       "    </tr>\n",
       "  </thead>\n",
       "  <tbody>\n",
       "    <tr>\n",
       "      <th>0</th>\n",
       "      <td>USA_ageUpto45</td>\n",
       "      <td>11054.0</td>\n",
       "      <td>27.426745</td>\n",
       "      <td>5.608065</td>\n",
       "      <td>0.053340</td>\n",
       "      <td>27.322189</td>\n",
       "      <td>27.531301</td>\n",
       "    </tr>\n",
       "    <tr>\n",
       "      <th>1</th>\n",
       "      <td>Latin_ageUpto45</td>\n",
       "      <td>1984.0</td>\n",
       "      <td>30.171914</td>\n",
       "      <td>7.924042</td>\n",
       "      <td>0.177900</td>\n",
       "      <td>29.823023</td>\n",
       "      <td>30.520804</td>\n",
       "    </tr>\n",
       "    <tr>\n",
       "      <th>2</th>\n",
       "      <td>combined</td>\n",
       "      <td>13038.0</td>\n",
       "      <td>27.844479</td>\n",
       "      <td>6.098139</td>\n",
       "      <td>0.053406</td>\n",
       "      <td>27.739795</td>\n",
       "      <td>27.949163</td>\n",
       "    </tr>\n",
       "  </tbody>\n",
       "</table>\n",
       "</div>"
      ],
      "text/plain": [
       "          Variable        N       Mean        SD        SE  95% Conf.  \\\n",
       "0    USA_ageUpto45  11054.0  27.426745  5.608065  0.053340  27.322189   \n",
       "1  Latin_ageUpto45   1984.0  30.171914  7.924042  0.177900  29.823023   \n",
       "2         combined  13038.0  27.844479  6.098139  0.053406  27.739795   \n",
       "\n",
       "    Interval  \n",
       "0  27.531301  \n",
       "1  30.520804  \n",
       "2  27.949163  "
      ]
     },
     "execution_count": 68,
     "metadata": {},
     "output_type": "execute_result"
    }
   ],
   "source": [
    "group1= BMIAge45_USA['BMIcont_USA'] # group forming and labeling \n",
    "group2=BMIAge45_Latin['BMIcont_Latin']  # group forming and labeling \n",
    "summary, result= researchpy.ttest(group1,group2, group1_name= \"USA_ageUpto45\", group2_name= \"Latin_ageUpto45\")   # used T test\n",
    "summary   # output for summary\n"
   ]
  },
  {
   "cell_type": "code",
   "execution_count": 69,
   "metadata": {
    "colab": {
     "base_uri": "https://localhost:8080/",
     "height": 171
    },
    "id": "UHXeFKTqEQC7",
    "outputId": "c5cac0bf-f8b4-4789-9b93-d024195d5804"
   },
   "outputs": [
    {
     "data": {
      "text/html": [
       "<div>\n",
       "<style scoped>\n",
       "    .dataframe tbody tr th:only-of-type {\n",
       "        vertical-align: middle;\n",
       "    }\n",
       "\n",
       "    .dataframe tbody tr th {\n",
       "        vertical-align: top;\n",
       "    }\n",
       "\n",
       "    .dataframe thead th {\n",
       "        text-align: right;\n",
       "    }\n",
       "</style>\n",
       "<table border=\"1\" class=\"dataframe\">\n",
       "  <thead>\n",
       "    <tr style=\"text-align: right;\">\n",
       "      <th></th>\n",
       "      <th>Independent t-test</th>\n",
       "      <th>results</th>\n",
       "    </tr>\n",
       "  </thead>\n",
       "  <tbody>\n",
       "    <tr>\n",
       "      <th>0</th>\n",
       "      <td>Difference (USA_ageUpto45 - Latin_ageUpto45) =</td>\n",
       "      <td>-2.7452</td>\n",
       "    </tr>\n",
       "    <tr>\n",
       "      <th>1</th>\n",
       "      <td>Degrees of freedom =</td>\n",
       "      <td>13036.0000</td>\n",
       "    </tr>\n",
       "    <tr>\n",
       "      <th>2</th>\n",
       "      <td>t =</td>\n",
       "      <td>-18.7083</td>\n",
       "    </tr>\n",
       "    <tr>\n",
       "      <th>3</th>\n",
       "      <td>Two side test p value =</td>\n",
       "      <td>0.0000</td>\n",
       "    </tr>\n",
       "  </tbody>\n",
       "</table>\n",
       "</div>"
      ],
      "text/plain": [
       "                                Independent t-test     results\n",
       "0  Difference (USA_ageUpto45 - Latin_ageUpto45) =      -2.7452\n",
       "1                            Degrees of freedom =   13036.0000\n",
       "2                                             t =     -18.7083\n",
       "3                         Two side test p value =       0.0000"
      ]
     },
     "execution_count": 69,
     "metadata": {},
     "output_type": "execute_result"
    }
   ],
   "source": [
    "result[0:4]    # main result for the T test"
   ]
  },
  {
   "cell_type": "markdown",
   "metadata": {
    "id": "3Cv_iNp3Bd_Q"
   },
   "source": [
    "<strong/><font size=3>Summary:<br></strong>\n",
    "From the t-test result above, we can say that for age group less than or equal to 45, there is a significant difference in BMI distribution between the adults in the U.S. and Latin America (Peru, Mexico, and Colombia) since the P-value is equal to 0.000, which is less than 0.05. Hence, we reject the Null hypothesis.\n",
    "\n",
    "\n",
    "\n",
    "\n"
   ]
  },
  {
   "cell_type": "code",
   "execution_count": null,
   "metadata": {},
   "outputs": [],
   "source": []
  },
  {
   "cell_type": "markdown",
   "metadata": {
    "id": "_7063dH8eQiQ"
   },
   "source": [
    "<strong/><font size=4>Hypothesis 4:<br></strong>\n",
    "    \n",
    "**Objective:** Studying the differences in smoking Age distribution in the U.S. and Latin America (Peru, Mexico, and Colombia).<br>\n",
    "**Question:** Does the smoking age  distribution vary by country?<br>\n",
    "**Null Hypothesis (H0):** There is no difference in age distribution between adults who consume cigarettes in the U.S. and Latin America (Peru, Mexico, and Colombia).<br>\n",
    "**Alternative Hypothesis (H.A.):** There is a significant difference in age distribution between adults who consume cigarettes in the U.S. and Latin America (Peru, Mexico, and Colombia).<br>"
   ]
  },
  {
   "cell_type": "markdown",
   "metadata": {
    "id": "xc9ZB0GUko3y"
   },
   "source": [
    "<strong/><font size=3>Note: For Hypothesis 4, we will do two Hypothesis tests: Hypothesis 4.1 and Hypothesis 4.2.\n"
   ]
  },
  {
   "cell_type": "markdown",
   "metadata": {},
   "source": [
    "\n",
    "\n",
    "<strong/><font size=2>Data processing:<br></strong>\n",
    "Creating new data frame by combining required variables for this test from two datasets, reorganizing, managing, and assessing in preparation for the test statistics."
   ]
  },
  {
   "cell_type": "code",
   "execution_count": 70,
   "metadata": {
    "colab": {
     "base_uri": "https://localhost:8080/",
     "height": 202
    },
    "id": "vaBXVlrieSJ0",
    "outputId": "a17869e9-db6a-4c10-a18c-88311494810f"
   },
   "outputs": [
    {
     "data": {
      "text/html": [
       "<div>\n",
       "<style scoped>\n",
       "    .dataframe tbody tr th:only-of-type {\n",
       "        vertical-align: middle;\n",
       "    }\n",
       "\n",
       "    .dataframe tbody tr th {\n",
       "        vertical-align: top;\n",
       "    }\n",
       "\n",
       "    .dataframe thead th {\n",
       "        text-align: right;\n",
       "    }\n",
       "</style>\n",
       "<table border=\"1\" class=\"dataframe\">\n",
       "  <thead>\n",
       "    <tr style=\"text-align: right;\">\n",
       "      <th></th>\n",
       "      <th>Age_USA_Latin</th>\n",
       "      <th>Smoke_Latin_USA</th>\n",
       "    </tr>\n",
       "  </thead>\n",
       "  <tbody>\n",
       "    <tr>\n",
       "      <th>0</th>\n",
       "      <td>97</td>\n",
       "      <td>No_USA</td>\n",
       "    </tr>\n",
       "    <tr>\n",
       "      <th>1</th>\n",
       "      <td>28</td>\n",
       "      <td>Yes_USA</td>\n",
       "    </tr>\n",
       "    <tr>\n",
       "      <th>2</th>\n",
       "      <td>72</td>\n",
       "      <td>No_USA</td>\n",
       "    </tr>\n",
       "    <tr>\n",
       "      <th>3</th>\n",
       "      <td>60</td>\n",
       "      <td>No_USA</td>\n",
       "    </tr>\n",
       "    <tr>\n",
       "      <th>4</th>\n",
       "      <td>60</td>\n",
       "      <td>Yes_USA</td>\n",
       "    </tr>\n",
       "  </tbody>\n",
       "</table>\n",
       "</div>"
      ],
      "text/plain": [
       "   Age_USA_Latin Smoke_Latin_USA\n",
       "0             97          No_USA\n",
       "1             28         Yes_USA\n",
       "2             72          No_USA\n",
       "3             60          No_USA\n",
       "4             60         Yes_USA"
      ]
     },
     "execution_count": 70,
     "metadata": {},
     "output_type": "execute_result"
    }
   ],
   "source": [
    "# Copy the Age and Smoke data from the USA datasets and convert them to similar value set:\n",
    "AgeSmoke_USA= df_USA[['Age_USA','SmokeUSAyesNo']].copy()\n",
    "AgeSmoke_USA = AgeSmoke_USA.rename(columns={'Age_USA':'Age_USA_Latin','SmokeUSAyesNo':'Smoke_Latin_USA'})\n",
    "AgeSmoke_USA['Smoke_Latin_USA'] = AgeSmoke_USA['Smoke_Latin_USA'].replace(['yes','no'],['Yes_USA','No_USA'])\n",
    "AgeSmoke_USA.head() # new dataframe for USA"
   ]
  },
  {
   "cell_type": "code",
   "execution_count": 71,
   "metadata": {
    "colab": {
     "base_uri": "https://localhost:8080/",
     "height": 202
    },
    "id": "-cAzezhUeSMM",
    "outputId": "cb0b9424-5ffc-421d-bcd3-c4bc2271c5fe"
   },
   "outputs": [
    {
     "data": {
      "text/html": [
       "<div>\n",
       "<style scoped>\n",
       "    .dataframe tbody tr th:only-of-type {\n",
       "        vertical-align: middle;\n",
       "    }\n",
       "\n",
       "    .dataframe tbody tr th {\n",
       "        vertical-align: top;\n",
       "    }\n",
       "\n",
       "    .dataframe thead th {\n",
       "        text-align: right;\n",
       "    }\n",
       "</style>\n",
       "<table border=\"1\" class=\"dataframe\">\n",
       "  <thead>\n",
       "    <tr style=\"text-align: right;\">\n",
       "      <th></th>\n",
       "      <th>Age_USA_Latin</th>\n",
       "      <th>Smoke_Latin_USA</th>\n",
       "    </tr>\n",
       "  </thead>\n",
       "  <tbody>\n",
       "    <tr>\n",
       "      <th>0</th>\n",
       "      <td>21.0</td>\n",
       "      <td>No_Latin</td>\n",
       "    </tr>\n",
       "    <tr>\n",
       "      <th>1</th>\n",
       "      <td>21.0</td>\n",
       "      <td>Yes_Latin</td>\n",
       "    </tr>\n",
       "    <tr>\n",
       "      <th>2</th>\n",
       "      <td>23.0</td>\n",
       "      <td>No_Latin</td>\n",
       "    </tr>\n",
       "    <tr>\n",
       "      <th>3</th>\n",
       "      <td>27.0</td>\n",
       "      <td>No_Latin</td>\n",
       "    </tr>\n",
       "    <tr>\n",
       "      <th>4</th>\n",
       "      <td>22.0</td>\n",
       "      <td>No_Latin</td>\n",
       "    </tr>\n",
       "  </tbody>\n",
       "</table>\n",
       "</div>"
      ],
      "text/plain": [
       "   Age_USA_Latin Smoke_Latin_USA\n",
       "0           21.0        No_Latin\n",
       "1           21.0       Yes_Latin\n",
       "2           23.0        No_Latin\n",
       "3           27.0        No_Latin\n",
       "4           22.0        No_Latin"
      ]
     },
     "execution_count": 71,
     "metadata": {},
     "output_type": "execute_result"
    }
   ],
   "source": [
    "# Copy the Age and Smoke data from the Latin countries datasets and convert them to similar value set:\n",
    "AgeSmoke_Latin= df_Latin[['Age_Latin','Smoke_Latin']].copy()\n",
    "AgeSmoke_Latin = AgeSmoke_Latin.rename(columns={'Age_Latin':'Age_USA_Latin','Smoke_Latin':'Smoke_Latin_USA'})\n",
    "AgeSmoke_Latin['Smoke_Latin_USA'] = AgeSmoke_Latin['Smoke_Latin_USA'].replace(['yes','no'],['Yes_Latin','No_Latin'])\n",
    "AgeSmoke_Latin.head() # new dataframe to Latin"
   ]
  },
  {
   "cell_type": "code",
   "execution_count": 72,
   "metadata": {
    "colab": {
     "base_uri": "https://localhost:8080/",
     "height": 202
    },
    "id": "0OHuXmlVeSOl",
    "outputId": "d79e9381-5870-4a63-ef77-2f854aaff199"
   },
   "outputs": [
    {
     "data": {
      "text/html": [
       "<div>\n",
       "<style scoped>\n",
       "    .dataframe tbody tr th:only-of-type {\n",
       "        vertical-align: middle;\n",
       "    }\n",
       "\n",
       "    .dataframe tbody tr th {\n",
       "        vertical-align: top;\n",
       "    }\n",
       "\n",
       "    .dataframe thead th {\n",
       "        text-align: right;\n",
       "    }\n",
       "</style>\n",
       "<table border=\"1\" class=\"dataframe\">\n",
       "  <thead>\n",
       "    <tr style=\"text-align: right;\">\n",
       "      <th></th>\n",
       "      <th>Age_USA_Latin</th>\n",
       "      <th>Smoke_Latin_USA</th>\n",
       "    </tr>\n",
       "  </thead>\n",
       "  <tbody>\n",
       "    <tr>\n",
       "      <th>0</th>\n",
       "      <td>97.0</td>\n",
       "      <td>No_USA</td>\n",
       "    </tr>\n",
       "    <tr>\n",
       "      <th>1</th>\n",
       "      <td>28.0</td>\n",
       "      <td>Yes_USA</td>\n",
       "    </tr>\n",
       "    <tr>\n",
       "      <th>2</th>\n",
       "      <td>72.0</td>\n",
       "      <td>No_USA</td>\n",
       "    </tr>\n",
       "    <tr>\n",
       "      <th>3</th>\n",
       "      <td>60.0</td>\n",
       "      <td>No_USA</td>\n",
       "    </tr>\n",
       "    <tr>\n",
       "      <th>4</th>\n",
       "      <td>60.0</td>\n",
       "      <td>Yes_USA</td>\n",
       "    </tr>\n",
       "  </tbody>\n",
       "</table>\n",
       "</div>"
      ],
      "text/plain": [
       "   Age_USA_Latin Smoke_Latin_USA\n",
       "0           97.0          No_USA\n",
       "1           28.0         Yes_USA\n",
       "2           72.0          No_USA\n",
       "3           60.0          No_USA\n",
       "4           60.0         Yes_USA"
      ]
     },
     "execution_count": 72,
     "metadata": {},
     "output_type": "execute_result"
    }
   ],
   "source": [
    "# combine two dataframes  \n",
    "AgeSmoke_All = pd.concat([AgeSmoke_USA,AgeSmoke_Latin], axis=0)\n",
    "AgeSmoke_All.head() # the combined dataframe from the two new dataframes"
   ]
  },
  {
   "cell_type": "markdown",
   "metadata": {},
   "source": [
    "<strong/><font size=4>Hypothesis 4.1:<br></strong>\n",
    "\n",
    "**Objective:** Studying the Relationship (dependency) between age and smoking regardless of country.<br>\n",
    "**Question:** is there a relationship (dependency) between age and smoking  regardless of country?<br>\n",
    "**Null Hypothesis (H0):** There is no relationship (dependency) between age and smoking  regardless of country.<br>\n",
    "**Alternative Hypothesis (H.A.):** There is a significant relationship (dependency) between age and smoking regardless of country.<br>\n",
    "\n",
    "<strong/><font size=3>Method: Chi-squared test.<br></strong>"
   ]
  },
  {
   "cell_type": "code",
   "execution_count": 73,
   "metadata": {
    "id": "wCRUcf_KswTl"
   },
   "outputs": [],
   "source": [
    "# categorize and lebel it as new age column\n",
    "category = pd.cut(AgeSmoke_All.Age_USA_Latin,bins=[18,30,45,60,99],labels=['Young','Adult_1','Adult_2','Elderly'])\n",
    "AgeSmoke_All.insert(1,'Age_category',category)\n"
   ]
  },
  {
   "cell_type": "code",
   "execution_count": 74,
   "metadata": {
    "colab": {
     "base_uri": "https://localhost:8080/",
     "height": 202
    },
    "id": "EVtT2S5HUA4H",
    "outputId": "6fcdf1b6-db2c-4e6a-d634-2fa438edb25f"
   },
   "outputs": [
    {
     "data": {
      "text/html": [
       "<div>\n",
       "<style scoped>\n",
       "    .dataframe tbody tr th:only-of-type {\n",
       "        vertical-align: middle;\n",
       "    }\n",
       "\n",
       "    .dataframe tbody tr th {\n",
       "        vertical-align: top;\n",
       "    }\n",
       "\n",
       "    .dataframe thead th {\n",
       "        text-align: right;\n",
       "    }\n",
       "</style>\n",
       "<table border=\"1\" class=\"dataframe\">\n",
       "  <thead>\n",
       "    <tr style=\"text-align: right;\">\n",
       "      <th></th>\n",
       "      <th>Age_USA_Latin</th>\n",
       "      <th>Age_category</th>\n",
       "      <th>Smoke_Latin_USA</th>\n",
       "    </tr>\n",
       "  </thead>\n",
       "  <tbody>\n",
       "    <tr>\n",
       "      <th>0</th>\n",
       "      <td>97.0</td>\n",
       "      <td>Elderly</td>\n",
       "      <td>No_USA</td>\n",
       "    </tr>\n",
       "    <tr>\n",
       "      <th>1</th>\n",
       "      <td>28.0</td>\n",
       "      <td>Young</td>\n",
       "      <td>Yes_USA</td>\n",
       "    </tr>\n",
       "    <tr>\n",
       "      <th>2</th>\n",
       "      <td>72.0</td>\n",
       "      <td>Elderly</td>\n",
       "      <td>No_USA</td>\n",
       "    </tr>\n",
       "    <tr>\n",
       "      <th>3</th>\n",
       "      <td>60.0</td>\n",
       "      <td>Adult_2</td>\n",
       "      <td>No_USA</td>\n",
       "    </tr>\n",
       "    <tr>\n",
       "      <th>4</th>\n",
       "      <td>60.0</td>\n",
       "      <td>Adult_2</td>\n",
       "      <td>Yes_USA</td>\n",
       "    </tr>\n",
       "  </tbody>\n",
       "</table>\n",
       "</div>"
      ],
      "text/plain": [
       "   Age_USA_Latin Age_category Smoke_Latin_USA\n",
       "0           97.0      Elderly          No_USA\n",
       "1           28.0        Young         Yes_USA\n",
       "2           72.0      Elderly          No_USA\n",
       "3           60.0      Adult_2          No_USA\n",
       "4           60.0      Adult_2         Yes_USA"
      ]
     },
     "execution_count": 74,
     "metadata": {},
     "output_type": "execute_result"
    }
   ],
   "source": [
    "AgeSmoke_All.head() # with new age category column"
   ]
  },
  {
   "cell_type": "code",
   "execution_count": 75,
   "metadata": {
    "colab": {
     "base_uri": "https://localhost:8080/",
     "height": 263
    },
    "id": "Y3B7lkdvVUxw",
    "outputId": "2f40909e-daf3-4130-81cc-2b349b7d5f87"
   },
   "outputs": [
    {
     "data": {
      "text/html": [
       "<div>\n",
       "<style scoped>\n",
       "    .dataframe tbody tr th:only-of-type {\n",
       "        vertical-align: middle;\n",
       "    }\n",
       "\n",
       "    .dataframe tbody tr th {\n",
       "        vertical-align: top;\n",
       "    }\n",
       "\n",
       "    .dataframe thead tr th {\n",
       "        text-align: left;\n",
       "    }\n",
       "\n",
       "    .dataframe thead tr:last-of-type th {\n",
       "        text-align: right;\n",
       "    }\n",
       "</style>\n",
       "<table border=\"1\" class=\"dataframe\">\n",
       "  <thead>\n",
       "    <tr>\n",
       "      <th></th>\n",
       "      <th colspan=\"5\" halign=\"left\">Smoke_Latin_USA</th>\n",
       "    </tr>\n",
       "    <tr>\n",
       "      <th>Smoke_Latin_USA</th>\n",
       "      <th>No_Latin</th>\n",
       "      <th>No_USA</th>\n",
       "      <th>Yes_Latin</th>\n",
       "      <th>Yes_USA</th>\n",
       "      <th>All</th>\n",
       "    </tr>\n",
       "    <tr>\n",
       "      <th>Age_category</th>\n",
       "      <th></th>\n",
       "      <th></th>\n",
       "      <th></th>\n",
       "      <th></th>\n",
       "      <th></th>\n",
       "    </tr>\n",
       "  </thead>\n",
       "  <tbody>\n",
       "    <tr>\n",
       "      <th>Young</th>\n",
       "      <td>1489</td>\n",
       "      <td>3597</td>\n",
       "      <td>25</td>\n",
       "      <td>563</td>\n",
       "      <td>5674</td>\n",
       "    </tr>\n",
       "    <tr>\n",
       "      <th>Adult_1</th>\n",
       "      <td>327</td>\n",
       "      <td>5584</td>\n",
       "      <td>15</td>\n",
       "      <td>1075</td>\n",
       "      <td>7001</td>\n",
       "    </tr>\n",
       "    <tr>\n",
       "      <th>Adult_2</th>\n",
       "      <td>10</td>\n",
       "      <td>5727</td>\n",
       "      <td>3</td>\n",
       "      <td>1211</td>\n",
       "      <td>6951</td>\n",
       "    </tr>\n",
       "    <tr>\n",
       "      <th>Elderly</th>\n",
       "      <td>1</td>\n",
       "      <td>9452</td>\n",
       "      <td>0</td>\n",
       "      <td>1070</td>\n",
       "      <td>10523</td>\n",
       "    </tr>\n",
       "    <tr>\n",
       "      <th>All</th>\n",
       "      <td>1827</td>\n",
       "      <td>24360</td>\n",
       "      <td>43</td>\n",
       "      <td>3919</td>\n",
       "      <td>30149</td>\n",
       "    </tr>\n",
       "  </tbody>\n",
       "</table>\n",
       "</div>"
      ],
      "text/plain": [
       "                Smoke_Latin_USA                                \n",
       "Smoke_Latin_USA        No_Latin No_USA Yes_Latin Yes_USA    All\n",
       "Age_category                                                   \n",
       "Young                      1489   3597        25     563   5674\n",
       "Adult_1                     327   5584        15    1075   7001\n",
       "Adult_2                      10   5727         3    1211   6951\n",
       "Elderly                       1   9452         0    1070  10523\n",
       "All                        1827  24360        43    3919  30149"
      ]
     },
     "execution_count": 75,
     "metadata": {},
     "output_type": "execute_result"
    }
   ],
   "source": [
    "researchpy.crosstab(AgeSmoke_All[\"Age_category\"], AgeSmoke_All[\"Smoke_Latin_USA\"])"
   ]
  },
  {
   "cell_type": "code",
   "execution_count": 76,
   "metadata": {
    "colab": {
     "base_uri": "https://localhost:8080/",
     "height": 141
    },
    "id": "-1Z7_9HIUL0X",
    "outputId": "6e301c27-7244-4afc-cfe6-25088490d795"
   },
   "outputs": [
    {
     "data": {
      "text/html": [
       "<div>\n",
       "<style scoped>\n",
       "    .dataframe tbody tr th:only-of-type {\n",
       "        vertical-align: middle;\n",
       "    }\n",
       "\n",
       "    .dataframe tbody tr th {\n",
       "        vertical-align: top;\n",
       "    }\n",
       "\n",
       "    .dataframe thead th {\n",
       "        text-align: right;\n",
       "    }\n",
       "</style>\n",
       "<table border=\"1\" class=\"dataframe\">\n",
       "  <thead>\n",
       "    <tr style=\"text-align: right;\">\n",
       "      <th></th>\n",
       "      <th>Chi-square test</th>\n",
       "      <th>results</th>\n",
       "    </tr>\n",
       "  </thead>\n",
       "  <tbody>\n",
       "    <tr>\n",
       "      <th>0</th>\n",
       "      <td>Pearson Chi-square ( 9.0) =</td>\n",
       "      <td>5493.6586</td>\n",
       "    </tr>\n",
       "    <tr>\n",
       "      <th>1</th>\n",
       "      <td>p-value =</td>\n",
       "      <td>0.0000</td>\n",
       "    </tr>\n",
       "    <tr>\n",
       "      <th>2</th>\n",
       "      <td>Cramer's V =</td>\n",
       "      <td>0.2465</td>\n",
       "    </tr>\n",
       "  </tbody>\n",
       "</table>\n",
       "</div>"
      ],
      "text/plain": [
       "                Chi-square test    results\n",
       "0  Pearson Chi-square ( 9.0) =   5493.6586\n",
       "1                    p-value =      0.0000\n",
       "2                 Cramer's V =      0.2465"
      ]
     },
     "execution_count": 76,
     "metadata": {},
     "output_type": "execute_result"
    }
   ],
   "source": [
    "# Chi-Square Test between smoking by age in two countries(USA and Latin)\n",
    "\n",
    "crosstab, result, expected =researchpy.crosstab(AgeSmoke_All[\"Age_category\"], AgeSmoke_All[\"Smoke_Latin_USA\"],\n",
    "                                             test= \"chi-square\",              # This is the test used\n",
    "                                             expected_freqs= True)            # This is to get the expected cell counts.\n",
    "result"
   ]
  },
  {
   "cell_type": "markdown",
   "metadata": {
    "id": "UMcAFJw4nIEV"
   },
   "source": [
    "<strong/><font size=3>Summary:<br></strong> The test result (P-value = 0) shows that there is a significant relationship (dependency) between age and smoking regardless of country.<br>"
   ]
  },
  {
   "cell_type": "markdown",
   "metadata": {},
   "source": [
    "\n",
    "\n",
    "<strong/><font size=4>Hypothesis 4.2:<br></strong>\n",
    "    \n",
    "**Objective:** Studying  the age distribution of smokers in USA compared to the age distribution of smokers in Latin America (Peru, Mexico, and Colombia).<br>\n",
    "**Question:** Does the age distribution of smokers vary by country?<br>\n",
    "**Null Hypothesis (H0):** There is no difference in age distribution between adults who consume cigarettes in the U.S. and that of Latin America (Peru, Mexico, and Colombia).<br>\n",
    "**Alternative Hypothesis (H.A.):** There is a significant difference in age distribution between adults who consume cigarettes in the U.S. and Latin America(Peru, Mexico, and Colombia).<br>\n",
    "\n",
    "<strong/><font size=3>Method: Chi-squared test.<br></strong>"
   ]
  },
  {
   "cell_type": "code",
   "execution_count": 77,
   "metadata": {
    "id": "EF0m3z9aiSgB"
   },
   "outputs": [],
   "source": [
    "AgeSmokeyes_All=AgeSmoke_All[(AgeSmoke_All[\"Smoke_Latin_USA\"] =='Yes_USA')|(AgeSmoke_All[\"Smoke_Latin_USA\"] =='Yes_Latin')]"
   ]
  },
  {
   "cell_type": "code",
   "execution_count": 78,
   "metadata": {
    "colab": {
     "base_uri": "https://localhost:8080/",
     "height": 415
    },
    "id": "jQOpg4yrjI3X",
    "outputId": "30ee1643-7d32-48ed-cd2e-1f4373534ef1"
   },
   "outputs": [
    {
     "data": {
      "text/html": [
       "<div>\n",
       "<style scoped>\n",
       "    .dataframe tbody tr th:only-of-type {\n",
       "        vertical-align: middle;\n",
       "    }\n",
       "\n",
       "    .dataframe tbody tr th {\n",
       "        vertical-align: top;\n",
       "    }\n",
       "\n",
       "    .dataframe thead th {\n",
       "        text-align: right;\n",
       "    }\n",
       "</style>\n",
       "<table border=\"1\" class=\"dataframe\">\n",
       "  <thead>\n",
       "    <tr style=\"text-align: right;\">\n",
       "      <th></th>\n",
       "      <th>Age_USA_Latin</th>\n",
       "      <th>Age_category</th>\n",
       "      <th>Smoke_Latin_USA</th>\n",
       "    </tr>\n",
       "  </thead>\n",
       "  <tbody>\n",
       "    <tr>\n",
       "      <th>1</th>\n",
       "      <td>28.000000</td>\n",
       "      <td>Young</td>\n",
       "      <td>Yes_USA</td>\n",
       "    </tr>\n",
       "    <tr>\n",
       "      <th>4</th>\n",
       "      <td>60.000000</td>\n",
       "      <td>Adult_2</td>\n",
       "      <td>Yes_USA</td>\n",
       "    </tr>\n",
       "    <tr>\n",
       "      <th>7</th>\n",
       "      <td>61.000000</td>\n",
       "      <td>Elderly</td>\n",
       "      <td>Yes_USA</td>\n",
       "    </tr>\n",
       "    <tr>\n",
       "      <th>10</th>\n",
       "      <td>63.000000</td>\n",
       "      <td>Elderly</td>\n",
       "      <td>Yes_USA</td>\n",
       "    </tr>\n",
       "    <tr>\n",
       "      <th>11</th>\n",
       "      <td>28.000000</td>\n",
       "      <td>Young</td>\n",
       "      <td>Yes_USA</td>\n",
       "    </tr>\n",
       "    <tr>\n",
       "      <th>...</th>\n",
       "      <td>...</td>\n",
       "      <td>...</td>\n",
       "      <td>...</td>\n",
       "    </tr>\n",
       "    <tr>\n",
       "      <th>1676</th>\n",
       "      <td>30.684347</td>\n",
       "      <td>Adult_1</td>\n",
       "      <td>Yes_Latin</td>\n",
       "    </tr>\n",
       "    <tr>\n",
       "      <th>1727</th>\n",
       "      <td>31.205668</td>\n",
       "      <td>Adult_1</td>\n",
       "      <td>Yes_Latin</td>\n",
       "    </tr>\n",
       "    <tr>\n",
       "      <th>1728</th>\n",
       "      <td>30.899219</td>\n",
       "      <td>Adult_1</td>\n",
       "      <td>Yes_Latin</td>\n",
       "    </tr>\n",
       "    <tr>\n",
       "      <th>1763</th>\n",
       "      <td>31.199261</td>\n",
       "      <td>Adult_1</td>\n",
       "      <td>Yes_Latin</td>\n",
       "    </tr>\n",
       "    <tr>\n",
       "      <th>1764</th>\n",
       "      <td>31.190219</td>\n",
       "      <td>Adult_1</td>\n",
       "      <td>Yes_Latin</td>\n",
       "    </tr>\n",
       "  </tbody>\n",
       "</table>\n",
       "<p>3972 rows × 3 columns</p>\n",
       "</div>"
      ],
      "text/plain": [
       "      Age_USA_Latin Age_category Smoke_Latin_USA\n",
       "1         28.000000        Young         Yes_USA\n",
       "4         60.000000      Adult_2         Yes_USA\n",
       "7         61.000000      Elderly         Yes_USA\n",
       "10        63.000000      Elderly         Yes_USA\n",
       "11        28.000000        Young         Yes_USA\n",
       "...             ...          ...             ...\n",
       "1676      30.684347      Adult_1       Yes_Latin\n",
       "1727      31.205668      Adult_1       Yes_Latin\n",
       "1728      30.899219      Adult_1       Yes_Latin\n",
       "1763      31.199261      Adult_1       Yes_Latin\n",
       "1764      31.190219      Adult_1       Yes_Latin\n",
       "\n",
       "[3972 rows x 3 columns]"
      ]
     },
     "execution_count": 78,
     "metadata": {},
     "output_type": "execute_result"
    }
   ],
   "source": [
    "AgeSmokeyes_All # All smokers in both countries(Latin and USA)"
   ]
  },
  {
   "cell_type": "code",
   "execution_count": 79,
   "metadata": {
    "colab": {
     "base_uri": "https://localhost:8080/",
     "height": 263
    },
    "id": "jv2ZUBnNh4jp",
    "outputId": "7d68bd11-283c-4856-9ca3-d2fd6dc7c580"
   },
   "outputs": [
    {
     "data": {
      "text/html": [
       "<div>\n",
       "<style scoped>\n",
       "    .dataframe tbody tr th:only-of-type {\n",
       "        vertical-align: middle;\n",
       "    }\n",
       "\n",
       "    .dataframe tbody tr th {\n",
       "        vertical-align: top;\n",
       "    }\n",
       "\n",
       "    .dataframe thead tr th {\n",
       "        text-align: left;\n",
       "    }\n",
       "\n",
       "    .dataframe thead tr:last-of-type th {\n",
       "        text-align: right;\n",
       "    }\n",
       "</style>\n",
       "<table border=\"1\" class=\"dataframe\">\n",
       "  <thead>\n",
       "    <tr>\n",
       "      <th></th>\n",
       "      <th colspan=\"3\" halign=\"left\">Smoke_Latin_USA</th>\n",
       "    </tr>\n",
       "    <tr>\n",
       "      <th>Smoke_Latin_USA</th>\n",
       "      <th>Yes_Latin</th>\n",
       "      <th>Yes_USA</th>\n",
       "      <th>All</th>\n",
       "    </tr>\n",
       "    <tr>\n",
       "      <th>Age_category</th>\n",
       "      <th></th>\n",
       "      <th></th>\n",
       "      <th></th>\n",
       "    </tr>\n",
       "  </thead>\n",
       "  <tbody>\n",
       "    <tr>\n",
       "      <th>Young</th>\n",
       "      <td>25</td>\n",
       "      <td>563</td>\n",
       "      <td>588</td>\n",
       "    </tr>\n",
       "    <tr>\n",
       "      <th>Adult_1</th>\n",
       "      <td>15</td>\n",
       "      <td>1075</td>\n",
       "      <td>1090</td>\n",
       "    </tr>\n",
       "    <tr>\n",
       "      <th>Adult_2</th>\n",
       "      <td>3</td>\n",
       "      <td>1211</td>\n",
       "      <td>1214</td>\n",
       "    </tr>\n",
       "    <tr>\n",
       "      <th>Elderly</th>\n",
       "      <td>0</td>\n",
       "      <td>1070</td>\n",
       "      <td>1070</td>\n",
       "    </tr>\n",
       "    <tr>\n",
       "      <th>All</th>\n",
       "      <td>43</td>\n",
       "      <td>3919</td>\n",
       "      <td>3962</td>\n",
       "    </tr>\n",
       "  </tbody>\n",
       "</table>\n",
       "</div>"
      ],
      "text/plain": [
       "                Smoke_Latin_USA              \n",
       "Smoke_Latin_USA       Yes_Latin Yes_USA   All\n",
       "Age_category                                 \n",
       "Young                        25     563   588\n",
       "Adult_1                      15    1075  1090\n",
       "Adult_2                       3    1211  1214\n",
       "Elderly                       0    1070  1070\n",
       "All                          43    3919  3962"
      ]
     },
     "execution_count": 79,
     "metadata": {},
     "output_type": "execute_result"
    }
   ],
   "source": [
    "researchpy.crosstab(AgeSmokeyes_All[\"Age_category\"], AgeSmokeyes_All[\"Smoke_Latin_USA\"])"
   ]
  },
  {
   "cell_type": "code",
   "execution_count": 80,
   "metadata": {
    "colab": {
     "base_uri": "https://localhost:8080/",
     "height": 141
    },
    "id": "SvpKnp0pjl2D",
    "outputId": "dfbbc981-f3b3-4714-c017-362790e68e6b"
   },
   "outputs": [
    {
     "data": {
      "text/html": [
       "<div>\n",
       "<style scoped>\n",
       "    .dataframe tbody tr th:only-of-type {\n",
       "        vertical-align: middle;\n",
       "    }\n",
       "\n",
       "    .dataframe tbody tr th {\n",
       "        vertical-align: top;\n",
       "    }\n",
       "\n",
       "    .dataframe thead th {\n",
       "        text-align: right;\n",
       "    }\n",
       "</style>\n",
       "<table border=\"1\" class=\"dataframe\">\n",
       "  <thead>\n",
       "    <tr style=\"text-align: right;\">\n",
       "      <th></th>\n",
       "      <th>Chi-square test</th>\n",
       "      <th>results</th>\n",
       "    </tr>\n",
       "  </thead>\n",
       "  <tbody>\n",
       "    <tr>\n",
       "      <th>0</th>\n",
       "      <td>Pearson Chi-square ( 3.0) =</td>\n",
       "      <td>75.4591</td>\n",
       "    </tr>\n",
       "    <tr>\n",
       "      <th>1</th>\n",
       "      <td>p-value =</td>\n",
       "      <td>0.0000</td>\n",
       "    </tr>\n",
       "    <tr>\n",
       "      <th>2</th>\n",
       "      <td>Cramer's V =</td>\n",
       "      <td>0.1380</td>\n",
       "    </tr>\n",
       "  </tbody>\n",
       "</table>\n",
       "</div>"
      ],
      "text/plain": [
       "                Chi-square test  results\n",
       "0  Pearson Chi-square ( 3.0) =   75.4591\n",
       "1                    p-value =    0.0000\n",
       "2                 Cramer's V =    0.1380"
      ]
     },
     "execution_count": 80,
     "metadata": {},
     "output_type": "execute_result"
    }
   ],
   "source": [
    "# Chi-Square Test between smoking by age in two countries(USA and Latin)\n",
    "\n",
    "crosstab, result, expected =researchpy.crosstab(AgeSmokeyes_All[\"Age_category\"], AgeSmokeyes_All[\"Smoke_Latin_USA\"],\n",
    "                                             test= \"chi-square\",              # This is the test used\n",
    "                                             expected_freqs= True)            # This is to get the expected cell counts.\n",
    "result"
   ]
  },
  {
   "cell_type": "markdown",
   "metadata": {
    "id": "O3g-4kcsn0Zb"
   },
   "source": [
    "<strong/><font size=3>Summary:<br></strong> The test result (P-value = 0) shows that  the age distribution of smokers in USA is significantly different from  the age distribution of smokers in Latin (Peru, Mexico, and Colombia.<br>\n",
    "**Note:** Having small number of smokers in the sample of Latin Americ (Peru, Mexico, and Colombia) may affect the analysis.<br>"
   ]
  },
  {
   "cell_type": "markdown",
   "metadata": {
    "id": "hVG63NyiswsA"
   },
   "source": [
    "<strong/><font size=4>Conclusion<br></strong>\n",
    "From this project, we used two datasets to conduct the exploratory data analysis and tested serval hypotheses based on the given information from the datasets.<br>\n",
    "The analysis focused on statistical data analysis and answer specific questions for 18 and older adults. The results of this project showed different relationships between specific variables.<br>\n",
    "\n",
    "We learned that:<br>\n",
    "- The percentages of cigarette smoking vary by country.\n",
    "- The BMI of females of Latin America is higher than the BMI of males of Latin America, BMI of USA male and BMI of USA female.\n",
    "- There are significant differences between BMI of Males  in Latin countries and BMI of Males in the U.S.\n",
    "- For the age groups less than or equal to 45, there is a significant  difference in BMI distribution between the adults in the U.S. and Latin America(Peru, Mexico, and Colombia).\n",
    "- There is a significant relationship (dependency) between age and smoking regardless of country.\n",
    "- There is a significant difference in age distribution between adults who consume cigarettes in the U.S. and Latin America(Peru, Mexico, and Colombia).\n",
    "\n",
    " \n",
    "  \n"
   ]
  },
  {
   "cell_type": "markdown",
   "metadata": {
    "id": "9qNT8Ti3vpmx"
   },
   "source": [
    "This project helps us to understand how to combine,organize and manage  information from two large datasets (or more than two), and how to convert different formats of data to something that we can use to do the analysis.\n",
    "It is interesting to explore different datasets, and sharing ideas with groupmates. We  get hands on experience to implement statistical methods and tests to make conclusion.  It helps us to think from different perspectives and enables us to gain more experience from teamwork."
   ]
  },
  {
   "cell_type": "code",
   "execution_count": null,
   "metadata": {},
   "outputs": [],
   "source": []
  }
 ],
 "metadata": {
  "colab": {
   "collapsed_sections": [],
   "name": "601 final project.",
   "provenance": []
  },
  "kernelspec": {
   "display_name": "Python 3",
   "language": "python",
   "name": "python3"
  },
  "language_info": {
   "codemirror_mode": {
    "name": "ipython",
    "version": 3
   },
   "file_extension": ".py",
   "mimetype": "text/x-python",
   "name": "python",
   "nbconvert_exporter": "python",
   "pygments_lexer": "ipython3",
   "version": "3.8.3"
  }
 },
 "nbformat": 4,
 "nbformat_minor": 1
}
