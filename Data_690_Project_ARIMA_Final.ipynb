{
  "nbformat": 4,
  "nbformat_minor": 0,
  "metadata": {
    "colab": {
      "name": "Data_690_Project_ARIMA.ipynb",
      "provenance": [],
      "collapsed_sections": []
    },
    "kernelspec": {
      "name": "python3",
      "display_name": "Python 3"
    },
    "language_info": {
      "name": "python"
    }
  },
  "cells": [
    {
      "cell_type": "code",
      "source": [
        "pip install yfinance"
      ],
      "metadata": {
        "colab": {
          "base_uri": "https://localhost:8080/"
        },
        "id": "sbnBNnJkdPiQ",
        "outputId": "72e4af2a-2e8a-4703-b9e7-8de5163f4e8e"
      },
      "execution_count": 79,
      "outputs": [
        {
          "output_type": "stream",
          "name": "stdout",
          "text": [
            "Requirement already satisfied: yfinance in /usr/local/lib/python3.7/dist-packages (0.1.70)\n",
            "Requirement already satisfied: multitasking>=0.0.7 in /usr/local/lib/python3.7/dist-packages (from yfinance) (0.0.10)\n",
            "Requirement already satisfied: pandas>=0.24.0 in /usr/local/lib/python3.7/dist-packages (from yfinance) (1.3.5)\n",
            "Requirement already satisfied: requests>=2.26 in /usr/local/lib/python3.7/dist-packages (from yfinance) (2.27.1)\n",
            "Requirement already satisfied: numpy>=1.15 in /usr/local/lib/python3.7/dist-packages (from yfinance) (1.21.5)\n",
            "Requirement already satisfied: lxml>=4.5.1 in /usr/local/lib/python3.7/dist-packages (from yfinance) (4.8.0)\n",
            "Requirement already satisfied: pytz>=2017.3 in /usr/local/lib/python3.7/dist-packages (from pandas>=0.24.0->yfinance) (2018.9)\n",
            "Requirement already satisfied: python-dateutil>=2.7.3 in /usr/local/lib/python3.7/dist-packages (from pandas>=0.24.0->yfinance) (2.8.2)\n",
            "Requirement already satisfied: six>=1.5 in /usr/local/lib/python3.7/dist-packages (from python-dateutil>=2.7.3->pandas>=0.24.0->yfinance) (1.15.0)\n",
            "Requirement already satisfied: certifi>=2017.4.17 in /usr/local/lib/python3.7/dist-packages (from requests>=2.26->yfinance) (2021.10.8)\n",
            "Requirement already satisfied: urllib3<1.27,>=1.21.1 in /usr/local/lib/python3.7/dist-packages (from requests>=2.26->yfinance) (1.24.3)\n",
            "Requirement already satisfied: charset-normalizer~=2.0.0 in /usr/local/lib/python3.7/dist-packages (from requests>=2.26->yfinance) (2.0.12)\n",
            "Requirement already satisfied: idna<4,>=2.5 in /usr/local/lib/python3.7/dist-packages (from requests>=2.26->yfinance) (2.10)\n"
          ]
        }
      ]
    },
    {
      "cell_type": "code",
      "execution_count": 80,
      "metadata": {
        "id": "4r035xGxF_or"
      },
      "outputs": [],
      "source": [
        "import pandas as pd\n",
        "import matplotlib.pyplot as plt\n",
        "import numpy as np\n",
        "import datetime\n",
        "import seaborn as sns\n",
        "import warnings\n",
        "import yfinance as yf\n",
        "import seaborn as sns; sns.set()\n",
        "yf.pdr_override() \n",
        "%matplotlib inline\n",
        "warnings.filterwarnings('ignore')"
      ]
    },
    {
      "cell_type": "code",
      "source": [
        "stocks = ['IBM','AMZN','BA','^GSPC']\n",
        "start = datetime.datetime(2010, 1, 1)\n",
        "end = datetime.datetime(2022, 3, 27)\n",
        "stock_prices = yf.download(stocks, start=start ,end = end, interval='1d')"
      ],
      "metadata": {
        "colab": {
          "base_uri": "https://localhost:8080/"
        },
        "id": "RKU_zca0dYeG",
        "outputId": "3de5bc67-8fe3-44e0-d90f-40434dc46c5f"
      },
      "execution_count": 81,
      "outputs": [
        {
          "output_type": "stream",
          "name": "stdout",
          "text": [
            "[*********************100%***********************]  4 of 4 completed\n"
          ]
        }
      ]
    },
    {
      "cell_type": "code",
      "source": [
        "stock_prices.head()"
      ],
      "metadata": {
        "colab": {
          "base_uri": "https://localhost:8080/",
          "height": 298
        },
        "id": "tqJWL6vZdaEh",
        "outputId": "e5c39cf8-e5db-4971-d57f-89fe85661857"
      },
      "execution_count": 82,
      "outputs": [
        {
          "output_type": "execute_result",
          "data": {
            "text/plain": [
              "             Adj Close                                          Close  \\\n",
              "                  AMZN         BA        IBM        ^GSPC        AMZN   \n",
              "Date                                                                    \n",
              "2010-01-04  133.899994  43.777557  82.858444  1132.989990  133.899994   \n",
              "2010-01-05  134.690002  45.211353  81.857513  1136.520020  134.690002   \n",
              "2010-01-06  132.250000  46.582806  81.325783  1137.140015  132.250000   \n",
              "2010-01-07  130.000000  48.468563  81.044273  1141.689941  130.000000   \n",
              "2010-01-08  133.520004  48.001019  81.857513  1144.979980  133.520004   \n",
              "\n",
              "                                                      High             ...  \\\n",
              "                   BA         IBM        ^GSPC        AMZN         BA  ...   \n",
              "Date                                                                   ...   \n",
              "2010-01-04  56.180000  126.625237  1132.989990  136.610001  56.389999  ...   \n",
              "2010-01-05  58.020000  125.095604  1136.520020  135.479996  58.279999  ...   \n",
              "2010-01-06  59.779999  124.282982  1137.140015  134.729996  59.990002  ...   \n",
              "2010-01-07  62.200001  123.852776  1141.689941  132.320007  62.310001  ...   \n",
              "2010-01-08  61.599998  125.095604  1144.979980  133.679993  61.779999  ...   \n",
              "\n",
              "                   Low                     Open                         \\\n",
              "                   IBM        ^GSPC        AMZN         BA         IBM   \n",
              "Date                                                                     \n",
              "2010-01-04  125.095604  1116.560059  136.250000  55.720001  125.411087   \n",
              "2010-01-05  124.378586  1129.660034  133.429993  56.250000  125.889099   \n",
              "2010-01-06  124.101341  1133.949951  134.600006  58.230000  124.933075   \n",
              "2010-01-07  123.240921  1131.319946  132.009995  59.509998  124.158699   \n",
              "2010-01-08  123.374763  1136.219971  130.559998  61.540001  123.393883   \n",
              "\n",
              "                           Volume                                 \n",
              "                  ^GSPC      AMZN        BA      IBM       ^GSPC  \n",
              "Date                                                              \n",
              "2010-01-04  1116.560059   7599900   6186700  6438444  3991400000  \n",
              "2010-01-05  1132.660034   8851900   8867800  7156104  2491020000  \n",
              "2010-01-06  1135.709961   7178800   8836500  5863144  4972660000  \n",
              "2010-01-07  1136.270020  11030200  14379100  6109268  5270680000  \n",
              "2010-01-08  1140.520020   9830500   7146600  4390271  4389590000  \n",
              "\n",
              "[5 rows x 24 columns]"
            ],
            "text/html": [
              "\n",
              "  <div id=\"df-aee6bd60-b74b-413e-8503-ea546356e18a\">\n",
              "    <div class=\"colab-df-container\">\n",
              "      <div>\n",
              "<style scoped>\n",
              "    .dataframe tbody tr th:only-of-type {\n",
              "        vertical-align: middle;\n",
              "    }\n",
              "\n",
              "    .dataframe tbody tr th {\n",
              "        vertical-align: top;\n",
              "    }\n",
              "\n",
              "    .dataframe thead tr th {\n",
              "        text-align: left;\n",
              "    }\n",
              "\n",
              "    .dataframe thead tr:last-of-type th {\n",
              "        text-align: right;\n",
              "    }\n",
              "</style>\n",
              "<table border=\"1\" class=\"dataframe\">\n",
              "  <thead>\n",
              "    <tr>\n",
              "      <th></th>\n",
              "      <th colspan=\"4\" halign=\"left\">Adj Close</th>\n",
              "      <th colspan=\"4\" halign=\"left\">Close</th>\n",
              "      <th colspan=\"2\" halign=\"left\">High</th>\n",
              "      <th>...</th>\n",
              "      <th colspan=\"2\" halign=\"left\">Low</th>\n",
              "      <th colspan=\"4\" halign=\"left\">Open</th>\n",
              "      <th colspan=\"4\" halign=\"left\">Volume</th>\n",
              "    </tr>\n",
              "    <tr>\n",
              "      <th></th>\n",
              "      <th>AMZN</th>\n",
              "      <th>BA</th>\n",
              "      <th>IBM</th>\n",
              "      <th>^GSPC</th>\n",
              "      <th>AMZN</th>\n",
              "      <th>BA</th>\n",
              "      <th>IBM</th>\n",
              "      <th>^GSPC</th>\n",
              "      <th>AMZN</th>\n",
              "      <th>BA</th>\n",
              "      <th>...</th>\n",
              "      <th>IBM</th>\n",
              "      <th>^GSPC</th>\n",
              "      <th>AMZN</th>\n",
              "      <th>BA</th>\n",
              "      <th>IBM</th>\n",
              "      <th>^GSPC</th>\n",
              "      <th>AMZN</th>\n",
              "      <th>BA</th>\n",
              "      <th>IBM</th>\n",
              "      <th>^GSPC</th>\n",
              "    </tr>\n",
              "    <tr>\n",
              "      <th>Date</th>\n",
              "      <th></th>\n",
              "      <th></th>\n",
              "      <th></th>\n",
              "      <th></th>\n",
              "      <th></th>\n",
              "      <th></th>\n",
              "      <th></th>\n",
              "      <th></th>\n",
              "      <th></th>\n",
              "      <th></th>\n",
              "      <th></th>\n",
              "      <th></th>\n",
              "      <th></th>\n",
              "      <th></th>\n",
              "      <th></th>\n",
              "      <th></th>\n",
              "      <th></th>\n",
              "      <th></th>\n",
              "      <th></th>\n",
              "      <th></th>\n",
              "      <th></th>\n",
              "    </tr>\n",
              "  </thead>\n",
              "  <tbody>\n",
              "    <tr>\n",
              "      <th>2010-01-04</th>\n",
              "      <td>133.899994</td>\n",
              "      <td>43.777557</td>\n",
              "      <td>82.858444</td>\n",
              "      <td>1132.989990</td>\n",
              "      <td>133.899994</td>\n",
              "      <td>56.180000</td>\n",
              "      <td>126.625237</td>\n",
              "      <td>1132.989990</td>\n",
              "      <td>136.610001</td>\n",
              "      <td>56.389999</td>\n",
              "      <td>...</td>\n",
              "      <td>125.095604</td>\n",
              "      <td>1116.560059</td>\n",
              "      <td>136.250000</td>\n",
              "      <td>55.720001</td>\n",
              "      <td>125.411087</td>\n",
              "      <td>1116.560059</td>\n",
              "      <td>7599900</td>\n",
              "      <td>6186700</td>\n",
              "      <td>6438444</td>\n",
              "      <td>3991400000</td>\n",
              "    </tr>\n",
              "    <tr>\n",
              "      <th>2010-01-05</th>\n",
              "      <td>134.690002</td>\n",
              "      <td>45.211353</td>\n",
              "      <td>81.857513</td>\n",
              "      <td>1136.520020</td>\n",
              "      <td>134.690002</td>\n",
              "      <td>58.020000</td>\n",
              "      <td>125.095604</td>\n",
              "      <td>1136.520020</td>\n",
              "      <td>135.479996</td>\n",
              "      <td>58.279999</td>\n",
              "      <td>...</td>\n",
              "      <td>124.378586</td>\n",
              "      <td>1129.660034</td>\n",
              "      <td>133.429993</td>\n",
              "      <td>56.250000</td>\n",
              "      <td>125.889099</td>\n",
              "      <td>1132.660034</td>\n",
              "      <td>8851900</td>\n",
              "      <td>8867800</td>\n",
              "      <td>7156104</td>\n",
              "      <td>2491020000</td>\n",
              "    </tr>\n",
              "    <tr>\n",
              "      <th>2010-01-06</th>\n",
              "      <td>132.250000</td>\n",
              "      <td>46.582806</td>\n",
              "      <td>81.325783</td>\n",
              "      <td>1137.140015</td>\n",
              "      <td>132.250000</td>\n",
              "      <td>59.779999</td>\n",
              "      <td>124.282982</td>\n",
              "      <td>1137.140015</td>\n",
              "      <td>134.729996</td>\n",
              "      <td>59.990002</td>\n",
              "      <td>...</td>\n",
              "      <td>124.101341</td>\n",
              "      <td>1133.949951</td>\n",
              "      <td>134.600006</td>\n",
              "      <td>58.230000</td>\n",
              "      <td>124.933075</td>\n",
              "      <td>1135.709961</td>\n",
              "      <td>7178800</td>\n",
              "      <td>8836500</td>\n",
              "      <td>5863144</td>\n",
              "      <td>4972660000</td>\n",
              "    </tr>\n",
              "    <tr>\n",
              "      <th>2010-01-07</th>\n",
              "      <td>130.000000</td>\n",
              "      <td>48.468563</td>\n",
              "      <td>81.044273</td>\n",
              "      <td>1141.689941</td>\n",
              "      <td>130.000000</td>\n",
              "      <td>62.200001</td>\n",
              "      <td>123.852776</td>\n",
              "      <td>1141.689941</td>\n",
              "      <td>132.320007</td>\n",
              "      <td>62.310001</td>\n",
              "      <td>...</td>\n",
              "      <td>123.240921</td>\n",
              "      <td>1131.319946</td>\n",
              "      <td>132.009995</td>\n",
              "      <td>59.509998</td>\n",
              "      <td>124.158699</td>\n",
              "      <td>1136.270020</td>\n",
              "      <td>11030200</td>\n",
              "      <td>14379100</td>\n",
              "      <td>6109268</td>\n",
              "      <td>5270680000</td>\n",
              "    </tr>\n",
              "    <tr>\n",
              "      <th>2010-01-08</th>\n",
              "      <td>133.520004</td>\n",
              "      <td>48.001019</td>\n",
              "      <td>81.857513</td>\n",
              "      <td>1144.979980</td>\n",
              "      <td>133.520004</td>\n",
              "      <td>61.599998</td>\n",
              "      <td>125.095604</td>\n",
              "      <td>1144.979980</td>\n",
              "      <td>133.679993</td>\n",
              "      <td>61.779999</td>\n",
              "      <td>...</td>\n",
              "      <td>123.374763</td>\n",
              "      <td>1136.219971</td>\n",
              "      <td>130.559998</td>\n",
              "      <td>61.540001</td>\n",
              "      <td>123.393883</td>\n",
              "      <td>1140.520020</td>\n",
              "      <td>9830500</td>\n",
              "      <td>7146600</td>\n",
              "      <td>4390271</td>\n",
              "      <td>4389590000</td>\n",
              "    </tr>\n",
              "  </tbody>\n",
              "</table>\n",
              "<p>5 rows × 24 columns</p>\n",
              "</div>\n",
              "      <button class=\"colab-df-convert\" onclick=\"convertToInteractive('df-aee6bd60-b74b-413e-8503-ea546356e18a')\"\n",
              "              title=\"Convert this dataframe to an interactive table.\"\n",
              "              style=\"display:none;\">\n",
              "        \n",
              "  <svg xmlns=\"http://www.w3.org/2000/svg\" height=\"24px\"viewBox=\"0 0 24 24\"\n",
              "       width=\"24px\">\n",
              "    <path d=\"M0 0h24v24H0V0z\" fill=\"none\"/>\n",
              "    <path d=\"M18.56 5.44l.94 2.06.94-2.06 2.06-.94-2.06-.94-.94-2.06-.94 2.06-2.06.94zm-11 1L8.5 8.5l.94-2.06 2.06-.94-2.06-.94L8.5 2.5l-.94 2.06-2.06.94zm10 10l.94 2.06.94-2.06 2.06-.94-2.06-.94-.94-2.06-.94 2.06-2.06.94z\"/><path d=\"M17.41 7.96l-1.37-1.37c-.4-.4-.92-.59-1.43-.59-.52 0-1.04.2-1.43.59L10.3 9.45l-7.72 7.72c-.78.78-.78 2.05 0 2.83L4 21.41c.39.39.9.59 1.41.59.51 0 1.02-.2 1.41-.59l7.78-7.78 2.81-2.81c.8-.78.8-2.07 0-2.86zM5.41 20L4 18.59l7.72-7.72 1.47 1.35L5.41 20z\"/>\n",
              "  </svg>\n",
              "      </button>\n",
              "      \n",
              "  <style>\n",
              "    .colab-df-container {\n",
              "      display:flex;\n",
              "      flex-wrap:wrap;\n",
              "      gap: 12px;\n",
              "    }\n",
              "\n",
              "    .colab-df-convert {\n",
              "      background-color: #E8F0FE;\n",
              "      border: none;\n",
              "      border-radius: 50%;\n",
              "      cursor: pointer;\n",
              "      display: none;\n",
              "      fill: #1967D2;\n",
              "      height: 32px;\n",
              "      padding: 0 0 0 0;\n",
              "      width: 32px;\n",
              "    }\n",
              "\n",
              "    .colab-df-convert:hover {\n",
              "      background-color: #E2EBFA;\n",
              "      box-shadow: 0px 1px 2px rgba(60, 64, 67, 0.3), 0px 1px 3px 1px rgba(60, 64, 67, 0.15);\n",
              "      fill: #174EA6;\n",
              "    }\n",
              "\n",
              "    [theme=dark] .colab-df-convert {\n",
              "      background-color: #3B4455;\n",
              "      fill: #D2E3FC;\n",
              "    }\n",
              "\n",
              "    [theme=dark] .colab-df-convert:hover {\n",
              "      background-color: #434B5C;\n",
              "      box-shadow: 0px 1px 3px 1px rgba(0, 0, 0, 0.15);\n",
              "      filter: drop-shadow(0px 1px 2px rgba(0, 0, 0, 0.3));\n",
              "      fill: #FFFFFF;\n",
              "    }\n",
              "  </style>\n",
              "\n",
              "      <script>\n",
              "        const buttonEl =\n",
              "          document.querySelector('#df-aee6bd60-b74b-413e-8503-ea546356e18a button.colab-df-convert');\n",
              "        buttonEl.style.display =\n",
              "          google.colab.kernel.accessAllowed ? 'block' : 'none';\n",
              "\n",
              "        async function convertToInteractive(key) {\n",
              "          const element = document.querySelector('#df-aee6bd60-b74b-413e-8503-ea546356e18a');\n",
              "          const dataTable =\n",
              "            await google.colab.kernel.invokeFunction('convertToInteractive',\n",
              "                                                     [key], {});\n",
              "          if (!dataTable) return;\n",
              "\n",
              "          const docLinkHtml = 'Like what you see? Visit the ' +\n",
              "            '<a target=\"_blank\" href=https://colab.research.google.com/notebooks/data_table.ipynb>data table notebook</a>'\n",
              "            + ' to learn more about interactive tables.';\n",
              "          element.innerHTML = '';\n",
              "          dataTable['output_type'] = 'display_data';\n",
              "          await google.colab.output.renderOutput(dataTable, element);\n",
              "          const docLink = document.createElement('div');\n",
              "          docLink.innerHTML = docLinkHtml;\n",
              "          element.appendChild(docLink);\n",
              "        }\n",
              "      </script>\n",
              "    </div>\n",
              "  </div>\n",
              "  "
            ]
          },
          "metadata": {},
          "execution_count": 82
        }
      ]
    },
    {
      "cell_type": "code",
      "source": [
        "stock_prices = stock_prices['Close']"
      ],
      "metadata": {
        "id": "TWe8wSVZdc6d"
      },
      "execution_count": 83,
      "outputs": []
    },
    {
      "cell_type": "code",
      "source": [
        "stock_prices.head()"
      ],
      "metadata": {
        "colab": {
          "base_uri": "https://localhost:8080/",
          "height": 238
        },
        "id": "GMABDBOidnpL",
        "outputId": "ca2ddb14-1794-481f-f354-8e5c34b5968d"
      },
      "execution_count": 84,
      "outputs": [
        {
          "output_type": "execute_result",
          "data": {
            "text/plain": [
              "                  AMZN         BA         IBM        ^GSPC\n",
              "Date                                                      \n",
              "2010-01-04  133.899994  56.180000  126.625237  1132.989990\n",
              "2010-01-05  134.690002  58.020000  125.095604  1136.520020\n",
              "2010-01-06  132.250000  59.779999  124.282982  1137.140015\n",
              "2010-01-07  130.000000  62.200001  123.852776  1141.689941\n",
              "2010-01-08  133.520004  61.599998  125.095604  1144.979980"
            ],
            "text/html": [
              "\n",
              "  <div id=\"df-361458bf-eb44-4392-9890-50e15838fc64\">\n",
              "    <div class=\"colab-df-container\">\n",
              "      <div>\n",
              "<style scoped>\n",
              "    .dataframe tbody tr th:only-of-type {\n",
              "        vertical-align: middle;\n",
              "    }\n",
              "\n",
              "    .dataframe tbody tr th {\n",
              "        vertical-align: top;\n",
              "    }\n",
              "\n",
              "    .dataframe thead th {\n",
              "        text-align: right;\n",
              "    }\n",
              "</style>\n",
              "<table border=\"1\" class=\"dataframe\">\n",
              "  <thead>\n",
              "    <tr style=\"text-align: right;\">\n",
              "      <th></th>\n",
              "      <th>AMZN</th>\n",
              "      <th>BA</th>\n",
              "      <th>IBM</th>\n",
              "      <th>^GSPC</th>\n",
              "    </tr>\n",
              "    <tr>\n",
              "      <th>Date</th>\n",
              "      <th></th>\n",
              "      <th></th>\n",
              "      <th></th>\n",
              "      <th></th>\n",
              "    </tr>\n",
              "  </thead>\n",
              "  <tbody>\n",
              "    <tr>\n",
              "      <th>2010-01-04</th>\n",
              "      <td>133.899994</td>\n",
              "      <td>56.180000</td>\n",
              "      <td>126.625237</td>\n",
              "      <td>1132.989990</td>\n",
              "    </tr>\n",
              "    <tr>\n",
              "      <th>2010-01-05</th>\n",
              "      <td>134.690002</td>\n",
              "      <td>58.020000</td>\n",
              "      <td>125.095604</td>\n",
              "      <td>1136.520020</td>\n",
              "    </tr>\n",
              "    <tr>\n",
              "      <th>2010-01-06</th>\n",
              "      <td>132.250000</td>\n",
              "      <td>59.779999</td>\n",
              "      <td>124.282982</td>\n",
              "      <td>1137.140015</td>\n",
              "    </tr>\n",
              "    <tr>\n",
              "      <th>2010-01-07</th>\n",
              "      <td>130.000000</td>\n",
              "      <td>62.200001</td>\n",
              "      <td>123.852776</td>\n",
              "      <td>1141.689941</td>\n",
              "    </tr>\n",
              "    <tr>\n",
              "      <th>2010-01-08</th>\n",
              "      <td>133.520004</td>\n",
              "      <td>61.599998</td>\n",
              "      <td>125.095604</td>\n",
              "      <td>1144.979980</td>\n",
              "    </tr>\n",
              "  </tbody>\n",
              "</table>\n",
              "</div>\n",
              "      <button class=\"colab-df-convert\" onclick=\"convertToInteractive('df-361458bf-eb44-4392-9890-50e15838fc64')\"\n",
              "              title=\"Convert this dataframe to an interactive table.\"\n",
              "              style=\"display:none;\">\n",
              "        \n",
              "  <svg xmlns=\"http://www.w3.org/2000/svg\" height=\"24px\"viewBox=\"0 0 24 24\"\n",
              "       width=\"24px\">\n",
              "    <path d=\"M0 0h24v24H0V0z\" fill=\"none\"/>\n",
              "    <path d=\"M18.56 5.44l.94 2.06.94-2.06 2.06-.94-2.06-.94-.94-2.06-.94 2.06-2.06.94zm-11 1L8.5 8.5l.94-2.06 2.06-.94-2.06-.94L8.5 2.5l-.94 2.06-2.06.94zm10 10l.94 2.06.94-2.06 2.06-.94-2.06-.94-.94-2.06-.94 2.06-2.06.94z\"/><path d=\"M17.41 7.96l-1.37-1.37c-.4-.4-.92-.59-1.43-.59-.52 0-1.04.2-1.43.59L10.3 9.45l-7.72 7.72c-.78.78-.78 2.05 0 2.83L4 21.41c.39.39.9.59 1.41.59.51 0 1.02-.2 1.41-.59l7.78-7.78 2.81-2.81c.8-.78.8-2.07 0-2.86zM5.41 20L4 18.59l7.72-7.72 1.47 1.35L5.41 20z\"/>\n",
              "  </svg>\n",
              "      </button>\n",
              "      \n",
              "  <style>\n",
              "    .colab-df-container {\n",
              "      display:flex;\n",
              "      flex-wrap:wrap;\n",
              "      gap: 12px;\n",
              "    }\n",
              "\n",
              "    .colab-df-convert {\n",
              "      background-color: #E8F0FE;\n",
              "      border: none;\n",
              "      border-radius: 50%;\n",
              "      cursor: pointer;\n",
              "      display: none;\n",
              "      fill: #1967D2;\n",
              "      height: 32px;\n",
              "      padding: 0 0 0 0;\n",
              "      width: 32px;\n",
              "    }\n",
              "\n",
              "    .colab-df-convert:hover {\n",
              "      background-color: #E2EBFA;\n",
              "      box-shadow: 0px 1px 2px rgba(60, 64, 67, 0.3), 0px 1px 3px 1px rgba(60, 64, 67, 0.15);\n",
              "      fill: #174EA6;\n",
              "    }\n",
              "\n",
              "    [theme=dark] .colab-df-convert {\n",
              "      background-color: #3B4455;\n",
              "      fill: #D2E3FC;\n",
              "    }\n",
              "\n",
              "    [theme=dark] .colab-df-convert:hover {\n",
              "      background-color: #434B5C;\n",
              "      box-shadow: 0px 1px 3px 1px rgba(0, 0, 0, 0.15);\n",
              "      filter: drop-shadow(0px 1px 2px rgba(0, 0, 0, 0.3));\n",
              "      fill: #FFFFFF;\n",
              "    }\n",
              "  </style>\n",
              "\n",
              "      <script>\n",
              "        const buttonEl =\n",
              "          document.querySelector('#df-361458bf-eb44-4392-9890-50e15838fc64 button.colab-df-convert');\n",
              "        buttonEl.style.display =\n",
              "          google.colab.kernel.accessAllowed ? 'block' : 'none';\n",
              "\n",
              "        async function convertToInteractive(key) {\n",
              "          const element = document.querySelector('#df-361458bf-eb44-4392-9890-50e15838fc64');\n",
              "          const dataTable =\n",
              "            await google.colab.kernel.invokeFunction('convertToInteractive',\n",
              "                                                     [key], {});\n",
              "          if (!dataTable) return;\n",
              "\n",
              "          const docLinkHtml = 'Like what you see? Visit the ' +\n",
              "            '<a target=\"_blank\" href=https://colab.research.google.com/notebooks/data_table.ipynb>data table notebook</a>'\n",
              "            + ' to learn more about interactive tables.';\n",
              "          element.innerHTML = '';\n",
              "          dataTable['output_type'] = 'display_data';\n",
              "          await google.colab.output.renderOutput(dataTable, element);\n",
              "          const docLink = document.createElement('div');\n",
              "          docLink.innerHTML = docLinkHtml;\n",
              "          element.appendChild(docLink);\n",
              "        }\n",
              "      </script>\n",
              "    </div>\n",
              "  </div>\n",
              "  "
            ]
          },
          "metadata": {},
          "execution_count": 84
        }
      ]
    },
    {
      "cell_type": "code",
      "source": [
        "for i, stock in enumerate(stock_prices.columns, start=1):\n",
        "    sns.set\n",
        "    plt.figure(figsize=(10, 10))\n",
        "    plt.subplot(5, 1, i)\n",
        "    plt.plot(stock_prices[stock])\n",
        "    plt.title(f\"{stock}\")\n",
        "    plt.tight_layout()\n",
        "    plt.show()"
      ],
      "metadata": {
        "colab": {
          "base_uri": "https://localhost:8080/",
          "height": 674
        },
        "id": "qjaNXIlqdoXT",
        "outputId": "2f9f06cc-7f02-4f31-bd35-11fde070c876"
      },
      "execution_count": 85,
      "outputs": [
        {
          "output_type": "display_data",
          "data": {
            "text/plain": [
              "<Figure size 720x720 with 1 Axes>"
            ],
            "image/png": "[encoded data removed]"
          },
          "metadata": {
            "needs_background": "light"
          }
        },
        {
          "output_type": "display_data",
          "data": {
            "text/plain": [
              "<Figure size 720x720 with 1 Axes>"
            ],
            "image/png": "[encoded data removed]"
          },
          "metadata": {
            "needs_background": "light"
          }
        },
        {
          "output_type": "display_data",
          "data": {
            "text/plain": [
              "<Figure size 720x720 with 1 Axes>"
            ],
            "image/png": "[encoded data removed]"
          },
          "metadata": {
            "needs_background": "light"
          }
        },
        {
          "output_type": "display_data",
          "data": {
            "text/plain": [
              "<Figure size 720x720 with 1 Axes>"
            ],
            "image/png": "[encoded data removed]"
          },
          "metadata": {
            "needs_background": "light"
          }
        }
      ]
    },
    {
      "cell_type": "markdown",
      "source": [
        "Before moving on to the model we have to make sure the data we are using is stationary. And based on the visualizations above wee can see that each individual stock price is not stationary by looking with the naked eye. A quick fix we have used before to remove stationarity in the the data would be to used the \"difference in stock prices\" instead of just the stock price itself.  "
      ],
      "metadata": {
        "id": "g7fGAn1Lq3XD"
      }
    },
    {
      "cell_type": "code",
      "source": [
        "ibm_diff = stock_prices.IBM.diff().dropna()\n",
        "amzn_diff = stock_prices.AMZN.diff().dropna()\n",
        "ba_diff = stock_prices.BA.diff().dropna()"
      ],
      "metadata": {
        "id": "qS4KEmKAdw_v"
      },
      "execution_count": 86,
      "outputs": []
    },
    {
      "cell_type": "code",
      "source": [
        "plt.plot(ibm_diff)\n",
        "plt.title('Differenced IBM Stock Price')\n",
        "plt.ylabel('Differenced Price')\n",
        "plt.xlabel('Date')\n",
        "plt.show()"
      ],
      "metadata": {
        "colab": {
          "base_uri": "https://localhost:8080/",
          "height": 301
        },
        "id": "AvFYBS83rSrf",
        "outputId": "a449d335-e2f0-4410-d0b3-f02e6b33bee6"
      },
      "execution_count": 87,
      "outputs": [
        {
          "output_type": "display_data",
          "data": {
            "text/plain": [
              "<Figure size 432x288 with 1 Axes>"
            ],
            "image/png": "[encoded data removed]"
          },
          "metadata": {
            "needs_background": "light"
          }
        }
      ]
    },
    {
      "cell_type": "code",
      "source": [
        "plt.plot(amzn_diff)\n",
        "plt.title('Differenced Amazon Stock Price')\n",
        "plt.ylabel('Differenced Price')\n",
        "plt.xlabel('Date')\n",
        "plt.show()"
      ],
      "metadata": {
        "colab": {
          "base_uri": "https://localhost:8080/",
          "height": 301
        },
        "id": "Xt-JujIp64Mp",
        "outputId": "37e5f5bc-37aa-4f96-87a8-888ccb87acca"
      },
      "execution_count": 88,
      "outputs": [
        {
          "output_type": "display_data",
          "data": {
            "text/plain": [
              "<Figure size 432x288 with 1 Axes>"
            ],
            "image/png": "[encoded data removed]"
          },
          "metadata": {
            "needs_background": "light"
          }
        }
      ]
    },
    {
      "cell_type": "code",
      "source": [
        "plt.plot(ba_diff)\n",
        "plt.title('Differenced Boeing Stock Price')\n",
        "plt.ylabel('Differenced Price')\n",
        "plt.xlabel('Date')\n",
        "plt.show()"
      ],
      "metadata": {
        "colab": {
          "base_uri": "https://localhost:8080/",
          "height": 301
        },
        "id": "QHVMWkci64V9",
        "outputId": "19cacb54-cf85-46d7-f675-eee7d8b5afbe"
      },
      "execution_count": 89,
      "outputs": [
        {
          "output_type": "display_data",
          "data": {
            "text/plain": [
              "<Figure size 432x288 with 1 Axes>"
            ],
            "image/png": "[encoded data removed]"
          },
          "metadata": {
            "needs_background": "light"
          }
        }
      ]
    },
    {
      "cell_type": "markdown",
      "source": [
        "As you can see in the above visualizations there are no increasing or decreasing trends in the stock price difference compared to the stock price. This will be better suited for our model later on."
      ],
      "metadata": {
        "id": "L3lT71HG7Ibm"
      }
    },
    {
      "cell_type": "code",
      "source": [
        "pip install pmdarima"
      ],
      "metadata": {
        "colab": {
          "base_uri": "https://localhost:8080/"
        },
        "id": "nL0jS6khd0Dc",
        "outputId": "62516e3f-0b81-4f13-bf1a-fcb5fa7b854a"
      },
      "execution_count": 90,
      "outputs": [
        {
          "output_type": "stream",
          "name": "stdout",
          "text": [
            "Requirement already satisfied: pmdarima in /usr/local/lib/python3.7/dist-packages (1.8.5)\n",
            "Requirement already satisfied: setuptools!=50.0.0,>=38.6.0 in /usr/local/lib/python3.7/dist-packages (from pmdarima) (57.4.0)\n",
            "Requirement already satisfied: joblib>=0.11 in /usr/local/lib/python3.7/dist-packages (from pmdarima) (1.1.0)\n",
            "Requirement already satisfied: Cython!=0.29.18,>=0.29 in /usr/local/lib/python3.7/dist-packages (from pmdarima) (0.29.28)\n",
            "Requirement already satisfied: urllib3 in /usr/local/lib/python3.7/dist-packages (from pmdarima) (1.24.3)\n",
            "Requirement already satisfied: pandas>=0.19 in /usr/local/lib/python3.7/dist-packages (from pmdarima) (1.3.5)\n",
            "Requirement already satisfied: scipy>=1.3.2 in /usr/local/lib/python3.7/dist-packages (from pmdarima) (1.4.1)\n",
            "Requirement already satisfied: statsmodels!=0.12.0,>=0.11 in /usr/local/lib/python3.7/dist-packages (from pmdarima) (0.13.2)\n",
            "Requirement already satisfied: scikit-learn>=0.22 in /usr/local/lib/python3.7/dist-packages (from pmdarima) (1.0.2)\n",
            "Requirement already satisfied: numpy>=1.19.3 in /usr/local/lib/python3.7/dist-packages (from pmdarima) (1.21.5)\n",
            "Requirement already satisfied: python-dateutil>=2.7.3 in /usr/local/lib/python3.7/dist-packages (from pandas>=0.19->pmdarima) (2.8.2)\n",
            "Requirement already satisfied: pytz>=2017.3 in /usr/local/lib/python3.7/dist-packages (from pandas>=0.19->pmdarima) (2018.9)\n",
            "Requirement already satisfied: six>=1.5 in /usr/local/lib/python3.7/dist-packages (from python-dateutil>=2.7.3->pandas>=0.19->pmdarima) (1.15.0)\n",
            "Requirement already satisfied: threadpoolctl>=2.0.0 in /usr/local/lib/python3.7/dist-packages (from scikit-learn>=0.22->pmdarima) (3.1.0)\n",
            "Requirement already satisfied: packaging>=21.3 in /usr/local/lib/python3.7/dist-packages (from statsmodels!=0.12.0,>=0.11->pmdarima) (21.3)\n",
            "Requirement already satisfied: patsy>=0.5.2 in /usr/local/lib/python3.7/dist-packages (from statsmodels!=0.12.0,>=0.11->pmdarima) (0.5.2)\n",
            "Requirement already satisfied: pyparsing!=3.0.5,>=2.0.2 in /usr/local/lib/python3.7/dist-packages (from packaging>=21.3->statsmodels!=0.12.0,>=0.11->pmdarima) (3.0.7)\n"
          ]
        }
      ]
    },
    {
      "cell_type": "code",
      "source": [
        "from pmdarima import auto_arima\n",
        "import warnings \n",
        "warnings.filterwarnings(\"ignore\")"
      ],
      "metadata": {
        "id": "JzmbDAF5d0nI"
      },
      "execution_count": 91,
      "outputs": []
    },
    {
      "cell_type": "markdown",
      "source": [
        "In the following blocks of code below a stepwise function is used to find the best fitting PDQ values for our ARIMA model. Pretty efficient way about going about it. "
      ],
      "metadata": {
        "id": "d-hbZ96n7Y-E"
      }
    },
    {
      "cell_type": "markdown",
      "source": [
        "In the ARIMA model their are important variables needed and those include p,d and q.\n",
        "\n",
        "Now that we have the difference in stock prices that makes our data stationary our value of d = 0. P refers to the number of lags of Y to be used as predictors. Q is the order of moving average (MA) term which refers to the number the lagged forecast errors that should go into the ARIMA Model. We will get the P and Q values from AR and MA components."
      ],
      "metadata": {
        "id": "-RRYHIQjIR6-"
      }
    },
    {
      "cell_type": "code",
      "source": [
        "stepwise_fit = auto_arima(stock_prices.IBM, trace=True, suppress_warnings=True)\n",
        "\n",
        "stepwise_fit.summary()"
      ],
      "metadata": {
        "colab": {
          "base_uri": "https://localhost:8080/",
          "height": 924
        },
        "id": "LbXsxG-Vd8jQ",
        "outputId": "f721d01c-111a-4aac-b56e-f9e421010ef8"
      },
      "execution_count": 92,
      "outputs": [
        {
          "output_type": "stream",
          "name": "stdout",
          "text": [
            "Performing stepwise search to minimize aic\n",
            " ARIMA(2,1,2)(0,0,0)[0] intercept   : AIC=12985.181, Time=6.26 sec\n",
            " ARIMA(0,1,0)(0,0,0)[0] intercept   : AIC=12992.155, Time=0.11 sec\n",
            " ARIMA(1,1,0)(0,0,0)[0] intercept   : AIC=12992.397, Time=0.17 sec\n",
            " ARIMA(0,1,1)(0,0,0)[0] intercept   : AIC=12992.436, Time=0.53 sec\n",
            " ARIMA(0,1,0)(0,0,0)[0]             : AIC=12990.157, Time=0.11 sec\n",
            " ARIMA(1,1,2)(0,0,0)[0] intercept   : AIC=12995.940, Time=1.75 sec\n",
            " ARIMA(2,1,1)(0,0,0)[0] intercept   : AIC=12993.866, Time=1.86 sec\n",
            " ARIMA(3,1,2)(0,0,0)[0] intercept   : AIC=12991.725, Time=6.91 sec\n",
            " ARIMA(2,1,3)(0,0,0)[0] intercept   : AIC=12991.764, Time=8.59 sec\n",
            " ARIMA(1,1,1)(0,0,0)[0] intercept   : AIC=12994.055, Time=1.32 sec\n",
            " ARIMA(1,1,3)(0,0,0)[0] intercept   : AIC=12993.988, Time=2.59 sec\n",
            " ARIMA(3,1,1)(0,0,0)[0] intercept   : AIC=12996.217, Time=3.58 sec\n",
            " ARIMA(3,1,3)(0,0,0)[0] intercept   : AIC=inf, Time=10.70 sec\n",
            " ARIMA(2,1,2)(0,0,0)[0]             : AIC=12978.326, Time=2.36 sec\n",
            " ARIMA(1,1,2)(0,0,0)[0]             : AIC=12993.942, Time=0.88 sec\n",
            " ARIMA(2,1,1)(0,0,0)[0]             : AIC=12991.868, Time=0.86 sec\n",
            " ARIMA(3,1,2)(0,0,0)[0]             : AIC=12989.725, Time=3.38 sec\n",
            " ARIMA(2,1,3)(0,0,0)[0]             : AIC=12989.766, Time=3.65 sec\n",
            " ARIMA(1,1,1)(0,0,0)[0]             : AIC=12992.057, Time=0.55 sec\n",
            " ARIMA(1,1,3)(0,0,0)[0]             : AIC=12991.989, Time=1.09 sec\n",
            " ARIMA(3,1,1)(0,0,0)[0]             : AIC=12994.220, Time=1.08 sec\n",
            " ARIMA(3,1,3)(0,0,0)[0]             : AIC=inf, Time=5.98 sec\n",
            "\n",
            "Best model:  ARIMA(2,1,2)(0,0,0)[0]          \n",
            "Total fit time: 64.332 seconds\n"
          ]
        },
        {
          "output_type": "execute_result",
          "data": {
            "text/plain": [
              "<class 'statsmodels.iolib.summary.Summary'>\n",
              "\"\"\"\n",
              "                               SARIMAX Results                                \n",
              "==============================================================================\n",
              "Dep. Variable:                      y   No. Observations:                 3079\n",
              "Model:               SARIMAX(2, 1, 2)   Log Likelihood               -6484.163\n",
              "Date:                Wed, 30 Mar 2022   AIC                          12978.326\n",
              "Time:                        04:03:51   BIC                          13008.487\n",
              "Sample:                             0   HQIC                         12989.161\n",
              "                               - 3079                                         \n",
              "Covariance Type:                  opg                                         \n",
              "==============================================================================\n",
              "                 coef    std err          z      P>|z|      [0.025      0.975]\n",
              "------------------------------------------------------------------------------\n",
              "ar.L1         -1.8185      0.030    -60.417      0.000      -1.877      -1.759\n",
              "ar.L2         -0.9356      0.029    -32.400      0.000      -0.992      -0.879\n",
              "ma.L1          1.8037      0.034     53.444      0.000       1.738       1.870\n",
              "ma.L2          0.9135      0.033     27.841      0.000       0.849       0.978\n",
              "sigma2         3.9564      0.047     84.185      0.000       3.864       4.049\n",
              "===================================================================================\n",
              "Ljung-Box (L1) (Q):                   0.04   Jarque-Bera (JB):              7539.72\n",
              "Prob(Q):                              0.85   Prob(JB):                         0.00\n",
              "Heteroskedasticity (H):               1.15   Skew:                            -0.82\n",
              "Prob(H) (two-sided):                  0.03   Kurtosis:                        10.49\n",
              "===================================================================================\n",
              "\n",
              "Warnings:\n",
              "[1] Covariance matrix calculated using the outer product of gradients (complex-step).\n",
              "\"\"\""
            ],
            "text/html": [
              "<table class=\"simpletable\">\n",
              "<caption>SARIMAX Results</caption>\n",
              "<tr>\n",
              "  <th>Dep. Variable:</th>           <td>y</td>        <th>  No. Observations:  </th>   <td>3079</td>   \n",
              "</tr>\n",
              "<tr>\n",
              "  <th>Model:</th>           <td>SARIMAX(2, 1, 2)</td> <th>  Log Likelihood     </th> <td>-6484.163</td>\n",
              "</tr>\n",
              "<tr>\n",
              "  <th>Date:</th>            <td>Wed, 30 Mar 2022</td> <th>  AIC                </th> <td>12978.326</td>\n",
              "</tr>\n",
              "<tr>\n",
              "  <th>Time:</th>                <td>04:03:51</td>     <th>  BIC                </th> <td>13008.487</td>\n",
              "</tr>\n",
              "<tr>\n",
              "  <th>Sample:</th>                  <td>0</td>        <th>  HQIC               </th> <td>12989.161</td>\n",
              "</tr>\n",
              "<tr>\n",
              "  <th></th>                      <td> - 3079</td>     <th>                     </th>     <td> </td>    \n",
              "</tr>\n",
              "<tr>\n",
              "  <th>Covariance Type:</th>        <td>opg</td>       <th>                     </th>     <td> </td>    \n",
              "</tr>\n",
              "</table>\n",
              "<table class=\"simpletable\">\n",
              "<tr>\n",
              "     <td></td>       <th>coef</th>     <th>std err</th>      <th>z</th>      <th>P>|z|</th>  <th>[0.025</th>    <th>0.975]</th>  \n",
              "</tr>\n",
              "<tr>\n",
              "  <th>ar.L1</th>  <td>   -1.8185</td> <td>    0.030</td> <td>  -60.417</td> <td> 0.000</td> <td>   -1.877</td> <td>   -1.759</td>\n",
              "</tr>\n",
              "<tr>\n",
              "  <th>ar.L2</th>  <td>   -0.9356</td> <td>    0.029</td> <td>  -32.400</td> <td> 0.000</td> <td>   -0.992</td> <td>   -0.879</td>\n",
              "</tr>\n",
              "<tr>\n",
              "  <th>ma.L1</th>  <td>    1.8037</td> <td>    0.034</td> <td>   53.444</td> <td> 0.000</td> <td>    1.738</td> <td>    1.870</td>\n",
              "</tr>\n",
              "<tr>\n",
              "  <th>ma.L2</th>  <td>    0.9135</td> <td>    0.033</td> <td>   27.841</td> <td> 0.000</td> <td>    0.849</td> <td>    0.978</td>\n",
              "</tr>\n",
              "<tr>\n",
              "  <th>sigma2</th> <td>    3.9564</td> <td>    0.047</td> <td>   84.185</td> <td> 0.000</td> <td>    3.864</td> <td>    4.049</td>\n",
              "</tr>\n",
              "</table>\n",
              "<table class=\"simpletable\">\n",
              "<tr>\n",
              "  <th>Ljung-Box (L1) (Q):</th>     <td>0.04</td> <th>  Jarque-Bera (JB):  </th> <td>7539.72</td>\n",
              "</tr>\n",
              "<tr>\n",
              "  <th>Prob(Q):</th>                <td>0.85</td> <th>  Prob(JB):          </th>  <td>0.00</td>  \n",
              "</tr>\n",
              "<tr>\n",
              "  <th>Heteroskedasticity (H):</th> <td>1.15</td> <th>  Skew:              </th>  <td>-0.82</td> \n",
              "</tr>\n",
              "<tr>\n",
              "  <th>Prob(H) (two-sided):</th>    <td>0.03</td> <th>  Kurtosis:          </th>  <td>10.49</td> \n",
              "</tr>\n",
              "</table><br/><br/>Warnings:<br/>[1] Covariance matrix calculated using the outer product of gradients (complex-step)."
            ]
          },
          "metadata": {},
          "execution_count": 92
        }
      ]
    },
    {
      "cell_type": "code",
      "source": [
        "stepwise_fit = auto_arima(amzn_diff, trace=True, suppress_warnings=True)\n",
        "\n",
        "stepwise_fit.summary()"
      ],
      "metadata": {
        "colab": {
          "base_uri": "https://localhost:8080/",
          "height": 785
        },
        "id": "jdJ923VmeoTH",
        "outputId": "99d12570-dfdf-4bf9-fca4-d63994a80932"
      },
      "execution_count": 93,
      "outputs": [
        {
          "output_type": "stream",
          "name": "stdout",
          "text": [
            "Performing stepwise search to minimize aic\n",
            " ARIMA(2,0,2)(0,0,0)[0] intercept   : AIC=29680.694, Time=4.03 sec\n",
            " ARIMA(0,0,0)(0,0,0)[0] intercept   : AIC=29689.022, Time=0.11 sec\n",
            " ARIMA(1,0,0)(0,0,0)[0] intercept   : AIC=29688.381, Time=0.13 sec\n",
            " ARIMA(0,0,1)(0,0,0)[0] intercept   : AIC=29688.393, Time=0.66 sec\n",
            " ARIMA(0,0,0)(0,0,0)[0]             : AIC=29690.614, Time=0.07 sec\n",
            " ARIMA(1,0,2)(0,0,0)[0] intercept   : AIC=29686.853, Time=2.19 sec\n",
            " ARIMA(2,0,1)(0,0,0)[0] intercept   : AIC=29687.009, Time=3.06 sec\n",
            " ARIMA(3,0,2)(0,0,0)[0] intercept   : AIC=29676.035, Time=3.56 sec\n",
            " ARIMA(3,0,1)(0,0,0)[0] intercept   : AIC=29674.034, Time=2.44 sec\n",
            " ARIMA(3,0,0)(0,0,0)[0] intercept   : AIC=29672.577, Time=0.43 sec\n",
            " ARIMA(2,0,0)(0,0,0)[0] intercept   : AIC=29690.331, Time=0.29 sec\n",
            " ARIMA(4,0,0)(0,0,0)[0] intercept   : AIC=29674.074, Time=0.49 sec\n",
            " ARIMA(4,0,1)(0,0,0)[0] intercept   : AIC=29676.082, Time=0.62 sec\n",
            " ARIMA(3,0,0)(0,0,0)[0]             : AIC=29674.995, Time=0.25 sec\n",
            "\n",
            "Best model:  ARIMA(3,0,0)(0,0,0)[0] intercept\n",
            "Total fit time: 18.368 seconds\n"
          ]
        },
        {
          "output_type": "execute_result",
          "data": {
            "text/plain": [
              "<class 'statsmodels.iolib.summary.Summary'>\n",
              "\"\"\"\n",
              "                               SARIMAX Results                                \n",
              "==============================================================================\n",
              "Dep. Variable:                      y   No. Observations:                 3078\n",
              "Model:               SARIMAX(3, 0, 0)   Log Likelihood              -14831.289\n",
              "Date:                Wed, 30 Mar 2022   AIC                          29672.577\n",
              "Time:                        04:04:17   BIC                          29702.738\n",
              "Sample:                             0   HQIC                         29683.412\n",
              "                               - 3078                                         \n",
              "Covariance Type:                  opg                                         \n",
              "==============================================================================\n",
              "                 coef    std err          z      P>|z|      [0.025      0.975]\n",
              "------------------------------------------------------------------------------\n",
              "intercept      1.1394      0.546      2.086      0.037       0.069       2.210\n",
              "ar.L1         -0.0288      0.007     -3.852      0.000      -0.043      -0.014\n",
              "ar.L2          0.0017      0.009      0.190      0.850      -0.016       0.020\n",
              "ar.L3         -0.0800      0.008     -9.811      0.000      -0.096      -0.064\n",
              "sigma2       897.8878      7.497    119.762      0.000     883.193     912.582\n",
              "===================================================================================\n",
              "Ljung-Box (L1) (Q):                   0.00   Jarque-Bera (JB):             48182.20\n",
              "Prob(Q):                              0.96   Prob(JB):                         0.00\n",
              "Heteroskedasticity (H):             114.60   Skew:                             0.34\n",
              "Prob(H) (two-sided):                  0.00   Kurtosis:                        22.37\n",
              "===================================================================================\n",
              "\n",
              "Warnings:\n",
              "[1] Covariance matrix calculated using the outer product of gradients (complex-step).\n",
              "\"\"\""
            ],
            "text/html": [
              "<table class=\"simpletable\">\n",
              "<caption>SARIMAX Results</caption>\n",
              "<tr>\n",
              "  <th>Dep. Variable:</th>           <td>y</td>        <th>  No. Observations:  </th>    <td>3078</td>   \n",
              "</tr>\n",
              "<tr>\n",
              "  <th>Model:</th>           <td>SARIMAX(3, 0, 0)</td> <th>  Log Likelihood     </th> <td>-14831.289</td>\n",
              "</tr>\n",
              "<tr>\n",
              "  <th>Date:</th>            <td>Wed, 30 Mar 2022</td> <th>  AIC                </th>  <td>29672.577</td>\n",
              "</tr>\n",
              "<tr>\n",
              "  <th>Time:</th>                <td>04:04:17</td>     <th>  BIC                </th>  <td>29702.738</td>\n",
              "</tr>\n",
              "<tr>\n",
              "  <th>Sample:</th>                  <td>0</td>        <th>  HQIC               </th>  <td>29683.412</td>\n",
              "</tr>\n",
              "<tr>\n",
              "  <th></th>                      <td> - 3078</td>     <th>                     </th>      <td> </td>    \n",
              "</tr>\n",
              "<tr>\n",
              "  <th>Covariance Type:</th>        <td>opg</td>       <th>                     </th>      <td> </td>    \n",
              "</tr>\n",
              "</table>\n",
              "<table class=\"simpletable\">\n",
              "<tr>\n",
              "      <td></td>         <th>coef</th>     <th>std err</th>      <th>z</th>      <th>P>|z|</th>  <th>[0.025</th>    <th>0.975]</th>  \n",
              "</tr>\n",
              "<tr>\n",
              "  <th>intercept</th> <td>    1.1394</td> <td>    0.546</td> <td>    2.086</td> <td> 0.037</td> <td>    0.069</td> <td>    2.210</td>\n",
              "</tr>\n",
              "<tr>\n",
              "  <th>ar.L1</th>     <td>   -0.0288</td> <td>    0.007</td> <td>   -3.852</td> <td> 0.000</td> <td>   -0.043</td> <td>   -0.014</td>\n",
              "</tr>\n",
              "<tr>\n",
              "  <th>ar.L2</th>     <td>    0.0017</td> <td>    0.009</td> <td>    0.190</td> <td> 0.850</td> <td>   -0.016</td> <td>    0.020</td>\n",
              "</tr>\n",
              "<tr>\n",
              "  <th>ar.L3</th>     <td>   -0.0800</td> <td>    0.008</td> <td>   -9.811</td> <td> 0.000</td> <td>   -0.096</td> <td>   -0.064</td>\n",
              "</tr>\n",
              "<tr>\n",
              "  <th>sigma2</th>    <td>  897.8878</td> <td>    7.497</td> <td>  119.762</td> <td> 0.000</td> <td>  883.193</td> <td>  912.582</td>\n",
              "</tr>\n",
              "</table>\n",
              "<table class=\"simpletable\">\n",
              "<tr>\n",
              "  <th>Ljung-Box (L1) (Q):</th>      <td>0.00</td>  <th>  Jarque-Bera (JB):  </th> <td>48182.20</td>\n",
              "</tr>\n",
              "<tr>\n",
              "  <th>Prob(Q):</th>                 <td>0.96</td>  <th>  Prob(JB):          </th>   <td>0.00</td>  \n",
              "</tr>\n",
              "<tr>\n",
              "  <th>Heteroskedasticity (H):</th> <td>114.60</td> <th>  Skew:              </th>   <td>0.34</td>  \n",
              "</tr>\n",
              "<tr>\n",
              "  <th>Prob(H) (two-sided):</th>     <td>0.00</td>  <th>  Kurtosis:          </th>   <td>22.37</td> \n",
              "</tr>\n",
              "</table><br/><br/>Warnings:<br/>[1] Covariance matrix calculated using the outer product of gradients (complex-step)."
            ]
          },
          "metadata": {},
          "execution_count": 93
        }
      ]
    },
    {
      "cell_type": "code",
      "source": [
        "stepwise_fit = auto_arima(ba_diff, trace=True, suppress_warnings=True)\n",
        "\n",
        "stepwise_fit.summary()"
      ],
      "metadata": {
        "colab": {
          "base_uri": "https://localhost:8080/",
          "height": 777
        },
        "id": "RFtGMkzqeocD",
        "outputId": "43fad4c8-36c9-4157-f264-b225d3cf520b"
      },
      "execution_count": 94,
      "outputs": [
        {
          "output_type": "stream",
          "name": "stdout",
          "text": [
            "Performing stepwise search to minimize aic\n",
            " ARIMA(2,0,2)(0,0,0)[0] intercept   : AIC=17796.221, Time=2.20 sec\n",
            " ARIMA(0,0,0)(0,0,0)[0] intercept   : AIC=17810.442, Time=0.10 sec\n",
            " ARIMA(1,0,0)(0,0,0)[0] intercept   : AIC=17810.065, Time=0.18 sec\n",
            " ARIMA(0,0,1)(0,0,0)[0] intercept   : AIC=17810.390, Time=0.52 sec\n",
            " ARIMA(0,0,0)(0,0,0)[0]             : AIC=17808.743, Time=0.06 sec\n",
            " ARIMA(1,0,2)(0,0,0)[0] intercept   : AIC=17794.959, Time=1.64 sec\n",
            " ARIMA(0,0,2)(0,0,0)[0] intercept   : AIC=17793.487, Time=0.96 sec\n",
            " ARIMA(0,0,3)(0,0,0)[0] intercept   : AIC=17795.281, Time=1.21 sec\n",
            " ARIMA(1,0,1)(0,0,0)[0] intercept   : AIC=17803.465, Time=1.33 sec\n",
            " ARIMA(1,0,3)(0,0,0)[0] intercept   : AIC=17796.768, Time=3.48 sec\n",
            " ARIMA(0,0,2)(0,0,0)[0]             : AIC=17791.738, Time=0.31 sec\n",
            " ARIMA(0,0,1)(0,0,0)[0]             : AIC=17808.677, Time=0.19 sec\n",
            " ARIMA(1,0,2)(0,0,0)[0]             : AIC=17793.217, Time=0.62 sec\n",
            " ARIMA(0,0,3)(0,0,0)[0]             : AIC=17793.535, Time=0.49 sec\n",
            " ARIMA(1,0,1)(0,0,0)[0]             : AIC=17801.700, Time=0.52 sec\n",
            " ARIMA(1,0,3)(0,0,0)[0]             : AIC=17795.023, Time=1.22 sec\n",
            "\n",
            "Best model:  ARIMA(0,0,2)(0,0,0)[0]          \n",
            "Total fit time: 15.069 seconds\n"
          ]
        },
        {
          "output_type": "execute_result",
          "data": {
            "text/plain": [
              "<class 'statsmodels.iolib.summary.Summary'>\n",
              "\"\"\"\n",
              "                               SARIMAX Results                                \n",
              "==============================================================================\n",
              "Dep. Variable:                      y   No. Observations:                 3078\n",
              "Model:               SARIMAX(0, 0, 2)   Log Likelihood               -8892.869\n",
              "Date:                Wed, 30 Mar 2022   AIC                          17791.738\n",
              "Time:                        04:04:45   BIC                          17809.834\n",
              "Sample:                             0   HQIC                         17798.238\n",
              "                               - 3078                                         \n",
              "Covariance Type:                  opg                                         \n",
              "==============================================================================\n",
              "                 coef    std err          z      P>|z|      [0.025      0.975]\n",
              "------------------------------------------------------------------------------\n",
              "ma.L1          0.0271      0.007      3.908      0.000       0.014       0.041\n",
              "ma.L2          0.0766      0.007     10.597      0.000       0.062       0.091\n",
              "sigma2        18.9245      0.187    100.945      0.000      18.557      19.292\n",
              "===================================================================================\n",
              "Ljung-Box (L1) (Q):                   0.00   Jarque-Bera (JB):             24592.92\n",
              "Prob(Q):                              0.97   Prob(JB):                         0.00\n",
              "Heteroskedasticity (H):              31.38   Skew:                            -0.59\n",
              "Prob(H) (two-sided):                  0.00   Kurtosis:                        16.80\n",
              "===================================================================================\n",
              "\n",
              "Warnings:\n",
              "[1] Covariance matrix calculated using the outer product of gradients (complex-step).\n",
              "\"\"\""
            ],
            "text/html": [
              "<table class=\"simpletable\">\n",
              "<caption>SARIMAX Results</caption>\n",
              "<tr>\n",
              "  <th>Dep. Variable:</th>           <td>y</td>        <th>  No. Observations:  </th>   <td>3078</td>   \n",
              "</tr>\n",
              "<tr>\n",
              "  <th>Model:</th>           <td>SARIMAX(0, 0, 2)</td> <th>  Log Likelihood     </th> <td>-8892.869</td>\n",
              "</tr>\n",
              "<tr>\n",
              "  <th>Date:</th>            <td>Wed, 30 Mar 2022</td> <th>  AIC                </th> <td>17791.738</td>\n",
              "</tr>\n",
              "<tr>\n",
              "  <th>Time:</th>                <td>04:04:45</td>     <th>  BIC                </th> <td>17809.834</td>\n",
              "</tr>\n",
              "<tr>\n",
              "  <th>Sample:</th>                  <td>0</td>        <th>  HQIC               </th> <td>17798.238</td>\n",
              "</tr>\n",
              "<tr>\n",
              "  <th></th>                      <td> - 3078</td>     <th>                     </th>     <td> </td>    \n",
              "</tr>\n",
              "<tr>\n",
              "  <th>Covariance Type:</th>        <td>opg</td>       <th>                     </th>     <td> </td>    \n",
              "</tr>\n",
              "</table>\n",
              "<table class=\"simpletable\">\n",
              "<tr>\n",
              "     <td></td>       <th>coef</th>     <th>std err</th>      <th>z</th>      <th>P>|z|</th>  <th>[0.025</th>    <th>0.975]</th>  \n",
              "</tr>\n",
              "<tr>\n",
              "  <th>ma.L1</th>  <td>    0.0271</td> <td>    0.007</td> <td>    3.908</td> <td> 0.000</td> <td>    0.014</td> <td>    0.041</td>\n",
              "</tr>\n",
              "<tr>\n",
              "  <th>ma.L2</th>  <td>    0.0766</td> <td>    0.007</td> <td>   10.597</td> <td> 0.000</td> <td>    0.062</td> <td>    0.091</td>\n",
              "</tr>\n",
              "<tr>\n",
              "  <th>sigma2</th> <td>   18.9245</td> <td>    0.187</td> <td>  100.945</td> <td> 0.000</td> <td>   18.557</td> <td>   19.292</td>\n",
              "</tr>\n",
              "</table>\n",
              "<table class=\"simpletable\">\n",
              "<tr>\n",
              "  <th>Ljung-Box (L1) (Q):</th>     <td>0.00</td>  <th>  Jarque-Bera (JB):  </th> <td>24592.92</td>\n",
              "</tr>\n",
              "<tr>\n",
              "  <th>Prob(Q):</th>                <td>0.97</td>  <th>  Prob(JB):          </th>   <td>0.00</td>  \n",
              "</tr>\n",
              "<tr>\n",
              "  <th>Heteroskedasticity (H):</th> <td>31.38</td> <th>  Skew:              </th>   <td>-0.59</td> \n",
              "</tr>\n",
              "<tr>\n",
              "  <th>Prob(H) (two-sided):</th>    <td>0.00</td>  <th>  Kurtosis:          </th>   <td>16.80</td> \n",
              "</tr>\n",
              "</table><br/><br/>Warnings:<br/>[1] Covariance matrix calculated using the outer product of gradients (complex-step)."
            ]
          },
          "metadata": {},
          "execution_count": 94
        }
      ]
    },
    {
      "cell_type": "code",
      "source": [
        "import statsmodels.api as sm\n",
        "import warnings\n",
        "warnings.filterwarnings('ignore')"
      ],
      "metadata": {
        "id": "ZdtYwmI-fqc8"
      },
      "execution_count": 95,
      "outputs": []
    },
    {
      "cell_type": "code",
      "source": [
        "from statsmodels.tsa.arima_model import ARIMA"
      ],
      "metadata": {
        "id": "RRx1XcRPf0Wf"
      },
      "execution_count": 96,
      "outputs": []
    },
    {
      "cell_type": "markdown",
      "source": [
        "Now we are splitting the data set between the test and the train data set for each stock price."
      ],
      "metadata": {
        "id": "WUDI5O8fIVEj"
      }
    },
    {
      "cell_type": "code",
      "source": [
        "ibm_train = ibm_diff.iloc[:-30]\n",
        "ibm_test = ibm_diff.iloc[-30:]\n",
        "print(ibm_train.shape)\n",
        "print(ibm_test.shape)"
      ],
      "metadata": {
        "colab": {
          "base_uri": "https://localhost:8080/"
        },
        "id": "OJI5O38OjWSU",
        "outputId": "059b1ab9-fbc0-411f-a9a8-171e58179e33"
      },
      "execution_count": 97,
      "outputs": [
        {
          "output_type": "stream",
          "name": "stdout",
          "text": [
            "(3048,)\n",
            "(30,)\n"
          ]
        }
      ]
    },
    {
      "cell_type": "code",
      "source": [
        "amzn_train = amzn_diff.iloc[:-30]\n",
        "amzn_test = amzn_diff.iloc[-30:]\n",
        "print(amzn_train.shape)\n",
        "print(amzn_test.shape)"
      ],
      "metadata": {
        "colab": {
          "base_uri": "https://localhost:8080/"
        },
        "id": "1eMtZ1VG86Wo",
        "outputId": "fa3de877-6298-4927-9437-f71a41a741a2"
      },
      "execution_count": 98,
      "outputs": [
        {
          "output_type": "stream",
          "name": "stdout",
          "text": [
            "(3048,)\n",
            "(30,)\n"
          ]
        }
      ]
    },
    {
      "cell_type": "code",
      "source": [
        "ba_train = ba_diff.iloc[:-30]\n",
        "ba_test = ba_diff.iloc[-30:]\n",
        "print(ba_train.shape)\n",
        "print(ba_test.shape)"
      ],
      "metadata": {
        "colab": {
          "base_uri": "https://localhost:8080/"
        },
        "id": "e_xB73fY8-Rh",
        "outputId": "220cc4bb-36bb-434a-8f77-662598efc6a5"
      },
      "execution_count": 99,
      "outputs": [
        {
          "output_type": "stream",
          "name": "stdout",
          "text": [
            "(3048,)\n",
            "(30,)\n"
          ]
        }
      ]
    },
    {
      "cell_type": "code",
      "source": [
        "ibm_model = sm.tsa.arima.ARIMA(ibm_train, order=(2,1,2))\n",
        "ibm_model = ibm_model.fit()"
      ],
      "metadata": {
        "id": "dJX_B9paf_bt"
      },
      "execution_count": 100,
      "outputs": []
    },
    {
      "cell_type": "code",
      "source": [
        "ibm_model.summary()"
      ],
      "metadata": {
        "colab": {
          "base_uri": "https://localhost:8080/",
          "height": 473
        },
        "id": "1D6FgmiKgeQf",
        "outputId": "bfb1b147-30a5-45cd-acdc-f7f2e3a0c76b"
      },
      "execution_count": 101,
      "outputs": [
        {
          "output_type": "execute_result",
          "data": {
            "text/plain": [
              "<class 'statsmodels.iolib.summary.Summary'>\n",
              "\"\"\"\n",
              "                               SARIMAX Results                                \n",
              "==============================================================================\n",
              "Dep. Variable:                    IBM   No. Observations:                 3048\n",
              "Model:                 ARIMA(2, 1, 2)   Log Likelihood               -6437.289\n",
              "Date:                Wed, 30 Mar 2022   AIC                          12884.579\n",
              "Time:                        04:06:09   BIC                          12914.688\n",
              "Sample:                             0   HQIC                         12895.401\n",
              "                               - 3048                                         \n",
              "Covariance Type:                  opg                                         \n",
              "==============================================================================\n",
              "                 coef    std err          z      P>|z|      [0.025      0.975]\n",
              "------------------------------------------------------------------------------\n",
              "ar.L1         -1.0163      0.017    -60.029      0.000      -1.049      -0.983\n",
              "ar.L2         -0.0290      0.014     -2.116      0.034      -0.056      -0.002\n",
              "ma.L1         -0.0080      0.031     -0.259      0.795      -0.069       0.053\n",
              "ma.L2         -0.9919      0.033    -30.080      0.000      -1.057      -0.927\n",
              "sigma2         3.9940      0.121     32.981      0.000       3.757       4.231\n",
              "===================================================================================\n",
              "Ljung-Box (L1) (Q):                   0.00   Jarque-Bera (JB):              7840.87\n",
              "Prob(Q):                              0.99   Prob(JB):                         0.00\n",
              "Heteroskedasticity (H):               1.21   Skew:                            -0.81\n",
              "Prob(H) (two-sided):                  0.00   Kurtosis:                        10.69\n",
              "===================================================================================\n",
              "\n",
              "Warnings:\n",
              "[1] Covariance matrix calculated using the outer product of gradients (complex-step).\n",
              "\"\"\""
            ],
            "text/html": [
              "<table class=\"simpletable\">\n",
              "<caption>SARIMAX Results</caption>\n",
              "<tr>\n",
              "  <th>Dep. Variable:</th>          <td>IBM</td>       <th>  No. Observations:  </th>   <td>3048</td>   \n",
              "</tr>\n",
              "<tr>\n",
              "  <th>Model:</th>            <td>ARIMA(2, 1, 2)</td>  <th>  Log Likelihood     </th> <td>-6437.289</td>\n",
              "</tr>\n",
              "<tr>\n",
              "  <th>Date:</th>            <td>Wed, 30 Mar 2022</td> <th>  AIC                </th> <td>12884.579</td>\n",
              "</tr>\n",
              "<tr>\n",
              "  <th>Time:</th>                <td>04:06:09</td>     <th>  BIC                </th> <td>12914.688</td>\n",
              "</tr>\n",
              "<tr>\n",
              "  <th>Sample:</th>                  <td>0</td>        <th>  HQIC               </th> <td>12895.401</td>\n",
              "</tr>\n",
              "<tr>\n",
              "  <th></th>                      <td> - 3048</td>     <th>                     </th>     <td> </td>    \n",
              "</tr>\n",
              "<tr>\n",
              "  <th>Covariance Type:</th>        <td>opg</td>       <th>                     </th>     <td> </td>    \n",
              "</tr>\n",
              "</table>\n",
              "<table class=\"simpletable\">\n",
              "<tr>\n",
              "     <td></td>       <th>coef</th>     <th>std err</th>      <th>z</th>      <th>P>|z|</th>  <th>[0.025</th>    <th>0.975]</th>  \n",
              "</tr>\n",
              "<tr>\n",
              "  <th>ar.L1</th>  <td>   -1.0163</td> <td>    0.017</td> <td>  -60.029</td> <td> 0.000</td> <td>   -1.049</td> <td>   -0.983</td>\n",
              "</tr>\n",
              "<tr>\n",
              "  <th>ar.L2</th>  <td>   -0.0290</td> <td>    0.014</td> <td>   -2.116</td> <td> 0.034</td> <td>   -0.056</td> <td>   -0.002</td>\n",
              "</tr>\n",
              "<tr>\n",
              "  <th>ma.L1</th>  <td>   -0.0080</td> <td>    0.031</td> <td>   -0.259</td> <td> 0.795</td> <td>   -0.069</td> <td>    0.053</td>\n",
              "</tr>\n",
              "<tr>\n",
              "  <th>ma.L2</th>  <td>   -0.9919</td> <td>    0.033</td> <td>  -30.080</td> <td> 0.000</td> <td>   -1.057</td> <td>   -0.927</td>\n",
              "</tr>\n",
              "<tr>\n",
              "  <th>sigma2</th> <td>    3.9940</td> <td>    0.121</td> <td>   32.981</td> <td> 0.000</td> <td>    3.757</td> <td>    4.231</td>\n",
              "</tr>\n",
              "</table>\n",
              "<table class=\"simpletable\">\n",
              "<tr>\n",
              "  <th>Ljung-Box (L1) (Q):</th>     <td>0.00</td> <th>  Jarque-Bera (JB):  </th> <td>7840.87</td>\n",
              "</tr>\n",
              "<tr>\n",
              "  <th>Prob(Q):</th>                <td>0.99</td> <th>  Prob(JB):          </th>  <td>0.00</td>  \n",
              "</tr>\n",
              "<tr>\n",
              "  <th>Heteroskedasticity (H):</th> <td>1.21</td> <th>  Skew:              </th>  <td>-0.81</td> \n",
              "</tr>\n",
              "<tr>\n",
              "  <th>Prob(H) (two-sided):</th>    <td>0.00</td> <th>  Kurtosis:          </th>  <td>10.69</td> \n",
              "</tr>\n",
              "</table><br/><br/>Warnings:<br/>[1] Covariance matrix calculated using the outer product of gradients (complex-step)."
            ]
          },
          "metadata": {},
          "execution_count": 101
        }
      ]
    },
    {
      "cell_type": "code",
      "source": [
        "amzn_model = sm.tsa.arima.ARIMA(amzn_train, order=(3,0,0))\n",
        "amzn_model = amzn_model.fit()\n",
        "amzn_model.summary()"
      ],
      "metadata": {
        "colab": {
          "base_uri": "https://localhost:8080/",
          "height": 473
        },
        "id": "8g5vZewX9vcE",
        "outputId": "bf8a97f8-11a4-49db-d280-e1d71d342af6"
      },
      "execution_count": 102,
      "outputs": [
        {
          "output_type": "execute_result",
          "data": {
            "text/plain": [
              "<class 'statsmodels.iolib.summary.Summary'>\n",
              "\"\"\"\n",
              "                               SARIMAX Results                                \n",
              "==============================================================================\n",
              "Dep. Variable:                   AMZN   No. Observations:                 3048\n",
              "Model:                 ARIMA(3, 0, 0)   Log Likelihood              -14603.533\n",
              "Date:                Wed, 30 Mar 2022   AIC                          29217.066\n",
              "Time:                        04:07:19   BIC                          29247.177\n",
              "Sample:                             0   HQIC                         29227.888\n",
              "                               - 3048                                         \n",
              "Covariance Type:                  opg                                         \n",
              "==============================================================================\n",
              "                 coef    std err          z      P>|z|      [0.025      0.975]\n",
              "------------------------------------------------------------------------------\n",
              "const          0.9994      0.480      2.082      0.037       0.059       1.940\n",
              "ar.L1         -0.0461      0.007     -6.282      0.000      -0.061      -0.032\n",
              "ar.L2          0.0036      0.009      0.397      0.692      -0.014       0.022\n",
              "ar.L3         -0.0729      0.008     -8.960      0.000      -0.089      -0.057\n",
              "sigma2       850.1906      6.940    122.505      0.000     836.588     863.793\n",
              "===================================================================================\n",
              "Ljung-Box (L1) (Q):                   0.00   Jarque-Bera (JB):             55061.58\n",
              "Prob(Q):                              0.99   Prob(JB):                         0.00\n",
              "Heteroskedasticity (H):             122.94   Skew:                             0.35\n",
              "Prob(H) (two-sided):                  0.00   Kurtosis:                        23.81\n",
              "===================================================================================\n",
              "\n",
              "Warnings:\n",
              "[1] Covariance matrix calculated using the outer product of gradients (complex-step).\n",
              "\"\"\""
            ],
            "text/html": [
              "<table class=\"simpletable\">\n",
              "<caption>SARIMAX Results</caption>\n",
              "<tr>\n",
              "  <th>Dep. Variable:</th>         <td>AMZN</td>       <th>  No. Observations:  </th>    <td>3048</td>   \n",
              "</tr>\n",
              "<tr>\n",
              "  <th>Model:</th>            <td>ARIMA(3, 0, 0)</td>  <th>  Log Likelihood     </th> <td>-14603.533</td>\n",
              "</tr>\n",
              "<tr>\n",
              "  <th>Date:</th>            <td>Wed, 30 Mar 2022</td> <th>  AIC                </th>  <td>29217.066</td>\n",
              "</tr>\n",
              "<tr>\n",
              "  <th>Time:</th>                <td>04:07:19</td>     <th>  BIC                </th>  <td>29247.177</td>\n",
              "</tr>\n",
              "<tr>\n",
              "  <th>Sample:</th>                  <td>0</td>        <th>  HQIC               </th>  <td>29227.888</td>\n",
              "</tr>\n",
              "<tr>\n",
              "  <th></th>                      <td> - 3048</td>     <th>                     </th>      <td> </td>    \n",
              "</tr>\n",
              "<tr>\n",
              "  <th>Covariance Type:</th>        <td>opg</td>       <th>                     </th>      <td> </td>    \n",
              "</tr>\n",
              "</table>\n",
              "<table class=\"simpletable\">\n",
              "<tr>\n",
              "     <td></td>       <th>coef</th>     <th>std err</th>      <th>z</th>      <th>P>|z|</th>  <th>[0.025</th>    <th>0.975]</th>  \n",
              "</tr>\n",
              "<tr>\n",
              "  <th>const</th>  <td>    0.9994</td> <td>    0.480</td> <td>    2.082</td> <td> 0.037</td> <td>    0.059</td> <td>    1.940</td>\n",
              "</tr>\n",
              "<tr>\n",
              "  <th>ar.L1</th>  <td>   -0.0461</td> <td>    0.007</td> <td>   -6.282</td> <td> 0.000</td> <td>   -0.061</td> <td>   -0.032</td>\n",
              "</tr>\n",
              "<tr>\n",
              "  <th>ar.L2</th>  <td>    0.0036</td> <td>    0.009</td> <td>    0.397</td> <td> 0.692</td> <td>   -0.014</td> <td>    0.022</td>\n",
              "</tr>\n",
              "<tr>\n",
              "  <th>ar.L3</th>  <td>   -0.0729</td> <td>    0.008</td> <td>   -8.960</td> <td> 0.000</td> <td>   -0.089</td> <td>   -0.057</td>\n",
              "</tr>\n",
              "<tr>\n",
              "  <th>sigma2</th> <td>  850.1906</td> <td>    6.940</td> <td>  122.505</td> <td> 0.000</td> <td>  836.588</td> <td>  863.793</td>\n",
              "</tr>\n",
              "</table>\n",
              "<table class=\"simpletable\">\n",
              "<tr>\n",
              "  <th>Ljung-Box (L1) (Q):</th>      <td>0.00</td>  <th>  Jarque-Bera (JB):  </th> <td>55061.58</td>\n",
              "</tr>\n",
              "<tr>\n",
              "  <th>Prob(Q):</th>                 <td>0.99</td>  <th>  Prob(JB):          </th>   <td>0.00</td>  \n",
              "</tr>\n",
              "<tr>\n",
              "  <th>Heteroskedasticity (H):</th> <td>122.94</td> <th>  Skew:              </th>   <td>0.35</td>  \n",
              "</tr>\n",
              "<tr>\n",
              "  <th>Prob(H) (two-sided):</th>     <td>0.00</td>  <th>  Kurtosis:          </th>   <td>23.81</td> \n",
              "</tr>\n",
              "</table><br/><br/>Warnings:<br/>[1] Covariance matrix calculated using the outer product of gradients (complex-step)."
            ]
          },
          "metadata": {},
          "execution_count": 102
        }
      ]
    },
    {
      "cell_type": "code",
      "source": [
        "ba_model = sm.tsa.arima.ARIMA(ba_train, order=(0,0,2))\n",
        "ba_model = ba_model.fit()\n",
        "ba_model.summary()"
      ],
      "metadata": {
        "colab": {
          "base_uri": "https://localhost:8080/",
          "height": 452
        },
        "id": "XTcGQIFn9vwQ",
        "outputId": "a7fdcc85-5858-4317-b6f1-4caa09240e35"
      },
      "execution_count": 103,
      "outputs": [
        {
          "output_type": "execute_result",
          "data": {
            "text/plain": [
              "<class 'statsmodels.iolib.summary.Summary'>\n",
              "\"\"\"\n",
              "                               SARIMAX Results                                \n",
              "==============================================================================\n",
              "Dep. Variable:                     BA   No. Observations:                 3048\n",
              "Model:                 ARIMA(0, 0, 2)   Log Likelihood               -8795.721\n",
              "Date:                Wed, 30 Mar 2022   AIC                          17599.442\n",
              "Time:                        04:07:22   BIC                          17623.531\n",
              "Sample:                             0   HQIC                         17608.099\n",
              "                               - 3048                                         \n",
              "Covariance Type:                  opg                                         \n",
              "==============================================================================\n",
              "                 coef    std err          z      P>|z|      [0.025      0.975]\n",
              "------------------------------------------------------------------------------\n",
              "const          0.0535      0.088      0.606      0.545      -0.120       0.227\n",
              "ma.L1          0.0254      0.007      3.682      0.000       0.012       0.039\n",
              "ma.L2          0.0767      0.007     10.577      0.000       0.062       0.091\n",
              "sigma2        18.7950      0.186    101.120      0.000      18.431      19.159\n",
              "===================================================================================\n",
              "Ljung-Box (L1) (Q):                   0.00   Jarque-Bera (JB):             25573.89\n",
              "Prob(Q):                              0.99   Prob(JB):                         0.00\n",
              "Heteroskedasticity (H):              34.33   Skew:                            -0.60\n",
              "Prob(H) (two-sided):                  0.00   Kurtosis:                        17.14\n",
              "===================================================================================\n",
              "\n",
              "Warnings:\n",
              "[1] Covariance matrix calculated using the outer product of gradients (complex-step).\n",
              "\"\"\""
            ],
            "text/html": [
              "<table class=\"simpletable\">\n",
              "<caption>SARIMAX Results</caption>\n",
              "<tr>\n",
              "  <th>Dep. Variable:</th>          <td>BA</td>        <th>  No. Observations:  </th>   <td>3048</td>   \n",
              "</tr>\n",
              "<tr>\n",
              "  <th>Model:</th>            <td>ARIMA(0, 0, 2)</td>  <th>  Log Likelihood     </th> <td>-8795.721</td>\n",
              "</tr>\n",
              "<tr>\n",
              "  <th>Date:</th>            <td>Wed, 30 Mar 2022</td> <th>  AIC                </th> <td>17599.442</td>\n",
              "</tr>\n",
              "<tr>\n",
              "  <th>Time:</th>                <td>04:07:22</td>     <th>  BIC                </th> <td>17623.531</td>\n",
              "</tr>\n",
              "<tr>\n",
              "  <th>Sample:</th>                  <td>0</td>        <th>  HQIC               </th> <td>17608.099</td>\n",
              "</tr>\n",
              "<tr>\n",
              "  <th></th>                      <td> - 3048</td>     <th>                     </th>     <td> </td>    \n",
              "</tr>\n",
              "<tr>\n",
              "  <th>Covariance Type:</th>        <td>opg</td>       <th>                     </th>     <td> </td>    \n",
              "</tr>\n",
              "</table>\n",
              "<table class=\"simpletable\">\n",
              "<tr>\n",
              "     <td></td>       <th>coef</th>     <th>std err</th>      <th>z</th>      <th>P>|z|</th>  <th>[0.025</th>    <th>0.975]</th>  \n",
              "</tr>\n",
              "<tr>\n",
              "  <th>const</th>  <td>    0.0535</td> <td>    0.088</td> <td>    0.606</td> <td> 0.545</td> <td>   -0.120</td> <td>    0.227</td>\n",
              "</tr>\n",
              "<tr>\n",
              "  <th>ma.L1</th>  <td>    0.0254</td> <td>    0.007</td> <td>    3.682</td> <td> 0.000</td> <td>    0.012</td> <td>    0.039</td>\n",
              "</tr>\n",
              "<tr>\n",
              "  <th>ma.L2</th>  <td>    0.0767</td> <td>    0.007</td> <td>   10.577</td> <td> 0.000</td> <td>    0.062</td> <td>    0.091</td>\n",
              "</tr>\n",
              "<tr>\n",
              "  <th>sigma2</th> <td>   18.7950</td> <td>    0.186</td> <td>  101.120</td> <td> 0.000</td> <td>   18.431</td> <td>   19.159</td>\n",
              "</tr>\n",
              "</table>\n",
              "<table class=\"simpletable\">\n",
              "<tr>\n",
              "  <th>Ljung-Box (L1) (Q):</th>     <td>0.00</td>  <th>  Jarque-Bera (JB):  </th> <td>25573.89</td>\n",
              "</tr>\n",
              "<tr>\n",
              "  <th>Prob(Q):</th>                <td>0.99</td>  <th>  Prob(JB):          </th>   <td>0.00</td>  \n",
              "</tr>\n",
              "<tr>\n",
              "  <th>Heteroskedasticity (H):</th> <td>34.33</td> <th>  Skew:              </th>   <td>-0.60</td> \n",
              "</tr>\n",
              "<tr>\n",
              "  <th>Prob(H) (two-sided):</th>    <td>0.00</td>  <th>  Kurtosis:          </th>   <td>17.14</td> \n",
              "</tr>\n",
              "</table><br/><br/>Warnings:<br/>[1] Covariance matrix calculated using the outer product of gradients (complex-step)."
            ]
          },
          "metadata": {},
          "execution_count": 103
        }
      ]
    },
    {
      "cell_type": "code",
      "source": [
        "start = len(ibm_train)\n",
        "end=len(ibm_train)+len(ibm_test)-1\n",
        "ibm_pred=ibm_model.predict(start=start, end=end, type=\"levels\")\n",
        "#print(pred)\n",
        "ibm_pred.index=stock_prices.IBM.index[start:end+1]\n",
        "print(ibm_pred)"
      ],
      "metadata": {
        "colab": {
          "base_uri": "https://localhost:8080/"
        },
        "id": "ZzPmSVMCgvay",
        "outputId": "3a967659-097f-4546-f97f-81d68688fe94"
      },
      "execution_count": 104,
      "outputs": [
        {
          "output_type": "stream",
          "name": "stdout",
          "text": [
            "Date\n",
            "2022-02-10    0.110827\n",
            "2022-02-11    0.015786\n",
            "2022-02-14   -0.014559\n",
            "2022-02-15    0.019035\n",
            "2022-02-16   -0.014227\n",
            "2022-02-17    0.018604\n",
            "2022-02-18   -0.013799\n",
            "2022-02-22    0.018181\n",
            "2022-02-23   -0.013382\n",
            "2022-02-24    0.017769\n",
            "2022-02-25   -0.012975\n",
            "2022-02-28    0.017368\n",
            "2022-03-01   -0.012579\n",
            "2022-03-02    0.016977\n",
            "2022-03-03   -0.012193\n",
            "2022-03-04    0.016596\n",
            "2022-03-07   -0.011818\n",
            "2022-03-08    0.016226\n",
            "2022-03-09   -0.011452\n",
            "2022-03-10    0.015864\n",
            "2022-03-11   -0.011095\n",
            "2022-03-14    0.015512\n",
            "2022-03-15   -0.010748\n",
            "2022-03-16    0.015170\n",
            "2022-03-17   -0.010410\n",
            "2022-03-18    0.014836\n",
            "2022-03-21   -0.010080\n",
            "2022-03-22    0.014511\n",
            "2022-03-23   -0.009759\n",
            "2022-03-24    0.014194\n",
            "Name: predicted_mean, dtype: float64\n"
          ]
        }
      ]
    },
    {
      "cell_type": "code",
      "source": [
        "start = len(amzn_train)\n",
        "end=len(amzn_train)+len(amzn_test)-1\n",
        "amzn_pred=amzn_model.predict(start=start, end=end, type=\"levels\")\n",
        "#print(pred)\n",
        "amzn_pred.index=stock_prices.AMZN.index[start:end+1]\n",
        "print(amzn_pred)"
      ],
      "metadata": {
        "colab": {
          "base_uri": "https://localhost:8080/"
        },
        "id": "TNhCcKUc_Nt2",
        "outputId": "4491951c-d222-49aa-abc8-db82bb988ec3"
      },
      "execution_count": 105,
      "outputs": [
        {
          "output_type": "stream",
          "name": "stdout",
          "text": [
            "Date\n",
            "2022-02-10   -1.953500\n",
            "2022-02-11    1.372602\n",
            "2022-02-14    4.230547\n",
            "2022-02-15    1.066855\n",
            "2022-02-16    0.980822\n",
            "2022-02-17    0.765020\n",
            "2022-02-18    1.005232\n",
            "2022-02-22    0.999634\n",
            "2022-02-23    1.016492\n",
            "2022-02-24    0.998187\n",
            "2022-02-25    0.999501\n",
            "2022-02-28    0.998145\n",
            "2022-03-01    0.999547\n",
            "2022-03-02    0.999381\n",
            "2022-03-03    0.999493\n",
            "2022-03-04    0.999385\n",
            "2022-03-07    0.999402\n",
            "2022-03-08    0.999393\n",
            "2022-03-09    0.999402\n",
            "2022-03-10    0.999400\n",
            "2022-03-11    0.999401\n",
            "2022-03-14    0.999400\n",
            "2022-03-15    0.999400\n",
            "2022-03-16    0.999400\n",
            "2022-03-17    0.999400\n",
            "2022-03-18    0.999400\n",
            "2022-03-21    0.999400\n",
            "2022-03-22    0.999400\n",
            "2022-03-23    0.999400\n",
            "2022-03-24    0.999400\n",
            "Name: predicted_mean, dtype: float64\n"
          ]
        }
      ]
    },
    {
      "cell_type": "code",
      "source": [
        "start = len(ba_train)\n",
        "end=len(ba_train)+len(ba_test)-1\n",
        "ba_pred=ba_model.predict(start=start, end=end, type=\"levels\")\n",
        "#print(pred)\n",
        "ba_pred.index=stock_prices.BA.index[start:end+1]\n",
        "print(ba_pred)"
      ],
      "metadata": {
        "colab": {
          "base_uri": "https://localhost:8080/"
        },
        "id": "RSkxOgJC_N-P",
        "outputId": "ad419109-ec3a-491e-dbeb-e1bfbd86a259"
      },
      "execution_count": 106,
      "outputs": [
        {
          "output_type": "stream",
          "name": "stdout",
          "text": [
            "Date\n",
            "2022-02-10    0.281753\n",
            "2022-02-11    0.260271\n",
            "2022-02-14    0.053466\n",
            "2022-02-15    0.053466\n",
            "2022-02-16    0.053466\n",
            "2022-02-17    0.053466\n",
            "2022-02-18    0.053466\n",
            "2022-02-22    0.053466\n",
            "2022-02-23    0.053466\n",
            "2022-02-24    0.053466\n",
            "2022-02-25    0.053466\n",
            "2022-02-28    0.053466\n",
            "2022-03-01    0.053466\n",
            "2022-03-02    0.053466\n",
            "2022-03-03    0.053466\n",
            "2022-03-04    0.053466\n",
            "2022-03-07    0.053466\n",
            "2022-03-08    0.053466\n",
            "2022-03-09    0.053466\n",
            "2022-03-10    0.053466\n",
            "2022-03-11    0.053466\n",
            "2022-03-14    0.053466\n",
            "2022-03-15    0.053466\n",
            "2022-03-16    0.053466\n",
            "2022-03-17    0.053466\n",
            "2022-03-18    0.053466\n",
            "2022-03-21    0.053466\n",
            "2022-03-22    0.053466\n",
            "2022-03-23    0.053466\n",
            "2022-03-24    0.053466\n",
            "Name: predicted_mean, dtype: float64\n"
          ]
        }
      ]
    },
    {
      "cell_type": "code",
      "source": [
        "ibm_pred.plot(legend=True)\n",
        "ibm_test.plot(legend=True)"
      ],
      "metadata": {
        "colab": {
          "base_uri": "https://localhost:8080/",
          "height": 311
        },
        "id": "y4GCW3p3l_r5",
        "outputId": "0f281a99-9ce0-4e52-9528-68db9fbdf135"
      },
      "execution_count": 107,
      "outputs": [
        {
          "output_type": "execute_result",
          "data": {
            "text/plain": [
              "<matplotlib.axes._subplots.AxesSubplot at 0x7fbb4e28ac50>"
            ]
          },
          "metadata": {},
          "execution_count": 107
        },
        {
          "output_type": "display_data",
          "data": {
            "text/plain": [
              "<Figure size 432x288 with 1 Axes>"
            ],
            "image/png": "[encoded data removed]"
          },
          "metadata": {
            "needs_background": "light"
          }
        }
      ]
    },
    {
      "cell_type": "code",
      "source": [
        "amzn_pred.plot(legend=True)\n",
        "amzn_test.plot(legend=True)"
      ],
      "metadata": {
        "colab": {
          "base_uri": "https://localhost:8080/",
          "height": 311
        },
        "id": "LM2lx-V3AuZg",
        "outputId": "ace6b796-9e24-4cc6-b9ab-f6eecdf7a26d"
      },
      "execution_count": 108,
      "outputs": [
        {
          "output_type": "execute_result",
          "data": {
            "text/plain": [
              "<matplotlib.axes._subplots.AxesSubplot at 0x7fbb4e2b13d0>"
            ]
          },
          "metadata": {},
          "execution_count": 108
        },
        {
          "output_type": "display_data",
          "data": {
            "text/plain": [
              "<Figure size 432x288 with 1 Axes>"
            ],
            "image/png": "[encoded data removed]"
          },
          "metadata": {
            "needs_background": "light"
          }
        }
      ]
    },
    {
      "cell_type": "code",
      "source": [
        "ba_pred.plot(legend=True)\n",
        "ba_test.plot(legend=True)"
      ],
      "metadata": {
        "colab": {
          "base_uri": "https://localhost:8080/",
          "height": 314
        },
        "id": "sDj-SlGoA9VZ",
        "outputId": "c814c11f-5b27-4525-82d2-8275cc844867"
      },
      "execution_count": 109,
      "outputs": [
        {
          "output_type": "execute_result",
          "data": {
            "text/plain": [
              "<matplotlib.axes._subplots.AxesSubplot at 0x7fbb4e3f2ed0>"
            ]
          },
          "metadata": {},
          "execution_count": 109
        },
        {
          "output_type": "display_data",
          "data": {
            "text/plain": [
              "<Figure size 432x288 with 1 Axes>"
            ],
            "image/png": "[encoded data removed]"
          },
          "metadata": {
            "needs_background": "light"
          }
        }
      ]
    },
    {
      "cell_type": "code",
      "source": [
        "from sklearn.metrics import mean_squared_error\n",
        "from math import sqrt\n",
        "ibm_rmse=sqrt(mean_squared_error(ibm_pred,ibm_test))\n",
        "print(ibm_rmse)"
      ],
      "metadata": {
        "colab": {
          "base_uri": "https://localhost:8080/"
        },
        "id": "VYjPloU8mgVV",
        "outputId": "be5e86e4-abbc-42d8-8e0d-5d041e3a0df0"
      },
      "execution_count": 110,
      "outputs": [
        {
          "output_type": "stream",
          "name": "stdout",
          "text": [
            "1.5020346210075957\n"
          ]
        }
      ]
    },
    {
      "cell_type": "code",
      "source": [
        "amzn_rmse=sqrt(mean_squared_error(amzn_pred,amzn_test))\n",
        "print(amzn_rmse)"
      ],
      "metadata": {
        "colab": {
          "base_uri": "https://localhost:8080/"
        },
        "id": "nmu0eAJ_BMeS",
        "outputId": "67f462ea-01ab-4e8e-f98a-4f069d59bd25"
      },
      "execution_count": 111,
      "outputs": [
        {
          "output_type": "stream",
          "name": "stdout",
          "text": [
            "75.6726980592916\n"
          ]
        }
      ]
    },
    {
      "cell_type": "code",
      "source": [
        "ba_rmse=sqrt(mean_squared_error(ba_pred,ba_test))\n",
        "print(ba_rmse)"
      ],
      "metadata": {
        "colab": {
          "base_uri": "https://localhost:8080/"
        },
        "id": "DnO4xbnqBMwA",
        "outputId": "c1ca5cc7-7221-4811-e8f0-42614d747c0e"
      },
      "execution_count": 112,
      "outputs": [
        {
          "output_type": "stream",
          "name": "stdout",
          "text": [
            "5.68437286784622\n"
          ]
        }
      ]
    },
    {
      "cell_type": "code",
      "source": [
        "ibm_test.mean()"
      ],
      "metadata": {
        "colab": {
          "base_uri": "https://localhost:8080/"
        },
        "id": "n9-R_4mmmtJn",
        "outputId": "36e334a2-bce2-4969-b5e1-1a60a3205f1a"
      },
      "execution_count": 113,
      "outputs": [
        {
          "output_type": "execute_result",
          "data": {
            "text/plain": [
              "-0.07233327229817708"
            ]
          },
          "metadata": {},
          "execution_count": 113
        }
      ]
    },
    {
      "cell_type": "code",
      "source": [
        "amzn_test.mean()"
      ],
      "metadata": {
        "colab": {
          "base_uri": "https://localhost:8080/"
        },
        "id": "MmLiAPekBwEr",
        "outputId": "91d7e8fe-fa60-4b52-a3c1-114721ff154c"
      },
      "execution_count": 114,
      "outputs": [
        {
          "output_type": "execute_result",
          "data": {
            "text/plain": [
              "3.846663411458333"
            ]
          },
          "metadata": {},
          "execution_count": 114
        }
      ]
    },
    {
      "cell_type": "code",
      "source": [
        "ba_test.mean()"
      ],
      "metadata": {
        "colab": {
          "base_uri": "https://localhost:8080/"
        },
        "id": "XvfnpfjiBwSP",
        "outputId": "163f5e17-56eb-4533-a6c4-b1630a41104f"
      },
      "execution_count": 115,
      "outputs": [
        {
          "output_type": "execute_result",
          "data": {
            "text/plain": [
              "-0.9933334350585937"
            ]
          },
          "metadata": {},
          "execution_count": 115
        }
      ]
    },
    {
      "cell_type": "code",
      "source": [
        "model2 = sm.tsa.arima.ARIMA(stock_prices.IBM, order=(2,0,2))\n",
        "model2 = model2.fit()"
      ],
      "metadata": {
        "id": "hPNnxyiCocti"
      },
      "execution_count": 116,
      "outputs": []
    },
    {
      "cell_type": "code",
      "source": [
        "model3 = sm.tsa.arima.ARIMA(stock_prices.AMZN, order=(3,0,0))\n",
        "model3 = model3.fit()"
      ],
      "metadata": {
        "id": "Afs5WUtBCD4Y"
      },
      "execution_count": 117,
      "outputs": []
    },
    {
      "cell_type": "code",
      "source": [
        "model4 = sm.tsa.arima.ARIMA(stock_prices.BA, order=(0,0,2))\n",
        "model4 = model4.fit()"
      ],
      "metadata": {
        "id": "hpLareKDCEEg"
      },
      "execution_count": 118,
      "outputs": []
    },
    {
      "cell_type": "code",
      "source": [
        "index_future_dates=pd.date_range(start='2022-03-24', end='2022-04-23')\n",
        "#print(index_future_dates)\n",
        "ibm_pred2=model2.predict(start=len(stock_prices.IBM), end=len(stock_prices.IBM)+30, typ='levels').rename('ARIMA Predictions')\n",
        "#print(comp_pred)\n",
        "ibm_pred2.index=index_future_dates\n",
        "print(ibm_pred2)"
      ],
      "metadata": {
        "colab": {
          "base_uri": "https://localhost:8080/"
        },
        "id": "nsZgHQjPnUmd",
        "outputId": "db91cd77-07bd-4c40-861c-ca742af02503"
      },
      "execution_count": 124,
      "outputs": [
        {
          "output_type": "stream",
          "name": "stdout",
          "text": [
            "2022-03-24    131.368889\n",
            "2022-03-25    131.446985\n",
            "2022-03-26    131.508402\n",
            "2022-03-27    131.565918\n",
            "2022-03-28    131.622415\n",
            "2022-03-29    131.678544\n",
            "2022-03-30    131.734453\n",
            "2022-03-31    131.790176\n",
            "2022-04-01    131.845720\n",
            "2022-04-02    131.901087\n",
            "2022-04-03    131.956280\n",
            "2022-04-04    132.011297\n",
            "2022-04-05    132.066141\n",
            "2022-04-06    132.120811\n",
            "2022-04-07    132.175307\n",
            "2022-04-08    132.229631\n",
            "2022-04-09    132.283784\n",
            "2022-04-10    132.337764\n",
            "2022-04-11    132.391574\n",
            "2022-04-12    132.445214\n",
            "2022-04-13    132.498684\n",
            "2022-04-14    132.551984\n",
            "2022-04-15    132.605116\n",
            "2022-04-16    132.658080\n",
            "2022-04-17    132.710876\n",
            "2022-04-18    132.763504\n",
            "2022-04-19    132.815967\n",
            "2022-04-20    132.868263\n",
            "2022-04-21    132.920393\n",
            "2022-04-22    132.972359\n",
            "2022-04-23    133.024160\n",
            "Freq: D, Name: ARIMA Predictions, dtype: float64\n"
          ]
        }
      ]
    },
    {
      "cell_type": "code",
      "source": [
        "index_future_dates=pd.date_range(start='2022-03-24', end='2022-04-23')\n",
        "#print(index_future_dates)\n",
        "amzn_pred2=model3.predict(start=len(stock_prices.AMZN), end=len(stock_prices.AMZN)+30, typ='levels').rename('ARIMA Predictions')\n",
        "#print(comp_pred)\n",
        "amzn_pred2.index=index_future_dates\n",
        "print(amzn_pred2)"
      ],
      "metadata": {
        "colab": {
          "base_uri": "https://localhost:8080/"
        },
        "id": "wQKLNdF8DyV3",
        "outputId": "e6d4b0ee-5085-4eb8-85f8-425f805e0b4c"
      },
      "execution_count": 125,
      "outputs": [
        {
          "output_type": "stream",
          "name": "stdout",
          "text": [
            "2022-03-24    3294.435782\n",
            "2022-03-25    3294.151342\n",
            "2022-03-26    3293.718368\n",
            "2022-03-27    3293.293682\n",
            "2022-03-28    3292.868044\n",
            "2022-03-29    3292.442561\n",
            "2022-03-30    3292.017154\n",
            "2022-03-31    3291.591830\n",
            "2022-04-01    3291.166588\n",
            "2022-04-02    3290.741429\n",
            "2022-04-03    3290.316353\n",
            "2022-04-04    3289.891360\n",
            "2022-04-05    3289.466449\n",
            "2022-04-06    3289.041621\n",
            "2022-04-07    3288.616875\n",
            "2022-04-08    3288.192212\n",
            "2022-04-09    3287.767631\n",
            "2022-04-10    3287.343133\n",
            "2022-04-11    3286.918718\n",
            "2022-04-12    3286.494385\n",
            "2022-04-13    3286.070135\n",
            "2022-04-14    3285.645967\n",
            "2022-04-15    3285.221881\n",
            "2022-04-16    3284.797878\n",
            "2022-04-17    3284.373958\n",
            "2022-04-18    3283.950120\n",
            "2022-04-19    3283.526364\n",
            "2022-04-20    3283.102691\n",
            "2022-04-21    3282.679100\n",
            "2022-04-22    3282.255591\n",
            "2022-04-23    3281.832165\n",
            "Freq: D, Name: ARIMA Predictions, dtype: float64\n"
          ]
        }
      ]
    },
    {
      "cell_type": "code",
      "source": [
        "index_future_dates=pd.date_range(start='2022-03-24', end='2022-04-23')\n",
        "#print(index_future_dates)\n",
        "ba_pred2=model4.predict(start=len(stock_prices.BA), end=len(stock_prices.BA)+30, typ='levels').rename('ARIMA Predictions')\n",
        "#print(comp_pred)\n",
        "ba_pred2.index=index_future_dates\n",
        "print(ba_pred2)"
      ],
      "metadata": {
        "colab": {
          "base_uri": "https://localhost:8080/"
        },
        "id": "a2ZUrSazD3cg",
        "outputId": "d4a5af65-b711-4e9d-bed5-26b1cf1b6638"
      },
      "execution_count": 126,
      "outputs": [
        {
          "output_type": "stream",
          "name": "stdout",
          "text": [
            "2022-03-24    188.412545\n",
            "2022-03-25    171.366402\n",
            "2022-03-26    172.529266\n",
            "2022-03-27    172.529266\n",
            "2022-03-28    172.529266\n",
            "2022-03-29    172.529266\n",
            "2022-03-30    172.529266\n",
            "2022-03-31    172.529266\n",
            "2022-04-01    172.529266\n",
            "2022-04-02    172.529266\n",
            "2022-04-03    172.529266\n",
            "2022-04-04    172.529266\n",
            "2022-04-05    172.529266\n",
            "2022-04-06    172.529266\n",
            "2022-04-07    172.529266\n",
            "2022-04-08    172.529266\n",
            "2022-04-09    172.529266\n",
            "2022-04-10    172.529266\n",
            "2022-04-11    172.529266\n",
            "2022-04-12    172.529266\n",
            "2022-04-13    172.529266\n",
            "2022-04-14    172.529266\n",
            "2022-04-15    172.529266\n",
            "2022-04-16    172.529266\n",
            "2022-04-17    172.529266\n",
            "2022-04-18    172.529266\n",
            "2022-04-19    172.529266\n",
            "2022-04-20    172.529266\n",
            "2022-04-21    172.529266\n",
            "2022-04-22    172.529266\n",
            "2022-04-23    172.529266\n",
            "Freq: D, Name: ARIMA Predictions, dtype: float64\n"
          ]
        }
      ]
    },
    {
      "cell_type": "code",
      "source": [
        "ibm_pred2.plot(figsize=(10,5), legend=True)"
      ],
      "metadata": {
        "colab": {
          "base_uri": "https://localhost:8080/",
          "height": 374
        },
        "id": "EiJHB42sn4Yv",
        "outputId": "9c6b359e-6f18-47a3-b58c-95ec8880895a"
      },
      "execution_count": 127,
      "outputs": [
        {
          "output_type": "execute_result",
          "data": {
            "text/plain": [
              "<matplotlib.axes._subplots.AxesSubplot at 0x7fbb4e0d1a10>"
            ]
          },
          "metadata": {},
          "execution_count": 127
        },
        {
          "output_type": "display_data",
          "data": {
            "text/plain": [
              "<Figure size 720x360 with 1 Axes>"
            ],
            "image/png": "[encoded data removed]"
          },
          "metadata": {
            "needs_background": "light"
          }
        }
      ]
    },
    {
      "cell_type": "code",
      "source": [
        "amzn_pred2.plot(figsize=(10,5), legend=True)"
      ],
      "metadata": {
        "colab": {
          "base_uri": "https://localhost:8080/",
          "height": 374
        },
        "id": "Zj3H_UguFo3s",
        "outputId": "62526d88-eb87-4ec5-d915-424ae1c4fe6e"
      },
      "execution_count": 128,
      "outputs": [
        {
          "output_type": "execute_result",
          "data": {
            "text/plain": [
              "<matplotlib.axes._subplots.AxesSubplot at 0x7fbb4e1bb110>"
            ]
          },
          "metadata": {},
          "execution_count": 128
        },
        {
          "output_type": "display_data",
          "data": {
            "text/plain": [
              "<Figure size 720x360 with 1 Axes>"
            ],
            "image/png": "[encoded data removed]"
          },
          "metadata": {
            "needs_background": "light"
          }
        }
      ]
    },
    {
      "cell_type": "code",
      "source": [
        "ba_pred2.plot(figsize=(10,5), legend=True)"
      ],
      "metadata": {
        "colab": {
          "base_uri": "https://localhost:8080/",
          "height": 374
        },
        "id": "pKA9rpP6FpCr",
        "outputId": "af866238-75b4-4327-d162-80efedd0a6bc"
      },
      "execution_count": 129,
      "outputs": [
        {
          "output_type": "execute_result",
          "data": {
            "text/plain": [
              "<matplotlib.axes._subplots.AxesSubplot at 0x7fbb4df0d4d0>"
            ]
          },
          "metadata": {},
          "execution_count": 129
        },
        {
          "output_type": "display_data",
          "data": {
            "text/plain": [
              "<Figure size 720x360 with 1 Axes>"
            ],
            "image/png": "[encoded data removed]"
          },
          "metadata": {
            "needs_background": "light"
          }
        }
      ]
    }
  ]
}