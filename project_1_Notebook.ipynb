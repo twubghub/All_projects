{
 "cells": [
  {
   "cell_type": "markdown",
   "metadata": {},
   "source": [
    "   ## PROJECT ONE: ANALYSIS AND HYPOTESIS TESTING OF SURVEY DATA\n",
    "\n",
    "In this project, I assessed and explored the health behaviors and risk factors using \n",
    "the Data from the National Health Interview Survey (NHIS). The National Health Interview Survey \n",
    "(NHIS) is a national survey that provides data about health, economy and demography using samples\n",
    "of U.S. population. Using the 2019 NHIS data, I focused on health behaviors and risk factors such\n",
    "as Cigarette smoking, Body mass index, hypertension and so on. The analysis focused on statistical\n",
    "data analysis and answering specific questions for U.S. adults who are 18 and older.  Based on specific \n",
    "objectives and questions, it focused on hypothesis analysis, relationship between variables and if\n",
    "a specific outcome significantly differs from group to group."
   ]
  },
  {
   "cell_type": "markdown",
   "metadata": {},
   "source": [
    "## Main Summary\n",
    "***\n",
    "### The Analysis has two main Parts:\n",
    "##### Part 1: Explaratory Data analysis (EDA)\n",
    "##### Part 2: Main Data Analysis Using Statistical Methods for Hypothesis Testing\n",
    "######  Hypothesis Test used:  chi-square test, z test, t test, and Anova.\n",
    "### Data: NHIS data that is found here: https://www.cdc.gov/nchs/nhis/2019nhis.htm\n"
   ]
  },
  {
   "cell_type": "code",
   "execution_count": 58,
   "metadata": {},
   "outputs": [],
   "source": [
    "!pip install researchpy"
   ]
  },
  {
   "cell_type": "code",
   "execution_count": 1,
   "metadata": {},
   "outputs": [],
   "source": [
    "# Importing modules \n",
    "import numpy as np\n",
    "import matplotlib.pyplot as plt\n",
    "import pandas as pd\n",
    "import statsmodels.api as sm\n",
    "from statsmodels.stats.proportion import proportions_ztest\n",
    "import researchpy\n",
    "import scipy.stats as stats\n",
    "from statsmodels.formula.api import ols\n",
    "import seaborn as sns"
   ]
  },
  {
   "cell_type": "code",
   "execution_count": 2,
   "metadata": {},
   "outputs": [
    {
     "data": {
      "text/html": [
       "<div>\n",
       "<style scoped>\n",
       "    .dataframe tbody tr th:only-of-type {\n",
       "        vertical-align: middle;\n",
       "    }\n",
       "\n",
       "    .dataframe tbody tr th {\n",
       "        vertical-align: top;\n",
       "    }\n",
       "\n",
       "    .dataframe thead th {\n",
       "        text-align: right;\n",
       "    }\n",
       "</style>\n",
       "<table border=\"1\" class=\"dataframe\">\n",
       "  <thead>\n",
       "    <tr style=\"text-align: right;\">\n",
       "      <th></th>\n",
       "      <th>URBRRL</th>\n",
       "      <th>RATCAT_A</th>\n",
       "      <th>INCGRP_A</th>\n",
       "      <th>INCTCFLG_A</th>\n",
       "      <th>FAMINCTC_A</th>\n",
       "      <th>IMPINCFLG_A</th>\n",
       "      <th>PPSU</th>\n",
       "      <th>PSTRAT</th>\n",
       "      <th>HISPALLP_A</th>\n",
       "      <th>RACEALLP_A</th>\n",
       "      <th>...</th>\n",
       "      <th>PROXYREL_A</th>\n",
       "      <th>PROXY_A</th>\n",
       "      <th>AVAIL_A</th>\n",
       "      <th>HHSTAT_A</th>\n",
       "      <th>INTV_QRT</th>\n",
       "      <th>RECTYPE</th>\n",
       "      <th>WTFA_A</th>\n",
       "      <th>WTIA_A</th>\n",
       "      <th>HHX</th>\n",
       "      <th>POVRATTC_A</th>\n",
       "    </tr>\n",
       "  </thead>\n",
       "  <tbody>\n",
       "    <tr>\n",
       "      <th>0</th>\n",
       "      <td>4</td>\n",
       "      <td>9</td>\n",
       "      <td>3</td>\n",
       "      <td>0</td>\n",
       "      <td>60000</td>\n",
       "      <td>2</td>\n",
       "      <td>2</td>\n",
       "      <td>122</td>\n",
       "      <td>3</td>\n",
       "      <td>2</td>\n",
       "      <td>...</td>\n",
       "      <td>NaN</td>\n",
       "      <td>NaN</td>\n",
       "      <td>1</td>\n",
       "      <td>1</td>\n",
       "      <td>1</td>\n",
       "      <td>10</td>\n",
       "      <td>13177.008</td>\n",
       "      <td>7601.336</td>\n",
       "      <td>H048109</td>\n",
       "      <td>2.96</td>\n",
       "    </tr>\n",
       "    <tr>\n",
       "      <th>1</th>\n",
       "      <td>4</td>\n",
       "      <td>9</td>\n",
       "      <td>3</td>\n",
       "      <td>0</td>\n",
       "      <td>50000</td>\n",
       "      <td>0</td>\n",
       "      <td>2</td>\n",
       "      <td>122</td>\n",
       "      <td>2</td>\n",
       "      <td>1</td>\n",
       "      <td>...</td>\n",
       "      <td>NaN</td>\n",
       "      <td>NaN</td>\n",
       "      <td>1</td>\n",
       "      <td>1</td>\n",
       "      <td>1</td>\n",
       "      <td>10</td>\n",
       "      <td>6140.552</td>\n",
       "      <td>3344.434</td>\n",
       "      <td>H027044</td>\n",
       "      <td>2.97</td>\n",
       "    </tr>\n",
       "    <tr>\n",
       "      <th>2</th>\n",
       "      <td>4</td>\n",
       "      <td>12</td>\n",
       "      <td>3</td>\n",
       "      <td>0</td>\n",
       "      <td>65000</td>\n",
       "      <td>1</td>\n",
       "      <td>2</td>\n",
       "      <td>122</td>\n",
       "      <td>2</td>\n",
       "      <td>1</td>\n",
       "      <td>...</td>\n",
       "      <td>NaN</td>\n",
       "      <td>NaN</td>\n",
       "      <td>1</td>\n",
       "      <td>1</td>\n",
       "      <td>1</td>\n",
       "      <td>10</td>\n",
       "      <td>9191.061</td>\n",
       "      <td>6949.498</td>\n",
       "      <td>H058855</td>\n",
       "      <td>4.28</td>\n",
       "    </tr>\n",
       "    <tr>\n",
       "      <th>3</th>\n",
       "      <td>4</td>\n",
       "      <td>14</td>\n",
       "      <td>5</td>\n",
       "      <td>0</td>\n",
       "      <td>120000</td>\n",
       "      <td>0</td>\n",
       "      <td>2</td>\n",
       "      <td>122</td>\n",
       "      <td>1</td>\n",
       "      <td>8</td>\n",
       "      <td>...</td>\n",
       "      <td>NaN</td>\n",
       "      <td>NaN</td>\n",
       "      <td>1</td>\n",
       "      <td>1</td>\n",
       "      <td>1</td>\n",
       "      <td>10</td>\n",
       "      <td>7900.035</td>\n",
       "      <td>6446.327</td>\n",
       "      <td>H031993</td>\n",
       "      <td>7.13</td>\n",
       "    </tr>\n",
       "    <tr>\n",
       "      <th>4</th>\n",
       "      <td>1</td>\n",
       "      <td>4</td>\n",
       "      <td>1</td>\n",
       "      <td>0</td>\n",
       "      <td>30000</td>\n",
       "      <td>0</td>\n",
       "      <td>2</td>\n",
       "      <td>115</td>\n",
       "      <td>2</td>\n",
       "      <td>1</td>\n",
       "      <td>...</td>\n",
       "      <td>NaN</td>\n",
       "      <td>NaN</td>\n",
       "      <td>1</td>\n",
       "      <td>1</td>\n",
       "      <td>1</td>\n",
       "      <td>10</td>\n",
       "      <td>10875.772</td>\n",
       "      <td>8646.586</td>\n",
       "      <td>H007122</td>\n",
       "      <td>1.13</td>\n",
       "    </tr>\n",
       "  </tbody>\n",
       "</table>\n",
       "<p>5 rows × 534 columns</p>\n",
       "</div>"
      ],
      "text/plain": [
       "   URBRRL  RATCAT_A  INCGRP_A  INCTCFLG_A  FAMINCTC_A  IMPINCFLG_A  PPSU  \\\n",
       "0       4         9         3           0       60000            2     2   \n",
       "1       4         9         3           0       50000            0     2   \n",
       "2       4        12         3           0       65000            1     2   \n",
       "3       4        14         5           0      120000            0     2   \n",
       "4       1         4         1           0       30000            0     2   \n",
       "\n",
       "   PSTRAT  HISPALLP_A  RACEALLP_A  ...  PROXYREL_A  PROXY_A  AVAIL_A  \\\n",
       "0     122           3           2  ...         NaN      NaN        1   \n",
       "1     122           2           1  ...         NaN      NaN        1   \n",
       "2     122           2           1  ...         NaN      NaN        1   \n",
       "3     122           1           8  ...         NaN      NaN        1   \n",
       "4     115           2           1  ...         NaN      NaN        1   \n",
       "\n",
       "   HHSTAT_A  INTV_QRT  RECTYPE     WTFA_A    WTIA_A      HHX  POVRATTC_A  \n",
       "0         1         1       10  13177.008  7601.336  H048109        2.96  \n",
       "1         1         1       10   6140.552  3344.434  H027044        2.97  \n",
       "2         1         1       10   9191.061  6949.498  H058855        4.28  \n",
       "3         1         1       10   7900.035  6446.327  H031993        7.13  \n",
       "4         1         1       10  10875.772  8646.586  H007122        1.13  \n",
       "\n",
       "[5 rows x 534 columns]"
      ]
     },
     "execution_count": 2,
     "metadata": {},
     "output_type": "execute_result"
    }
   ],
   "source": [
    "# Reading CSV data from  the source, website\n",
    "df = pd.read_csv('ftp://ftp.cdc.gov/pub/Health_Statistics/NCHS/Datasets/NHIS/2019/adult19csv.zip', engine ='python')\n",
    "df.head()"
   ]
  },
  {
   "cell_type": "markdown",
   "metadata": {},
   "source": [
    "***\n",
    "## Part 1: Explanatory Data analysis (EDA)\n",
    "***"
   ]
  },
  {
   "cell_type": "markdown",
   "metadata": {},
   "source": [
    "#### Create a new dataframe with relevant columns to use for this analysis"
   ]
  },
  {
   "cell_type": "code",
   "execution_count": 3,
   "metadata": {},
   "outputs": [],
   "source": [
    "\n",
    "NHIS_data=df[['AGEP_A','SEX_A','EDUC_A','HYPEV_A','CHLEV_A','HEIGHTTC_A','WEIGHTLBTC_A',\n",
    "             'SMKCIGST_A','ECIGEV_A','SMKECIGST_A','BMICAT_A' ,'HISPALLP_A']].copy()"
   ]
  },
  {
   "cell_type": "code",
   "execution_count": 4,
   "metadata": {},
   "outputs": [
    {
     "data": {
      "text/plain": [
       "(31997, 12)"
      ]
     },
     "execution_count": 4,
     "metadata": {},
     "output_type": "execute_result"
    }
   ],
   "source": [
    "NHIS_data.shape # check the shape for the new dataframe"
   ]
  },
  {
   "cell_type": "code",
   "execution_count": 5,
   "metadata": {},
   "outputs": [
    {
     "data": {
      "text/html": [
       "<div>\n",
       "<style scoped>\n",
       "    .dataframe tbody tr th:only-of-type {\n",
       "        vertical-align: middle;\n",
       "    }\n",
       "\n",
       "    .dataframe tbody tr th {\n",
       "        vertical-align: top;\n",
       "    }\n",
       "\n",
       "    .dataframe thead th {\n",
       "        text-align: right;\n",
       "    }\n",
       "</style>\n",
       "<table border=\"1\" class=\"dataframe\">\n",
       "  <thead>\n",
       "    <tr style=\"text-align: right;\">\n",
       "      <th></th>\n",
       "      <th>AGEP_A</th>\n",
       "      <th>SEX_A</th>\n",
       "      <th>EDUC_A</th>\n",
       "      <th>HYPEV_A</th>\n",
       "      <th>CHLEV_A</th>\n",
       "      <th>HEIGHTTC_A</th>\n",
       "      <th>WEIGHTLBTC_A</th>\n",
       "      <th>SMKCIGST_A</th>\n",
       "      <th>ECIGEV_A</th>\n",
       "      <th>SMKECIGST_A</th>\n",
       "      <th>BMICAT_A</th>\n",
       "      <th>HISPALLP_A</th>\n",
       "    </tr>\n",
       "  </thead>\n",
       "  <tbody>\n",
       "    <tr>\n",
       "      <th>0</th>\n",
       "      <td>97</td>\n",
       "      <td>1</td>\n",
       "      <td>7</td>\n",
       "      <td>2</td>\n",
       "      <td>1</td>\n",
       "      <td>71</td>\n",
       "      <td>201</td>\n",
       "      <td>4</td>\n",
       "      <td>2</td>\n",
       "      <td>3</td>\n",
       "      <td>3</td>\n",
       "      <td>3</td>\n",
       "    </tr>\n",
       "    <tr>\n",
       "      <th>1</th>\n",
       "      <td>28</td>\n",
       "      <td>2</td>\n",
       "      <td>6</td>\n",
       "      <td>2</td>\n",
       "      <td>2</td>\n",
       "      <td>62</td>\n",
       "      <td>130</td>\n",
       "      <td>2</td>\n",
       "      <td>1</td>\n",
       "      <td>1</td>\n",
       "      <td>2</td>\n",
       "      <td>2</td>\n",
       "    </tr>\n",
       "    <tr>\n",
       "      <th>2</th>\n",
       "      <td>72</td>\n",
       "      <td>1</td>\n",
       "      <td>5</td>\n",
       "      <td>1</td>\n",
       "      <td>1</td>\n",
       "      <td>74</td>\n",
       "      <td>215</td>\n",
       "      <td>4</td>\n",
       "      <td>2</td>\n",
       "      <td>3</td>\n",
       "      <td>3</td>\n",
       "      <td>2</td>\n",
       "    </tr>\n",
       "    <tr>\n",
       "      <th>3</th>\n",
       "      <td>60</td>\n",
       "      <td>1</td>\n",
       "      <td>7</td>\n",
       "      <td>1</td>\n",
       "      <td>2</td>\n",
       "      <td>72</td>\n",
       "      <td>290</td>\n",
       "      <td>4</td>\n",
       "      <td>2</td>\n",
       "      <td>3</td>\n",
       "      <td>4</td>\n",
       "      <td>1</td>\n",
       "    </tr>\n",
       "    <tr>\n",
       "      <th>4</th>\n",
       "      <td>60</td>\n",
       "      <td>1</td>\n",
       "      <td>5</td>\n",
       "      <td>1</td>\n",
       "      <td>1</td>\n",
       "      <td>72</td>\n",
       "      <td>290</td>\n",
       "      <td>1</td>\n",
       "      <td>2</td>\n",
       "      <td>3</td>\n",
       "      <td>4</td>\n",
       "      <td>2</td>\n",
       "    </tr>\n",
       "  </tbody>\n",
       "</table>\n",
       "</div>"
      ],
      "text/plain": [
       "   AGEP_A  SEX_A  EDUC_A  HYPEV_A  CHLEV_A  HEIGHTTC_A  WEIGHTLBTC_A  \\\n",
       "0      97      1       7        2        1          71           201   \n",
       "1      28      2       6        2        2          62           130   \n",
       "2      72      1       5        1        1          74           215   \n",
       "3      60      1       7        1        2          72           290   \n",
       "4      60      1       5        1        1          72           290   \n",
       "\n",
       "   SMKCIGST_A  ECIGEV_A  SMKECIGST_A  BMICAT_A  HISPALLP_A  \n",
       "0           4         2            3         3           3  \n",
       "1           2         1            1         2           2  \n",
       "2           4         2            3         3           2  \n",
       "3           4         2            3         4           1  \n",
       "4           1         2            3         4           2  "
      ]
     },
     "execution_count": 5,
     "metadata": {},
     "output_type": "execute_result"
    }
   ],
   "source": [
    "NHIS_data.head() # check the first 5 rows from the new dataframe"
   ]
  },
  {
   "cell_type": "code",
   "execution_count": 6,
   "metadata": {},
   "outputs": [
    {
     "data": {
      "text/plain": [
       "AGEP_A          0\n",
       "SEX_A           0\n",
       "EDUC_A          0\n",
       "HYPEV_A         0\n",
       "CHLEV_A         0\n",
       "HEIGHTTC_A      0\n",
       "WEIGHTLBTC_A    0\n",
       "SMKCIGST_A      0\n",
       "ECIGEV_A        0\n",
       "SMKECIGST_A     0\n",
       "BMICAT_A        0\n",
       "HISPALLP_A      0\n",
       "dtype: int64"
      ]
     },
     "execution_count": 6,
     "metadata": {},
     "output_type": "execute_result"
    }
   ],
   "source": [
    "NHIS_data.isnull().sum() # check the dataframe whether it has null value or not"
   ]
  },
  {
   "cell_type": "code",
   "execution_count": 7,
   "metadata": {},
   "outputs": [
    {
     "name": "stdout",
     "output_type": "stream",
     "text": [
      "<class 'pandas.core.frame.DataFrame'>\n",
      "RangeIndex: 31997 entries, 0 to 31996\n",
      "Data columns (total 12 columns):\n",
      " #   Column        Non-Null Count  Dtype\n",
      "---  ------        --------------  -----\n",
      " 0   AGEP_A        31997 non-null  int64\n",
      " 1   SEX_A         31997 non-null  int64\n",
      " 2   EDUC_A        31997 non-null  int64\n",
      " 3   HYPEV_A       31997 non-null  int64\n",
      " 4   CHLEV_A       31997 non-null  int64\n",
      " 5   HEIGHTTC_A    31997 non-null  int64\n",
      " 6   WEIGHTLBTC_A  31997 non-null  int64\n",
      " 7   SMKCIGST_A    31997 non-null  int64\n",
      " 8   ECIGEV_A      31997 non-null  int64\n",
      " 9   SMKECIGST_A   31997 non-null  int64\n",
      " 10  BMICAT_A      31997 non-null  int64\n",
      " 11  HISPALLP_A    31997 non-null  int64\n",
      "dtypes: int64(12)\n",
      "memory usage: 2.9 MB\n"
     ]
    }
   ],
   "source": [
    "NHIS_data.info() # check the data type"
   ]
  },
  {
   "cell_type": "code",
   "execution_count": 8,
   "metadata": {},
   "outputs": [
    {
     "data": {
      "text/html": [
       "<div>\n",
       "<style scoped>\n",
       "    .dataframe tbody tr th:only-of-type {\n",
       "        vertical-align: middle;\n",
       "    }\n",
       "\n",
       "    .dataframe tbody tr th {\n",
       "        vertical-align: top;\n",
       "    }\n",
       "\n",
       "    .dataframe thead th {\n",
       "        text-align: right;\n",
       "    }\n",
       "</style>\n",
       "<table border=\"1\" class=\"dataframe\">\n",
       "  <thead>\n",
       "    <tr style=\"text-align: right;\">\n",
       "      <th></th>\n",
       "      <th>AGEP_A</th>\n",
       "      <th>SEX_A</th>\n",
       "      <th>EDUC_A</th>\n",
       "      <th>HYPEV_A</th>\n",
       "      <th>CHLEV_A</th>\n",
       "      <th>HEIGHTTC_A</th>\n",
       "      <th>WEIGHTLBTC_A</th>\n",
       "      <th>SMKCIGST_A</th>\n",
       "      <th>ECIGEV_A</th>\n",
       "      <th>SMKECIGST_A</th>\n",
       "      <th>BMICAT_A</th>\n",
       "      <th>HISPALLP_A</th>\n",
       "    </tr>\n",
       "  </thead>\n",
       "  <tbody>\n",
       "    <tr>\n",
       "      <th>count</th>\n",
       "      <td>31997.000000</td>\n",
       "      <td>31997.000000</td>\n",
       "      <td>31997.000000</td>\n",
       "      <td>31997.000000</td>\n",
       "      <td>31997.000000</td>\n",
       "      <td>31997.000000</td>\n",
       "      <td>31997.000000</td>\n",
       "      <td>31997.000000</td>\n",
       "      <td>31997.000000</td>\n",
       "      <td>31997.000000</td>\n",
       "      <td>31997.000000</td>\n",
       "      <td>31997.000000</td>\n",
       "    </tr>\n",
       "    <tr>\n",
       "      <th>mean</th>\n",
       "      <td>52.120136</td>\n",
       "      <td>1.540019</td>\n",
       "      <td>6.352721</td>\n",
       "      <td>1.651874</td>\n",
       "      <td>1.737288</td>\n",
       "      <td>68.717223</td>\n",
       "      <td>247.636622</td>\n",
       "      <td>3.500703</td>\n",
       "      <td>1.992781</td>\n",
       "      <td>2.956121</td>\n",
       "      <td>3.131231</td>\n",
       "      <td>2.185955</td>\n",
       "    </tr>\n",
       "    <tr>\n",
       "      <th>std</th>\n",
       "      <td>18.465314</td>\n",
       "      <td>0.501218</td>\n",
       "      <td>7.330429</td>\n",
       "      <td>0.548590</td>\n",
       "      <td>0.612708</td>\n",
       "      <td>8.276404</td>\n",
       "      <td>233.137001</td>\n",
       "      <td>1.296437</td>\n",
       "      <td>0.996953</td>\n",
       "      <td>1.055208</td>\n",
       "      <td>1.283264</td>\n",
       "      <td>0.926603</td>\n",
       "    </tr>\n",
       "    <tr>\n",
       "      <th>min</th>\n",
       "      <td>18.000000</td>\n",
       "      <td>1.000000</td>\n",
       "      <td>0.000000</td>\n",
       "      <td>1.000000</td>\n",
       "      <td>1.000000</td>\n",
       "      <td>59.000000</td>\n",
       "      <td>100.000000</td>\n",
       "      <td>1.000000</td>\n",
       "      <td>1.000000</td>\n",
       "      <td>1.000000</td>\n",
       "      <td>1.000000</td>\n",
       "      <td>1.000000</td>\n",
       "    </tr>\n",
       "    <tr>\n",
       "      <th>25%</th>\n",
       "      <td>36.000000</td>\n",
       "      <td>1.000000</td>\n",
       "      <td>4.000000</td>\n",
       "      <td>1.000000</td>\n",
       "      <td>1.000000</td>\n",
       "      <td>64.000000</td>\n",
       "      <td>150.000000</td>\n",
       "      <td>3.000000</td>\n",
       "      <td>2.000000</td>\n",
       "      <td>3.000000</td>\n",
       "      <td>2.000000</td>\n",
       "      <td>2.000000</td>\n",
       "    </tr>\n",
       "    <tr>\n",
       "      <th>50%</th>\n",
       "      <td>53.000000</td>\n",
       "      <td>2.000000</td>\n",
       "      <td>5.000000</td>\n",
       "      <td>2.000000</td>\n",
       "      <td>2.000000</td>\n",
       "      <td>67.000000</td>\n",
       "      <td>179.000000</td>\n",
       "      <td>4.000000</td>\n",
       "      <td>2.000000</td>\n",
       "      <td>3.000000</td>\n",
       "      <td>3.000000</td>\n",
       "      <td>2.000000</td>\n",
       "    </tr>\n",
       "    <tr>\n",
       "      <th>75%</th>\n",
       "      <td>67.000000</td>\n",
       "      <td>2.000000</td>\n",
       "      <td>8.000000</td>\n",
       "      <td>2.000000</td>\n",
       "      <td>2.000000</td>\n",
       "      <td>70.000000</td>\n",
       "      <td>215.000000</td>\n",
       "      <td>4.000000</td>\n",
       "      <td>2.000000</td>\n",
       "      <td>3.000000</td>\n",
       "      <td>4.000000</td>\n",
       "      <td>2.000000</td>\n",
       "    </tr>\n",
       "    <tr>\n",
       "      <th>max</th>\n",
       "      <td>99.000000</td>\n",
       "      <td>7.000000</td>\n",
       "      <td>99.000000</td>\n",
       "      <td>9.000000</td>\n",
       "      <td>9.000000</td>\n",
       "      <td>99.000000</td>\n",
       "      <td>999.000000</td>\n",
       "      <td>9.000000</td>\n",
       "      <td>9.000000</td>\n",
       "      <td>9.000000</td>\n",
       "      <td>9.000000</td>\n",
       "      <td>7.000000</td>\n",
       "    </tr>\n",
       "  </tbody>\n",
       "</table>\n",
       "</div>"
      ],
      "text/plain": [
       "             AGEP_A         SEX_A        EDUC_A       HYPEV_A       CHLEV_A  \\\n",
       "count  31997.000000  31997.000000  31997.000000  31997.000000  31997.000000   \n",
       "mean      52.120136      1.540019      6.352721      1.651874      1.737288   \n",
       "std       18.465314      0.501218      7.330429      0.548590      0.612708   \n",
       "min       18.000000      1.000000      0.000000      1.000000      1.000000   \n",
       "25%       36.000000      1.000000      4.000000      1.000000      1.000000   \n",
       "50%       53.000000      2.000000      5.000000      2.000000      2.000000   \n",
       "75%       67.000000      2.000000      8.000000      2.000000      2.000000   \n",
       "max       99.000000      7.000000     99.000000      9.000000      9.000000   \n",
       "\n",
       "         HEIGHTTC_A  WEIGHTLBTC_A    SMKCIGST_A      ECIGEV_A   SMKECIGST_A  \\\n",
       "count  31997.000000  31997.000000  31997.000000  31997.000000  31997.000000   \n",
       "mean      68.717223    247.636622      3.500703      1.992781      2.956121   \n",
       "std        8.276404    233.137001      1.296437      0.996953      1.055208   \n",
       "min       59.000000    100.000000      1.000000      1.000000      1.000000   \n",
       "25%       64.000000    150.000000      3.000000      2.000000      3.000000   \n",
       "50%       67.000000    179.000000      4.000000      2.000000      3.000000   \n",
       "75%       70.000000    215.000000      4.000000      2.000000      3.000000   \n",
       "max       99.000000    999.000000      9.000000      9.000000      9.000000   \n",
       "\n",
       "           BMICAT_A    HISPALLP_A  \n",
       "count  31997.000000  31997.000000  \n",
       "mean       3.131231      2.185955  \n",
       "std        1.283264      0.926603  \n",
       "min        1.000000      1.000000  \n",
       "25%        2.000000      2.000000  \n",
       "50%        3.000000      2.000000  \n",
       "75%        4.000000      2.000000  \n",
       "max        9.000000      7.000000  "
      ]
     },
     "execution_count": 8,
     "metadata": {},
     "output_type": "execute_result"
    }
   ],
   "source": [
    "# used describe() to see the minimum and maximum values for some numeric columns (Continuous Data), such as hieght, weight and height.\n",
    "# Note: This method is not useful for catagorical data except count.\n",
    "NHIS_data.describe() "
   ]
  },
  {
   "cell_type": "markdown",
   "metadata": {},
   "source": [
    "### Data cleaning\n",
    "##### We can see some outlier values from the above describe() table. So based on that we need to clean up \n",
    "##### some data  or check what the value stands for. For instance,  Height values from 96 to 99 means no data \n",
    "##### is provided. For Weight from 996 to 999  means no value is available."
   ]
  },
  {
   "cell_type": "code",
   "execution_count": 9,
   "metadata": {},
   "outputs": [],
   "source": [
    "# Cleaning  Height  and Weight \n",
    "NHIS_data = NHIS_data[NHIS_data.HEIGHTTC_A <96]\n",
    "NHIS_data = NHIS_data[NHIS_data.WEIGHTLBTC_A <996]\n"
   ]
  },
  {
   "cell_type": "code",
   "execution_count": 10,
   "metadata": {
    "scrolled": true
   },
   "outputs": [
    {
     "data": {
      "text/html": [
       "<div>\n",
       "<style scoped>\n",
       "    .dataframe tbody tr th:only-of-type {\n",
       "        vertical-align: middle;\n",
       "    }\n",
       "\n",
       "    .dataframe tbody tr th {\n",
       "        vertical-align: top;\n",
       "    }\n",
       "\n",
       "    .dataframe thead th {\n",
       "        text-align: right;\n",
       "    }\n",
       "</style>\n",
       "<table border=\"1\" class=\"dataframe\">\n",
       "  <thead>\n",
       "    <tr style=\"text-align: right;\">\n",
       "      <th></th>\n",
       "      <th>AGEP_A</th>\n",
       "      <th>SEX_A</th>\n",
       "      <th>EDUC_A</th>\n",
       "      <th>HYPEV_A</th>\n",
       "      <th>CHLEV_A</th>\n",
       "      <th>HEIGHTTC_A</th>\n",
       "      <th>WEIGHTLBTC_A</th>\n",
       "      <th>SMKCIGST_A</th>\n",
       "      <th>ECIGEV_A</th>\n",
       "      <th>SMKECIGST_A</th>\n",
       "      <th>BMICAT_A</th>\n",
       "      <th>HISPALLP_A</th>\n",
       "    </tr>\n",
       "  </thead>\n",
       "  <tbody>\n",
       "    <tr>\n",
       "      <th>count</th>\n",
       "      <td>29170.000000</td>\n",
       "      <td>29170.000000</td>\n",
       "      <td>29170.000000</td>\n",
       "      <td>29170.000000</td>\n",
       "      <td>29170.000000</td>\n",
       "      <td>29170.000000</td>\n",
       "      <td>29170.000000</td>\n",
       "      <td>29170.00000</td>\n",
       "      <td>29170.000000</td>\n",
       "      <td>29170.000000</td>\n",
       "      <td>29170.000000</td>\n",
       "      <td>29170.000000</td>\n",
       "    </tr>\n",
       "    <tr>\n",
       "      <th>mean</th>\n",
       "      <td>52.168769</td>\n",
       "      <td>1.532259</td>\n",
       "      <td>6.341447</td>\n",
       "      <td>1.651834</td>\n",
       "      <td>1.730716</td>\n",
       "      <td>66.774597</td>\n",
       "      <td>176.980836</td>\n",
       "      <td>3.48687</td>\n",
       "      <td>1.978677</td>\n",
       "      <td>2.941172</td>\n",
       "      <td>2.958862</td>\n",
       "      <td>2.185327</td>\n",
       "    </tr>\n",
       "    <tr>\n",
       "      <th>std</th>\n",
       "      <td>18.373146</td>\n",
       "      <td>0.498967</td>\n",
       "      <td>6.935526</td>\n",
       "      <td>0.522326</td>\n",
       "      <td>0.583575</td>\n",
       "      <td>3.887764</td>\n",
       "      <td>39.322329</td>\n",
       "      <td>1.27082</td>\n",
       "      <td>0.961402</td>\n",
       "      <td>1.020666</td>\n",
       "      <td>0.819276</td>\n",
       "      <td>0.923264</td>\n",
       "    </tr>\n",
       "    <tr>\n",
       "      <th>min</th>\n",
       "      <td>18.000000</td>\n",
       "      <td>1.000000</td>\n",
       "      <td>0.000000</td>\n",
       "      <td>1.000000</td>\n",
       "      <td>1.000000</td>\n",
       "      <td>59.000000</td>\n",
       "      <td>100.000000</td>\n",
       "      <td>1.00000</td>\n",
       "      <td>1.000000</td>\n",
       "      <td>1.000000</td>\n",
       "      <td>1.000000</td>\n",
       "      <td>1.000000</td>\n",
       "    </tr>\n",
       "    <tr>\n",
       "      <th>25%</th>\n",
       "      <td>36.000000</td>\n",
       "      <td>1.000000</td>\n",
       "      <td>4.000000</td>\n",
       "      <td>1.000000</td>\n",
       "      <td>1.000000</td>\n",
       "      <td>64.000000</td>\n",
       "      <td>148.000000</td>\n",
       "      <td>3.00000</td>\n",
       "      <td>2.000000</td>\n",
       "      <td>3.000000</td>\n",
       "      <td>2.000000</td>\n",
       "      <td>2.000000</td>\n",
       "    </tr>\n",
       "    <tr>\n",
       "      <th>50%</th>\n",
       "      <td>53.000000</td>\n",
       "      <td>2.000000</td>\n",
       "      <td>5.000000</td>\n",
       "      <td>2.000000</td>\n",
       "      <td>2.000000</td>\n",
       "      <td>67.000000</td>\n",
       "      <td>174.000000</td>\n",
       "      <td>4.00000</td>\n",
       "      <td>2.000000</td>\n",
       "      <td>3.000000</td>\n",
       "      <td>3.000000</td>\n",
       "      <td>2.000000</td>\n",
       "    </tr>\n",
       "    <tr>\n",
       "      <th>75%</th>\n",
       "      <td>67.000000</td>\n",
       "      <td>2.000000</td>\n",
       "      <td>8.000000</td>\n",
       "      <td>2.000000</td>\n",
       "      <td>2.000000</td>\n",
       "      <td>70.000000</td>\n",
       "      <td>200.000000</td>\n",
       "      <td>4.00000</td>\n",
       "      <td>2.000000</td>\n",
       "      <td>3.000000</td>\n",
       "      <td>4.000000</td>\n",
       "      <td>2.000000</td>\n",
       "    </tr>\n",
       "    <tr>\n",
       "      <th>max</th>\n",
       "      <td>99.000000</td>\n",
       "      <td>2.000000</td>\n",
       "      <td>99.000000</td>\n",
       "      <td>9.000000</td>\n",
       "      <td>9.000000</td>\n",
       "      <td>76.000000</td>\n",
       "      <td>299.000000</td>\n",
       "      <td>9.00000</td>\n",
       "      <td>9.000000</td>\n",
       "      <td>9.000000</td>\n",
       "      <td>4.000000</td>\n",
       "      <td>7.000000</td>\n",
       "    </tr>\n",
       "  </tbody>\n",
       "</table>\n",
       "</div>"
      ],
      "text/plain": [
       "             AGEP_A         SEX_A        EDUC_A       HYPEV_A       CHLEV_A  \\\n",
       "count  29170.000000  29170.000000  29170.000000  29170.000000  29170.000000   \n",
       "mean      52.168769      1.532259      6.341447      1.651834      1.730716   \n",
       "std       18.373146      0.498967      6.935526      0.522326      0.583575   \n",
       "min       18.000000      1.000000      0.000000      1.000000      1.000000   \n",
       "25%       36.000000      1.000000      4.000000      1.000000      1.000000   \n",
       "50%       53.000000      2.000000      5.000000      2.000000      2.000000   \n",
       "75%       67.000000      2.000000      8.000000      2.000000      2.000000   \n",
       "max       99.000000      2.000000     99.000000      9.000000      9.000000   \n",
       "\n",
       "         HEIGHTTC_A  WEIGHTLBTC_A   SMKCIGST_A      ECIGEV_A   SMKECIGST_A  \\\n",
       "count  29170.000000  29170.000000  29170.00000  29170.000000  29170.000000   \n",
       "mean      66.774597    176.980836      3.48687      1.978677      2.941172   \n",
       "std        3.887764     39.322329      1.27082      0.961402      1.020666   \n",
       "min       59.000000    100.000000      1.00000      1.000000      1.000000   \n",
       "25%       64.000000    148.000000      3.00000      2.000000      3.000000   \n",
       "50%       67.000000    174.000000      4.00000      2.000000      3.000000   \n",
       "75%       70.000000    200.000000      4.00000      2.000000      3.000000   \n",
       "max       76.000000    299.000000      9.00000      9.000000      9.000000   \n",
       "\n",
       "           BMICAT_A    HISPALLP_A  \n",
       "count  29170.000000  29170.000000  \n",
       "mean       2.958862      2.185327  \n",
       "std        0.819276      0.923264  \n",
       "min        1.000000      1.000000  \n",
       "25%        2.000000      2.000000  \n",
       "50%        3.000000      2.000000  \n",
       "75%        4.000000      2.000000  \n",
       "max        4.000000      7.000000  "
      ]
     },
     "execution_count": 10,
     "metadata": {},
     "output_type": "execute_result"
    }
   ],
   "source": [
    "NHIS_data.describe() # to check if max value for height and weight are reasonable"
   ]
  },
  {
   "cell_type": "markdown",
   "metadata": {},
   "source": [
    "#### Drive (compute)  Body mass index (BMI) variable with Continuous values  using  Height  and Weight values"
   ]
  },
  {
   "cell_type": "code",
   "execution_count": 11,
   "metadata": {},
   "outputs": [],
   "source": [
    "#  Drive a new continuous variable for BMI named BMIcont\n",
    "# BMIcont is calcualted using  CDC formula\n",
    "NHIS_data['BMIcont'] =(NHIS_data['WEIGHTLBTC_A']/(NHIS_data['HEIGHTTC_A'])**2)*703"
   ]
  },
  {
   "cell_type": "code",
   "execution_count": 12,
   "metadata": {
    "scrolled": true
   },
   "outputs": [
    {
     "data": {
      "text/html": [
       "<div>\n",
       "<style scoped>\n",
       "    .dataframe tbody tr th:only-of-type {\n",
       "        vertical-align: middle;\n",
       "    }\n",
       "\n",
       "    .dataframe tbody tr th {\n",
       "        vertical-align: top;\n",
       "    }\n",
       "\n",
       "    .dataframe thead th {\n",
       "        text-align: right;\n",
       "    }\n",
       "</style>\n",
       "<table border=\"1\" class=\"dataframe\">\n",
       "  <thead>\n",
       "    <tr style=\"text-align: right;\">\n",
       "      <th></th>\n",
       "      <th>AGEP_A</th>\n",
       "      <th>SEX_A</th>\n",
       "      <th>EDUC_A</th>\n",
       "      <th>HYPEV_A</th>\n",
       "      <th>CHLEV_A</th>\n",
       "      <th>HEIGHTTC_A</th>\n",
       "      <th>WEIGHTLBTC_A</th>\n",
       "      <th>SMKCIGST_A</th>\n",
       "      <th>ECIGEV_A</th>\n",
       "      <th>SMKECIGST_A</th>\n",
       "      <th>BMICAT_A</th>\n",
       "      <th>HISPALLP_A</th>\n",
       "      <th>BMIcont</th>\n",
       "    </tr>\n",
       "  </thead>\n",
       "  <tbody>\n",
       "    <tr>\n",
       "      <th>0</th>\n",
       "      <td>97</td>\n",
       "      <td>1</td>\n",
       "      <td>7</td>\n",
       "      <td>2</td>\n",
       "      <td>1</td>\n",
       "      <td>71</td>\n",
       "      <td>201</td>\n",
       "      <td>4</td>\n",
       "      <td>2</td>\n",
       "      <td>3</td>\n",
       "      <td>3</td>\n",
       "      <td>3</td>\n",
       "      <td>28.030748</td>\n",
       "    </tr>\n",
       "    <tr>\n",
       "      <th>1</th>\n",
       "      <td>28</td>\n",
       "      <td>2</td>\n",
       "      <td>6</td>\n",
       "      <td>2</td>\n",
       "      <td>2</td>\n",
       "      <td>62</td>\n",
       "      <td>130</td>\n",
       "      <td>2</td>\n",
       "      <td>1</td>\n",
       "      <td>1</td>\n",
       "      <td>2</td>\n",
       "      <td>2</td>\n",
       "      <td>23.774714</td>\n",
       "    </tr>\n",
       "    <tr>\n",
       "      <th>2</th>\n",
       "      <td>72</td>\n",
       "      <td>1</td>\n",
       "      <td>5</td>\n",
       "      <td>1</td>\n",
       "      <td>1</td>\n",
       "      <td>74</td>\n",
       "      <td>215</td>\n",
       "      <td>4</td>\n",
       "      <td>2</td>\n",
       "      <td>3</td>\n",
       "      <td>3</td>\n",
       "      <td>2</td>\n",
       "      <td>27.601351</td>\n",
       "    </tr>\n",
       "    <tr>\n",
       "      <th>3</th>\n",
       "      <td>60</td>\n",
       "      <td>1</td>\n",
       "      <td>7</td>\n",
       "      <td>1</td>\n",
       "      <td>2</td>\n",
       "      <td>72</td>\n",
       "      <td>290</td>\n",
       "      <td>4</td>\n",
       "      <td>2</td>\n",
       "      <td>3</td>\n",
       "      <td>4</td>\n",
       "      <td>1</td>\n",
       "      <td>39.326775</td>\n",
       "    </tr>\n",
       "    <tr>\n",
       "      <th>4</th>\n",
       "      <td>60</td>\n",
       "      <td>1</td>\n",
       "      <td>5</td>\n",
       "      <td>1</td>\n",
       "      <td>1</td>\n",
       "      <td>72</td>\n",
       "      <td>290</td>\n",
       "      <td>1</td>\n",
       "      <td>2</td>\n",
       "      <td>3</td>\n",
       "      <td>4</td>\n",
       "      <td>2</td>\n",
       "      <td>39.326775</td>\n",
       "    </tr>\n",
       "  </tbody>\n",
       "</table>\n",
       "</div>"
      ],
      "text/plain": [
       "   AGEP_A  SEX_A  EDUC_A  HYPEV_A  CHLEV_A  HEIGHTTC_A  WEIGHTLBTC_A  \\\n",
       "0      97      1       7        2        1          71           201   \n",
       "1      28      2       6        2        2          62           130   \n",
       "2      72      1       5        1        1          74           215   \n",
       "3      60      1       7        1        2          72           290   \n",
       "4      60      1       5        1        1          72           290   \n",
       "\n",
       "   SMKCIGST_A  ECIGEV_A  SMKECIGST_A  BMICAT_A  HISPALLP_A    BMIcont  \n",
       "0           4         2            3         3           3  28.030748  \n",
       "1           2         1            1         2           2  23.774714  \n",
       "2           4         2            3         3           2  27.601351  \n",
       "3           4         2            3         4           1  39.326775  \n",
       "4           1         2            3         4           2  39.326775  "
      ]
     },
     "execution_count": 12,
     "metadata": {},
     "output_type": "execute_result"
    }
   ],
   "source": [
    "NHIS_data.head()  # to check if BMIcont is included"
   ]
  },
  {
   "cell_type": "markdown",
   "metadata": {},
   "source": [
    "###  EDA for the relationship between smoking status and educational level"
   ]
  },
  {
   "cell_type": "code",
   "execution_count": 13,
   "metadata": {},
   "outputs": [
    {
     "data": {
      "image/png": "[encoded data removed]",
      "text/plain": [
       "<Figure size 720x432 with 1 Axes>"
      ]
     },
     "metadata": {
      "needs_background": "light"
     },
     "output_type": "display_data"
    }
   ],
   "source": [
    "# Plotting a scatter plot for smoking status and educational level\n",
    "fig, ax = plt.subplots(figsize=(10,6))\n",
    "ax.scatter( NHIS_data[\"SMKCIGST_A\"], NHIS_data[\"EDUC_A\"])\n",
    "ax.set_xlabel(\"SMKCIGST_A\")\n",
    "ax.set_ylabel(\"EDUC_A\")\n",
    "ax.set_xlim([0, 10])\n",
    "ax.set_ylim([1, 100])\n",
    "plt.show()"
   ]
  },
  {
   "cell_type": "markdown",
   "metadata": {},
   "source": [
    "##### Note: The graph shows us some outlier values, those values seem not right. The categorical \n",
    "##### values 97,98,99 for variable Education level are used when data was not provided.\n",
    "##### The categorical value 9 for Smoking status variable is used when  the data was not provided. \n",
    "##### So that the data needs to be cleaned."
   ]
  },
  {
   "cell_type": "markdown",
   "metadata": {},
   "source": [
    "***\n",
    "### Cleaning Smoking Status and Educaation level data and double checking"
   ]
  },
  {
   "cell_type": "code",
   "execution_count": 14,
   "metadata": {},
   "outputs": [
    {
     "data": {
      "image/png": "[encoded data removed]",
      "text/plain": [
       "<Figure size 720x432 with 1 Axes>"
      ]
     },
     "metadata": {
      "needs_background": "light"
     },
     "output_type": "display_data"
    }
   ],
   "source": [
    "# Based on EDA above the data needs to be clean for the analysis, so drop rows with values \n",
    "# EDUC_A >= 97  and drop  SMKCIGST_A =9 because data was not provided and their counts are too small.\n",
    "\n",
    "NHIS_data= NHIS_data[NHIS_data.EDUC_A <97]\n",
    "NHIS_data= NHIS_data[NHIS_data.SMKCIGST_A <9]\n",
    "\n",
    "\n",
    "# Plotting a scatter plot for smoking status and educational level\n",
    "fig, ax = plt.subplots(figsize=(10,6))\n",
    "ax.scatter(NHIS_data[\"SMKCIGST_A\"],NHIS_data[\"EDUC_A\"])\n",
    "ax.set_xlabel(\"SMKCIGST_A\")\n",
    "ax.set_ylabel(\"EDUC_A\")\n",
    "ax.set_xlim([0, 10])\n",
    "ax.set_ylim([1, 100])\n",
    "plt.show()\n"
   ]
  },
  {
   "cell_type": "markdown",
   "metadata": {},
   "source": [
    "***\n",
    "### EDA for Body mass index category by Sex </li>\n",
    "<li> For Body Mass Index category (BMICAT_A) </li>\n",
    "<li> 1 = Underweight $\\;\\;\\;\\;\\;\\;$       2 = Healthy weight </li>\n",
    "<li> 3 = Overweight  $\\;\\;\\;\\;\\;\\;$       4 = Obese  </li>\n",
    "<li> For Sex_A: 1 =  Male      $\\;\\;\\;\\;\\;\\;$            2 =  Female </li>"
   ]
  },
  {
   "cell_type": "code",
   "execution_count": 15,
   "metadata": {},
   "outputs": [],
   "source": [
    " # categorical BMI and sex\n",
    "Male_group= NHIS_data['BMICAT_A'][NHIS_data['SEX_A'] == 1]\n",
    "Female_group= NHIS_data['BMICAT_A'][NHIS_data['SEX_A'] == 2]"
   ]
  },
  {
   "cell_type": "code",
   "execution_count": 16,
   "metadata": {},
   "outputs": [],
   "source": [
    "# For male, BMI category counts\n",
    "Male_group=Male_group.value_counts(normalize=True, sort=False).mul(100).round(1)\n",
    "#Male_group"
   ]
  },
  {
   "cell_type": "code",
   "execution_count": 17,
   "metadata": {},
   "outputs": [],
   "source": [
    "# For female, BMI category counts\n",
    "Female_group=Female_group.value_counts(normalize=True, sort=False).mul(100).round(1)\n",
    "#Female_group\n"
   ]
  },
  {
   "cell_type": "code",
   "execution_count": 18,
   "metadata": {},
   "outputs": [],
   "source": [
    "# For all adults, BMI category counts\n",
    "Total = NHIS_data['BMICAT_A'].value_counts(normalize=True, sort=False).mul(100).round(1)\n",
    "#Total \n"
   ]
  },
  {
   "cell_type": "code",
   "execution_count": 19,
   "metadata": {
    "scrolled": false
   },
   "outputs": [
    {
     "data": {
      "image/png": "[encoded data removed]",
      "text/plain": [
       "<Figure size 432x288 with 1 Axes>"
      ]
     },
     "metadata": {
      "needs_background": "light"
     },
     "output_type": "display_data"
    }
   ],
   "source": [
    "X = np.arange(4)\n",
    "X1 = ['Underweight','Healthyweight', 'overweight','Obese']\n",
    "figsize = (40,40)\n",
    "\n",
    "bar_width = 0.4\n",
    "Total  = Total[0:4]\n",
    "Female_BMI = Female_group.values[0:4]\n",
    "Male_BMI =Male_group.values[0:4]\n",
    "plt.bar(X-1.2*bar_width,Total,label = 'Total',width = bar_width/1.7,color='#eb3462')\n",
    "plt.bar(X-bar_width/1.7,Male_BMI,label = 'Males',width = bar_width/1.7,color='#3480eb')\n",
    "plt.bar(X,Female_BMI,label = 'Females',width = bar_width/1.7,color='#ebba34')\n",
    "\n",
    "plt.xlabel('BMI status')\n",
    "plt.ylabel('Percent (%)')\n",
    "plt.title(' Percent distribution of BMI by Sex')\n",
    "plt.xticks(X-bar_width/2,X1)\n",
    "plt.legend()\n",
    "plt.show()"
   ]
  },
  {
   "cell_type": "markdown",
   "metadata": {},
   "source": [
    "#### The graph shows that everything is good.\n",
    "#### Percentage of overweight male is higher than that of female.\n",
    "****"
   ]
  },
  {
   "cell_type": "markdown",
   "metadata": {},
   "source": [
    "***\n",
    "### Body mass Index continous data (BMIcont) visualization"
   ]
  },
  {
   "cell_type": "code",
   "execution_count": 20,
   "metadata": {
    "scrolled": false
   },
   "outputs": [
    {
     "name": "stdout",
     "output_type": "stream",
     "text": [
      "Mean =  27.84101698394719\n",
      "STD =  5.46754132091302\n"
     ]
    },
    {
     "data": {
      "image/png": "[encoded data removed]",
      "text/plain": [
       "<Figure size 432x288 with 1 Axes>"
      ]
     },
     "metadata": {
      "needs_background": "light"
     },
     "output_type": "display_data"
    }
   ],
   "source": [
    "#  BMI histogram, BMIcont= Body mass Index continous data\n",
    "NHIS_data['BMIcont'].hist()  \n",
    "plt.xlabel('BMI')\n",
    "plt.ylabel('Number of Adults')\n",
    "plt.title('BMI Distribution')\n",
    "print ('Mean = ', NHIS_data['BMIcont'].mean() ) \n",
    "print ('STD = ', NHIS_data['BMIcont'].std() ) "
   ]
  },
  {
   "cell_type": "markdown",
   "metadata": {},
   "source": [
    "#### The graph shows that everything is good with Mean BMI is about 28.\n",
    "***"
   ]
  },
  {
   "cell_type": "markdown",
   "metadata": {},
   "source": [
    "***\n",
    "### Cholestrol Level Status Data Distibution Visualization"
   ]
  },
  {
   "cell_type": "code",
   "execution_count": 21,
   "metadata": {},
   "outputs": [],
   "source": [
    "Chelo_percent=NHIS_data['CHLEV_A'].value_counts(normalize=True).mul(100).round(1)"
   ]
  },
  {
   "cell_type": "code",
   "execution_count": 22,
   "metadata": {
    "scrolled": false
   },
   "outputs": [
    {
     "data": {
      "image/png": "[encoded data removed]",
      "text/plain": [
       "<Figure size 432x288 with 1 Axes>"
      ]
     },
     "metadata": {
      "needs_background": "light"
     },
     "output_type": "display_data"
    }
   ],
   "source": [
    "X = np.arange(4)\n",
    "# 2 ='No', 1='Yes',9='Do not know', 7='Refused'\n",
    "X_ticks = ['No','Yes','Do not know','Refused']\n",
    "height = Chelo_percent\n",
    "#plt.style.use('classic')\n",
    "plt.bar(X,height,width= 0.6,color = ('#eb8334'))\n",
    "plt.xticks(X,X_ticks)\n",
    "plt.title('Percent distribution of Cholestrol status')\n",
    "plt.xlabel('Status of Cholestrol')\n",
    "plt.ylabel('percent (%)')\n",
    "plt.grid(axis='y')\n",
    "plt.show()"
   ]
  },
  {
   "cell_type": "markdown",
   "metadata": {},
   "source": [
    "####  The data shows that about 30% of adults has Cholestrol and about 70% of adults has no Cholestrol.\n",
    "****"
   ]
  },
  {
   "cell_type": "markdown",
   "metadata": {},
   "source": [
    " ### Relationship between Cholestrol and Body Mass Index continous data (BMIcont) visualization"
   ]
  },
  {
   "cell_type": "code",
   "execution_count": 23,
   "metadata": {
    "scrolled": false
   },
   "outputs": [
    {
     "data": {
      "image/png": "[encoded data removed]",
      "text/plain": [
       "<Figure size 432x288 with 1 Axes>"
      ]
     },
     "metadata": {
      "needs_background": "light"
     },
     "output_type": "display_data"
    }
   ],
   "source": [
    "chol_BMI = NHIS_data[['CHLEV_A','BMIcont']]\n",
    "ax = sns.violinplot(x='CHLEV_A', y='BMIcont', data=chol_BMI)\n",
    "\n",
    "#    1='Yes' 2 ='No, 7='Refused'',9='Do not know'"
   ]
  },
  {
   "cell_type": "markdown",
   "metadata": {},
   "source": [
    "#### On Average, adults with no cholestrol have lower BMI than others.\n",
    "****"
   ]
  },
  {
   "cell_type": "markdown",
   "metadata": {},
   "source": [
    "***\n",
    "# Part 2:  Main  Data Analysis Using Statistical Methods and Hypothesis testing\n",
    "### The previous EDA gives information about highlights, patterns, and visualization about the sample data. \n",
    "### Here, Statistical analysis gives inferential analysis and information about the general population (the whole adult population in USA). \n",
    "#### Note: researchpy module is used since it is good to analyze survey data.This module is selected after comparing with other tools.\n",
    "***"
   ]
  },
  {
   "cell_type": "markdown",
   "metadata": {},
   "source": [
    "### Hypotesis Testing for Education level and Smoking status\n",
    "\n",
    "<li> Category description for smoking  Status </li>\n",
    "1 =  Current every day smoker $\\;\\;\\;\\;\\;\\;$    2 =  Current some day smoker $\\;\\;\\;\\;\\;\\;$       \n",
    "3 =  Former smoker $\\;\\;\\;\\;\\;\\;$               4 =  Never smoker   $\\;\\;\\;\\;\\;\\;$\n",
    "5 =  Smoker, current status unknown $\\;\\;\\;\\;\\;\\;$ \n",
    "  \n",
    "\n",
    "\n",
    "<li>  Category description for  Education level </li>\n",
    "00 =  Never attended/kindergarten only  $\\;\\;\\;\\;\\;\\;$    01 =  Grade 1-11     $\\;\\;\\;\\;\\;\\;$   \n",
    "02 =  12th grade, no diploma  $\\;\\;\\;\\;\\;\\;$ 03 =  GED or equivalent  technical, or vocational program   $\\;\\;\\;\\;\\;\\;$                                                   \n",
    "04 =  High School Graduate   $\\;\\;\\;\\;\\;\\;$               05 =  Some college, no degree  $\\;\\;\\;\\;\\;\\;$           \n",
    "06 = Associate degree: occupational, $\\;\\;\\;\\;\\;\\;$       07 = Associate degree: academic  program  $\\;\\;\\;\\;\\;\\;$                                                                \n",
    "08 = Bachelors degree (Example: BA, AB, BS, BBA)  $\\;\\;\\;\\;\\;\\;$  09 =  Masters degree  $\\;\\;\\;\\;\\;\\;$          \n",
    "10 =  Professional School degree (Example: MD, DDS, DVM, JD)  $\\;\\;\\;\\;\\;\\;$ 11 =  Doctoral degree    $\\;\\;\\;\\;\\;\\;$ \n",
    "\n",
    " \n",
    "           \n",
    " \n",
    "                       \n",
    "\n"
   ]
  },
  {
   "cell_type": "markdown",
   "metadata": {},
   "source": [
    "*****\n",
    "#### Contingency (a two-way frequency) table to see the counts of each cell"
   ]
  },
  {
   "cell_type": "code",
   "execution_count": 24,
   "metadata": {},
   "outputs": [
    {
     "data": {
      "text/html": [
       "<div>\n",
       "<style scoped>\n",
       "    .dataframe tbody tr th:only-of-type {\n",
       "        vertical-align: middle;\n",
       "    }\n",
       "\n",
       "    .dataframe tbody tr th {\n",
       "        vertical-align: top;\n",
       "    }\n",
       "\n",
       "    .dataframe thead th {\n",
       "        text-align: right;\n",
       "    }\n",
       "</style>\n",
       "<table border=\"1\" class=\"dataframe\">\n",
       "  <thead>\n",
       "    <tr style=\"text-align: right;\">\n",
       "      <th>EDUC_A</th>\n",
       "      <th>0</th>\n",
       "      <th>1</th>\n",
       "      <th>2</th>\n",
       "      <th>3</th>\n",
       "      <th>4</th>\n",
       "      <th>5</th>\n",
       "      <th>6</th>\n",
       "      <th>7</th>\n",
       "      <th>8</th>\n",
       "      <th>9</th>\n",
       "      <th>10</th>\n",
       "      <th>11</th>\n",
       "    </tr>\n",
       "    <tr>\n",
       "      <th>SMKCIGST_A</th>\n",
       "      <th></th>\n",
       "      <th></th>\n",
       "      <th></th>\n",
       "      <th></th>\n",
       "      <th></th>\n",
       "      <th></th>\n",
       "      <th></th>\n",
       "      <th></th>\n",
       "      <th></th>\n",
       "      <th></th>\n",
       "      <th></th>\n",
       "      <th></th>\n",
       "    </tr>\n",
       "  </thead>\n",
       "  <tbody>\n",
       "    <tr>\n",
       "      <th>1</th>\n",
       "      <td>3</td>\n",
       "      <td>370</td>\n",
       "      <td>70</td>\n",
       "      <td>202</td>\n",
       "      <td>975</td>\n",
       "      <td>594</td>\n",
       "      <td>160</td>\n",
       "      <td>260</td>\n",
       "      <td>309</td>\n",
       "      <td>80</td>\n",
       "      <td>15</td>\n",
       "      <td>13</td>\n",
       "    </tr>\n",
       "    <tr>\n",
       "      <th>2</th>\n",
       "      <td>2</td>\n",
       "      <td>77</td>\n",
       "      <td>16</td>\n",
       "      <td>31</td>\n",
       "      <td>238</td>\n",
       "      <td>183</td>\n",
       "      <td>29</td>\n",
       "      <td>79</td>\n",
       "      <td>137</td>\n",
       "      <td>43</td>\n",
       "      <td>6</td>\n",
       "      <td>7</td>\n",
       "    </tr>\n",
       "    <tr>\n",
       "      <th>3</th>\n",
       "      <td>7</td>\n",
       "      <td>533</td>\n",
       "      <td>91</td>\n",
       "      <td>240</td>\n",
       "      <td>1772</td>\n",
       "      <td>1248</td>\n",
       "      <td>371</td>\n",
       "      <td>733</td>\n",
       "      <td>1430</td>\n",
       "      <td>665</td>\n",
       "      <td>97</td>\n",
       "      <td>120</td>\n",
       "    </tr>\n",
       "    <tr>\n",
       "      <th>4</th>\n",
       "      <td>44</td>\n",
       "      <td>1024</td>\n",
       "      <td>229</td>\n",
       "      <td>214</td>\n",
       "      <td>3554</td>\n",
       "      <td>2643</td>\n",
       "      <td>572</td>\n",
       "      <td>1514</td>\n",
       "      <td>4420</td>\n",
       "      <td>2204</td>\n",
       "      <td>290</td>\n",
       "      <td>462</td>\n",
       "    </tr>\n",
       "    <tr>\n",
       "      <th>5</th>\n",
       "      <td>0</td>\n",
       "      <td>1</td>\n",
       "      <td>0</td>\n",
       "      <td>0</td>\n",
       "      <td>1</td>\n",
       "      <td>1</td>\n",
       "      <td>0</td>\n",
       "      <td>1</td>\n",
       "      <td>1</td>\n",
       "      <td>0</td>\n",
       "      <td>0</td>\n",
       "      <td>1</td>\n",
       "    </tr>\n",
       "  </tbody>\n",
       "</table>\n",
       "</div>"
      ],
      "text/plain": [
       "EDUC_A      0     1    2    3     4     5    6     7     8     9    10   11\n",
       "SMKCIGST_A                                                                 \n",
       "1            3   370   70  202   975   594  160   260   309    80   15   13\n",
       "2            2    77   16   31   238   183   29    79   137    43    6    7\n",
       "3            7   533   91  240  1772  1248  371   733  1430   665   97  120\n",
       "4           44  1024  229  214  3554  2643  572  1514  4420  2204  290  462\n",
       "5            0     1    0    0     1     1    0     1     1     0    0    1"
      ]
     },
     "execution_count": 24,
     "metadata": {},
     "output_type": "execute_result"
    }
   ],
   "source": [
    "# to see the counts for each cell\n",
    "tab=pd.crosstab(NHIS_data[\"SMKCIGST_A\"], NHIS_data[\"EDUC_A\"])\n",
    "tab"
   ]
  },
  {
   "cell_type": "code",
   "execution_count": 25,
   "metadata": {},
   "outputs": [],
   "source": [
    "# Creating  a new data frame only for smoking status and education level\n",
    "dCigEduc =NHIS_data[[\"SMKCIGST_A\", \"EDUC_A\"]].copy()"
   ]
  },
  {
   "cell_type": "code",
   "execution_count": 26,
   "metadata": {
    "scrolled": true
   },
   "outputs": [
    {
     "data": {
      "text/html": [
       "<div>\n",
       "<style scoped>\n",
       "    .dataframe tbody tr th:only-of-type {\n",
       "        vertical-align: middle;\n",
       "    }\n",
       "\n",
       "    .dataframe tbody tr th {\n",
       "        vertical-align: top;\n",
       "    }\n",
       "\n",
       "    .dataframe thead tr th {\n",
       "        text-align: left;\n",
       "    }\n",
       "\n",
       "    .dataframe thead tr:last-of-type th {\n",
       "        text-align: right;\n",
       "    }\n",
       "</style>\n",
       "<table border=\"1\" class=\"dataframe\">\n",
       "  <thead>\n",
       "    <tr>\n",
       "      <th></th>\n",
       "      <th colspan=\"13\" halign=\"left\">EDUC_A</th>\n",
       "    </tr>\n",
       "    <tr>\n",
       "      <th>EDUC_A</th>\n",
       "      <th>0</th>\n",
       "      <th>1</th>\n",
       "      <th>2</th>\n",
       "      <th>3</th>\n",
       "      <th>4</th>\n",
       "      <th>5</th>\n",
       "      <th>6</th>\n",
       "      <th>7</th>\n",
       "      <th>8</th>\n",
       "      <th>9</th>\n",
       "      <th>10</th>\n",
       "      <th>11</th>\n",
       "      <th>All</th>\n",
       "    </tr>\n",
       "    <tr>\n",
       "      <th>SMKCIGST_A</th>\n",
       "      <th></th>\n",
       "      <th></th>\n",
       "      <th></th>\n",
       "      <th></th>\n",
       "      <th></th>\n",
       "      <th></th>\n",
       "      <th></th>\n",
       "      <th></th>\n",
       "      <th></th>\n",
       "      <th></th>\n",
       "      <th></th>\n",
       "      <th></th>\n",
       "      <th></th>\n",
       "    </tr>\n",
       "  </thead>\n",
       "  <tbody>\n",
       "    <tr>\n",
       "      <th>1</th>\n",
       "      <td>3</td>\n",
       "      <td>370</td>\n",
       "      <td>70</td>\n",
       "      <td>202</td>\n",
       "      <td>975</td>\n",
       "      <td>594</td>\n",
       "      <td>160</td>\n",
       "      <td>260</td>\n",
       "      <td>309</td>\n",
       "      <td>80</td>\n",
       "      <td>15</td>\n",
       "      <td>13</td>\n",
       "      <td>3051</td>\n",
       "    </tr>\n",
       "    <tr>\n",
       "      <th>2</th>\n",
       "      <td>2</td>\n",
       "      <td>77</td>\n",
       "      <td>16</td>\n",
       "      <td>31</td>\n",
       "      <td>238</td>\n",
       "      <td>183</td>\n",
       "      <td>29</td>\n",
       "      <td>79</td>\n",
       "      <td>137</td>\n",
       "      <td>43</td>\n",
       "      <td>6</td>\n",
       "      <td>7</td>\n",
       "      <td>848</td>\n",
       "    </tr>\n",
       "    <tr>\n",
       "      <th>3</th>\n",
       "      <td>7</td>\n",
       "      <td>533</td>\n",
       "      <td>91</td>\n",
       "      <td>240</td>\n",
       "      <td>1772</td>\n",
       "      <td>1248</td>\n",
       "      <td>371</td>\n",
       "      <td>733</td>\n",
       "      <td>1430</td>\n",
       "      <td>665</td>\n",
       "      <td>97</td>\n",
       "      <td>120</td>\n",
       "      <td>7307</td>\n",
       "    </tr>\n",
       "    <tr>\n",
       "      <th>4</th>\n",
       "      <td>44</td>\n",
       "      <td>1024</td>\n",
       "      <td>229</td>\n",
       "      <td>214</td>\n",
       "      <td>3554</td>\n",
       "      <td>2643</td>\n",
       "      <td>572</td>\n",
       "      <td>1514</td>\n",
       "      <td>4420</td>\n",
       "      <td>2204</td>\n",
       "      <td>290</td>\n",
       "      <td>462</td>\n",
       "      <td>17170</td>\n",
       "    </tr>\n",
       "    <tr>\n",
       "      <th>5</th>\n",
       "      <td>0</td>\n",
       "      <td>1</td>\n",
       "      <td>0</td>\n",
       "      <td>0</td>\n",
       "      <td>1</td>\n",
       "      <td>1</td>\n",
       "      <td>0</td>\n",
       "      <td>1</td>\n",
       "      <td>1</td>\n",
       "      <td>0</td>\n",
       "      <td>0</td>\n",
       "      <td>1</td>\n",
       "      <td>6</td>\n",
       "    </tr>\n",
       "    <tr>\n",
       "      <th>All</th>\n",
       "      <td>56</td>\n",
       "      <td>2005</td>\n",
       "      <td>406</td>\n",
       "      <td>687</td>\n",
       "      <td>6540</td>\n",
       "      <td>4669</td>\n",
       "      <td>1132</td>\n",
       "      <td>2587</td>\n",
       "      <td>6297</td>\n",
       "      <td>2992</td>\n",
       "      <td>408</td>\n",
       "      <td>603</td>\n",
       "      <td>28382</td>\n",
       "    </tr>\n",
       "  </tbody>\n",
       "</table>\n",
       "</div>"
      ],
      "text/plain": [
       "           EDUC_A                                                           \\\n",
       "EDUC_A          0     1    2    3     4     5     6     7     8     9   10   \n",
       "SMKCIGST_A                                                                   \n",
       "1               3   370   70  202   975   594   160   260   309    80   15   \n",
       "2               2    77   16   31   238   183    29    79   137    43    6   \n",
       "3               7   533   91  240  1772  1248   371   733  1430   665   97   \n",
       "4              44  1024  229  214  3554  2643   572  1514  4420  2204  290   \n",
       "5               0     1    0    0     1     1     0     1     1     0    0   \n",
       "All            56  2005  406  687  6540  4669  1132  2587  6297  2992  408   \n",
       "\n",
       "                        \n",
       "EDUC_A       11    All  \n",
       "SMKCIGST_A              \n",
       "1            13   3051  \n",
       "2             7    848  \n",
       "3           120   7307  \n",
       "4           462  17170  \n",
       "5             1      6  \n",
       "All         603  28382  "
      ]
     },
     "execution_count": 26,
     "metadata": {},
     "output_type": "execute_result"
    }
   ],
   "source": [
    "#  To create contingency (a two-way frequency) table to see  teh frequency of each cell and total along rows and columns \n",
    "researchpy.crosstab(dCigEduc[\"SMKCIGST_A\"], dCigEduc[\"EDUC_A\"])"
   ]
  },
  {
   "cell_type": "code",
   "execution_count": 27,
   "metadata": {},
   "outputs": [],
   "source": [
    "# This can be used to see proportions for each cell\n",
    "#researchpy.crosstab(dCigEduc[\"SMKCIGST_A\"], dCigEduc[\"EDUC_A\"],prop= \"cell\")"
   ]
  },
  {
   "cell_type": "code",
   "execution_count": 28,
   "metadata": {},
   "outputs": [],
   "source": [
    "# This can be used to see proportions for each row\n",
    "#researchpy.crosstab(dCigEduc[\"SMKCIGST_A\"], dCigEduc[\"EDUC_A\"],prop= \"row\")"
   ]
  },
  {
   "cell_type": "code",
   "execution_count": 29,
   "metadata": {},
   "outputs": [],
   "source": [
    "# This can be used to see proportions for each column\n",
    "#researchpy.crosstab(dCigEduc[\"SMKCIGST_A\"], dCigEduc[\"EDUC_A\"],prop= \"col\")"
   ]
  },
  {
   "cell_type": "markdown",
   "metadata": {},
   "source": [
    "## Hypothesis testing:  Hypothesis 1\n",
    "#### Does cigarette smoking vary by educational level? Or is there any association between smoking and educational level?\n",
    "##### Null Hypothesis: There  is no association between smoking and educational level.\n",
    "##### Alternative Hypothesis: There  is  statistically significant association between smoking and educational level.\n"
   ]
  },
  {
   "cell_type": "markdown",
   "metadata": {},
   "source": [
    "###  Method  for Hypothesis testing: Chi-Square Test\n",
    "#### Both groups (cigarette smoking and educational level) are categorical, so Chi-Square Test of Independence is used.\n",
    "##### The Chi-Square Test of Independence determines whether there is an association between categorical variables (i.e., whether the variables are independent or related). \n",
    "####  Significance Level: choose Alpha = 0.05 (default)"
   ]
  },
  {
   "cell_type": "code",
   "execution_count": 30,
   "metadata": {},
   "outputs": [
    {
     "data": {
      "text/html": [
       "<div>\n",
       "<style scoped>\n",
       "    .dataframe tbody tr th:only-of-type {\n",
       "        vertical-align: middle;\n",
       "    }\n",
       "\n",
       "    .dataframe tbody tr th {\n",
       "        vertical-align: top;\n",
       "    }\n",
       "\n",
       "    .dataframe thead th {\n",
       "        text-align: right;\n",
       "    }\n",
       "</style>\n",
       "<table border=\"1\" class=\"dataframe\">\n",
       "  <thead>\n",
       "    <tr style=\"text-align: right;\">\n",
       "      <th></th>\n",
       "      <th>Chi-square test</th>\n",
       "      <th>results</th>\n",
       "    </tr>\n",
       "  </thead>\n",
       "  <tbody>\n",
       "    <tr>\n",
       "      <th>0</th>\n",
       "      <td>Pearson Chi-square ( 44.0) =</td>\n",
       "      <td>1549.5773</td>\n",
       "    </tr>\n",
       "    <tr>\n",
       "      <th>1</th>\n",
       "      <td>p-value =</td>\n",
       "      <td>0.0000</td>\n",
       "    </tr>\n",
       "    <tr>\n",
       "      <th>2</th>\n",
       "      <td>Cramer's V =</td>\n",
       "      <td>0.1168</td>\n",
       "    </tr>\n",
       "  </tbody>\n",
       "</table>\n",
       "</div>"
      ],
      "text/plain": [
       "                 Chi-square test    results\n",
       "0  Pearson Chi-square ( 44.0) =   1549.5773\n",
       "1                     p-value =      0.0000\n",
       "2                  Cramer's V =      0.1168"
      ]
     },
     "execution_count": 30,
     "metadata": {},
     "output_type": "execute_result"
    }
   ],
   "source": [
    "# Chi-Square Test between smoking and educational level\n",
    "\n",
    "crosstab, result, expected =researchpy.crosstab(dCigEduc[\"SMKCIGST_A\"], dCigEduc[\"EDUC_A\"],\n",
    "                                             test= \"chi-square\",              # This is the test used\n",
    "                                             expected_freqs= True)            # This is to get the expected cell counts.\n",
    "result"
   ]
  },
  {
   "cell_type": "markdown",
   "metadata": {},
   "source": [
    "\n",
    "### Summary of the Test result: Significant association  exists\n",
    "####  p-value < 0.05, so there is statistically significant association between smoking and educational level\n",
    "#### Hence, in USA, smoking status differs based on educational level.\n",
    "####  Cramer's V (similar to correlation coefficient) > 0.1, implies that the association is moderate."
   ]
  },
  {
   "cell_type": "markdown",
   "metadata": {},
   "source": [
    "******\n",
    "******\n",
    "## Hypothesis testing:  Hypothesis 2\n",
    "### Comparing proportions of only two groups, high school diploma and master's degree to understand the relationship and smoking status in details.\n",
    "#### Groups: High School diploma vs master degree\n",
    "#### dependent variable = current every day smoking"
   ]
  },
  {
   "cell_type": "code",
   "execution_count": 31,
   "metadata": {},
   "outputs": [
    {
     "data": {
      "text/html": [
       "<div>\n",
       "<style scoped>\n",
       "    .dataframe tbody tr th:only-of-type {\n",
       "        vertical-align: middle;\n",
       "    }\n",
       "\n",
       "    .dataframe tbody tr th {\n",
       "        vertical-align: top;\n",
       "    }\n",
       "\n",
       "    .dataframe thead tr th {\n",
       "        text-align: left;\n",
       "    }\n",
       "\n",
       "    .dataframe thead tr:last-of-type th {\n",
       "        text-align: right;\n",
       "    }\n",
       "</style>\n",
       "<table border=\"1\" class=\"dataframe\">\n",
       "  <thead>\n",
       "    <tr>\n",
       "      <th></th>\n",
       "      <th colspan=\"13\" halign=\"left\">EDUC_A</th>\n",
       "    </tr>\n",
       "    <tr>\n",
       "      <th>EDUC_A</th>\n",
       "      <th>0</th>\n",
       "      <th>1</th>\n",
       "      <th>2</th>\n",
       "      <th>3</th>\n",
       "      <th>4</th>\n",
       "      <th>5</th>\n",
       "      <th>6</th>\n",
       "      <th>7</th>\n",
       "      <th>8</th>\n",
       "      <th>9</th>\n",
       "      <th>10</th>\n",
       "      <th>11</th>\n",
       "      <th>All</th>\n",
       "    </tr>\n",
       "    <tr>\n",
       "      <th>SMKCIGST_A</th>\n",
       "      <th></th>\n",
       "      <th></th>\n",
       "      <th></th>\n",
       "      <th></th>\n",
       "      <th></th>\n",
       "      <th></th>\n",
       "      <th></th>\n",
       "      <th></th>\n",
       "      <th></th>\n",
       "      <th></th>\n",
       "      <th></th>\n",
       "      <th></th>\n",
       "      <th></th>\n",
       "    </tr>\n",
       "  </thead>\n",
       "  <tbody>\n",
       "    <tr>\n",
       "      <th>1</th>\n",
       "      <td>3</td>\n",
       "      <td>370</td>\n",
       "      <td>70</td>\n",
       "      <td>202</td>\n",
       "      <td>975</td>\n",
       "      <td>594</td>\n",
       "      <td>160</td>\n",
       "      <td>260</td>\n",
       "      <td>309</td>\n",
       "      <td>80</td>\n",
       "      <td>15</td>\n",
       "      <td>13</td>\n",
       "      <td>3051</td>\n",
       "    </tr>\n",
       "    <tr>\n",
       "      <th>2</th>\n",
       "      <td>2</td>\n",
       "      <td>77</td>\n",
       "      <td>16</td>\n",
       "      <td>31</td>\n",
       "      <td>238</td>\n",
       "      <td>183</td>\n",
       "      <td>29</td>\n",
       "      <td>79</td>\n",
       "      <td>137</td>\n",
       "      <td>43</td>\n",
       "      <td>6</td>\n",
       "      <td>7</td>\n",
       "      <td>848</td>\n",
       "    </tr>\n",
       "    <tr>\n",
       "      <th>3</th>\n",
       "      <td>7</td>\n",
       "      <td>533</td>\n",
       "      <td>91</td>\n",
       "      <td>240</td>\n",
       "      <td>1772</td>\n",
       "      <td>1248</td>\n",
       "      <td>371</td>\n",
       "      <td>733</td>\n",
       "      <td>1430</td>\n",
       "      <td>665</td>\n",
       "      <td>97</td>\n",
       "      <td>120</td>\n",
       "      <td>7307</td>\n",
       "    </tr>\n",
       "    <tr>\n",
       "      <th>4</th>\n",
       "      <td>44</td>\n",
       "      <td>1024</td>\n",
       "      <td>229</td>\n",
       "      <td>214</td>\n",
       "      <td>3554</td>\n",
       "      <td>2643</td>\n",
       "      <td>572</td>\n",
       "      <td>1514</td>\n",
       "      <td>4420</td>\n",
       "      <td>2204</td>\n",
       "      <td>290</td>\n",
       "      <td>462</td>\n",
       "      <td>17170</td>\n",
       "    </tr>\n",
       "    <tr>\n",
       "      <th>5</th>\n",
       "      <td>0</td>\n",
       "      <td>1</td>\n",
       "      <td>0</td>\n",
       "      <td>0</td>\n",
       "      <td>1</td>\n",
       "      <td>1</td>\n",
       "      <td>0</td>\n",
       "      <td>1</td>\n",
       "      <td>1</td>\n",
       "      <td>0</td>\n",
       "      <td>0</td>\n",
       "      <td>1</td>\n",
       "      <td>6</td>\n",
       "    </tr>\n",
       "    <tr>\n",
       "      <th>All</th>\n",
       "      <td>56</td>\n",
       "      <td>2005</td>\n",
       "      <td>406</td>\n",
       "      <td>687</td>\n",
       "      <td>6540</td>\n",
       "      <td>4669</td>\n",
       "      <td>1132</td>\n",
       "      <td>2587</td>\n",
       "      <td>6297</td>\n",
       "      <td>2992</td>\n",
       "      <td>408</td>\n",
       "      <td>603</td>\n",
       "      <td>28382</td>\n",
       "    </tr>\n",
       "  </tbody>\n",
       "</table>\n",
       "</div>"
      ],
      "text/plain": [
       "           EDUC_A                                                           \\\n",
       "EDUC_A          0     1    2    3     4     5     6     7     8     9   10   \n",
       "SMKCIGST_A                                                                   \n",
       "1               3   370   70  202   975   594   160   260   309    80   15   \n",
       "2               2    77   16   31   238   183    29    79   137    43    6   \n",
       "3               7   533   91  240  1772  1248   371   733  1430   665   97   \n",
       "4              44  1024  229  214  3554  2643   572  1514  4420  2204  290   \n",
       "5               0     1    0    0     1     1     0     1     1     0    0   \n",
       "All            56  2005  406  687  6540  4669  1132  2587  6297  2992  408   \n",
       "\n",
       "                        \n",
       "EDUC_A       11    All  \n",
       "SMKCIGST_A              \n",
       "1            13   3051  \n",
       "2             7    848  \n",
       "3           120   7307  \n",
       "4           462  17170  \n",
       "5             1      6  \n",
       "All         603  28382  "
      ]
     },
     "execution_count": 31,
     "metadata": {},
     "output_type": "execute_result"
    }
   ],
   "source": [
    "dCigEducTable=researchpy.crosstab(dCigEduc[\"SMKCIGST_A\"], dCigEduc[\"EDUC_A\"])\n",
    "dCigEducTable\n"
   ]
  },
  {
   "cell_type": "markdown",
   "metadata": {},
   "source": [
    "#### From the contingency table get values of smokers with  high school diploma, \n",
    "#### total with high school diploma, smokers with  masters  degree  and total with masters degree."
   ]
  },
  {
   "cell_type": "code",
   "execution_count": 32,
   "metadata": {},
   "outputs": [
    {
     "name": "stdout",
     "output_type": "stream",
     "text": [
      "[smokers with  high school diploma,Total with high school diploma] = [975, 6540]\n",
      "Proportion = 0.14908256880733944\n"
     ]
    }
   ],
   "source": [
    "# smokers with  high school diploma  Vs Total with high school diploma\n",
    "HighschooldiplomaSmokervsTotal= [dCigEducTable.iloc[0,4], dCigEducTable.iloc[5,4]]\n",
    "proportion_HighschooldiplomaSmokervsTotal=dCigEducTable.iloc[0,4]/dCigEducTable.iloc[5,4]\n",
    "print('[smokers with  high school diploma,Total with high school diploma] =',HighschooldiplomaSmokervsTotal)\n",
    "print('Proportion =', proportion_HighschooldiplomaSmokervsTotal)"
   ]
  },
  {
   "cell_type": "code",
   "execution_count": 33,
   "metadata": {},
   "outputs": [
    {
     "name": "stdout",
     "output_type": "stream",
     "text": [
      "[smokers with  Masters  degree, total with masters degree] = [80, 2992]\n",
      "Proportion = 0.026737967914438502\n"
     ]
    }
   ],
   "source": [
    "# smokers with  Masters  degree  vs total with masters degree\n",
    "MastersDegreeSmokervsTotal= [dCigEducTable.iloc[0,9], dCigEducTable.iloc[5,9]]\n",
    "proportion_MastersDegreeSmokervsTotal=dCigEducTable.iloc[0,9]/dCigEducTable.iloc[5,9]\n",
    "print('[smokers with  Masters  degree, total with masters degree] =', MastersDegreeSmokervsTotal)\n",
    "print('Proportion =', proportion_MastersDegreeSmokervsTotal)"
   ]
  },
  {
   "cell_type": "markdown",
   "metadata": {},
   "source": [
    "### Test Method  for proportions\n",
    "#### The sample shows that proportion of smoker with high school diploma 14.9% (975/6540)  is higher than proportion of smoker with masters degree 2.7% (80/2992])\n",
    "#####  Can this difference of proportion between the two groups  be generalized to the national level for adult population in USA?\n",
    "##### Null Hypothesis:In the national level, there  is no difference between the proportion of smokers with high school diplomas  and that of masters degree.\n",
    "##### Alternative Hypothesis: In the national level, there  is a significant difference between the proportion of smokers with high school diplomas  and that of masters degree.\n",
    "####  Method  for Hypothesis testing: Z Test\n",
    "#####  Significance Level: choose Alpha = 0.05 (default)"
   ]
  },
  {
   "cell_type": "code",
   "execution_count": 34,
   "metadata": {},
   "outputs": [],
   "source": [
    "# for current everyday smokes with education level high school diploma ( no any other higher education level )\n",
    "SmokerHighschool=HighschooldiplomaSmokervsTotal[0]  # smokers with high school diploma\n",
    "TotalHighschool=HighschooldiplomaSmokervsTotal[1]  # total number of samples with high school diploma\n"
   ]
  },
  {
   "cell_type": "code",
   "execution_count": 35,
   "metadata": {},
   "outputs": [],
   "source": [
    "# for current everyday smokers with Masters degree ( no any other higher education level )\n",
    "Smokermaster=MastersDegreeSmokervsTotal[0] # smokers with masters degree\n",
    "TotalMaster=MastersDegreeSmokervsTotal[1]  # total number of samples with Masters degree"
   ]
  },
  {
   "cell_type": "markdown",
   "metadata": {},
   "source": [
    "#### Test for proportions  using Z test"
   ]
  },
  {
   "cell_type": "code",
   "execution_count": 36,
   "metadata": {},
   "outputs": [
    {
     "name": "stdout",
     "output_type": "stream",
     "text": [
      "Z value is 17.668479329500858\n",
      "The p value is 0.000\n"
     ]
    }
   ],
   "source": [
    "# Test for proportions  using Z test\n",
    "smoker_each = np.array([SmokerHighschool, Smokermaster])\n",
    "Total_each = np.array([TotalHighschool, TotalMaster])\n",
    "stat, pval = proportions_ztest(smoker_each, Total_each) # Z test for proportion\n",
    "print(\"Z value is\", stat)\n",
    "print('The p value is {0:0.3f}'.format(pval))\n"
   ]
  },
  {
   "cell_type": "markdown",
   "metadata": {},
   "source": [
    "#### Summary: There is significant difference between the two groups.\n",
    "#### That is, since P-value is 0.000, we reject the null hypotesis.\n",
    "##### In the national level, percentage of smokers with high school diploma is higher than percentage of smokers \n",
    "##### with masters degree. "
   ]
  },
  {
   "cell_type": "markdown",
   "metadata": {},
   "source": [
    "******\n",
    "******\n",
    "## Hypothesis Testing: Hypothesis 3\n",
    "#### Comparing Body Mass Index (BMI) of Male and Female\n",
    "##### Is there any difference of BMI by SEX?\n",
    "##### Null Hypothesis: There is no difference of BMI btween Male and Fmale.\n",
    "##### Alternative Hypothesis: There is statistically significant difference btween Male BMI and Female BMI.\n"
   ]
  },
  {
   "cell_type": "markdown",
   "metadata": {},
   "source": [
    "*******\n",
    "### Method for Hypothesis testing: T Test\n",
    "##### The T Test compares two groups averages (means) and tells us if they are different from each other when dependent variable is countinous \n",
    "##### BMIcont is countinous data\n",
    "##### Significance Level: choose Alpha = 0.05 (default)."
   ]
  },
  {
   "cell_type": "code",
   "execution_count": 37,
   "metadata": {
    "scrolled": true
   },
   "outputs": [
    {
     "data": {
      "text/html": [
       "<div>\n",
       "<style scoped>\n",
       "    .dataframe tbody tr th:only-of-type {\n",
       "        vertical-align: middle;\n",
       "    }\n",
       "\n",
       "    .dataframe tbody tr th {\n",
       "        vertical-align: top;\n",
       "    }\n",
       "\n",
       "    .dataframe thead th {\n",
       "        text-align: right;\n",
       "    }\n",
       "</style>\n",
       "<table border=\"1\" class=\"dataframe\">\n",
       "  <thead>\n",
       "    <tr style=\"text-align: right;\">\n",
       "      <th></th>\n",
       "      <th>Variable</th>\n",
       "      <th>N</th>\n",
       "      <th>Mean</th>\n",
       "      <th>SD</th>\n",
       "      <th>SE</th>\n",
       "      <th>95% Conf.</th>\n",
       "      <th>Interval</th>\n",
       "    </tr>\n",
       "  </thead>\n",
       "  <tbody>\n",
       "    <tr>\n",
       "      <th>0</th>\n",
       "      <td>Male</td>\n",
       "      <td>13263.0</td>\n",
       "      <td>28.047972</td>\n",
       "      <td>4.776015</td>\n",
       "      <td>0.041471</td>\n",
       "      <td>27.966683</td>\n",
       "      <td>28.129261</td>\n",
       "    </tr>\n",
       "    <tr>\n",
       "      <th>1</th>\n",
       "      <td>Female</td>\n",
       "      <td>15119.0</td>\n",
       "      <td>27.659468</td>\n",
       "      <td>6.003290</td>\n",
       "      <td>0.048823</td>\n",
       "      <td>27.563768</td>\n",
       "      <td>27.755168</td>\n",
       "    </tr>\n",
       "    <tr>\n",
       "      <th>2</th>\n",
       "      <td>combined</td>\n",
       "      <td>28382.0</td>\n",
       "      <td>27.841017</td>\n",
       "      <td>5.467541</td>\n",
       "      <td>0.032454</td>\n",
       "      <td>27.777405</td>\n",
       "      <td>27.904629</td>\n",
       "    </tr>\n",
       "  </tbody>\n",
       "</table>\n",
       "</div>"
      ],
      "text/plain": [
       "   Variable        N       Mean        SD        SE  95% Conf.   Interval\n",
       "0      Male  13263.0  28.047972  4.776015  0.041471  27.966683  28.129261\n",
       "1    Female  15119.0  27.659468  6.003290  0.048823  27.563768  27.755168\n",
       "2  combined  28382.0  27.841017  5.467541  0.032454  27.777405  27.904629"
      ]
     },
     "execution_count": 37,
     "metadata": {},
     "output_type": "execute_result"
    }
   ],
   "source": [
    "# grouped the data into two by sex\n",
    "\n",
    "group1= NHIS_data['BMIcont'][NHIS_data['SEX_A'] == 1]  # group forming and labeling \n",
    "group2=NHIS_data['BMIcont'][NHIS_data['SEX_A'] == 2]   # group forming and labeling \n",
    "summary, result= researchpy.ttest(group1,group2, group1_name= \"Male\", group2_name= \"Female\")   # used T test\n",
    "summary   # output for summary"
   ]
  },
  {
   "cell_type": "code",
   "execution_count": 38,
   "metadata": {
    "scrolled": true
   },
   "outputs": [
    {
     "data": {
      "text/html": [
       "<div>\n",
       "<style scoped>\n",
       "    .dataframe tbody tr th:only-of-type {\n",
       "        vertical-align: middle;\n",
       "    }\n",
       "\n",
       "    .dataframe tbody tr th {\n",
       "        vertical-align: top;\n",
       "    }\n",
       "\n",
       "    .dataframe thead th {\n",
       "        text-align: right;\n",
       "    }\n",
       "</style>\n",
       "<table border=\"1\" class=\"dataframe\">\n",
       "  <thead>\n",
       "    <tr style=\"text-align: right;\">\n",
       "      <th></th>\n",
       "      <th>Independent t-test</th>\n",
       "      <th>results</th>\n",
       "    </tr>\n",
       "  </thead>\n",
       "  <tbody>\n",
       "    <tr>\n",
       "      <th>0</th>\n",
       "      <td>Difference (Male - Female) =</td>\n",
       "      <td>0.3885</td>\n",
       "    </tr>\n",
       "    <tr>\n",
       "      <th>1</th>\n",
       "      <td>Degrees of freedom =</td>\n",
       "      <td>28380.0000</td>\n",
       "    </tr>\n",
       "    <tr>\n",
       "      <th>2</th>\n",
       "      <td>t =</td>\n",
       "      <td>5.9763</td>\n",
       "    </tr>\n",
       "    <tr>\n",
       "      <th>3</th>\n",
       "      <td>Two side test p value =</td>\n",
       "      <td>0.0000</td>\n",
       "    </tr>\n",
       "  </tbody>\n",
       "</table>\n",
       "</div>"
      ],
      "text/plain": [
       "              Independent t-test     results\n",
       "0  Difference (Male - Female) =       0.3885\n",
       "1          Degrees of freedom =   28380.0000\n",
       "2                           t =       5.9763\n",
       "3       Two side test p value =       0.0000"
      ]
     },
     "execution_count": 38,
     "metadata": {},
     "output_type": "execute_result"
    }
   ],
   "source": [
    "result[0:4]    # main result for the T test"
   ]
  },
  {
   "cell_type": "markdown",
   "metadata": {},
   "source": [
    "### Summary of the Test result: There is a statistically significant difference\n",
    "##### That is, since  p value = 0.0000, we reject the null hypotesis.\n",
    "##### The above summary shows that there is a statistically significant difference between BMI mean value of male adults and BMI mean value of Female adults in the national level.\n",
    "##### Summary Table shows the mean, STD and 95% confidence interval."
   ]
  },
  {
   "cell_type": "markdown",
   "metadata": {},
   "source": [
    "******\n",
    "*******\n",
    "\n",
    "## Hypothesis Testing : Hypothesis 4\n",
    "####  To study if body mass index (BMI) has any effect on hypertension\n",
    "#### Is there any relationship btween hypertension and body mass index (BMI)?\n",
    "##### Null Hypothesis: There is no relationship btween hypertension and BMI.\n",
    "##### Alternative Hypothesis: There is a relationship btween them.\n",
    "\n"
   ]
  },
  {
   "cell_type": "markdown",
   "metadata": {},
   "source": [
    "***\n",
    "#### Method of Testing: T Test\n",
    "##### Significance Level: choose Alpha = 0.05 (default).\n"
   ]
  },
  {
   "cell_type": "code",
   "execution_count": 39,
   "metadata": {
    "scrolled": false
   },
   "outputs": [
    {
     "data": {
      "text/html": [
       "<div>\n",
       "<style scoped>\n",
       "    .dataframe tbody tr th:only-of-type {\n",
       "        vertical-align: middle;\n",
       "    }\n",
       "\n",
       "    .dataframe tbody tr th {\n",
       "        vertical-align: top;\n",
       "    }\n",
       "\n",
       "    .dataframe thead th {\n",
       "        text-align: right;\n",
       "    }\n",
       "</style>\n",
       "<table border=\"1\" class=\"dataframe\">\n",
       "  <thead>\n",
       "    <tr style=\"text-align: right;\">\n",
       "      <th></th>\n",
       "      <th>Variable</th>\n",
       "      <th>N</th>\n",
       "      <th>Mean</th>\n",
       "      <th>SD</th>\n",
       "      <th>SE</th>\n",
       "      <th>95% Conf.</th>\n",
       "      <th>Interval</th>\n",
       "    </tr>\n",
       "  </thead>\n",
       "  <tbody>\n",
       "    <tr>\n",
       "      <th>0</th>\n",
       "      <td>Hypertension-Yes</td>\n",
       "      <td>10049.0</td>\n",
       "      <td>29.393471</td>\n",
       "      <td>5.558225</td>\n",
       "      <td>0.055447</td>\n",
       "      <td>29.284785</td>\n",
       "      <td>29.502158</td>\n",
       "    </tr>\n",
       "    <tr>\n",
       "      <th>1</th>\n",
       "      <td>Hypertension-No</td>\n",
       "      <td>18309.0</td>\n",
       "      <td>26.989492</td>\n",
       "      <td>5.226111</td>\n",
       "      <td>0.038623</td>\n",
       "      <td>26.913787</td>\n",
       "      <td>27.065197</td>\n",
       "    </tr>\n",
       "    <tr>\n",
       "      <th>2</th>\n",
       "      <td>combined</td>\n",
       "      <td>28358.0</td>\n",
       "      <td>27.841371</td>\n",
       "      <td>5.468330</td>\n",
       "      <td>0.032473</td>\n",
       "      <td>27.777723</td>\n",
       "      <td>27.905019</td>\n",
       "    </tr>\n",
       "  </tbody>\n",
       "</table>\n",
       "</div>"
      ],
      "text/plain": [
       "            Variable        N       Mean        SD        SE  95% Conf.  \\\n",
       "0   Hypertension-Yes  10049.0  29.393471  5.558225  0.055447  29.284785   \n",
       "1    Hypertension-No  18309.0  26.989492  5.226111  0.038623  26.913787   \n",
       "2           combined  28358.0  27.841371  5.468330  0.032473  27.777723   \n",
       "\n",
       "    Interval  \n",
       "0  29.502158  \n",
       "1  27.065197  \n",
       "2  27.905019  "
      ]
     },
     "execution_count": 39,
     "metadata": {},
     "output_type": "execute_result"
    }
   ],
   "source": [
    "# To check if BMI and Hypertension have any relationship, taken  'yes' or 'No' for hypertension\n",
    "Hyp_group1 = NHIS_data['BMIcont'][NHIS_data['HYPEV_A'] == 1]\n",
    "Hyp_group2 = NHIS_data['BMIcont'][NHIS_data['HYPEV_A'] == 2]\n",
    "# DO the T test\n",
    "summary, result= researchpy.ttest(Hyp_group1,Hyp_group2, group1_name= \" Hypertension-Yes\",group2_name= \" Hypertension-No\")\n",
    "summary"
   ]
  },
  {
   "cell_type": "code",
   "execution_count": 40,
   "metadata": {},
   "outputs": [
    {
     "data": {
      "text/html": [
       "<div>\n",
       "<style scoped>\n",
       "    .dataframe tbody tr th:only-of-type {\n",
       "        vertical-align: middle;\n",
       "    }\n",
       "\n",
       "    .dataframe tbody tr th {\n",
       "        vertical-align: top;\n",
       "    }\n",
       "\n",
       "    .dataframe thead th {\n",
       "        text-align: right;\n",
       "    }\n",
       "</style>\n",
       "<table border=\"1\" class=\"dataframe\">\n",
       "  <thead>\n",
       "    <tr style=\"text-align: right;\">\n",
       "      <th></th>\n",
       "      <th>Independent t-test</th>\n",
       "      <th>results</th>\n",
       "    </tr>\n",
       "  </thead>\n",
       "  <tbody>\n",
       "    <tr>\n",
       "      <th>0</th>\n",
       "      <td>Difference ( Hypertension-Yes -  Hypertension-...</td>\n",
       "      <td>2.4040</td>\n",
       "    </tr>\n",
       "    <tr>\n",
       "      <th>1</th>\n",
       "      <td>Degrees of freedom =</td>\n",
       "      <td>28356.0000</td>\n",
       "    </tr>\n",
       "    <tr>\n",
       "      <th>2</th>\n",
       "      <td>t =</td>\n",
       "      <td>36.2197</td>\n",
       "    </tr>\n",
       "    <tr>\n",
       "      <th>3</th>\n",
       "      <td>Two side test p value =</td>\n",
       "      <td>0.0000</td>\n",
       "    </tr>\n",
       "  </tbody>\n",
       "</table>\n",
       "</div>"
      ],
      "text/plain": [
       "                                  Independent t-test     results\n",
       "0  Difference ( Hypertension-Yes -  Hypertension-...      2.4040\n",
       "1                              Degrees of freedom =   28356.0000\n",
       "2                                               t =      36.2197\n",
       "3                           Two side test p value =       0.0000"
      ]
     },
     "execution_count": 40,
     "metadata": {},
     "output_type": "execute_result"
    }
   ],
   "source": [
    "result[0:4]"
   ]
  },
  {
   "cell_type": "markdown",
   "metadata": {},
   "source": [
    "### Summary of the Test result\n",
    "##### Based on the result (p value = 0.000), BMI has statistically significant impact on hypertension. \n",
    "#####  Hence, we reject the null hypotesis.\n",
    "##### The analysis shows that  the mean BMI of adults with Hypertention (29.37) is higher than the mean \n",
    "#####  BMI of adults with no Hypertention (26.99), and this difference can be generalized to the national level."
   ]
  },
  {
   "cell_type": "markdown",
   "metadata": {},
   "source": [
    "*****\n",
    "******\n",
    "## Hypothesis Testing: Hypotesis 5    \n",
    "\n",
    "###  To compare the relationship between Body mass index (BMI) and Race.\n",
    "#### Is there any difference between body mass index (BMI) over different Races?\n",
    "##### Null  Hypothesis: There is no difference between BMI and Race.\n",
    "##### Alternative  Hypothesis: There is difference between them."
   ]
  },
  {
   "cell_type": "markdown",
   "metadata": {},
   "source": [
    "### Method for Hypothesis testing: ANOVA Test\n",
    "##### Analysis of Variance(ANOVA) is used to analyze the differences among group means in a sample \n",
    "##### when the groups are more than two. \n",
    "##### In this sample there is one dependant variable BMI which is continous data and there is another \n",
    "##### categorical variable Race with different categories.\n",
    "##### Significance Level: choose Alpha = 0.05 (default)."
   ]
  },
  {
   "cell_type": "markdown",
   "metadata": {},
   "source": [
    "#### Category description For RACE\n",
    "01= Hispanic  &ensp; &nbsp;  &nbsp; 02 = NH White only   &ensp; &nbsp;  &nbsp;\n",
    "03 = NH Black/African American only  &ensp; &nbsp;  &nbsp;   04 = NH Asian only  &ensp; &nbsp;  &nbsp; \n",
    "&ensp; &nbsp;  &nbsp; \\\n",
    " 05 = NH AIAN only   &ensp; &nbsp;  &nbsp;      06 =  NH AIAN and any other group  &ensp; &nbsp;  &nbsp;\n",
    " 07 =  Other single and multiple races   &ensp; &nbsp;  &nbsp; 97 =  Refused     &ensp; &nbsp;  &nbsp;   \n",
    "98 = Not Ascertained  &ensp; &nbsp;  &nbsp; 99 = Do not Know  &ensp; &nbsp;  &nbsp;"
   ]
  },
  {
   "cell_type": "code",
   "execution_count": 41,
   "metadata": {},
   "outputs": [],
   "source": [
    "NHIS_RACE=NHIS_data[['HISPALLP_A','BMIcont']].copy()\n"
   ]
  },
  {
   "cell_type": "code",
   "execution_count": 42,
   "metadata": {},
   "outputs": [
    {
     "data": {
      "text/html": [
       "<div>\n",
       "<style scoped>\n",
       "    .dataframe tbody tr th:only-of-type {\n",
       "        vertical-align: middle;\n",
       "    }\n",
       "\n",
       "    .dataframe tbody tr th {\n",
       "        vertical-align: top;\n",
       "    }\n",
       "\n",
       "    .dataframe thead th {\n",
       "        text-align: right;\n",
       "    }\n",
       "</style>\n",
       "<table border=\"1\" class=\"dataframe\">\n",
       "  <thead>\n",
       "    <tr style=\"text-align: right;\">\n",
       "      <th></th>\n",
       "      <th>HISPALLP_A</th>\n",
       "      <th>BMIcont</th>\n",
       "    </tr>\n",
       "  </thead>\n",
       "  <tbody>\n",
       "    <tr>\n",
       "      <th>0</th>\n",
       "      <td>3</td>\n",
       "      <td>28.030748</td>\n",
       "    </tr>\n",
       "    <tr>\n",
       "      <th>1</th>\n",
       "      <td>2</td>\n",
       "      <td>23.774714</td>\n",
       "    </tr>\n",
       "    <tr>\n",
       "      <th>2</th>\n",
       "      <td>2</td>\n",
       "      <td>27.601351</td>\n",
       "    </tr>\n",
       "    <tr>\n",
       "      <th>3</th>\n",
       "      <td>1</td>\n",
       "      <td>39.326775</td>\n",
       "    </tr>\n",
       "    <tr>\n",
       "      <th>4</th>\n",
       "      <td>2</td>\n",
       "      <td>39.326775</td>\n",
       "    </tr>\n",
       "  </tbody>\n",
       "</table>\n",
       "</div>"
      ],
      "text/plain": [
       "   HISPALLP_A    BMIcont\n",
       "0           3  28.030748\n",
       "1           2  23.774714\n",
       "2           2  27.601351\n",
       "3           1  39.326775\n",
       "4           2  39.326775"
      ]
     },
     "execution_count": 42,
     "metadata": {},
     "output_type": "execute_result"
    }
   ],
   "source": [
    "NHIS_RACE.head()"
   ]
  },
  {
   "cell_type": "code",
   "execution_count": 43,
   "metadata": {},
   "outputs": [],
   "source": [
    "NHIS_RACE= NHIS_RACE[NHIS_RACE.HISPALLP_A < 97] # clean the data for  unknown race"
   ]
  },
  {
   "cell_type": "code",
   "execution_count": 44,
   "metadata": {
    "scrolled": true
   },
   "outputs": [
    {
     "name": "stdout",
     "output_type": "stream",
     "text": [
      "\n",
      "\n"
     ]
    },
    {
     "data": {
      "text/html": [
       "<div>\n",
       "<style scoped>\n",
       "    .dataframe tbody tr th:only-of-type {\n",
       "        vertical-align: middle;\n",
       "    }\n",
       "\n",
       "    .dataframe tbody tr th {\n",
       "        vertical-align: top;\n",
       "    }\n",
       "\n",
       "    .dataframe thead th {\n",
       "        text-align: right;\n",
       "    }\n",
       "</style>\n",
       "<table border=\"1\" class=\"dataframe\">\n",
       "  <thead>\n",
       "    <tr style=\"text-align: right;\">\n",
       "      <th></th>\n",
       "      <th>N</th>\n",
       "      <th>Mean</th>\n",
       "      <th>SD</th>\n",
       "      <th>SE</th>\n",
       "      <th>95% Conf.</th>\n",
       "      <th>Interval</th>\n",
       "    </tr>\n",
       "    <tr>\n",
       "      <th>HISPALLP_A</th>\n",
       "      <th></th>\n",
       "      <th></th>\n",
       "      <th></th>\n",
       "      <th></th>\n",
       "      <th></th>\n",
       "      <th></th>\n",
       "    </tr>\n",
       "  </thead>\n",
       "  <tbody>\n",
       "    <tr>\n",
       "      <th>1</th>\n",
       "      <td>3587</td>\n",
       "      <td>28.6143</td>\n",
       "      <td>5.3987</td>\n",
       "      <td>0.0901</td>\n",
       "      <td>28.4375</td>\n",
       "      <td>28.7910</td>\n",
       "    </tr>\n",
       "    <tr>\n",
       "      <th>2</th>\n",
       "      <td>19666</td>\n",
       "      <td>27.6890</td>\n",
       "      <td>5.3900</td>\n",
       "      <td>0.0384</td>\n",
       "      <td>27.6136</td>\n",
       "      <td>27.7643</td>\n",
       "    </tr>\n",
       "    <tr>\n",
       "      <th>3</th>\n",
       "      <td>3006</td>\n",
       "      <td>29.3582</td>\n",
       "      <td>5.9131</td>\n",
       "      <td>0.1079</td>\n",
       "      <td>29.1467</td>\n",
       "      <td>29.5697</td>\n",
       "    </tr>\n",
       "    <tr>\n",
       "      <th>4</th>\n",
       "      <td>1412</td>\n",
       "      <td>24.6996</td>\n",
       "      <td>3.9914</td>\n",
       "      <td>0.1062</td>\n",
       "      <td>24.4912</td>\n",
       "      <td>24.9080</td>\n",
       "    </tr>\n",
       "    <tr>\n",
       "      <th>5</th>\n",
       "      <td>183</td>\n",
       "      <td>28.7349</td>\n",
       "      <td>5.7095</td>\n",
       "      <td>0.4221</td>\n",
       "      <td>27.9021</td>\n",
       "      <td>29.5676</td>\n",
       "    </tr>\n",
       "    <tr>\n",
       "      <th>6</th>\n",
       "      <td>225</td>\n",
       "      <td>28.2747</td>\n",
       "      <td>5.4912</td>\n",
       "      <td>0.3661</td>\n",
       "      <td>27.5533</td>\n",
       "      <td>28.9961</td>\n",
       "    </tr>\n",
       "    <tr>\n",
       "      <th>7</th>\n",
       "      <td>303</td>\n",
       "      <td>27.2812</td>\n",
       "      <td>5.3456</td>\n",
       "      <td>0.3071</td>\n",
       "      <td>26.6769</td>\n",
       "      <td>27.8855</td>\n",
       "    </tr>\n",
       "  </tbody>\n",
       "</table>\n",
       "</div>"
      ],
      "text/plain": [
       "                N     Mean      SD      SE  95% Conf.  Interval\n",
       "HISPALLP_A                                                     \n",
       "1            3587  28.6143  5.3987  0.0901    28.4375   28.7910\n",
       "2           19666  27.6890  5.3900  0.0384    27.6136   27.7643\n",
       "3            3006  29.3582  5.9131  0.1079    29.1467   29.5697\n",
       "4            1412  24.6996  3.9914  0.1062    24.4912   24.9080\n",
       "5             183  28.7349  5.7095  0.4221    27.9021   29.5676\n",
       "6             225  28.2747  5.4912  0.3661    27.5533   28.9961\n",
       "7             303  27.2812  5.3456  0.3071    26.6769   27.8855"
      ]
     },
     "execution_count": 44,
     "metadata": {},
     "output_type": "execute_result"
    }
   ],
   "source": [
    "NHIS_RACE=NHIS_data[['HISPALLP_A','BMIcont']].copy()\n",
    "\n",
    "NHIS_RACE['HISPALLP_A'] = NHIS_RACE['HISPALLP_A'].astype('category')\n",
    "\n",
    "# summary of the data for each race group\n",
    "researchpy.summary_cont(NHIS_RACE['BMIcont'].groupby(NHIS_RACE['HISPALLP_A']))\n"
   ]
  },
  {
   "cell_type": "markdown",
   "metadata": {},
   "source": [
    "### The mean,  SD and 95% confidence interval show differences of BMI among races. To generalize this difference, we should use one-way Anova test."
   ]
  },
  {
   "cell_type": "code",
   "execution_count": 45,
   "metadata": {},
   "outputs": [
    {
     "name": "stdout",
     "output_type": "stream",
     "text": [
      "                 df         sum_sq      mean_sq           F         PR(>F)\n",
      "HISPALLP_A      6.0   23736.444333  3956.074056  136.116877  1.144048e-170\n",
      "Residual    28375.0  824685.399436    29.063803         NaN            NaN\n",
      "\n",
      "p value is 0.000000\n"
     ]
    }
   ],
   "source": [
    "# One way Anova test\n",
    "\n",
    "model = ols('BMIcont ~ HISPALLP_A', data=NHIS_RACE).fit() # Anova Test using OLS, Ordinary least-squares (OLS) regression \n",
    "anov_table = sm.stats.anova_lm(model,type=2)\n",
    "print(anov_table)\n",
    "print()\n",
    "\n",
    "print('p value is {0:3f}'.format(anov_table.iloc[0,4]))"
   ]
  },
  {
   "cell_type": "markdown",
   "metadata": {},
   "source": [
    "### Summary of Test: The mean of BMI significantly differs across races.\n",
    "##### Based on the Anova test the F-ditribution shows that the p-value is statisticaly significant so we reject the null hypothesis.\n",
    "##### The resul shows that the means of BMI for different races is significantly different for adult population in USA."
   ]
  },
  {
   "cell_type": "code",
   "execution_count": 46,
   "metadata": {},
   "outputs": [
    {
     "data": {
      "text/html": [
       "<table class=\"simpletable\">\n",
       "<caption>OLS Regression Results</caption>\n",
       "<tr>\n",
       "  <th>Dep. Variable:</th>         <td>BMIcont</td>     <th>  R-squared:         </th> <td>   0.028</td> \n",
       "</tr>\n",
       "<tr>\n",
       "  <th>Model:</th>                   <td>OLS</td>       <th>  Adj. R-squared:    </th> <td>   0.028</td> \n",
       "</tr>\n",
       "<tr>\n",
       "  <th>Method:</th>             <td>Least Squares</td>  <th>  F-statistic:       </th> <td>   136.1</td> \n",
       "</tr>\n",
       "<tr>\n",
       "  <th>Date:</th>             <td>Sun, 15 Nov 2020</td> <th>  Prob (F-statistic):</th> <td>1.14e-170</td>\n",
       "</tr>\n",
       "<tr>\n",
       "  <th>Time:</th>                 <td>20:29:43</td>     <th>  Log-Likelihood:    </th> <td> -88085.</td> \n",
       "</tr>\n",
       "<tr>\n",
       "  <th>No. Observations:</th>      <td> 28382</td>      <th>  AIC:               </th> <td>1.762e+05</td>\n",
       "</tr>\n",
       "<tr>\n",
       "  <th>Df Residuals:</th>          <td> 28375</td>      <th>  BIC:               </th> <td>1.762e+05</td>\n",
       "</tr>\n",
       "<tr>\n",
       "  <th>Df Model:</th>              <td>     6</td>      <th>                     </th>     <td> </td>    \n",
       "</tr>\n",
       "<tr>\n",
       "  <th>Covariance Type:</th>      <td>nonrobust</td>    <th>                     </th>     <td> </td>    \n",
       "</tr>\n",
       "</table>\n",
       "<table class=\"simpletable\">\n",
       "<tr>\n",
       "         <td></td>            <th>coef</th>     <th>std err</th>      <th>t</th>      <th>P>|t|</th>  <th>[0.025</th>    <th>0.975]</th>  \n",
       "</tr>\n",
       "<tr>\n",
       "  <th>Intercept</th>       <td>   28.6143</td> <td>    0.090</td> <td>  317.887</td> <td> 0.000</td> <td>   28.438</td> <td>   28.791</td>\n",
       "</tr>\n",
       "<tr>\n",
       "  <th>HISPALLP_A[T.2]</th> <td>   -0.9253</td> <td>    0.098</td> <td>   -9.453</td> <td> 0.000</td> <td>   -1.117</td> <td>   -0.733</td>\n",
       "</tr>\n",
       "<tr>\n",
       "  <th>HISPALLP_A[T.3]</th> <td>    0.7439</td> <td>    0.133</td> <td>    5.581</td> <td> 0.000</td> <td>    0.483</td> <td>    1.005</td>\n",
       "</tr>\n",
       "<tr>\n",
       "  <th>HISPALLP_A[T.4]</th> <td>   -3.9147</td> <td>    0.169</td> <td>  -23.113</td> <td> 0.000</td> <td>   -4.247</td> <td>   -3.583</td>\n",
       "</tr>\n",
       "<tr>\n",
       "  <th>HISPALLP_A[T.5]</th> <td>    0.1206</td> <td>    0.409</td> <td>    0.295</td> <td> 0.768</td> <td>   -0.680</td> <td>    0.921</td>\n",
       "</tr>\n",
       "<tr>\n",
       "  <th>HISPALLP_A[T.6]</th> <td>   -0.3395</td> <td>    0.371</td> <td>   -0.916</td> <td> 0.359</td> <td>   -1.066</td> <td>    0.387</td>\n",
       "</tr>\n",
       "<tr>\n",
       "  <th>HISPALLP_A[T.7]</th> <td>   -1.3330</td> <td>    0.323</td> <td>   -4.133</td> <td> 0.000</td> <td>   -1.965</td> <td>   -0.701</td>\n",
       "</tr>\n",
       "</table>\n",
       "<table class=\"simpletable\">\n",
       "<tr>\n",
       "  <th>Omnibus:</th>       <td>2072.509</td> <th>  Durbin-Watson:     </th> <td>   1.944</td>\n",
       "</tr>\n",
       "<tr>\n",
       "  <th>Prob(Omnibus):</th>  <td> 0.000</td>  <th>  Jarque-Bera (JB):  </th> <td>2561.643</td>\n",
       "</tr>\n",
       "<tr>\n",
       "  <th>Skew:</th>           <td> 0.705</td>  <th>  Prob(JB):          </th> <td>    0.00</td>\n",
       "</tr>\n",
       "<tr>\n",
       "  <th>Kurtosis:</th>       <td> 3.425</td>  <th>  Cond. No.          </th> <td>    16.3</td>\n",
       "</tr>\n",
       "</table><br/><br/>Warnings:<br/>[1] Standard Errors assume that the covariance matrix of the errors is correctly specified."
      ],
      "text/plain": [
       "<class 'statsmodels.iolib.summary.Summary'>\n",
       "\"\"\"\n",
       "                            OLS Regression Results                            \n",
       "==============================================================================\n",
       "Dep. Variable:                BMIcont   R-squared:                       0.028\n",
       "Model:                            OLS   Adj. R-squared:                  0.028\n",
       "Method:                 Least Squares   F-statistic:                     136.1\n",
       "Date:                Sun, 15 Nov 2020   Prob (F-statistic):          1.14e-170\n",
       "Time:                        20:29:43   Log-Likelihood:                -88085.\n",
       "No. Observations:               28382   AIC:                         1.762e+05\n",
       "Df Residuals:                   28375   BIC:                         1.762e+05\n",
       "Df Model:                           6                                         \n",
       "Covariance Type:            nonrobust                                         \n",
       "===================================================================================\n",
       "                      coef    std err          t      P>|t|      [0.025      0.975]\n",
       "-----------------------------------------------------------------------------------\n",
       "Intercept          28.6143      0.090    317.887      0.000      28.438      28.791\n",
       "HISPALLP_A[T.2]    -0.9253      0.098     -9.453      0.000      -1.117      -0.733\n",
       "HISPALLP_A[T.3]     0.7439      0.133      5.581      0.000       0.483       1.005\n",
       "HISPALLP_A[T.4]    -3.9147      0.169    -23.113      0.000      -4.247      -3.583\n",
       "HISPALLP_A[T.5]     0.1206      0.409      0.295      0.768      -0.680       0.921\n",
       "HISPALLP_A[T.6]    -0.3395      0.371     -0.916      0.359      -1.066       0.387\n",
       "HISPALLP_A[T.7]    -1.3330      0.323     -4.133      0.000      -1.965      -0.701\n",
       "==============================================================================\n",
       "Omnibus:                     2072.509   Durbin-Watson:                   1.944\n",
       "Prob(Omnibus):                  0.000   Jarque-Bera (JB):             2561.643\n",
       "Skew:                           0.705   Prob(JB):                         0.00\n",
       "Kurtosis:                       3.425   Cond. No.                         16.3\n",
       "==============================================================================\n",
       "\n",
       "Warnings:\n",
       "[1] Standard Errors assume that the covariance matrix of the errors is correctly specified.\n",
       "\"\"\""
      ]
     },
     "execution_count": 46,
     "metadata": {},
     "output_type": "execute_result"
    }
   ],
   "source": [
    "# To see the results in detials\n",
    "model.summary()"
   ]
  },
  {
   "cell_type": "markdown",
   "metadata": {},
   "source": [
    "****\n",
    "### Note: \n",
    "##### The above result shows the comparision of BMI among races using Hispanic (T.1) as a reference.\n",
    "There is significant difference of BMI between the following with p-value almost 0. \\\n",
    "Hispanic (T.1) and NH White only (T.2)     \n",
    "Hispanic (T.1) and NH Black/African American only (T.3)    \n",
    "Hispanic (T.1) and NH Asian only (T.4) \n",
    "\n",
    "\n"
   ]
  },
  {
   "cell_type": "markdown",
   "metadata": {},
   "source": [
    "***\n",
    "# End of Project \n",
    "****"
   ]
  }
 ],
 "metadata": {
  "kernelspec": {
   "display_name": "Python 3",
   "language": "python",
   "name": "python3"
  },
  "language_info": {
   "codemirror_mode": {
    "name": "ipython",
    "version": 3
   },
   "file_extension": ".py",
   "mimetype": "text/x-python",
   "name": "python",
   "nbconvert_exporter": "python",
   "pygments_lexer": "ipython3",
   "version": "3.8.3"
  }
 },
 "nbformat": 4,
 "nbformat_minor": 4
}
