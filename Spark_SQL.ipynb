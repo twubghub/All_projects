{
 "cells": [
  {
   "cell_type": "code",
   "execution_count": 1,
   "metadata": {},
   "outputs": [],
   "source": [
    "import findspark\n",
    "findspark.init()"
   ]
  },
  {
   "cell_type": "code",
   "execution_count": 2,
   "metadata": {},
   "outputs": [],
   "source": [
    "import pyspark\n",
    "from pyspark.sql import SparkSession\n",
    "spark = SparkSession.builder.getOrCreate()\n",
    "from pyspark.sql.functions import col,when,StringType\n"
   ]
  },
  {
   "cell_type": "code",
   "execution_count": 3,
   "metadata": {},
   "outputs": [],
   "source": [
    "conf = spark.sparkContext._conf.getAll()\n"
   ]
  },
  {
   "cell_type": "code",
   "execution_count": 5,
   "metadata": {},
   "outputs": [],
   "source": [
    "spark.sparkContext.stop()"
   ]
  },
  {
   "cell_type": "code",
   "execution_count": 6,
   "metadata": {},
   "outputs": [],
   "source": [
    "spark = SparkSession.builder.master(\"local[1]\").appName(\"Spark_Examples\").getOrCreate()"
   ]
  },
  {
   "cell_type": "code",
   "execution_count": 7,
   "metadata": {},
   "outputs": [],
   "source": [
    "sc= spark.sparkContext"
   ]
  },
  {
   "cell_type": "code",
   "execution_count": 9,
   "metadata": {},
   "outputs": [],
   "source": [
    "## Create the dataset with its columns\n",
    "data= [(543, \"John Smith\", \"301-304-4044\",3.3),\n",
    "       (325, \"Nancy Thomas\", \"240-340-3444\", 3.95),\n",
    "       (234,\"Bob Mike\",\"240-354-2343\",3.4),\n",
    "       (130,\"Bekey Shone\",\"571-345-4672\",2.9),\n",
    "       (289,\"Lily Tom\",\"301-567-6748\",3.8),\n",
    "       (564,\"Kidy George\",\"240-342-4531\",3.67),\n",
    "        (304,\"Magi Jack\",\"240-234-764\",3.0),\n",
    "        (400,\"Tom Ababu\",\"301-390-7831\",2.88),\n",
    "        (438,\"Amy Gech\",\"301-345-6543\",2.75),\n",
    "        (322,\"Ben Gedu\",\"240-300-4231\",3.5),\n",
    "        (203,\"Elene Gera\",\"303-24--3453\",3.2)]\n",
    "columns= [\"Student ID\", \"Student Name\", \"Student Phone Number\",\"GPA\"]"
   ]
  },
  {
   "cell_type": "code",
   "execution_count": 10,
   "metadata": {},
   "outputs": [],
   "source": [
    "## Put the dataset into Dataframe\n",
    "df = spark.createDataFrame(data).toDF(*columns)"
   ]
  },
  {
   "cell_type": "code",
   "execution_count": 11,
   "metadata": {},
   "outputs": [
    {
     "name": "stdout",
     "output_type": "stream",
     "text": [
      "root\n",
      " |-- Student ID: long (nullable = true)\n",
      " |-- Student Name: string (nullable = true)\n",
      " |-- Student Phone Number: string (nullable = true)\n",
      " |-- GPA: double (nullable = true)\n",
      "\n",
      "+----------+------------+--------------------+----+\n",
      "|Student ID|Student Name|Student Phone Number|GPA |\n",
      "+----------+------------+--------------------+----+\n",
      "|543       |John Smith  |301-304-4044        |3.3 |\n",
      "|325       |Nancy Thomas|240-340-3444        |3.95|\n",
      "|234       |Bob Mike    |240-354-2343        |3.4 |\n",
      "|130       |Bekey Shone |571-345-4672        |2.9 |\n",
      "|289       |Lily Tom    |301-567-6748        |3.8 |\n",
      "|564       |Kidy George |240-342-4531        |3.67|\n",
      "|304       |Magi Jack   |240-234-764         |3.0 |\n",
      "|400       |Tom Ababu   |301-390-7831        |2.88|\n",
      "|438       |Amy Gech    |301-345-6543        |2.75|\n",
      "|322       |Ben Gedu    |240-300-4231        |3.5 |\n",
      "|203       |Elene Gera  |303-24--3453        |3.2 |\n",
      "+----------+------------+--------------------+----+\n",
      "\n"
     ]
    }
   ],
   "source": [
    "df.printSchema()\n",
    "df.show(truncate=False)"
   ]
  },
  {
   "cell_type": "code",
   "execution_count": 15,
   "metadata": {},
   "outputs": [],
   "source": [
    "## change the GPA column value from numerical to string values\n",
    "df2 = df.withColumn(\"GPA\", when(col(\"GPA\")>= 3.6 ,\"A\")\n",
    "      .when((col(\"GPA\")>=3.2)&(col(\"GPA\")<3.6),\"B\")\n",
    "      .when(col(\"GPA\")< 3.2 ,\"C\"))\n",
    "## create temp table to query the data\n",
    "df2.createOrReplaceTempView(\"Students_data\")"
   ]
  },
  {
   "cell_type": "code",
   "execution_count": 16,
   "metadata": {},
   "outputs": [
    {
     "name": "stdout",
     "output_type": "stream",
     "text": [
      "+----------+------------+--------------------+---+\n",
      "|Student ID|Student Name|Student Phone Number|GPA|\n",
      "+----------+------------+--------------------+---+\n",
      "|       543|  John Smith|        301-304-4044|  B|\n",
      "|       325|Nancy Thomas|        240-340-3444|  A|\n",
      "|       234|    Bob Mike|        240-354-2343|  B|\n",
      "|       130| Bekey Shone|        571-345-4672|  C|\n",
      "|       289|    Lily Tom|        301-567-6748|  A|\n",
      "|       564| Kidy George|        240-342-4531|  A|\n",
      "|       304|   Magi Jack|         240-234-764|  C|\n",
      "|       400|   Tom Ababu|        301-390-7831|  C|\n",
      "|       438|    Amy Gech|        301-345-6543|  C|\n",
      "|       322|    Ben Gedu|        240-300-4231|  B|\n",
      "|       203|  Elene Gera|        303-24--3453|  B|\n",
      "+----------+------------+--------------------+---+\n",
      "\n"
     ]
    }
   ],
   "source": [
    "# Query the data\n",
    "spark.sql(\"SELECT * FROM Students_data\").show()"
   ]
  },
  {
   "cell_type": "code",
   "execution_count": null,
   "metadata": {},
   "outputs": [],
   "source": []
  }
 ],
 "metadata": {
  "kernelspec": {
   "display_name": "Python 3",
   "language": "python",
   "name": "python3"
  },
  "language_info": {
   "codemirror_mode": {
    "name": "ipython",
    "version": 3
   },
   "file_extension": ".py",
   "mimetype": "text/x-python",
   "name": "python",
   "nbconvert_exporter": "python",
   "pygments_lexer": "ipython3",
   "version": "3.8.3"
  }
 },
 "nbformat": 4,
 "nbformat_minor": 4
}
